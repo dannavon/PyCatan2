{
  "nbformat": 4,
  "nbformat_minor": 0,
  "metadata": {
    "colab": {
      "name": "CatanNotebook.ipynb",
      "private_outputs": true,
      "provenance": [],
      "authorship_tag": "ABX9TyNd0PTF0fAnIju0n7rfbTh2",
      "include_colab_link": true
    },
    "kernelspec": {
      "name": "python3",
      "display_name": "Python 3"
    },
    "language_info": {
      "name": "python"
    }
  },
  "cells": [
    {
      "cell_type": "markdown",
      "metadata": {
        "id": "view-in-github",
        "colab_type": "text"
      },
      "source": [
        "<a href=\"https://colab.research.google.com/github/dannavon/PyCatan2/blob/master/src/CatanNotebook.ipynb\" target=\"_parent\"><img src=\"https://colab.research.google.com/assets/colab-badge.svg\" alt=\"Open In Colab\"/></a>"
      ]
    },
    {
      "cell_type": "code",
      "execution_count": null,
      "metadata": {
        "id": "ZWEA8A84UfKn"
      },
      "outputs": [],
      "source": [
        "!git clone https://github.com/dannavon/PyCatan2"
      ]
    },
    {
      "cell_type": "code",
      "source": [
        "import os.path\n",
        "\n",
        "import matplotlib.pyplot as plt\n",
        "from mcts import mcts_get_best_action\n",
        "from mlp import MLP\n",
        "from game import Game\n",
        "from catan_wrp import Catan\n",
        "import sys\n",
        "from dataset import Dataset\n",
        "import torch\n",
        "from torch import Tensor\n",
        "from training import MLPTrainer\n",
        "import torch.nn.functional\n",
        "from plot import plot_fit"
      ],
      "metadata": {
        "id": "w1QE_QrnWC4w"
      },
      "execution_count": null,
      "outputs": []
    },
    {
      "cell_type": "code",
      "source": [
        "import os.path\n",
        "\n",
        "import matplotlib.pyplot as plt\n",
        "from mcts import mcts_get_best_action\n",
        "from mlp import MLP\n",
        "from game import Game\n",
        "from catan_wrp import Catan\n",
        "import sys\n",
        "from dataset import Dataset\n",
        "import torch\n",
        "from torch import Tensor\n",
        "from training import MLPTrainer\n",
        "import torch.nn.functional\n",
        "from plot import plot_fit"
      ],
      "metadata": {
        "id": "aPPrSYu5WEvo"
      },
      "execution_count": null,
      "outputs": []
    },
    {
      "cell_type": "code",
      "source": [
        "def create_model(in_dim, out_dim, model_file):\n",
        "    if os.path.isfile(model_file):\n",
        "        print(f'loading model from \"{model_file}\"...')\n",
        "        mlp = torch.load(model_file)\n",
        "        print(mlp)\n",
        "        return mlp\n",
        "\n",
        "    mlp = MLP(\n",
        "        in_dim=in_dim,\n",
        "        dims=[hp_model['hidden_layers_size']] * hp_model['hidden_layers_num'] + [out_dim],\n",
        "        nonlins=[hp_model['activation']] * hp_model['hidden_layers_num'] + ['none']\n",
        "    )\n",
        "\n",
        "    print('creating model...')\n",
        "    print(mlp)\n",
        "    return mlp\n",
        "\n",
        "\n",
        "def train(dl_train, dl_valid, dl_test, model):\n",
        "    loss_fn = hp_model_training['loss_fn']\n",
        "    optimizer = torch.optim.SGD(params=model.parameters(), **hp_optimizer)\n",
        "    trainer = MLPTrainer(model, loss_fn, optimizer)\n",
        "\n",
        "    return trainer.fit(dl_train,\n",
        "                       dl_valid,\n",
        "                       num_epochs=hp_model_training['num_epochs'],\n",
        "                       print_every=10,\n",
        "                       early_stopping=hp_model_training['early_stopping'])"
      ],
      "metadata": {
        "id": "jjrrff_rWHGg"
      },
      "execution_count": null,
      "outputs": []
    },
    {
      "cell_type": "code",
      "source": [
        "def create_model(in_dim, out_dim, model_file):\n",
        "    if os.path.isfile(model_file):\n",
        "        print(f'loading model from \"{model_file}\"...')\n",
        "        mlp = torch.load(model_file)\n",
        "        print(mlp)\n",
        "        return mlp\n",
        "\n",
        "    mlp = MLP(\n",
        "        in_dim=in_dim,\n",
        "        dims=[hp_model['hidden_layers_size']] * hp_model['hidden_layers_num'] + [out_dim],\n",
        "        nonlins=[hp_model['activation']] * hp_model['hidden_layers_num'] + ['none']\n",
        "    )\n",
        "\n",
        "    print('creating model...')\n",
        "    print(mlp)\n",
        "    return mlp\n",
        "\n",
        "\n",
        "def train(dl_train, dl_valid, dl_test, model):\n",
        "    loss_fn = hp_model_training['loss_fn']\n",
        "    optimizer = torch.optim.SGD(params=model.parameters(), **hp_optimizer)\n",
        "    trainer = MLPTrainer(model, loss_fn, optimizer)\n",
        "\n",
        "    return trainer.fit(dl_train,\n",
        "                       dl_valid,\n",
        "                       num_epochs=hp_model_training['num_epochs'],\n",
        "                       print_every=10,\n",
        "                       early_stopping=hp_model_training['early_stopping'])"
      ],
      "metadata": {
        "id": "WJV9uCHWWMGx"
      },
      "execution_count": null,
      "outputs": []
    },
    {
      "cell_type": "code",
      "source": [
        "train_agent(4, 'model2')"
      ],
      "metadata": {
        "id": "9sAB_Ek5WSlp"
      },
      "execution_count": null,
      "outputs": []
    },
    {
      "cell_type": "code",
      "source": [
        ""
      ],
      "metadata": {
        "id": "NYTEbx65WSyp"
      },
      "execution_count": null,
      "outputs": []
    }
  ]
}