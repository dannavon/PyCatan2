{
 "nbformat": 4,
 "nbformat_minor": 0,
 "metadata": {
  "colab": {
   "name": "CatanNotebook.ipynb",
   "provenance": [],
   "collapsed_sections": [],
   "authorship_tag": "ABX9TyN62AMKxkzE5tSVkaCKRJ05",
   "include_colab_link": true
  },
  "kernelspec": {
   "name": "python3",
   "display_name": "Python 3"
  },
  "language_info": {
   "name": "python"
  },
  "gpuClass": "standard",
  "accelerator": "GPU"
 },
 "cells": [
  {
   "cell_type": "markdown",
   "metadata": {
    "id": "view-in-github",
    "colab_type": "text",
    "pycharm": {
     "name": "#%% md\n"
    }
   },
   "source": [
    "<a href=\"https://colab.research.google.com/github/dannavon/PyCatan2/blob/master/CatanNotebook.ipynb\" target=\"_parent\"><img src=\"https://colab.research.google.com/assets/colab-badge.svg\" alt=\"Open In Colab\"/></a>"
   ]
  },
  {
   "cell_type": "code",
   "source": [
    "# from google.colab import drive\n",
    "# drive.mount('/content/drive')\n"
   ],
   "metadata": {
    "id": "SYsiTf4XepMW",
    "colab": {
     "base_uri": "https://localhost:8080/"
    },
    "outputId": "6e32e6c2-9441-41d7-c670-d0d11fdd182d",
    "pycharm": {
     "name": "#%%\n"
    }
   },
   "execution_count": 1,
   "outputs": []
  },
  {
   "cell_type": "code",
   "source": [
    "# %cd /content/drive/MyDrive/Git\n",
    "# !pip install colored"
   ],
   "metadata": {
    "id": "47BHWwzr9XNR",
    "pycharm": {
     "name": "#%%\n"
    }
   },
   "execution_count": 2,
   "outputs": []
  },
  {
   "cell_type": "code",
   "source": [
    "# %cd /content/drive/MyDrive/Git/PyCatan2\n",
    "# !git pull\n",
    "# %cd /content/drive/MyDrive/Git/PyCatan2/src"
   ],
   "metadata": {
    "colab": {
     "base_uri": "https://localhost:8080/"
    },
    "id": "57TWSx_gj40O",
    "outputId": "2a49a5c9-3445-4204-92ef-6c8cf057637a",
    "pycharm": {
     "name": "#%%\n"
    }
   },
   "execution_count": 3,
   "outputs": []
  },
  {
   "cell_type": "code",
   "source": [
    "import os.path\n",
    "\n",
    "import matplotlib.pyplot as plt\n",
    "from mcts import mcts_get_best_action\n",
    "from mlp import MLP\n",
    "from game import Game\n",
    "from catan_wrp import Catan\n",
    "import sys\n",
    "from dataset import Dataset\n",
    "import torch\n",
    "from torch import Tensor\n",
    "from training import MLPTrainer\n",
    "import torch.nn.functional\n",
    "from plot import plot_fit"
   ],
   "metadata": {
    "id": "w1QE_QrnWC4w",
    "pycharm": {
     "name": "#%%\n"
    }
   },
   "execution_count": 4,
   "outputs": []
  },
  {
   "cell_type": "code",
   "source": [
    "hp_model_training = dict(loss_fn=torch.nn.MSELoss(),\n",
    "                         batch_size=100,\n",
    "                         num_epochs=100,\n",
    "                         test_ratio=0.2,\n",
    "                         valid_ratio=0.2,\n",
    "                         early_stopping=100)\n",
    "\n",
    "hp_optimizer = dict(lr=0.001,\n",
    "                    weight_decay=0.01,\n",
    "                    momentum=0.99)\n",
    "\n",
    "hp_model = dict(hidden_layers_num=1,\n",
    "                hidden_layers_size=20,\n",
    "                activation='relu')\n",
    "\n",
    "hp_mcts = dict(c=1,\n",
    "               d=3,\n",
    "               iterations_num=200)\n",
    "\n",
    "hp_agent_training = dict(games_num=100)"
   ],
   "metadata": {
    "id": "coKV-7f3dT9m",
    "pycharm": {
     "name": "#%%\n"
    }
   },
   "execution_count": 5,
   "outputs": []
  },
  {
   "cell_type": "code",
   "source": [
    "def create_model(in_dim, out_dim, model_file):\n",
    "    if os.path.isfile(model_file):\n",
    "        print(f'loading model from \"{model_file}\"...')\n",
    "        mlp = torch.load(model_file)\n",
    "        print(mlp)\n",
    "        return mlp\n",
    "\n",
    "    mlp = MLP(\n",
    "        in_dim=in_dim,\n",
    "        dims=[hp_model['hidden_layers_size']] * hp_model['hidden_layers_num'] + [out_dim],\n",
    "        nonlins=[hp_model['activation']] * hp_model['hidden_layers_num'] + ['none']\n",
    "    )\n",
    "\n",
    "    print('creating model...')\n",
    "    print(mlp)\n",
    "    return mlp\n",
    "\n",
    "\n",
    "def train(dl_train, dl_valid, dl_test, model):\n",
    "    loss_fn = hp_model_training['loss_fn']\n",
    "    optimizer = torch.optim.SGD(params=model.parameters(), **hp_optimizer)\n",
    "    trainer = MLPTrainer(model, loss_fn, optimizer)\n",
    "\n",
    "    return trainer.fit(dl_train,\n",
    "                       dl_valid,\n",
    "                       num_epochs=hp_model_training['num_epochs'],\n",
    "                       print_every=10,\n",
    "                       early_stopping=hp_model_training['early_stopping'])"
   ],
   "metadata": {
    "id": "jjrrff_rWHGg",
    "pycharm": {
     "name": "#%%\n"
    }
   },
   "execution_count": 6,
   "outputs": []
  },
  {
   "cell_type": "code",
   "execution_count": 7,
   "outputs": [],
   "source": [
    "class Agent:\n",
    "    def __init__(self, model, prune=True):\n",
    "        self.model=model\n",
    "        self.prune=prune"
   ],
   "metadata": {
    "collapsed": false,
    "pycharm": {
     "name": "#%%\n"
    }
   }
  },
  {
   "cell_type": "code",
   "source": [
    "def train_agent(games_num, model_path):\n",
    "    model = create_model(Catan.get_state_size(), Catan.get_players_num(), model_path)\n",
    "    agents = Catan.get_players_num()*[Agent(model)]\n",
    "\n",
    "    for i in range(1, games_num + 1):\n",
    "        print(f'_________________game {i}/{games_num}________________')\n",
    "\n",
    "        catan_game = Catan()\n",
    "\n",
    "        ds = Dataset(hp_model_training['batch_size'], hp_model_training['valid_ratio'], hp_model_training['test_ratio'])\n",
    "\n",
    "        turns_num = 0\n",
    "        actions_num = 0\n",
    "\n",
    "        while True:\n",
    "            actions_num += 1\n",
    "\n",
    "            best_action = mcts_get_best_action(catan_game, agents, hp_mcts['c'], hp_mcts['d'], hp_mcts['iterations_num'])\n",
    "            print(\"Player \" + str(catan_game.get_turn() + 1) + \", action:\" + str(best_action))\n",
    "\n",
    "            reward = catan_game.make_action(best_action)\n",
    "            if best_action[0] == 4:\n",
    "                turns_num += 1\n",
    "\n",
    "                print(\"Player \" + str(catan_game.get_turn() + 1) + \" turn!, dice: \" + str(catan_game.dice))\n",
    "                # print(catan_game.game.board)\n",
    "\n",
    "            ds.add_sample(catan_game.get_state())\n",
    "            if catan_game.is_over() or actions_num > 10000:\n",
    "                print(\"Congratulations! Player %d wins!\" % (catan_game.cur_id_player + 1))\n",
    "                print(\"Final board:\")\n",
    "                print(catan_game.game.board)\n",
    "                ds.set_label(reward)\n",
    "\n",
    "                dl_train, dl_valid, dl_test = ds.get_data_loaders()\n",
    "                fit_res = train(dl_train, dl_valid, dl_test, model)\n",
    "                plot_fit(fit_res, log_loss=False, train_test_overlay=True)\n",
    "                plt.show()\n",
    "                print(ds)\n",
    "\n",
    "                print(f'saving model in \"{model_path}\"')\n",
    "                torch.save(model, model_path)\n",
    "                break\n",
    "\n"
   ],
   "metadata": {
    "id": "n_HEFmXWddR3",
    "pycharm": {
     "name": "#%%\n"
    }
   },
   "execution_count": 8,
   "outputs": []
  },
  {
   "cell_type": "code",
   "source": [
    "def test_agent(games_num):\n",
    "    model1 = create_model(Catan.get_state_size(), Catan.get_players_num(), 'model')\n",
    "    model2 = create_model(Catan.get_state_size(), Catan.get_players_num(), 'model2')\n",
    "    agents = [Agent(model2), Agent(model2,prune=False), Agent(model1), Agent(model1,prune=False)]\n",
    "    stats = {k: [] for k in range(Catan.get_players_num())}\n",
    "    for i in range(1, games_num + 1):\n",
    "        print(f'_________________game {i}/{games_num}________________')\n",
    "        catan_game = Catan()\n",
    "        actions_num = 0\n",
    "        turns_num = 0\n",
    "        while True:\n",
    "            actions_num += 1\n",
    "\n",
    "            best_action = mcts_get_best_action(catan_game, agents, hp_mcts['c'], hp_mcts['d'], hp_mcts['iterations_num'])\n",
    "            print(\"Player \" + str(catan_game.get_turn() + 1) + \", action:\" + str(best_action))\n",
    "\n",
    "            reward = catan_game.make_action(best_action)\n",
    "            if best_action[0] == 4:\n",
    "                turns_num += 1\n",
    "                print(\"Player \" + str(catan_game.get_turn() + 1) + \" turn!, dice: \" + str(catan_game.dice))\n",
    "                # print(catan_game.game.board)\n",
    "\n",
    "            if catan_game.is_over() or actions_num > 10000:\n",
    "                stats[catan_game.cur_id_player].append([actions_num, int(turns_num/4)])\n",
    "                print(\"Congratulations! Player %d wins!\" % (catan_game.cur_id_player + 1))\n",
    "                print(\"Final board:\")\n",
    "                print(catan_game.game.board)\n",
    "                break\n",
    "    return stats\n"
   ],
   "metadata": {
    "id": "232g3JxGrWZ1",
    "pycharm": {
     "name": "#%%\n"
    }
   },
   "execution_count": 9,
   "outputs": []
  },
  {
   "cell_type": "code",
   "execution_count": 11,
   "outputs": [
    {
     "name": "stdout",
     "output_type": "stream",
     "text": [
      "loading model from \"model2\"...\n",
      "MLP(\n",
      "  (mlp_layers): Sequential(\n",
      "    (0): Linear(in_features=160, out_features=20, bias=True)\n",
      "    (1): ReLU()\n",
      "    (2): Linear(in_features=20, out_features=4, bias=True)\n",
      "    (3): Identity()\n",
      "  )\n",
      ")\n",
      "_________________game 1/2________________\n",
      "Player 1, action:(<BuildingType.SETTLEMENT: 1>, (q: 3, r:-2))\n",
      "Player 1, action:(<BuildingType.ROAD: 0>, frozenset({(q: 2, r:-2), (q: 3, r:-2)}))\n",
      "Player 2, action:(<BuildingType.SETTLEMENT: 1>, (q: 3, r:1))\n",
      "Player 2, action:(<BuildingType.ROAD: 0>, frozenset({(q: 3, r:1), (q: 2, r:1)}))\n",
      "Player 3, action:(<BuildingType.SETTLEMENT: 1>, (q: 0, r:1))\n",
      "Player 3, action:(<BuildingType.ROAD: 0>, frozenset({(q: 0, r:1), (q: 0, r:2)}))\n",
      "Player 4, action:(<BuildingType.SETTLEMENT: 1>, (q: -4, r:0))\n",
      "Player 4, action:(<BuildingType.ROAD: 0>, frozenset({(q: -3, r:-1), (q: -4, r:0)}))\n",
      "Player 4, action:(<BuildingType.SETTLEMENT: 1>, (q: 1, r:-3))\n",
      "Player 4, action:(<BuildingType.ROAD: 0>, frozenset({(q: 1, r:-4), (q: 1, r:-3)}))\n",
      "Player 3, action:(<BuildingType.SETTLEMENT: 1>, (q: -2, r:-1))\n",
      "Player 3, action:(<BuildingType.ROAD: 0>, frozenset({(q: -3, r:-1), (q: -2, r:-1)}))\n",
      "Player 2, action:(<BuildingType.SETTLEMENT: 1>, (q: -3, r:2))\n",
      "Player 2, action:(<BuildingType.ROAD: 0>, frozenset({(q: -3, r:2), (q: -3, r:1)}))\n",
      "Player 1, action:(<BuildingType.SETTLEMENT: 1>, (q: 1, r:2))\n",
      "Player 1, action:(<BuildingType.ROAD: 0>, frozenset({(q: 1, r:2), (q: 1, r:3)}))\n",
      "Player 1, action:(<BuildingType.ROAD: 0>, frozenset({(q: 1, r:3), (q: 0, r:4)}))\n",
      "Player 1, action:(4,)\n",
      "Player 2 turn!, dice: 9\n",
      "Player 2, action:(4,)\n",
      "Player 3 turn!, dice: 4\n",
      "Player 3, action:(4,)\n",
      "Player 4 turn!, dice: 6\n",
      "Player 4, action:(4,)\n",
      "Player 1 turn!, dice: 8\n",
      "Player 1, action:(<BuildingType.ROAD: 0>, frozenset({(q: 0, r:4), (q: -1, r:4)}))\n",
      "Player 1, action:(4,)\n",
      "Player 2 turn!, dice: 3\n",
      "Player 2, action:(4,)\n",
      "Player 3 turn!, dice: 10\n",
      "Player 3, action:(<BuildingType.ROAD: 0>, frozenset({(q: 0, r:2), (q: -1, r:3)}))\n",
      "Player 3, action:(4,)\n",
      "Player 4 turn!, dice: 4\n",
      "Player 4, action:(4,)\n",
      "Player 1 turn!, dice: 5\n",
      "Player 1, action:(4,)\n",
      "Player 2 turn!, dice: 4\n",
      "Player 2, action:(4,)\n",
      "Player 3 turn!, dice: 6\n",
      "Player 3, action:(4,)\n",
      "Player 4 turn!, dice: 3\n",
      "Player 4, action:(4,)\n",
      "Player 1 turn!, dice: 5\n",
      "Player 1, action:(4,)\n",
      "Player 2 turn!, dice: 3\n",
      "Player 2, action:(3, ((<Resource.WOOL: 2>, -4), (<Resource.BRICK: 1>, 1)))\n",
      "Player 2, action:(3, ((<Resource.GRAIN: 3>, -4), (<Resource.ORE: 4>, 1)))\n",
      "Player 2, action:(<BuildingType.ROAD: 0>, frozenset({(q: 2, r:0), (q: 2, r:1)}))\n",
      "Player 2, action:(4,)\n",
      "Player 3 turn!, dice: 8\n",
      "Player 3, action:(<BuildingType.CITY: 2>, (q: -2, r:-1))\n",
      "Player 3, action:(<BuildingType.SETTLEMENT: 1>, (q: -1, r:3))\n",
      "Player 3, action:(<BuildingType.ROAD: 0>, frozenset({(q: -3, r:-1), (q: -3, r:-2)}))\n",
      "Player 3, action:(4,)\n",
      "Player 4 turn!, dice: 6\n",
      "Player 4, action:(4,)\n",
      "Player 1 turn!, dice: 8\n",
      "Player 1, action:(4,)\n",
      "Player 2 turn!, dice: 9\n",
      "Player 2, action:(4,)\n",
      "Player 3 turn!, dice: 7\n",
      "Player 3, action:(4,)\n",
      "Player 4 turn!, dice: 7\n",
      "Player 4, action:(4,)\n",
      "Player 1 turn!, dice: 5\n",
      "Player 1, action:(<BuildingType.ROAD: 0>, frozenset({(q: -1, r:4), (q: -2, r:5)}))\n",
      "Player 1, action:(3, ((<Resource.WOOL: 2>, -4), (<Resource.LUMBER: 0>, 1)))\n",
      "Player 1, action:(<BuildingType.ROAD: 0>, frozenset({(q: -3, r:5), (q: -2, r:5)}))\n",
      "Player 1, action:(4,)\n",
      "Player 2 turn!, dice: 5\n",
      "Player 2, action:(4,)\n",
      "Player 3 turn!, dice: 9\n",
      "Player 3, action:(3, ((<Resource.BRICK: 1>, -4), (<Resource.ORE: 4>, 1)))\n",
      "Player 3, action:(<BuildingType.CITY: 2>, (q: -1, r:3))\n",
      "Player 3, action:(4,)\n",
      "Player 4 turn!, dice: 6\n",
      "Player 4, action:(4,)\n",
      "Player 1 turn!, dice: 7\n",
      "Player 1, action:(<BuildingType.ROAD: 0>, frozenset({(q: 2, r:-2), (q: 1, r:-1)}))\n",
      "Player 1, action:(4,)\n",
      "Player 2 turn!, dice: 10\n",
      "Player 2, action:(4,)\n",
      "Player 3 turn!, dice: 9\n",
      "Player 3, action:(4,)\n",
      "Player 4 turn!, dice: 11\n",
      "Player 4, action:(4,)\n",
      "Player 1 turn!, dice: 5\n",
      "Player 1, action:(<BuildingType.ROAD: 0>, frozenset({(q: 2, r:3), (q: 1, r:3)}))\n",
      "Player 1, action:(4,)\n",
      "Player 2 turn!, dice: 10\n",
      "Player 2, action:(4,)\n",
      "Player 3 turn!, dice: 7\n",
      "Player 3, action:(3, ((<Resource.BRICK: 1>, -4), (<Resource.LUMBER: 0>, 1)))\n",
      "Player 3, action:(<BuildingType.SETTLEMENT: 1>, (q: -3, r:-2))\n",
      "Player 3, action:(4,)\n",
      "Player 4 turn!, dice: 7\n",
      "Player 4, action:(4,)\n",
      "Player 1 turn!, dice: 8\n",
      "Player 1, action:(4,)\n",
      "Player 2 turn!, dice: 4\n",
      "Player 2, action:(4,)\n",
      "Player 3 turn!, dice: 8\n",
      "Player 3, action:(4,)\n",
      "Player 4 turn!, dice: 8\n",
      "Player 4, action:(4,)\n",
      "Player 1 turn!, dice: 9\n",
      "Player 1, action:(<BuildingType.ROAD: 0>, frozenset({(q: 0, r:-1), (q: 1, r:-1)}))\n",
      "Player 1, action:(4,)\n",
      "Player 2 turn!, dice: 8\n",
      "Player 2, action:(3, ((<Resource.WOOL: 2>, -4), (<Resource.BRICK: 1>, 1)))\n",
      "Player 2, action:(<BuildingType.ROAD: 0>, frozenset({(q: 1, r:0), (q: 2, r:0)}))\n",
      "Player 2, action:(4,)\n",
      "Player 3 turn!, dice: 5\n",
      "Player 3, action:(3, ((<Resource.ORE: 4>, -4), (<Resource.GRAIN: 3>, 1)))\n",
      "Player 3, action:(<BuildingType.CITY: 2>, (q: 0, r:1))\n",
      "Player 3, action:(4,)\n",
      "Player 4 turn!, dice: 5\n",
      "Player 4, action:(4,)\n",
      "Player 1 turn!, dice: 7\n",
      "Player 1, action:(4,)\n",
      "Player 2 turn!, dice: 6\n",
      "Player 2, action:(4,)\n",
      "Player 3 turn!, dice: 9\n",
      "Player 3, action:(4,)\n",
      "Player 4 turn!, dice: 7\n",
      "Player 4, action:(4,)\n",
      "Player 1 turn!, dice: 10\n",
      "Player 1, action:(3, ((<Resource.ORE: 4>, -4), (<Resource.GRAIN: 3>, 1)))\n",
      "Player 1, action:(<BuildingType.SETTLEMENT: 1>, (q: 2, r:3))\n",
      "Player 1, action:(4,)\n",
      "Player 2 turn!, dice: 7\n",
      "Player 2, action:(3, ((<Resource.LUMBER: 0>, -4), (<Resource.BRICK: 1>, 1)))\n",
      "Player 2, action:(4,)\n",
      "Player 3 turn!, dice: 9\n",
      "Player 3, action:(3, ((<Resource.BRICK: 1>, -4), (<Resource.ORE: 4>, 1)))\n",
      "Player 3, action:(3, ((<Resource.BRICK: 1>, -4), (<Resource.ORE: 4>, 1)))\n",
      "Player 3, action:(<BuildingType.CITY: 2>, (q: -3, r:-2))\n",
      "Player 3, action:(4,)\n",
      "Player 4 turn!, dice: 11\n",
      "Player 4, action:(4,)\n",
      "Player 1 turn!, dice: 9\n",
      "Player 1, action:(<BuildingType.ROAD: 0>, frozenset({(q: -3, r:4), (q: -3, r:5)}))\n",
      "Player 1, action:(4,)\n",
      "Player 2 turn!, dice: 10\n",
      "Player 2, action:(<BuildingType.SETTLEMENT: 1>, (q: 2, r:0))\n",
      "Player 2, action:(4,)\n",
      "Player 3 turn!, dice: 10\n",
      "Player 3, action:(4,)\n",
      "Player 4 turn!, dice: 5\n",
      "Player 4, action:(4,)\n",
      "Player 1 turn!, dice: 8\n",
      "Player 1, action:(<BuildingType.ROAD: 0>, frozenset({(q: -4, r:4), (q: -3, r:4)}))\n",
      "Player 1, action:(<BuildingType.ROAD: 0>, frozenset({(q: -1, r:0), (q: 0, r:-1)}))\n",
      "Player 1, action:(4,)\n",
      "Player 2 turn!, dice: 11\n",
      "Player 2, action:(4,)\n",
      "Player 3 turn!, dice: 7\n",
      "Player 3, action:(4,)\n",
      "Player 4 turn!, dice: 6\n",
      "Player 4, action:(4,)\n",
      "Player 1 turn!, dice: 9\n",
      "Player 1, action:(4,)\n",
      "Player 2 turn!, dice: 4\n",
      "Player 2, action:(<BuildingType.ROAD: 0>, frozenset({(q: 1, r:0), (q: 1, r:-1)}))\n",
      "Player 2, action:(3, ((<Resource.WOOL: 2>, -4), (<Resource.BRICK: 1>, 1)))\n",
      "Player 2, action:(<BuildingType.SETTLEMENT: 1>, (q: 1, r:-1))\n",
      "Player 2, action:(4,)\n",
      "Player 3 turn!, dice: 5\n",
      "Player 3, action:(4,)\n",
      "Player 4 turn!, dice: 10\n",
      "Player 4, action:(3, ((<Resource.LUMBER: 0>, -4), (<Resource.BRICK: 1>, 1)))\n",
      "Player 4, action:(<BuildingType.ROAD: 0>, frozenset({(q: 0, r:-4), (q: 1, r:-4)}))\n",
      "Player 4, action:(3, ((<Resource.GRAIN: 3>, -4), (<Resource.WOOL: 2>, 1)))\n",
      "Player 4, action:(3, ((<Resource.LUMBER: 0>, -4), (<Resource.BRICK: 1>, 1)))\n",
      "Player 4, action:(<BuildingType.SETTLEMENT: 1>, (q: 0, r:-4))\n",
      "Player 4, action:(4,)\n",
      "Player 1 turn!, dice: 6\n",
      "Player 1, action:(4,)\n",
      "Player 2 turn!, dice: 7\n",
      "Player 2, action:(4,)\n",
      "Player 3 turn!, dice: 4\n",
      "Player 3, action:(4,)\n",
      "Player 4 turn!, dice: 4\n",
      "Player 4, action:(4,)\n",
      "Player 1 turn!, dice: 7\n",
      "Player 1, action:(4,)\n",
      "Player 2 turn!, dice: 8\n",
      "Player 2, action:(4,)\n",
      "Player 3 turn!, dice: 8\n",
      "Player 3, action:(4,)\n",
      "Player 4 turn!, dice: 4\n",
      "Player 4, action:(4,)\n",
      "Player 1 turn!, dice: 9\n",
      "Player 1, action:(3, ((<Resource.LUMBER: 0>, -4), (<Resource.GRAIN: 3>, 1)))\n",
      "Player 1, action:(<BuildingType.SETTLEMENT: 1>, (q: -1, r:0))\n",
      "Player 1, action:(4,)\n",
      "Player 2 turn!, dice: 3\n",
      "Player 2, action:(4,)\n",
      "Player 3 turn!, dice: 6\n",
      "Player 3, action:(4,)\n",
      "Player 4 turn!, dice: 4\n",
      "Player 4, action:(3, ((<Resource.LUMBER: 0>, -4), (<Resource.BRICK: 1>, 1)))\n",
      "Player 4, action:(<BuildingType.ROAD: 0>, frozenset({(q: 1, r:-4), (q: 2, r:-5)}))\n",
      "Player 4, action:(3, ((<Resource.GRAIN: 3>, -4), (<Resource.WOOL: 2>, 1)))\n",
      "Player 4, action:(3, ((<Resource.GRAIN: 3>, -4), (<Resource.BRICK: 1>, 1)))\n",
      "Player 4, action:(<BuildingType.SETTLEMENT: 1>, (q: 2, r:-5))\n",
      "Player 4, action:(3, ((<Resource.GRAIN: 3>, -4), (<Resource.BRICK: 1>, 1)))\n",
      "Player 4, action:(4,)\n",
      "Player 1 turn!, dice: 8\n",
      "Player 1, action:(3, ((<Resource.ORE: 4>, -4), (<Resource.LUMBER: 0>, 1)))\n",
      "Player 1, action:(<BuildingType.SETTLEMENT: 1>, (q: 0, r:4))\n",
      "Player 1, action:(4,)\n",
      "Player 2 turn!, dice: 7\n",
      "Player 2, action:(4,)\n",
      "Player 3 turn!, dice: 2\n",
      "Player 3, action:(4,)\n",
      "Player 4 turn!, dice: 9\n",
      "Player 4, action:(<BuildingType.ROAD: 0>, frozenset({(q: 0, r:-4), (q: -1, r:-3)}))\n",
      "Player 4, action:(4,)\n",
      "Player 1 turn!, dice: 8\n",
      "Player 1, action:(4,)\n",
      "Player 2 turn!, dice: 10\n",
      "Player 2, action:(4,)\n",
      "Player 3 turn!, dice: 7\n",
      "Player 3, action:(4,)\n",
      "Player 4 turn!, dice: 7\n",
      "Player 4, action:(3, ((<Resource.LUMBER: 0>, -4), (<Resource.BRICK: 1>, 1)))\n",
      "Player 4, action:(4,)\n",
      "Player 1 turn!, dice: 9\n",
      "Player 1, action:(3, ((<Resource.BRICK: 1>, -4), (<Resource.GRAIN: 3>, 1)))\n",
      "Player 1, action:(<BuildingType.SETTLEMENT: 1>, (q: -4, r:4))\n",
      "Player 1, action:(4,)\n",
      "Player 2 turn!, dice: 8\n",
      "Player 2, action:(4,)\n",
      "Player 3 turn!, dice: 9\n",
      "Player 3, action:(4,)\n",
      "Player 4 turn!, dice: 7\n",
      "Player 4, action:(4,)\n",
      "Player 1 turn!, dice: 9\n",
      "Player 1, action:(4,)\n",
      "Player 2 turn!, dice: 5\n",
      "Player 2, action:(4,)\n",
      "Player 3 turn!, dice: 9\n",
      "Player 3, action:(4,)\n",
      "Player 4 turn!, dice: 11\n",
      "Player 4, action:(4,)\n",
      "Player 1 turn!, dice: 4\n",
      "Player 1, action:(3, ((<Resource.LUMBER: 0>, -4), (<Resource.BRICK: 1>, 1)))\n",
      "Player 1, action:(<BuildingType.SETTLEMENT: 1>, (q: -3, r:5))\n",
      "Player 1, action:(4,)\n",
      "Player 2 turn!, dice: 10\n",
      "Player 2, action:(4,)\n",
      "Player 3 turn!, dice: 5\n",
      "Player 3, action:(4,)\n",
      "Player 4 turn!, dice: 11\n",
      "Player 4, action:(4,)\n",
      "Player 1 turn!, dice: 2\n",
      "Player 1, action:(4,)\n",
      "Player 2 turn!, dice: 12\n",
      "Player 2, action:(4,)\n",
      "Player 3 turn!, dice: 5\n",
      "Player 3, action:(4,)\n",
      "Player 4 turn!, dice: 6\n",
      "Player 4, action:(4,)\n",
      "Player 1 turn!, dice: 4\n",
      "Player 1, action:(3, ((<Resource.WOOL: 2>, -4), (<Resource.ORE: 4>, 1)))\n",
      "Player 1, action:(<BuildingType.CITY: 2>, (q: -4, r:4))\n",
      "Congratulations! Player 1 wins!\n",
      "Final board:\n",
      "                                                       \n",
      "                                                       \n",
      "                                                       \n",
      "                                                       \n",
      "                 3:1         2:1                       \n",
      "                  .--'--.--'--s--'--s                  \n",
      "                  | 10  |  2  |  9  | 2:1              \n",
      "               .--'--s--'--s--'--s--'--s               \n",
      "           2:1 | 12  |  6  |  4  | 10  |               \n",
      "            .--'--.--'--s--'--c--'--c--'--.            \n",
      "            |  9  | 11  |   R |  3  |  8  | 3:1        \n",
      "            s--.--s--.--'--s--'--.--'--.--s            \n",
      "           2:1 |  8  |  3  |  4  |  5  |               \n",
      "               s--.--'--c--'--.--s--.--c               \n",
      "                  |  5  |  6  | 11  | 2:1              \n",
      "                  '--c--'--s--'--.--'                  \n",
      "                 3:1         3:1                       \n",
      "                                                       \n",
      "                                                       \n",
      "                                                       \n",
      "dl_train=103dl_valid=34dl_test=34\n",
      "--- EPOCH 1/100 ---\n"
     ]
    },
    {
     "data": {
      "text/plain": "train_batch:   0%|          | 0/2 [00:00<?, ?it/s]",
      "application/vnd.jupyter.widget-view+json": {
       "version_major": 2,
       "version_minor": 0,
       "model_id": "673c6d7400394dfcacd85ac1aafcebe3"
      },
      "application/json": {
       "n": 0,
       "total": 2,
       "elapsed": 0.01967763900756836,
       "ncols": null,
       "nrows": null,
       "prefix": "train_batch",
       "ascii": false,
       "unit": "it",
       "unit_scale": false,
       "rate": null,
       "bar_format": null,
       "postfix": null,
       "unit_divisor": 1000,
       "initial": 0,
       "colour": null
      }
     },
     "metadata": {},
     "output_type": "display_data"
    },
    {
     "data": {
      "text/plain": "test_batch:   0%|          | 0/1 [00:00<?, ?it/s]",
      "application/vnd.jupyter.widget-view+json": {
       "version_major": 2,
       "version_minor": 0,
       "model_id": "77d92098c1b747f8869bbc31c14dea5b"
      },
      "application/json": {
       "n": 0,
       "total": 1,
       "elapsed": 0.0139617919921875,
       "ncols": null,
       "nrows": null,
       "prefix": "test_batch",
       "ascii": false,
       "unit": "it",
       "unit_scale": false,
       "rate": null,
       "bar_format": null,
       "postfix": null,
       "unit_divisor": 1000,
       "initial": 0,
       "colour": null
      }
     },
     "metadata": {},
     "output_type": "display_data"
    },
    {
     "data": {
      "text/plain": "train_batch:   0%|          | 0/2 [00:00<?, ?it/s]",
      "application/vnd.jupyter.widget-view+json": {
       "version_major": 2,
       "version_minor": 0,
       "model_id": "4fa525c19f8e40d1bdef3efeab403efe"
      },
      "application/json": {
       "n": 0,
       "total": 2,
       "elapsed": 0.01695561408996582,
       "ncols": null,
       "nrows": null,
       "prefix": "train_batch",
       "ascii": false,
       "unit": "it",
       "unit_scale": false,
       "rate": null,
       "bar_format": null,
       "postfix": null,
       "unit_divisor": 1000,
       "initial": 0,
       "colour": null
      }
     },
     "metadata": {},
     "output_type": "display_data"
    },
    {
     "data": {
      "text/plain": "test_batch:   0%|          | 0/1 [00:00<?, ?it/s]",
      "application/vnd.jupyter.widget-view+json": {
       "version_major": 2,
       "version_minor": 0,
       "model_id": "b267b189390f422688fa1cc00f9bdf0a"
      },
      "application/json": {
       "n": 0,
       "total": 1,
       "elapsed": 0.02766275405883789,
       "ncols": null,
       "nrows": null,
       "prefix": "test_batch",
       "ascii": false,
       "unit": "it",
       "unit_scale": false,
       "rate": null,
       "bar_format": null,
       "postfix": null,
       "unit_divisor": 1000,
       "initial": 0,
       "colour": null
      }
     },
     "metadata": {},
     "output_type": "display_data"
    },
    {
     "data": {
      "text/plain": "train_batch:   0%|          | 0/2 [00:00<?, ?it/s]",
      "application/vnd.jupyter.widget-view+json": {
       "version_major": 2,
       "version_minor": 0,
       "model_id": "abde9053004349c8935c00f81cea7869"
      },
      "application/json": {
       "n": 0,
       "total": 2,
       "elapsed": 0.024933576583862305,
       "ncols": null,
       "nrows": null,
       "prefix": "train_batch",
       "ascii": false,
       "unit": "it",
       "unit_scale": false,
       "rate": null,
       "bar_format": null,
       "postfix": null,
       "unit_divisor": 1000,
       "initial": 0,
       "colour": null
      }
     },
     "metadata": {},
     "output_type": "display_data"
    },
    {
     "data": {
      "text/plain": "test_batch:   0%|          | 0/1 [00:00<?, ?it/s]",
      "application/vnd.jupyter.widget-view+json": {
       "version_major": 2,
       "version_minor": 0,
       "model_id": "0f461c1da776400d8f3f6c127f44741d"
      },
      "application/json": {
       "n": 0,
       "total": 1,
       "elapsed": 0.019947290420532227,
       "ncols": null,
       "nrows": null,
       "prefix": "test_batch",
       "ascii": false,
       "unit": "it",
       "unit_scale": false,
       "rate": null,
       "bar_format": null,
       "postfix": null,
       "unit_divisor": 1000,
       "initial": 0,
       "colour": null
      }
     },
     "metadata": {},
     "output_type": "display_data"
    },
    {
     "data": {
      "text/plain": "train_batch:   0%|          | 0/2 [00:00<?, ?it/s]",
      "application/vnd.jupyter.widget-view+json": {
       "version_major": 2,
       "version_minor": 0,
       "model_id": "cfc7f72d8bef4b69be04b79331f8a086"
      },
      "application/json": {
       "n": 0,
       "total": 2,
       "elapsed": 0.02816486358642578,
       "ncols": null,
       "nrows": null,
       "prefix": "train_batch",
       "ascii": false,
       "unit": "it",
       "unit_scale": false,
       "rate": null,
       "bar_format": null,
       "postfix": null,
       "unit_divisor": 1000,
       "initial": 0,
       "colour": null
      }
     },
     "metadata": {},
     "output_type": "display_data"
    },
    {
     "data": {
      "text/plain": "test_batch:   0%|          | 0/1 [00:00<?, ?it/s]",
      "application/vnd.jupyter.widget-view+json": {
       "version_major": 2,
       "version_minor": 0,
       "model_id": "3bda009c41394e7880bb5ca5e0bf16a0"
      },
      "application/json": {
       "n": 0,
       "total": 1,
       "elapsed": 0.028480052947998047,
       "ncols": null,
       "nrows": null,
       "prefix": "test_batch",
       "ascii": false,
       "unit": "it",
       "unit_scale": false,
       "rate": null,
       "bar_format": null,
       "postfix": null,
       "unit_divisor": 1000,
       "initial": 0,
       "colour": null
      }
     },
     "metadata": {},
     "output_type": "display_data"
    },
    {
     "data": {
      "text/plain": "train_batch:   0%|          | 0/2 [00:00<?, ?it/s]",
      "application/vnd.jupyter.widget-view+json": {
       "version_major": 2,
       "version_minor": 0,
       "model_id": "2a74d65c825f4f5c87b3a9b7ea868c98"
      },
      "application/json": {
       "n": 0,
       "total": 2,
       "elapsed": 0.02393817901611328,
       "ncols": null,
       "nrows": null,
       "prefix": "train_batch",
       "ascii": false,
       "unit": "it",
       "unit_scale": false,
       "rate": null,
       "bar_format": null,
       "postfix": null,
       "unit_divisor": 1000,
       "initial": 0,
       "colour": null
      }
     },
     "metadata": {},
     "output_type": "display_data"
    },
    {
     "data": {
      "text/plain": "test_batch:   0%|          | 0/1 [00:00<?, ?it/s]",
      "application/vnd.jupyter.widget-view+json": {
       "version_major": 2,
       "version_minor": 0,
       "model_id": "fda1f969e2524bdd950a2be36536a839"
      },
      "application/json": {
       "n": 0,
       "total": 1,
       "elapsed": 0.031174898147583008,
       "ncols": null,
       "nrows": null,
       "prefix": "test_batch",
       "ascii": false,
       "unit": "it",
       "unit_scale": false,
       "rate": null,
       "bar_format": null,
       "postfix": null,
       "unit_divisor": 1000,
       "initial": 0,
       "colour": null
      }
     },
     "metadata": {},
     "output_type": "display_data"
    },
    {
     "data": {
      "text/plain": "train_batch:   0%|          | 0/2 [00:00<?, ?it/s]",
      "application/vnd.jupyter.widget-view+json": {
       "version_major": 2,
       "version_minor": 0,
       "model_id": "51017dd15152444a9565bb4395b55c7b"
      },
      "application/json": {
       "n": 0,
       "total": 2,
       "elapsed": 0.027924776077270508,
       "ncols": null,
       "nrows": null,
       "prefix": "train_batch",
       "ascii": false,
       "unit": "it",
       "unit_scale": false,
       "rate": null,
       "bar_format": null,
       "postfix": null,
       "unit_divisor": 1000,
       "initial": 0,
       "colour": null
      }
     },
     "metadata": {},
     "output_type": "display_data"
    },
    {
     "data": {
      "text/plain": "test_batch:   0%|          | 0/1 [00:00<?, ?it/s]",
      "application/vnd.jupyter.widget-view+json": {
       "version_major": 2,
       "version_minor": 0,
       "model_id": "e421243b93594fcfab5bf3f5e3b552e4"
      },
      "application/json": {
       "n": 0,
       "total": 1,
       "elapsed": 0.04388308525085449,
       "ncols": null,
       "nrows": null,
       "prefix": "test_batch",
       "ascii": false,
       "unit": "it",
       "unit_scale": false,
       "rate": null,
       "bar_format": null,
       "postfix": null,
       "unit_divisor": 1000,
       "initial": 0,
       "colour": null
      }
     },
     "metadata": {},
     "output_type": "display_data"
    },
    {
     "data": {
      "text/plain": "train_batch:   0%|          | 0/2 [00:00<?, ?it/s]",
      "application/vnd.jupyter.widget-view+json": {
       "version_major": 2,
       "version_minor": 0,
       "model_id": "a9eb013ab693499fb3297c5f60a61f05"
      },
      "application/json": {
       "n": 0,
       "total": 2,
       "elapsed": 0.03161787986755371,
       "ncols": null,
       "nrows": null,
       "prefix": "train_batch",
       "ascii": false,
       "unit": "it",
       "unit_scale": false,
       "rate": null,
       "bar_format": null,
       "postfix": null,
       "unit_divisor": 1000,
       "initial": 0,
       "colour": null
      }
     },
     "metadata": {},
     "output_type": "display_data"
    },
    {
     "data": {
      "text/plain": "test_batch:   0%|          | 0/1 [00:00<?, ?it/s]",
      "application/vnd.jupyter.widget-view+json": {
       "version_major": 2,
       "version_minor": 0,
       "model_id": "fec8a40bd12a49598d1532e65c5e971a"
      },
      "application/json": {
       "n": 0,
       "total": 1,
       "elapsed": 0.028924226760864258,
       "ncols": null,
       "nrows": null,
       "prefix": "test_batch",
       "ascii": false,
       "unit": "it",
       "unit_scale": false,
       "rate": null,
       "bar_format": null,
       "postfix": null,
       "unit_divisor": 1000,
       "initial": 0,
       "colour": null
      }
     },
     "metadata": {},
     "output_type": "display_data"
    },
    {
     "data": {
      "text/plain": "train_batch:   0%|          | 0/2 [00:00<?, ?it/s]",
      "application/vnd.jupyter.widget-view+json": {
       "version_major": 2,
       "version_minor": 0,
       "model_id": "910967717e984ab4b765fb0f5ea8612d"
      },
      "application/json": {
       "n": 0,
       "total": 2,
       "elapsed": 0.020943164825439453,
       "ncols": null,
       "nrows": null,
       "prefix": "train_batch",
       "ascii": false,
       "unit": "it",
       "unit_scale": false,
       "rate": null,
       "bar_format": null,
       "postfix": null,
       "unit_divisor": 1000,
       "initial": 0,
       "colour": null
      }
     },
     "metadata": {},
     "output_type": "display_data"
    },
    {
     "data": {
      "text/plain": "test_batch:   0%|          | 0/1 [00:00<?, ?it/s]",
      "application/vnd.jupyter.widget-view+json": {
       "version_major": 2,
       "version_minor": 0,
       "model_id": "2387a05900b3469bbb8a618490826d03"
      },
      "application/json": {
       "n": 0,
       "total": 1,
       "elapsed": 0.019946575164794922,
       "ncols": null,
       "nrows": null,
       "prefix": "test_batch",
       "ascii": false,
       "unit": "it",
       "unit_scale": false,
       "rate": null,
       "bar_format": null,
       "postfix": null,
       "unit_divisor": 1000,
       "initial": 0,
       "colour": null
      }
     },
     "metadata": {},
     "output_type": "display_data"
    },
    {
     "data": {
      "text/plain": "train_batch:   0%|          | 0/2 [00:00<?, ?it/s]",
      "application/vnd.jupyter.widget-view+json": {
       "version_major": 2,
       "version_minor": 0,
       "model_id": "25cabbe507424db797cf86a6d70186a5"
      },
      "application/json": {
       "n": 0,
       "total": 2,
       "elapsed": 0.024933576583862305,
       "ncols": null,
       "nrows": null,
       "prefix": "train_batch",
       "ascii": false,
       "unit": "it",
       "unit_scale": false,
       "rate": null,
       "bar_format": null,
       "postfix": null,
       "unit_divisor": 1000,
       "initial": 0,
       "colour": null
      }
     },
     "metadata": {},
     "output_type": "display_data"
    },
    {
     "data": {
      "text/plain": "test_batch:   0%|          | 0/1 [00:00<?, ?it/s]",
      "application/vnd.jupyter.widget-view+json": {
       "version_major": 2,
       "version_minor": 0,
       "model_id": "6cb5f18ed8dc483b957aee17a9a1fd3b"
      },
      "application/json": {
       "n": 0,
       "total": 1,
       "elapsed": 0.010486602783203125,
       "ncols": null,
       "nrows": null,
       "prefix": "test_batch",
       "ascii": false,
       "unit": "it",
       "unit_scale": false,
       "rate": null,
       "bar_format": null,
       "postfix": null,
       "unit_divisor": 1000,
       "initial": 0,
       "colour": null
      }
     },
     "metadata": {},
     "output_type": "display_data"
    },
    {
     "data": {
      "text/plain": "train_batch:   0%|          | 0/2 [00:00<?, ?it/s]",
      "application/vnd.jupyter.widget-view+json": {
       "version_major": 2,
       "version_minor": 0,
       "model_id": "4449cbef313d4b5ba38b448e3abd022e"
      },
      "application/json": {
       "n": 0,
       "total": 2,
       "elapsed": 0.016954421997070312,
       "ncols": null,
       "nrows": null,
       "prefix": "train_batch",
       "ascii": false,
       "unit": "it",
       "unit_scale": false,
       "rate": null,
       "bar_format": null,
       "postfix": null,
       "unit_divisor": 1000,
       "initial": 0,
       "colour": null
      }
     },
     "metadata": {},
     "output_type": "display_data"
    },
    {
     "data": {
      "text/plain": "test_batch:   0%|          | 0/1 [00:00<?, ?it/s]",
      "application/vnd.jupyter.widget-view+json": {
       "version_major": 2,
       "version_minor": 0,
       "model_id": "d9a271bc93f34cedac7023da58b39df5"
      },
      "application/json": {
       "n": 0,
       "total": 1,
       "elapsed": 0.022941112518310547,
       "ncols": null,
       "nrows": null,
       "prefix": "test_batch",
       "ascii": false,
       "unit": "it",
       "unit_scale": false,
       "rate": null,
       "bar_format": null,
       "postfix": null,
       "unit_divisor": 1000,
       "initial": 0,
       "colour": null
      }
     },
     "metadata": {},
     "output_type": "display_data"
    },
    {
     "name": "stdout",
     "output_type": "stream",
     "text": [
      "--- EPOCH 11/100 ---\n"
     ]
    },
    {
     "data": {
      "text/plain": "train_batch:   0%|          | 0/2 [00:00<?, ?it/s]",
      "application/vnd.jupyter.widget-view+json": {
       "version_major": 2,
       "version_minor": 0,
       "model_id": "5362e18763ac4a68a8875ca76122a33e"
      },
      "application/json": {
       "n": 0,
       "total": 2,
       "elapsed": 0.02393507957458496,
       "ncols": null,
       "nrows": null,
       "prefix": "train_batch",
       "ascii": false,
       "unit": "it",
       "unit_scale": false,
       "rate": null,
       "bar_format": null,
       "postfix": null,
       "unit_divisor": 1000,
       "initial": 0,
       "colour": null
      }
     },
     "metadata": {},
     "output_type": "display_data"
    },
    {
     "data": {
      "text/plain": "test_batch:   0%|          | 0/1 [00:00<?, ?it/s]",
      "application/vnd.jupyter.widget-view+json": {
       "version_major": 2,
       "version_minor": 0,
       "model_id": "ba5f3c1956e94e0baf1b4bd2df91712a"
      },
      "application/json": {
       "n": 0,
       "total": 1,
       "elapsed": 0.02631211280822754,
       "ncols": null,
       "nrows": null,
       "prefix": "test_batch",
       "ascii": false,
       "unit": "it",
       "unit_scale": false,
       "rate": null,
       "bar_format": null,
       "postfix": null,
       "unit_divisor": 1000,
       "initial": 0,
       "colour": null
      }
     },
     "metadata": {},
     "output_type": "display_data"
    },
    {
     "data": {
      "text/plain": "train_batch:   0%|          | 0/2 [00:00<?, ?it/s]",
      "application/vnd.jupyter.widget-view+json": {
       "version_major": 2,
       "version_minor": 0,
       "model_id": "168b82b308ca40fc985a594574ee90fd"
      },
      "application/json": {
       "n": 0,
       "total": 2,
       "elapsed": 0.013415336608886719,
       "ncols": null,
       "nrows": null,
       "prefix": "train_batch",
       "ascii": false,
       "unit": "it",
       "unit_scale": false,
       "rate": null,
       "bar_format": null,
       "postfix": null,
       "unit_divisor": 1000,
       "initial": 0,
       "colour": null
      }
     },
     "metadata": {},
     "output_type": "display_data"
    },
    {
     "data": {
      "text/plain": "test_batch:   0%|          | 0/1 [00:00<?, ?it/s]",
      "application/vnd.jupyter.widget-view+json": {
       "version_major": 2,
       "version_minor": 0,
       "model_id": "6f2228e8d10941048215aa72bb8a4a69"
      },
      "application/json": {
       "n": 0,
       "total": 1,
       "elapsed": 0.02194070816040039,
       "ncols": null,
       "nrows": null,
       "prefix": "test_batch",
       "ascii": false,
       "unit": "it",
       "unit_scale": false,
       "rate": null,
       "bar_format": null,
       "postfix": null,
       "unit_divisor": 1000,
       "initial": 0,
       "colour": null
      }
     },
     "metadata": {},
     "output_type": "display_data"
    },
    {
     "data": {
      "text/plain": "train_batch:   0%|          | 0/2 [00:00<?, ?it/s]",
      "application/vnd.jupyter.widget-view+json": {
       "version_major": 2,
       "version_minor": 0,
       "model_id": "60ac180b2c8f48048f7c12775d822fef"
      },
      "application/json": {
       "n": 0,
       "total": 2,
       "elapsed": 0.015956401824951172,
       "ncols": null,
       "nrows": null,
       "prefix": "train_batch",
       "ascii": false,
       "unit": "it",
       "unit_scale": false,
       "rate": null,
       "bar_format": null,
       "postfix": null,
       "unit_divisor": 1000,
       "initial": 0,
       "colour": null
      }
     },
     "metadata": {},
     "output_type": "display_data"
    },
    {
     "data": {
      "text/plain": "test_batch:   0%|          | 0/1 [00:00<?, ?it/s]",
      "application/vnd.jupyter.widget-view+json": {
       "version_major": 2,
       "version_minor": 0,
       "model_id": "4f6322f43f534acdb1ae0b86ec8eb0c5"
      },
      "application/json": {
       "n": 0,
       "total": 1,
       "elapsed": 0.0249326229095459,
       "ncols": null,
       "nrows": null,
       "prefix": "test_batch",
       "ascii": false,
       "unit": "it",
       "unit_scale": false,
       "rate": null,
       "bar_format": null,
       "postfix": null,
       "unit_divisor": 1000,
       "initial": 0,
       "colour": null
      }
     },
     "metadata": {},
     "output_type": "display_data"
    },
    {
     "data": {
      "text/plain": "train_batch:   0%|          | 0/2 [00:00<?, ?it/s]",
      "application/vnd.jupyter.widget-view+json": {
       "version_major": 2,
       "version_minor": 0,
       "model_id": "ded794e978d14d47a8c4dbbebeb69888"
      },
      "application/json": {
       "n": 0,
       "total": 2,
       "elapsed": 0.023936033248901367,
       "ncols": null,
       "nrows": null,
       "prefix": "train_batch",
       "ascii": false,
       "unit": "it",
       "unit_scale": false,
       "rate": null,
       "bar_format": null,
       "postfix": null,
       "unit_divisor": 1000,
       "initial": 0,
       "colour": null
      }
     },
     "metadata": {},
     "output_type": "display_data"
    },
    {
     "data": {
      "text/plain": "test_batch:   0%|          | 0/1 [00:00<?, ?it/s]",
      "application/vnd.jupyter.widget-view+json": {
       "version_major": 2,
       "version_minor": 0,
       "model_id": "8dd231d3ed42442a84de5f95e8ed0f77"
      },
      "application/json": {
       "n": 0,
       "total": 1,
       "elapsed": 0.029983997344970703,
       "ncols": null,
       "nrows": null,
       "prefix": "test_batch",
       "ascii": false,
       "unit": "it",
       "unit_scale": false,
       "rate": null,
       "bar_format": null,
       "postfix": null,
       "unit_divisor": 1000,
       "initial": 0,
       "colour": null
      }
     },
     "metadata": {},
     "output_type": "display_data"
    },
    {
     "data": {
      "text/plain": "train_batch:   0%|          | 0/2 [00:00<?, ?it/s]",
      "application/vnd.jupyter.widget-view+json": {
       "version_major": 2,
       "version_minor": 0,
       "model_id": "a0b107291bde40548c18fe4ef7e4964f"
      },
      "application/json": {
       "n": 0,
       "total": 2,
       "elapsed": 0.023936986923217773,
       "ncols": null,
       "nrows": null,
       "prefix": "train_batch",
       "ascii": false,
       "unit": "it",
       "unit_scale": false,
       "rate": null,
       "bar_format": null,
       "postfix": null,
       "unit_divisor": 1000,
       "initial": 0,
       "colour": null
      }
     },
     "metadata": {},
     "output_type": "display_data"
    },
    {
     "data": {
      "text/plain": "test_batch:   0%|          | 0/1 [00:00<?, ?it/s]",
      "application/vnd.jupyter.widget-view+json": {
       "version_major": 2,
       "version_minor": 0,
       "model_id": "d3920f1bd60342928e3da2ffdfab8c4d"
      },
      "application/json": {
       "n": 0,
       "total": 1,
       "elapsed": 0.018949031829833984,
       "ncols": null,
       "nrows": null,
       "prefix": "test_batch",
       "ascii": false,
       "unit": "it",
       "unit_scale": false,
       "rate": null,
       "bar_format": null,
       "postfix": null,
       "unit_divisor": 1000,
       "initial": 0,
       "colour": null
      }
     },
     "metadata": {},
     "output_type": "display_data"
    },
    {
     "data": {
      "text/plain": "train_batch:   0%|          | 0/2 [00:00<?, ?it/s]",
      "application/vnd.jupyter.widget-view+json": {
       "version_major": 2,
       "version_minor": 0,
       "model_id": "77a5515aaf844480a634e27ee4161a73"
      },
      "application/json": {
       "n": 0,
       "total": 2,
       "elapsed": 0.022939443588256836,
       "ncols": null,
       "nrows": null,
       "prefix": "train_batch",
       "ascii": false,
       "unit": "it",
       "unit_scale": false,
       "rate": null,
       "bar_format": null,
       "postfix": null,
       "unit_divisor": 1000,
       "initial": 0,
       "colour": null
      }
     },
     "metadata": {},
     "output_type": "display_data"
    },
    {
     "data": {
      "text/plain": "test_batch:   0%|          | 0/1 [00:00<?, ?it/s]",
      "application/vnd.jupyter.widget-view+json": {
       "version_major": 2,
       "version_minor": 0,
       "model_id": "7ac84908436a46518d649d36444d5ddf"
      },
      "application/json": {
       "n": 0,
       "total": 1,
       "elapsed": 0.018956899642944336,
       "ncols": null,
       "nrows": null,
       "prefix": "test_batch",
       "ascii": false,
       "unit": "it",
       "unit_scale": false,
       "rate": null,
       "bar_format": null,
       "postfix": null,
       "unit_divisor": 1000,
       "initial": 0,
       "colour": null
      }
     },
     "metadata": {},
     "output_type": "display_data"
    },
    {
     "data": {
      "text/plain": "train_batch:   0%|          | 0/2 [00:00<?, ?it/s]",
      "application/vnd.jupyter.widget-view+json": {
       "version_major": 2,
       "version_minor": 0,
       "model_id": "18c3b9a6ec0544c9a9cfa1fb0a72f272"
      },
      "application/json": {
       "n": 0,
       "total": 2,
       "elapsed": 0.023474693298339844,
       "ncols": null,
       "nrows": null,
       "prefix": "train_batch",
       "ascii": false,
       "unit": "it",
       "unit_scale": false,
       "rate": null,
       "bar_format": null,
       "postfix": null,
       "unit_divisor": 1000,
       "initial": 0,
       "colour": null
      }
     },
     "metadata": {},
     "output_type": "display_data"
    },
    {
     "data": {
      "text/plain": "test_batch:   0%|          | 0/1 [00:00<?, ?it/s]",
      "application/vnd.jupyter.widget-view+json": {
       "version_major": 2,
       "version_minor": 0,
       "model_id": "06657c48713748ecaf1ac4027200ec2a"
      },
      "application/json": {
       "n": 0,
       "total": 1,
       "elapsed": 0.023935794830322266,
       "ncols": null,
       "nrows": null,
       "prefix": "test_batch",
       "ascii": false,
       "unit": "it",
       "unit_scale": false,
       "rate": null,
       "bar_format": null,
       "postfix": null,
       "unit_divisor": 1000,
       "initial": 0,
       "colour": null
      }
     },
     "metadata": {},
     "output_type": "display_data"
    },
    {
     "data": {
      "text/plain": "train_batch:   0%|          | 0/2 [00:00<?, ?it/s]",
      "application/vnd.jupyter.widget-view+json": {
       "version_major": 2,
       "version_minor": 0,
       "model_id": "63874f9c0fa1414687b5c995e6e07ee9"
      },
      "application/json": {
       "n": 0,
       "total": 2,
       "elapsed": 0.02094411849975586,
       "ncols": null,
       "nrows": null,
       "prefix": "train_batch",
       "ascii": false,
       "unit": "it",
       "unit_scale": false,
       "rate": null,
       "bar_format": null,
       "postfix": null,
       "unit_divisor": 1000,
       "initial": 0,
       "colour": null
      }
     },
     "metadata": {},
     "output_type": "display_data"
    },
    {
     "data": {
      "text/plain": "test_batch:   0%|          | 0/1 [00:00<?, ?it/s]",
      "application/vnd.jupyter.widget-view+json": {
       "version_major": 2,
       "version_minor": 0,
       "model_id": "9936f7c077914600b17ee2613db573e0"
      },
      "application/json": {
       "n": 0,
       "total": 1,
       "elapsed": 0.01695394515991211,
       "ncols": null,
       "nrows": null,
       "prefix": "test_batch",
       "ascii": false,
       "unit": "it",
       "unit_scale": false,
       "rate": null,
       "bar_format": null,
       "postfix": null,
       "unit_divisor": 1000,
       "initial": 0,
       "colour": null
      }
     },
     "metadata": {},
     "output_type": "display_data"
    },
    {
     "data": {
      "text/plain": "train_batch:   0%|          | 0/2 [00:00<?, ?it/s]",
      "application/vnd.jupyter.widget-view+json": {
       "version_major": 2,
       "version_minor": 0,
       "model_id": "a091ace6b3ec40e5b42bbc918fa3919e"
      },
      "application/json": {
       "n": 0,
       "total": 2,
       "elapsed": 0.015958786010742188,
       "ncols": null,
       "nrows": null,
       "prefix": "train_batch",
       "ascii": false,
       "unit": "it",
       "unit_scale": false,
       "rate": null,
       "bar_format": null,
       "postfix": null,
       "unit_divisor": 1000,
       "initial": 0,
       "colour": null
      }
     },
     "metadata": {},
     "output_type": "display_data"
    },
    {
     "data": {
      "text/plain": "test_batch:   0%|          | 0/1 [00:00<?, ?it/s]",
      "application/vnd.jupyter.widget-view+json": {
       "version_major": 2,
       "version_minor": 0,
       "model_id": "b15922f809c54ef7b7a1e29fcb94926c"
      },
      "application/json": {
       "n": 0,
       "total": 1,
       "elapsed": 0.018949031829833984,
       "ncols": null,
       "nrows": null,
       "prefix": "test_batch",
       "ascii": false,
       "unit": "it",
       "unit_scale": false,
       "rate": null,
       "bar_format": null,
       "postfix": null,
       "unit_divisor": 1000,
       "initial": 0,
       "colour": null
      }
     },
     "metadata": {},
     "output_type": "display_data"
    },
    {
     "data": {
      "text/plain": "train_batch:   0%|          | 0/2 [00:00<?, ?it/s]",
      "application/vnd.jupyter.widget-view+json": {
       "version_major": 2,
       "version_minor": 0,
       "model_id": "3b77b38bca8b45989ac92d4135d82f35"
      },
      "application/json": {
       "n": 0,
       "total": 2,
       "elapsed": 0.014710426330566406,
       "ncols": null,
       "nrows": null,
       "prefix": "train_batch",
       "ascii": false,
       "unit": "it",
       "unit_scale": false,
       "rate": null,
       "bar_format": null,
       "postfix": null,
       "unit_divisor": 1000,
       "initial": 0,
       "colour": null
      }
     },
     "metadata": {},
     "output_type": "display_data"
    },
    {
     "data": {
      "text/plain": "test_batch:   0%|          | 0/1 [00:00<?, ?it/s]",
      "application/vnd.jupyter.widget-view+json": {
       "version_major": 2,
       "version_minor": 0,
       "model_id": "6436fdb434bb4bc5a32672e55ac0dab5"
      },
      "application/json": {
       "n": 0,
       "total": 1,
       "elapsed": 0.015956878662109375,
       "ncols": null,
       "nrows": null,
       "prefix": "test_batch",
       "ascii": false,
       "unit": "it",
       "unit_scale": false,
       "rate": null,
       "bar_format": null,
       "postfix": null,
       "unit_divisor": 1000,
       "initial": 0,
       "colour": null
      }
     },
     "metadata": {},
     "output_type": "display_data"
    },
    {
     "name": "stdout",
     "output_type": "stream",
     "text": [
      "--- EPOCH 21/100 ---\n"
     ]
    },
    {
     "data": {
      "text/plain": "train_batch:   0%|          | 0/2 [00:00<?, ?it/s]",
      "application/vnd.jupyter.widget-view+json": {
       "version_major": 2,
       "version_minor": 0,
       "model_id": "77a0a177222749f7aa33e405723152ce"
      },
      "application/json": {
       "n": 0,
       "total": 2,
       "elapsed": 0.020943641662597656,
       "ncols": null,
       "nrows": null,
       "prefix": "train_batch",
       "ascii": false,
       "unit": "it",
       "unit_scale": false,
       "rate": null,
       "bar_format": null,
       "postfix": null,
       "unit_divisor": 1000,
       "initial": 0,
       "colour": null
      }
     },
     "metadata": {},
     "output_type": "display_data"
    },
    {
     "data": {
      "text/plain": "test_batch:   0%|          | 0/1 [00:00<?, ?it/s]",
      "application/vnd.jupyter.widget-view+json": {
       "version_major": 2,
       "version_minor": 0,
       "model_id": "be10d4d19867402a8f4f03a7a35a98dd"
      },
      "application/json": {
       "n": 0,
       "total": 1,
       "elapsed": 0.023656845092773438,
       "ncols": null,
       "nrows": null,
       "prefix": "test_batch",
       "ascii": false,
       "unit": "it",
       "unit_scale": false,
       "rate": null,
       "bar_format": null,
       "postfix": null,
       "unit_divisor": 1000,
       "initial": 0,
       "colour": null
      }
     },
     "metadata": {},
     "output_type": "display_data"
    },
    {
     "data": {
      "text/plain": "train_batch:   0%|          | 0/2 [00:00<?, ?it/s]",
      "application/vnd.jupyter.widget-view+json": {
       "version_major": 2,
       "version_minor": 0,
       "model_id": "30a9bf84a3104ff392f69b80202e38af"
      },
      "application/json": {
       "n": 0,
       "total": 2,
       "elapsed": 0.01695418357849121,
       "ncols": null,
       "nrows": null,
       "prefix": "train_batch",
       "ascii": false,
       "unit": "it",
       "unit_scale": false,
       "rate": null,
       "bar_format": null,
       "postfix": null,
       "unit_divisor": 1000,
       "initial": 0,
       "colour": null
      }
     },
     "metadata": {},
     "output_type": "display_data"
    },
    {
     "data": {
      "text/plain": "test_batch:   0%|          | 0/1 [00:00<?, ?it/s]",
      "application/vnd.jupyter.widget-view+json": {
       "version_major": 2,
       "version_minor": 0,
       "model_id": "6581a262b7fa4b15be8a25f28c8bb2c6"
      },
      "application/json": {
       "n": 0,
       "total": 1,
       "elapsed": 0.016954660415649414,
       "ncols": null,
       "nrows": null,
       "prefix": "test_batch",
       "ascii": false,
       "unit": "it",
       "unit_scale": false,
       "rate": null,
       "bar_format": null,
       "postfix": null,
       "unit_divisor": 1000,
       "initial": 0,
       "colour": null
      }
     },
     "metadata": {},
     "output_type": "display_data"
    },
    {
     "data": {
      "text/plain": "train_batch:   0%|          | 0/2 [00:00<?, ?it/s]",
      "application/vnd.jupyter.widget-view+json": {
       "version_major": 2,
       "version_minor": 0,
       "model_id": "801e2c9ce7154d1c939ef41b143eb865"
      },
      "application/json": {
       "n": 0,
       "total": 2,
       "elapsed": 0.019068002700805664,
       "ncols": null,
       "nrows": null,
       "prefix": "train_batch",
       "ascii": false,
       "unit": "it",
       "unit_scale": false,
       "rate": null,
       "bar_format": null,
       "postfix": null,
       "unit_divisor": 1000,
       "initial": 0,
       "colour": null
      }
     },
     "metadata": {},
     "output_type": "display_data"
    },
    {
     "data": {
      "text/plain": "test_batch:   0%|          | 0/1 [00:00<?, ?it/s]",
      "application/vnd.jupyter.widget-view+json": {
       "version_major": 2,
       "version_minor": 0,
       "model_id": "2a8ef7c5ef354db1952c5ca00c0dce36"
      },
      "application/json": {
       "n": 0,
       "total": 1,
       "elapsed": 0.01894998550415039,
       "ncols": null,
       "nrows": null,
       "prefix": "test_batch",
       "ascii": false,
       "unit": "it",
       "unit_scale": false,
       "rate": null,
       "bar_format": null,
       "postfix": null,
       "unit_divisor": 1000,
       "initial": 0,
       "colour": null
      }
     },
     "metadata": {},
     "output_type": "display_data"
    },
    {
     "data": {
      "text/plain": "train_batch:   0%|          | 0/2 [00:00<?, ?it/s]",
      "application/vnd.jupyter.widget-view+json": {
       "version_major": 2,
       "version_minor": 0,
       "model_id": "1afb9a8e44d647c4859f96e1b376ec19"
      },
      "application/json": {
       "n": 0,
       "total": 2,
       "elapsed": 0.017951488494873047,
       "ncols": null,
       "nrows": null,
       "prefix": "train_batch",
       "ascii": false,
       "unit": "it",
       "unit_scale": false,
       "rate": null,
       "bar_format": null,
       "postfix": null,
       "unit_divisor": 1000,
       "initial": 0,
       "colour": null
      }
     },
     "metadata": {},
     "output_type": "display_data"
    },
    {
     "data": {
      "text/plain": "test_batch:   0%|          | 0/1 [00:00<?, ?it/s]",
      "application/vnd.jupyter.widget-view+json": {
       "version_major": 2,
       "version_minor": 0,
       "model_id": "514e9f1c7d4b4fb19aea4f44469b333b"
      },
      "application/json": {
       "n": 0,
       "total": 1,
       "elapsed": 0.017951250076293945,
       "ncols": null,
       "nrows": null,
       "prefix": "test_batch",
       "ascii": false,
       "unit": "it",
       "unit_scale": false,
       "rate": null,
       "bar_format": null,
       "postfix": null,
       "unit_divisor": 1000,
       "initial": 0,
       "colour": null
      }
     },
     "metadata": {},
     "output_type": "display_data"
    },
    {
     "data": {
      "text/plain": "train_batch:   0%|          | 0/2 [00:00<?, ?it/s]",
      "application/vnd.jupyter.widget-view+json": {
       "version_major": 2,
       "version_minor": 0,
       "model_id": "d4a15fba18534d71929b0fc3d7151fe7"
      },
      "application/json": {
       "n": 0,
       "total": 2,
       "elapsed": 0.02194070816040039,
       "ncols": null,
       "nrows": null,
       "prefix": "train_batch",
       "ascii": false,
       "unit": "it",
       "unit_scale": false,
       "rate": null,
       "bar_format": null,
       "postfix": null,
       "unit_divisor": 1000,
       "initial": 0,
       "colour": null
      }
     },
     "metadata": {},
     "output_type": "display_data"
    },
    {
     "data": {
      "text/plain": "test_batch:   0%|          | 0/1 [00:00<?, ?it/s]",
      "application/vnd.jupyter.widget-view+json": {
       "version_major": 2,
       "version_minor": 0,
       "model_id": "0f44720258584684af4cbc44fca8f76e"
      },
      "application/json": {
       "n": 0,
       "total": 1,
       "elapsed": 0.019946575164794922,
       "ncols": null,
       "nrows": null,
       "prefix": "test_batch",
       "ascii": false,
       "unit": "it",
       "unit_scale": false,
       "rate": null,
       "bar_format": null,
       "postfix": null,
       "unit_divisor": 1000,
       "initial": 0,
       "colour": null
      }
     },
     "metadata": {},
     "output_type": "display_data"
    },
    {
     "data": {
      "text/plain": "train_batch:   0%|          | 0/2 [00:00<?, ?it/s]",
      "application/vnd.jupyter.widget-view+json": {
       "version_major": 2,
       "version_minor": 0,
       "model_id": "ddc028cea61e43778ae75793f431cbba"
      },
      "application/json": {
       "n": 0,
       "total": 2,
       "elapsed": 0.015956401824951172,
       "ncols": null,
       "nrows": null,
       "prefix": "train_batch",
       "ascii": false,
       "unit": "it",
       "unit_scale": false,
       "rate": null,
       "bar_format": null,
       "postfix": null,
       "unit_divisor": 1000,
       "initial": 0,
       "colour": null
      }
     },
     "metadata": {},
     "output_type": "display_data"
    },
    {
     "data": {
      "text/plain": "test_batch:   0%|          | 0/1 [00:00<?, ?it/s]",
      "application/vnd.jupyter.widget-view+json": {
       "version_major": 2,
       "version_minor": 0,
       "model_id": "bddd3015732b43919b658766a4952a3b"
      },
      "application/json": {
       "n": 0,
       "total": 1,
       "elapsed": 0.009084463119506836,
       "ncols": null,
       "nrows": null,
       "prefix": "test_batch",
       "ascii": false,
       "unit": "it",
       "unit_scale": false,
       "rate": null,
       "bar_format": null,
       "postfix": null,
       "unit_divisor": 1000,
       "initial": 0,
       "colour": null
      }
     },
     "metadata": {},
     "output_type": "display_data"
    },
    {
     "data": {
      "text/plain": "train_batch:   0%|          | 0/2 [00:00<?, ?it/s]",
      "application/vnd.jupyter.widget-view+json": {
       "version_major": 2,
       "version_minor": 0,
       "model_id": "27e41a802a3e4742ba1d6fc87ba48d56"
      },
      "application/json": {
       "n": 0,
       "total": 2,
       "elapsed": 0.01894998550415039,
       "ncols": null,
       "nrows": null,
       "prefix": "train_batch",
       "ascii": false,
       "unit": "it",
       "unit_scale": false,
       "rate": null,
       "bar_format": null,
       "postfix": null,
       "unit_divisor": 1000,
       "initial": 0,
       "colour": null
      }
     },
     "metadata": {},
     "output_type": "display_data"
    },
    {
     "data": {
      "text/plain": "test_batch:   0%|          | 0/1 [00:00<?, ?it/s]",
      "application/vnd.jupyter.widget-view+json": {
       "version_major": 2,
       "version_minor": 0,
       "model_id": "60bcba935d3f4bf7a98a36699483d7c2"
      },
      "application/json": {
       "n": 0,
       "total": 1,
       "elapsed": 0.02293872833251953,
       "ncols": null,
       "nrows": null,
       "prefix": "test_batch",
       "ascii": false,
       "unit": "it",
       "unit_scale": false,
       "rate": null,
       "bar_format": null,
       "postfix": null,
       "unit_divisor": 1000,
       "initial": 0,
       "colour": null
      }
     },
     "metadata": {},
     "output_type": "display_data"
    },
    {
     "data": {
      "text/plain": "train_batch:   0%|          | 0/2 [00:00<?, ?it/s]",
      "application/vnd.jupyter.widget-view+json": {
       "version_major": 2,
       "version_minor": 0,
       "model_id": "4ef4df46a14b4b218e3c4750ad20b50f"
      },
      "application/json": {
       "n": 0,
       "total": 2,
       "elapsed": 0.020943164825439453,
       "ncols": null,
       "nrows": null,
       "prefix": "train_batch",
       "ascii": false,
       "unit": "it",
       "unit_scale": false,
       "rate": null,
       "bar_format": null,
       "postfix": null,
       "unit_divisor": 1000,
       "initial": 0,
       "colour": null
      }
     },
     "metadata": {},
     "output_type": "display_data"
    },
    {
     "data": {
      "text/plain": "test_batch:   0%|          | 0/1 [00:00<?, ?it/s]",
      "application/vnd.jupyter.widget-view+json": {
       "version_major": 2,
       "version_minor": 0,
       "model_id": "7e0b6f35d2014a29b6d6562eb9d40b4f"
      },
      "application/json": {
       "n": 0,
       "total": 1,
       "elapsed": 0.01396322250366211,
       "ncols": null,
       "nrows": null,
       "prefix": "test_batch",
       "ascii": false,
       "unit": "it",
       "unit_scale": false,
       "rate": null,
       "bar_format": null,
       "postfix": null,
       "unit_divisor": 1000,
       "initial": 0,
       "colour": null
      }
     },
     "metadata": {},
     "output_type": "display_data"
    },
    {
     "data": {
      "text/plain": "train_batch:   0%|          | 0/2 [00:00<?, ?it/s]",
      "application/vnd.jupyter.widget-view+json": {
       "version_major": 2,
       "version_minor": 0,
       "model_id": "f3f957c91377414c8f283ecf2a910adc"
      },
      "application/json": {
       "n": 0,
       "total": 2,
       "elapsed": 0.024050235748291016,
       "ncols": null,
       "nrows": null,
       "prefix": "train_batch",
       "ascii": false,
       "unit": "it",
       "unit_scale": false,
       "rate": null,
       "bar_format": null,
       "postfix": null,
       "unit_divisor": 1000,
       "initial": 0,
       "colour": null
      }
     },
     "metadata": {},
     "output_type": "display_data"
    },
    {
     "data": {
      "text/plain": "test_batch:   0%|          | 0/1 [00:00<?, ?it/s]",
      "application/vnd.jupyter.widget-view+json": {
       "version_major": 2,
       "version_minor": 0,
       "model_id": "dd0470f89a1943a6b2b0754470c599d0"
      },
      "application/json": {
       "n": 0,
       "total": 1,
       "elapsed": 0.016954421997070312,
       "ncols": null,
       "nrows": null,
       "prefix": "test_batch",
       "ascii": false,
       "unit": "it",
       "unit_scale": false,
       "rate": null,
       "bar_format": null,
       "postfix": null,
       "unit_divisor": 1000,
       "initial": 0,
       "colour": null
      }
     },
     "metadata": {},
     "output_type": "display_data"
    },
    {
     "data": {
      "text/plain": "train_batch:   0%|          | 0/2 [00:00<?, ?it/s]",
      "application/vnd.jupyter.widget-view+json": {
       "version_major": 2,
       "version_minor": 0,
       "model_id": "ffcd3c676f894a71ab90b2c5cc8861d1"
      },
      "application/json": {
       "n": 0,
       "total": 2,
       "elapsed": 0.014962434768676758,
       "ncols": null,
       "nrows": null,
       "prefix": "train_batch",
       "ascii": false,
       "unit": "it",
       "unit_scale": false,
       "rate": null,
       "bar_format": null,
       "postfix": null,
       "unit_divisor": 1000,
       "initial": 0,
       "colour": null
      }
     },
     "metadata": {},
     "output_type": "display_data"
    },
    {
     "data": {
      "text/plain": "test_batch:   0%|          | 0/1 [00:00<?, ?it/s]",
      "application/vnd.jupyter.widget-view+json": {
       "version_major": 2,
       "version_minor": 0,
       "model_id": "cd39cff7e83547eba7fab149f2bbf4bf"
      },
      "application/json": {
       "n": 0,
       "total": 1,
       "elapsed": 0.023666858673095703,
       "ncols": null,
       "nrows": null,
       "prefix": "test_batch",
       "ascii": false,
       "unit": "it",
       "unit_scale": false,
       "rate": null,
       "bar_format": null,
       "postfix": null,
       "unit_divisor": 1000,
       "initial": 0,
       "colour": null
      }
     },
     "metadata": {},
     "output_type": "display_data"
    },
    {
     "name": "stdout",
     "output_type": "stream",
     "text": [
      "--- EPOCH 31/100 ---\n"
     ]
    },
    {
     "data": {
      "text/plain": "train_batch:   0%|          | 0/2 [00:00<?, ?it/s]",
      "application/vnd.jupyter.widget-view+json": {
       "version_major": 2,
       "version_minor": 0,
       "model_id": "69ed9b4f4e4641269d73f4cf9130ed9c"
      },
      "application/json": {
       "n": 0,
       "total": 2,
       "elapsed": 0.021944046020507812,
       "ncols": null,
       "nrows": null,
       "prefix": "train_batch",
       "ascii": false,
       "unit": "it",
       "unit_scale": false,
       "rate": null,
       "bar_format": null,
       "postfix": null,
       "unit_divisor": 1000,
       "initial": 0,
       "colour": null
      }
     },
     "metadata": {},
     "output_type": "display_data"
    },
    {
     "data": {
      "text/plain": "test_batch:   0%|          | 0/1 [00:00<?, ?it/s]",
      "application/vnd.jupyter.widget-view+json": {
       "version_major": 2,
       "version_minor": 0,
       "model_id": "63b9cc28dd5346f68ae3c570277390ab"
      },
      "application/json": {
       "n": 0,
       "total": 1,
       "elapsed": 0.01695537567138672,
       "ncols": null,
       "nrows": null,
       "prefix": "test_batch",
       "ascii": false,
       "unit": "it",
       "unit_scale": false,
       "rate": null,
       "bar_format": null,
       "postfix": null,
       "unit_divisor": 1000,
       "initial": 0,
       "colour": null
      }
     },
     "metadata": {},
     "output_type": "display_data"
    },
    {
     "data": {
      "text/plain": "train_batch:   0%|          | 0/2 [00:00<?, ?it/s]",
      "application/vnd.jupyter.widget-view+json": {
       "version_major": 2,
       "version_minor": 0,
       "model_id": "41deafe02fe7435ead299711c5283c64"
      },
      "application/json": {
       "n": 0,
       "total": 2,
       "elapsed": 0.018948793411254883,
       "ncols": null,
       "nrows": null,
       "prefix": "train_batch",
       "ascii": false,
       "unit": "it",
       "unit_scale": false,
       "rate": null,
       "bar_format": null,
       "postfix": null,
       "unit_divisor": 1000,
       "initial": 0,
       "colour": null
      }
     },
     "metadata": {},
     "output_type": "display_data"
    },
    {
     "data": {
      "text/plain": "test_batch:   0%|          | 0/1 [00:00<?, ?it/s]",
      "application/vnd.jupyter.widget-view+json": {
       "version_major": 2,
       "version_minor": 0,
       "model_id": "b1347df06a3e4becad5d541fe75cacc0"
      },
      "application/json": {
       "n": 0,
       "total": 1,
       "elapsed": 0.021939992904663086,
       "ncols": null,
       "nrows": null,
       "prefix": "test_batch",
       "ascii": false,
       "unit": "it",
       "unit_scale": false,
       "rate": null,
       "bar_format": null,
       "postfix": null,
       "unit_divisor": 1000,
       "initial": 0,
       "colour": null
      }
     },
     "metadata": {},
     "output_type": "display_data"
    },
    {
     "data": {
      "text/plain": "train_batch:   0%|          | 0/2 [00:00<?, ?it/s]",
      "application/vnd.jupyter.widget-view+json": {
       "version_major": 2,
       "version_minor": 0,
       "model_id": "c84cf2c6c9664dc8a7c92f7845b21ce0"
      },
      "application/json": {
       "n": 0,
       "total": 2,
       "elapsed": 0.019945621490478516,
       "ncols": null,
       "nrows": null,
       "prefix": "train_batch",
       "ascii": false,
       "unit": "it",
       "unit_scale": false,
       "rate": null,
       "bar_format": null,
       "postfix": null,
       "unit_divisor": 1000,
       "initial": 0,
       "colour": null
      }
     },
     "metadata": {},
     "output_type": "display_data"
    },
    {
     "data": {
      "text/plain": "test_batch:   0%|          | 0/1 [00:00<?, ?it/s]",
      "application/vnd.jupyter.widget-view+json": {
       "version_major": 2,
       "version_minor": 0,
       "model_id": "c53ecea549c94185a379d8a3e41049f0"
      },
      "application/json": {
       "n": 0,
       "total": 1,
       "elapsed": 0.019932985305786133,
       "ncols": null,
       "nrows": null,
       "prefix": "test_batch",
       "ascii": false,
       "unit": "it",
       "unit_scale": false,
       "rate": null,
       "bar_format": null,
       "postfix": null,
       "unit_divisor": 1000,
       "initial": 0,
       "colour": null
      }
     },
     "metadata": {},
     "output_type": "display_data"
    },
    {
     "data": {
      "text/plain": "train_batch:   0%|          | 0/2 [00:00<?, ?it/s]",
      "application/vnd.jupyter.widget-view+json": {
       "version_major": 2,
       "version_minor": 0,
       "model_id": "9fb1faa1a4084381be75a340a8cfdc64"
      },
      "application/json": {
       "n": 0,
       "total": 2,
       "elapsed": 0.021941423416137695,
       "ncols": null,
       "nrows": null,
       "prefix": "train_batch",
       "ascii": false,
       "unit": "it",
       "unit_scale": false,
       "rate": null,
       "bar_format": null,
       "postfix": null,
       "unit_divisor": 1000,
       "initial": 0,
       "colour": null
      }
     },
     "metadata": {},
     "output_type": "display_data"
    },
    {
     "data": {
      "text/plain": "test_batch:   0%|          | 0/1 [00:00<?, ?it/s]",
      "application/vnd.jupyter.widget-view+json": {
       "version_major": 2,
       "version_minor": 0,
       "model_id": "456c636b68d547779f174e4fb6639893"
      },
      "application/json": {
       "n": 0,
       "total": 1,
       "elapsed": 0.02293992042541504,
       "ncols": null,
       "nrows": null,
       "prefix": "test_batch",
       "ascii": false,
       "unit": "it",
       "unit_scale": false,
       "rate": null,
       "bar_format": null,
       "postfix": null,
       "unit_divisor": 1000,
       "initial": 0,
       "colour": null
      }
     },
     "metadata": {},
     "output_type": "display_data"
    },
    {
     "data": {
      "text/plain": "train_batch:   0%|          | 0/2 [00:00<?, ?it/s]",
      "application/vnd.jupyter.widget-view+json": {
       "version_major": 2,
       "version_minor": 0,
       "model_id": "b9bb9a4209154ca09d338cf7c671ac3b"
      },
      "application/json": {
       "n": 0,
       "total": 2,
       "elapsed": 0.01795172691345215,
       "ncols": null,
       "nrows": null,
       "prefix": "train_batch",
       "ascii": false,
       "unit": "it",
       "unit_scale": false,
       "rate": null,
       "bar_format": null,
       "postfix": null,
       "unit_divisor": 1000,
       "initial": 0,
       "colour": null
      }
     },
     "metadata": {},
     "output_type": "display_data"
    },
    {
     "data": {
      "text/plain": "test_batch:   0%|          | 0/1 [00:00<?, ?it/s]",
      "application/vnd.jupyter.widget-view+json": {
       "version_major": 2,
       "version_minor": 0,
       "model_id": "4adeb34ace1343ac8feb637d0e379b1a"
      },
      "application/json": {
       "n": 0,
       "total": 1,
       "elapsed": 0.015957117080688477,
       "ncols": null,
       "nrows": null,
       "prefix": "test_batch",
       "ascii": false,
       "unit": "it",
       "unit_scale": false,
       "rate": null,
       "bar_format": null,
       "postfix": null,
       "unit_divisor": 1000,
       "initial": 0,
       "colour": null
      }
     },
     "metadata": {},
     "output_type": "display_data"
    },
    {
     "data": {
      "text/plain": "train_batch:   0%|          | 0/2 [00:00<?, ?it/s]",
      "application/vnd.jupyter.widget-view+json": {
       "version_major": 2,
       "version_minor": 0,
       "model_id": "12d968ed88bc4676a6256489ab564fe1"
      },
      "application/json": {
       "n": 0,
       "total": 2,
       "elapsed": 0.020157337188720703,
       "ncols": null,
       "nrows": null,
       "prefix": "train_batch",
       "ascii": false,
       "unit": "it",
       "unit_scale": false,
       "rate": null,
       "bar_format": null,
       "postfix": null,
       "unit_divisor": 1000,
       "initial": 0,
       "colour": null
      }
     },
     "metadata": {},
     "output_type": "display_data"
    },
    {
     "data": {
      "text/plain": "test_batch:   0%|          | 0/1 [00:00<?, ?it/s]",
      "application/vnd.jupyter.widget-view+json": {
       "version_major": 2,
       "version_minor": 0,
       "model_id": "b0453b02c846481dadf8a257a5a0147e"
      },
      "application/json": {
       "n": 0,
       "total": 1,
       "elapsed": 0.020943641662597656,
       "ncols": null,
       "nrows": null,
       "prefix": "test_batch",
       "ascii": false,
       "unit": "it",
       "unit_scale": false,
       "rate": null,
       "bar_format": null,
       "postfix": null,
       "unit_divisor": 1000,
       "initial": 0,
       "colour": null
      }
     },
     "metadata": {},
     "output_type": "display_data"
    },
    {
     "data": {
      "text/plain": "train_batch:   0%|          | 0/2 [00:00<?, ?it/s]",
      "application/vnd.jupyter.widget-view+json": {
       "version_major": 2,
       "version_minor": 0,
       "model_id": "1a4c72067ba14fe396dcb6bd955f2023"
      },
      "application/json": {
       "n": 0,
       "total": 2,
       "elapsed": 0.01695537567138672,
       "ncols": null,
       "nrows": null,
       "prefix": "train_batch",
       "ascii": false,
       "unit": "it",
       "unit_scale": false,
       "rate": null,
       "bar_format": null,
       "postfix": null,
       "unit_divisor": 1000,
       "initial": 0,
       "colour": null
      }
     },
     "metadata": {},
     "output_type": "display_data"
    },
    {
     "data": {
      "text/plain": "test_batch:   0%|          | 0/1 [00:00<?, ?it/s]",
      "application/vnd.jupyter.widget-view+json": {
       "version_major": 2,
       "version_minor": 0,
       "model_id": "857d76869e114ce287d44ec8c72af077"
      },
      "application/json": {
       "n": 0,
       "total": 1,
       "elapsed": 0.019483327865600586,
       "ncols": null,
       "nrows": null,
       "prefix": "test_batch",
       "ascii": false,
       "unit": "it",
       "unit_scale": false,
       "rate": null,
       "bar_format": null,
       "postfix": null,
       "unit_divisor": 1000,
       "initial": 0,
       "colour": null
      }
     },
     "metadata": {},
     "output_type": "display_data"
    },
    {
     "data": {
      "text/plain": "train_batch:   0%|          | 0/2 [00:00<?, ?it/s]",
      "application/vnd.jupyter.widget-view+json": {
       "version_major": 2,
       "version_minor": 0,
       "model_id": "b6df270d96884ad5b16c1a695826f0df"
      },
      "application/json": {
       "n": 0,
       "total": 2,
       "elapsed": 0.01695108413696289,
       "ncols": null,
       "nrows": null,
       "prefix": "train_batch",
       "ascii": false,
       "unit": "it",
       "unit_scale": false,
       "rate": null,
       "bar_format": null,
       "postfix": null,
       "unit_divisor": 1000,
       "initial": 0,
       "colour": null
      }
     },
     "metadata": {},
     "output_type": "display_data"
    },
    {
     "data": {
      "text/plain": "test_batch:   0%|          | 0/1 [00:00<?, ?it/s]",
      "application/vnd.jupyter.widget-view+json": {
       "version_major": 2,
       "version_minor": 0,
       "model_id": "8bce573cb2324d67866edc8635fa9281"
      },
      "application/json": {
       "n": 0,
       "total": 1,
       "elapsed": 0.017950057983398438,
       "ncols": null,
       "nrows": null,
       "prefix": "test_batch",
       "ascii": false,
       "unit": "it",
       "unit_scale": false,
       "rate": null,
       "bar_format": null,
       "postfix": null,
       "unit_divisor": 1000,
       "initial": 0,
       "colour": null
      }
     },
     "metadata": {},
     "output_type": "display_data"
    },
    {
     "data": {
      "text/plain": "train_batch:   0%|          | 0/2 [00:00<?, ?it/s]",
      "application/vnd.jupyter.widget-view+json": {
       "version_major": 2,
       "version_minor": 0,
       "model_id": "59530487ceca4f6f8d3bb3c08d3d36bf"
      },
      "application/json": {
       "n": 0,
       "total": 2,
       "elapsed": 0.016954421997070312,
       "ncols": null,
       "nrows": null,
       "prefix": "train_batch",
       "ascii": false,
       "unit": "it",
       "unit_scale": false,
       "rate": null,
       "bar_format": null,
       "postfix": null,
       "unit_divisor": 1000,
       "initial": 0,
       "colour": null
      }
     },
     "metadata": {},
     "output_type": "display_data"
    },
    {
     "data": {
      "text/plain": "test_batch:   0%|          | 0/1 [00:00<?, ?it/s]",
      "application/vnd.jupyter.widget-view+json": {
       "version_major": 2,
       "version_minor": 0,
       "model_id": "4b0246abd21a47dfb9553472d69f1253"
      },
      "application/json": {
       "n": 0,
       "total": 1,
       "elapsed": 0.013961315155029297,
       "ncols": null,
       "nrows": null,
       "prefix": "test_batch",
       "ascii": false,
       "unit": "it",
       "unit_scale": false,
       "rate": null,
       "bar_format": null,
       "postfix": null,
       "unit_divisor": 1000,
       "initial": 0,
       "colour": null
      }
     },
     "metadata": {},
     "output_type": "display_data"
    },
    {
     "data": {
      "text/plain": "train_batch:   0%|          | 0/2 [00:00<?, ?it/s]",
      "application/vnd.jupyter.widget-view+json": {
       "version_major": 2,
       "version_minor": 0,
       "model_id": "00a0858f51514895adffb5b1f5e7dbd8"
      },
      "application/json": {
       "n": 0,
       "total": 2,
       "elapsed": 0.014959335327148438,
       "ncols": null,
       "nrows": null,
       "prefix": "train_batch",
       "ascii": false,
       "unit": "it",
       "unit_scale": false,
       "rate": null,
       "bar_format": null,
       "postfix": null,
       "unit_divisor": 1000,
       "initial": 0,
       "colour": null
      }
     },
     "metadata": {},
     "output_type": "display_data"
    },
    {
     "data": {
      "text/plain": "test_batch:   0%|          | 0/1 [00:00<?, ?it/s]",
      "application/vnd.jupyter.widget-view+json": {
       "version_major": 2,
       "version_minor": 0,
       "model_id": "c00753d0e26341ec8ecadecc506078e7"
      },
      "application/json": {
       "n": 0,
       "total": 1,
       "elapsed": 0.01823115348815918,
       "ncols": null,
       "nrows": null,
       "prefix": "test_batch",
       "ascii": false,
       "unit": "it",
       "unit_scale": false,
       "rate": null,
       "bar_format": null,
       "postfix": null,
       "unit_divisor": 1000,
       "initial": 0,
       "colour": null
      }
     },
     "metadata": {},
     "output_type": "display_data"
    },
    {
     "name": "stdout",
     "output_type": "stream",
     "text": [
      "--- EPOCH 41/100 ---\n"
     ]
    },
    {
     "data": {
      "text/plain": "train_batch:   0%|          | 0/2 [00:00<?, ?it/s]",
      "application/vnd.jupyter.widget-view+json": {
       "version_major": 2,
       "version_minor": 0,
       "model_id": "2acae6c87ab748b380da1f5b91fc515b"
      },
      "application/json": {
       "n": 0,
       "total": 2,
       "elapsed": 0.02891373634338379,
       "ncols": null,
       "nrows": null,
       "prefix": "train_batch",
       "ascii": false,
       "unit": "it",
       "unit_scale": false,
       "rate": null,
       "bar_format": null,
       "postfix": null,
       "unit_divisor": 1000,
       "initial": 0,
       "colour": null
      }
     },
     "metadata": {},
     "output_type": "display_data"
    },
    {
     "data": {
      "text/plain": "test_batch:   0%|          | 0/1 [00:00<?, ?it/s]",
      "application/vnd.jupyter.widget-view+json": {
       "version_major": 2,
       "version_minor": 0,
       "model_id": "00a582aa514540bfba00a5a6b5c52cda"
      },
      "application/json": {
       "n": 0,
       "total": 1,
       "elapsed": 0.02194070816040039,
       "ncols": null,
       "nrows": null,
       "prefix": "test_batch",
       "ascii": false,
       "unit": "it",
       "unit_scale": false,
       "rate": null,
       "bar_format": null,
       "postfix": null,
       "unit_divisor": 1000,
       "initial": 0,
       "colour": null
      }
     },
     "metadata": {},
     "output_type": "display_data"
    },
    {
     "data": {
      "text/plain": "train_batch:   0%|          | 0/2 [00:00<?, ?it/s]",
      "application/vnd.jupyter.widget-view+json": {
       "version_major": 2,
       "version_minor": 0,
       "model_id": "35f1f900779e492c95aa95edfa69f72d"
      },
      "application/json": {
       "n": 0,
       "total": 2,
       "elapsed": 0.02792525291442871,
       "ncols": null,
       "nrows": null,
       "prefix": "train_batch",
       "ascii": false,
       "unit": "it",
       "unit_scale": false,
       "rate": null,
       "bar_format": null,
       "postfix": null,
       "unit_divisor": 1000,
       "initial": 0,
       "colour": null
      }
     },
     "metadata": {},
     "output_type": "display_data"
    },
    {
     "data": {
      "text/plain": "test_batch:   0%|          | 0/1 [00:00<?, ?it/s]",
      "application/vnd.jupyter.widget-view+json": {
       "version_major": 2,
       "version_minor": 0,
       "model_id": "3c8d111838e54ab0ab3804fa6cbfe65d"
      },
      "application/json": {
       "n": 0,
       "total": 1,
       "elapsed": 0.02692580223083496,
       "ncols": null,
       "nrows": null,
       "prefix": "test_batch",
       "ascii": false,
       "unit": "it",
       "unit_scale": false,
       "rate": null,
       "bar_format": null,
       "postfix": null,
       "unit_divisor": 1000,
       "initial": 0,
       "colour": null
      }
     },
     "metadata": {},
     "output_type": "display_data"
    },
    {
     "data": {
      "text/plain": "train_batch:   0%|          | 0/2 [00:00<?, ?it/s]",
      "application/vnd.jupyter.widget-view+json": {
       "version_major": 2,
       "version_minor": 0,
       "model_id": "d0e1190d7b7e4979bdd764a5777a1fa5"
      },
      "application/json": {
       "n": 0,
       "total": 2,
       "elapsed": 0.029918432235717773,
       "ncols": null,
       "nrows": null,
       "prefix": "train_batch",
       "ascii": false,
       "unit": "it",
       "unit_scale": false,
       "rate": null,
       "bar_format": null,
       "postfix": null,
       "unit_divisor": 1000,
       "initial": 0,
       "colour": null
      }
     },
     "metadata": {},
     "output_type": "display_data"
    },
    {
     "data": {
      "text/plain": "test_batch:   0%|          | 0/1 [00:00<?, ?it/s]",
      "application/vnd.jupyter.widget-view+json": {
       "version_major": 2,
       "version_minor": 0,
       "model_id": "6665b53ab6fa411ca25eba8b1a17f5b6"
      },
      "application/json": {
       "n": 0,
       "total": 1,
       "elapsed": 0.024933815002441406,
       "ncols": null,
       "nrows": null,
       "prefix": "test_batch",
       "ascii": false,
       "unit": "it",
       "unit_scale": false,
       "rate": null,
       "bar_format": null,
       "postfix": null,
       "unit_divisor": 1000,
       "initial": 0,
       "colour": null
      }
     },
     "metadata": {},
     "output_type": "display_data"
    },
    {
     "data": {
      "text/plain": "train_batch:   0%|          | 0/2 [00:00<?, ?it/s]",
      "application/vnd.jupyter.widget-view+json": {
       "version_major": 2,
       "version_minor": 0,
       "model_id": "56138d4ff1d84c99b4506c3587a45bc4"
      },
      "application/json": {
       "n": 0,
       "total": 2,
       "elapsed": 0.034905433654785156,
       "ncols": null,
       "nrows": null,
       "prefix": "train_batch",
       "ascii": false,
       "unit": "it",
       "unit_scale": false,
       "rate": null,
       "bar_format": null,
       "postfix": null,
       "unit_divisor": 1000,
       "initial": 0,
       "colour": null
      }
     },
     "metadata": {},
     "output_type": "display_data"
    },
    {
     "data": {
      "text/plain": "test_batch:   0%|          | 0/1 [00:00<?, ?it/s]",
      "application/vnd.jupyter.widget-view+json": {
       "version_major": 2,
       "version_minor": 0,
       "model_id": "04bfcd762a8941b7b7f86d0acf87a2f3"
      },
      "application/json": {
       "n": 0,
       "total": 1,
       "elapsed": 0.030422687530517578,
       "ncols": null,
       "nrows": null,
       "prefix": "test_batch",
       "ascii": false,
       "unit": "it",
       "unit_scale": false,
       "rate": null,
       "bar_format": null,
       "postfix": null,
       "unit_divisor": 1000,
       "initial": 0,
       "colour": null
      }
     },
     "metadata": {},
     "output_type": "display_data"
    },
    {
     "data": {
      "text/plain": "train_batch:   0%|          | 0/2 [00:00<?, ?it/s]",
      "application/vnd.jupyter.widget-view+json": {
       "version_major": 2,
       "version_minor": 0,
       "model_id": "96d2008a0aab4dcbb5374dca58487f5d"
      },
      "application/json": {
       "n": 0,
       "total": 2,
       "elapsed": 0.024930715560913086,
       "ncols": null,
       "nrows": null,
       "prefix": "train_batch",
       "ascii": false,
       "unit": "it",
       "unit_scale": false,
       "rate": null,
       "bar_format": null,
       "postfix": null,
       "unit_divisor": 1000,
       "initial": 0,
       "colour": null
      }
     },
     "metadata": {},
     "output_type": "display_data"
    },
    {
     "data": {
      "text/plain": "test_batch:   0%|          | 0/1 [00:00<?, ?it/s]",
      "application/vnd.jupyter.widget-view+json": {
       "version_major": 2,
       "version_minor": 0,
       "model_id": "a709e2dba694416db9a7dc2cc722bcdc"
      },
      "application/json": {
       "n": 0,
       "total": 1,
       "elapsed": 0.04188942909240723,
       "ncols": null,
       "nrows": null,
       "prefix": "test_batch",
       "ascii": false,
       "unit": "it",
       "unit_scale": false,
       "rate": null,
       "bar_format": null,
       "postfix": null,
       "unit_divisor": 1000,
       "initial": 0,
       "colour": null
      }
     },
     "metadata": {},
     "output_type": "display_data"
    },
    {
     "data": {
      "text/plain": "train_batch:   0%|          | 0/2 [00:00<?, ?it/s]",
      "application/vnd.jupyter.widget-view+json": {
       "version_major": 2,
       "version_minor": 0,
       "model_id": "05548325fb3145fa830c81be81b88072"
      },
      "application/json": {
       "n": 0,
       "total": 2,
       "elapsed": 0.021942138671875,
       "ncols": null,
       "nrows": null,
       "prefix": "train_batch",
       "ascii": false,
       "unit": "it",
       "unit_scale": false,
       "rate": null,
       "bar_format": null,
       "postfix": null,
       "unit_divisor": 1000,
       "initial": 0,
       "colour": null
      }
     },
     "metadata": {},
     "output_type": "display_data"
    },
    {
     "data": {
      "text/plain": "test_batch:   0%|          | 0/1 [00:00<?, ?it/s]",
      "application/vnd.jupyter.widget-view+json": {
       "version_major": 2,
       "version_minor": 0,
       "model_id": "cddd73477aee4af3abc98b913360264f"
      },
      "application/json": {
       "n": 0,
       "total": 1,
       "elapsed": 0.024930715560913086,
       "ncols": null,
       "nrows": null,
       "prefix": "test_batch",
       "ascii": false,
       "unit": "it",
       "unit_scale": false,
       "rate": null,
       "bar_format": null,
       "postfix": null,
       "unit_divisor": 1000,
       "initial": 0,
       "colour": null
      }
     },
     "metadata": {},
     "output_type": "display_data"
    },
    {
     "data": {
      "text/plain": "train_batch:   0%|          | 0/2 [00:00<?, ?it/s]",
      "application/vnd.jupyter.widget-view+json": {
       "version_major": 2,
       "version_minor": 0,
       "model_id": "9e848203b2854bcc86e76f667f222654"
      },
      "application/json": {
       "n": 0,
       "total": 2,
       "elapsed": 0.02194356918334961,
       "ncols": null,
       "nrows": null,
       "prefix": "train_batch",
       "ascii": false,
       "unit": "it",
       "unit_scale": false,
       "rate": null,
       "bar_format": null,
       "postfix": null,
       "unit_divisor": 1000,
       "initial": 0,
       "colour": null
      }
     },
     "metadata": {},
     "output_type": "display_data"
    },
    {
     "data": {
      "text/plain": "test_batch:   0%|          | 0/1 [00:00<?, ?it/s]",
      "application/vnd.jupyter.widget-view+json": {
       "version_major": 2,
       "version_minor": 0,
       "model_id": "092b33c89a3348faa963a5ed660204a9"
      },
      "application/json": {
       "n": 0,
       "total": 1,
       "elapsed": 0.025929689407348633,
       "ncols": null,
       "nrows": null,
       "prefix": "test_batch",
       "ascii": false,
       "unit": "it",
       "unit_scale": false,
       "rate": null,
       "bar_format": null,
       "postfix": null,
       "unit_divisor": 1000,
       "initial": 0,
       "colour": null
      }
     },
     "metadata": {},
     "output_type": "display_data"
    },
    {
     "data": {
      "text/plain": "train_batch:   0%|          | 0/2 [00:00<?, ?it/s]",
      "application/vnd.jupyter.widget-view+json": {
       "version_major": 2,
       "version_minor": 0,
       "model_id": "ad92893dc0ca4151b461661f7293d5c8"
      },
      "application/json": {
       "n": 0,
       "total": 2,
       "elapsed": 0.0249326229095459,
       "ncols": null,
       "nrows": null,
       "prefix": "train_batch",
       "ascii": false,
       "unit": "it",
       "unit_scale": false,
       "rate": null,
       "bar_format": null,
       "postfix": null,
       "unit_divisor": 1000,
       "initial": 0,
       "colour": null
      }
     },
     "metadata": {},
     "output_type": "display_data"
    },
    {
     "data": {
      "text/plain": "test_batch:   0%|          | 0/1 [00:00<?, ?it/s]",
      "application/vnd.jupyter.widget-view+json": {
       "version_major": 2,
       "version_minor": 0,
       "model_id": "0cbdc232aa314323901175f6048e3fe3"
      },
      "application/json": {
       "n": 0,
       "total": 1,
       "elapsed": 0.023937225341796875,
       "ncols": null,
       "nrows": null,
       "prefix": "test_batch",
       "ascii": false,
       "unit": "it",
       "unit_scale": false,
       "rate": null,
       "bar_format": null,
       "postfix": null,
       "unit_divisor": 1000,
       "initial": 0,
       "colour": null
      }
     },
     "metadata": {},
     "output_type": "display_data"
    },
    {
     "data": {
      "text/plain": "train_batch:   0%|          | 0/2 [00:00<?, ?it/s]",
      "application/vnd.jupyter.widget-view+json": {
       "version_major": 2,
       "version_minor": 0,
       "model_id": "731d27ed87404950bdad3c68c97f38a2"
      },
      "application/json": {
       "n": 0,
       "total": 2,
       "elapsed": 0.023937702178955078,
       "ncols": null,
       "nrows": null,
       "prefix": "train_batch",
       "ascii": false,
       "unit": "it",
       "unit_scale": false,
       "rate": null,
       "bar_format": null,
       "postfix": null,
       "unit_divisor": 1000,
       "initial": 0,
       "colour": null
      }
     },
     "metadata": {},
     "output_type": "display_data"
    },
    {
     "data": {
      "text/plain": "test_batch:   0%|          | 0/1 [00:00<?, ?it/s]",
      "application/vnd.jupyter.widget-view+json": {
       "version_major": 2,
       "version_minor": 0,
       "model_id": "10208fe08f8b484b8752c182801132f5"
      },
      "application/json": {
       "n": 0,
       "total": 1,
       "elapsed": 0.023935317993164062,
       "ncols": null,
       "nrows": null,
       "prefix": "test_batch",
       "ascii": false,
       "unit": "it",
       "unit_scale": false,
       "rate": null,
       "bar_format": null,
       "postfix": null,
       "unit_divisor": 1000,
       "initial": 0,
       "colour": null
      }
     },
     "metadata": {},
     "output_type": "display_data"
    },
    {
     "data": {
      "text/plain": "train_batch:   0%|          | 0/2 [00:00<?, ?it/s]",
      "application/vnd.jupyter.widget-view+json": {
       "version_major": 2,
       "version_minor": 0,
       "model_id": "9464687162cd4587b05b62a795609862"
      },
      "application/json": {
       "n": 0,
       "total": 2,
       "elapsed": 0.021947622299194336,
       "ncols": null,
       "nrows": null,
       "prefix": "train_batch",
       "ascii": false,
       "unit": "it",
       "unit_scale": false,
       "rate": null,
       "bar_format": null,
       "postfix": null,
       "unit_divisor": 1000,
       "initial": 0,
       "colour": null
      }
     },
     "metadata": {},
     "output_type": "display_data"
    },
    {
     "data": {
      "text/plain": "test_batch:   0%|          | 0/1 [00:00<?, ?it/s]",
      "application/vnd.jupyter.widget-view+json": {
       "version_major": 2,
       "version_minor": 0,
       "model_id": "6ed02b5da7a74dd49ac3b22d4deb177a"
      },
      "application/json": {
       "n": 0,
       "total": 1,
       "elapsed": 0.030362367630004883,
       "ncols": null,
       "nrows": null,
       "prefix": "test_batch",
       "ascii": false,
       "unit": "it",
       "unit_scale": false,
       "rate": null,
       "bar_format": null,
       "postfix": null,
       "unit_divisor": 1000,
       "initial": 0,
       "colour": null
      }
     },
     "metadata": {},
     "output_type": "display_data"
    },
    {
     "name": "stdout",
     "output_type": "stream",
     "text": [
      "--- EPOCH 51/100 ---\n"
     ]
    },
    {
     "data": {
      "text/plain": "train_batch:   0%|          | 0/2 [00:00<?, ?it/s]",
      "application/vnd.jupyter.widget-view+json": {
       "version_major": 2,
       "version_minor": 0,
       "model_id": "0c89a1a910b84dc48f267a92c59c49c9"
      },
      "application/json": {
       "n": 0,
       "total": 2,
       "elapsed": 0.020943403244018555,
       "ncols": null,
       "nrows": null,
       "prefix": "train_batch",
       "ascii": false,
       "unit": "it",
       "unit_scale": false,
       "rate": null,
       "bar_format": null,
       "postfix": null,
       "unit_divisor": 1000,
       "initial": 0,
       "colour": null
      }
     },
     "metadata": {},
     "output_type": "display_data"
    },
    {
     "data": {
      "text/plain": "test_batch:   0%|          | 0/1 [00:00<?, ?it/s]",
      "application/vnd.jupyter.widget-view+json": {
       "version_major": 2,
       "version_minor": 0,
       "model_id": "9e7eb054fe57443c93416aa01fccf346"
      },
      "application/json": {
       "n": 0,
       "total": 1,
       "elapsed": 0.01994490623474121,
       "ncols": null,
       "nrows": null,
       "prefix": "test_batch",
       "ascii": false,
       "unit": "it",
       "unit_scale": false,
       "rate": null,
       "bar_format": null,
       "postfix": null,
       "unit_divisor": 1000,
       "initial": 0,
       "colour": null
      }
     },
     "metadata": {},
     "output_type": "display_data"
    },
    {
     "data": {
      "text/plain": "train_batch:   0%|          | 0/2 [00:00<?, ?it/s]",
      "application/vnd.jupyter.widget-view+json": {
       "version_major": 2,
       "version_minor": 0,
       "model_id": "98b319010d934836894da510bff84e6e"
      },
      "application/json": {
       "n": 0,
       "total": 2,
       "elapsed": 0.020943880081176758,
       "ncols": null,
       "nrows": null,
       "prefix": "train_batch",
       "ascii": false,
       "unit": "it",
       "unit_scale": false,
       "rate": null,
       "bar_format": null,
       "postfix": null,
       "unit_divisor": 1000,
       "initial": 0,
       "colour": null
      }
     },
     "metadata": {},
     "output_type": "display_data"
    },
    {
     "data": {
      "text/plain": "test_batch:   0%|          | 0/1 [00:00<?, ?it/s]",
      "application/vnd.jupyter.widget-view+json": {
       "version_major": 2,
       "version_minor": 0,
       "model_id": "a18bf0677f19463082e929726722c006"
      },
      "application/json": {
       "n": 0,
       "total": 1,
       "elapsed": 0.029447317123413086,
       "ncols": null,
       "nrows": null,
       "prefix": "test_batch",
       "ascii": false,
       "unit": "it",
       "unit_scale": false,
       "rate": null,
       "bar_format": null,
       "postfix": null,
       "unit_divisor": 1000,
       "initial": 0,
       "colour": null
      }
     },
     "metadata": {},
     "output_type": "display_data"
    },
    {
     "data": {
      "text/plain": "train_batch:   0%|          | 0/2 [00:00<?, ?it/s]",
      "application/vnd.jupyter.widget-view+json": {
       "version_major": 2,
       "version_minor": 0,
       "model_id": "d54255d2cb7e47988ef5fb05d267e6a3"
      },
      "application/json": {
       "n": 0,
       "total": 2,
       "elapsed": 0.024095535278320312,
       "ncols": null,
       "nrows": null,
       "prefix": "train_batch",
       "ascii": false,
       "unit": "it",
       "unit_scale": false,
       "rate": null,
       "bar_format": null,
       "postfix": null,
       "unit_divisor": 1000,
       "initial": 0,
       "colour": null
      }
     },
     "metadata": {},
     "output_type": "display_data"
    },
    {
     "data": {
      "text/plain": "test_batch:   0%|          | 0/1 [00:00<?, ?it/s]",
      "application/vnd.jupyter.widget-view+json": {
       "version_major": 2,
       "version_minor": 0,
       "model_id": "6ecca205b87741d4a1fdfb2790cf396b"
      },
      "application/json": {
       "n": 0,
       "total": 1,
       "elapsed": 0.02293872833251953,
       "ncols": null,
       "nrows": null,
       "prefix": "test_batch",
       "ascii": false,
       "unit": "it",
       "unit_scale": false,
       "rate": null,
       "bar_format": null,
       "postfix": null,
       "unit_divisor": 1000,
       "initial": 0,
       "colour": null
      }
     },
     "metadata": {},
     "output_type": "display_data"
    },
    {
     "data": {
      "text/plain": "train_batch:   0%|          | 0/2 [00:00<?, ?it/s]",
      "application/vnd.jupyter.widget-view+json": {
       "version_major": 2,
       "version_minor": 0,
       "model_id": "af714e44bc234e36940531bfd0317182"
      },
      "application/json": {
       "n": 0,
       "total": 2,
       "elapsed": 0.018675565719604492,
       "ncols": null,
       "nrows": null,
       "prefix": "train_batch",
       "ascii": false,
       "unit": "it",
       "unit_scale": false,
       "rate": null,
       "bar_format": null,
       "postfix": null,
       "unit_divisor": 1000,
       "initial": 0,
       "colour": null
      }
     },
     "metadata": {},
     "output_type": "display_data"
    },
    {
     "data": {
      "text/plain": "test_batch:   0%|          | 0/1 [00:00<?, ?it/s]",
      "application/vnd.jupyter.widget-view+json": {
       "version_major": 2,
       "version_minor": 0,
       "model_id": "b970c051d54645c08a6d14dbc0bfabc2"
      },
      "application/json": {
       "n": 0,
       "total": 1,
       "elapsed": 0.021941184997558594,
       "ncols": null,
       "nrows": null,
       "prefix": "test_batch",
       "ascii": false,
       "unit": "it",
       "unit_scale": false,
       "rate": null,
       "bar_format": null,
       "postfix": null,
       "unit_divisor": 1000,
       "initial": 0,
       "colour": null
      }
     },
     "metadata": {},
     "output_type": "display_data"
    },
    {
     "data": {
      "text/plain": "train_batch:   0%|          | 0/2 [00:00<?, ?it/s]",
      "application/vnd.jupyter.widget-view+json": {
       "version_major": 2,
       "version_minor": 0,
       "model_id": "4b5e8449586c4812b4766063b665227d"
      },
      "application/json": {
       "n": 0,
       "total": 2,
       "elapsed": 0.017951488494873047,
       "ncols": null,
       "nrows": null,
       "prefix": "train_batch",
       "ascii": false,
       "unit": "it",
       "unit_scale": false,
       "rate": null,
       "bar_format": null,
       "postfix": null,
       "unit_divisor": 1000,
       "initial": 0,
       "colour": null
      }
     },
     "metadata": {},
     "output_type": "display_data"
    },
    {
     "data": {
      "text/plain": "test_batch:   0%|          | 0/1 [00:00<?, ?it/s]",
      "application/vnd.jupyter.widget-view+json": {
       "version_major": 2,
       "version_minor": 0,
       "model_id": "688761342bbe4805926122fb54e4264c"
      },
      "application/json": {
       "n": 0,
       "total": 1,
       "elapsed": 0.022938251495361328,
       "ncols": null,
       "nrows": null,
       "prefix": "test_batch",
       "ascii": false,
       "unit": "it",
       "unit_scale": false,
       "rate": null,
       "bar_format": null,
       "postfix": null,
       "unit_divisor": 1000,
       "initial": 0,
       "colour": null
      }
     },
     "metadata": {},
     "output_type": "display_data"
    },
    {
     "data": {
      "text/plain": "train_batch:   0%|          | 0/2 [00:00<?, ?it/s]",
      "application/vnd.jupyter.widget-view+json": {
       "version_major": 2,
       "version_minor": 0,
       "model_id": "62e5db4051df4e2aac4a028e9ee39fac"
      },
      "application/json": {
       "n": 0,
       "total": 2,
       "elapsed": 0.021940231323242188,
       "ncols": null,
       "nrows": null,
       "prefix": "train_batch",
       "ascii": false,
       "unit": "it",
       "unit_scale": false,
       "rate": null,
       "bar_format": null,
       "postfix": null,
       "unit_divisor": 1000,
       "initial": 0,
       "colour": null
      }
     },
     "metadata": {},
     "output_type": "display_data"
    },
    {
     "data": {
      "text/plain": "test_batch:   0%|          | 0/1 [00:00<?, ?it/s]",
      "application/vnd.jupyter.widget-view+json": {
       "version_major": 2,
       "version_minor": 0,
       "model_id": "eda3105c93474290a1f58b56e90afbd8"
      },
      "application/json": {
       "n": 0,
       "total": 1,
       "elapsed": 0.024930238723754883,
       "ncols": null,
       "nrows": null,
       "prefix": "test_batch",
       "ascii": false,
       "unit": "it",
       "unit_scale": false,
       "rate": null,
       "bar_format": null,
       "postfix": null,
       "unit_divisor": 1000,
       "initial": 0,
       "colour": null
      }
     },
     "metadata": {},
     "output_type": "display_data"
    },
    {
     "data": {
      "text/plain": "train_batch:   0%|          | 0/2 [00:00<?, ?it/s]",
      "application/vnd.jupyter.widget-view+json": {
       "version_major": 2,
       "version_minor": 0,
       "model_id": "e06dbc1eb8e34ed593a3f6cc68953542"
      },
      "application/json": {
       "n": 0,
       "total": 2,
       "elapsed": 0.016953706741333008,
       "ncols": null,
       "nrows": null,
       "prefix": "train_batch",
       "ascii": false,
       "unit": "it",
       "unit_scale": false,
       "rate": null,
       "bar_format": null,
       "postfix": null,
       "unit_divisor": 1000,
       "initial": 0,
       "colour": null
      }
     },
     "metadata": {},
     "output_type": "display_data"
    },
    {
     "data": {
      "text/plain": "test_batch:   0%|          | 0/1 [00:00<?, ?it/s]",
      "application/vnd.jupyter.widget-view+json": {
       "version_major": 2,
       "version_minor": 0,
       "model_id": "c65522e1156646f38649b243f3743b99"
      },
      "application/json": {
       "n": 0,
       "total": 1,
       "elapsed": 0.025929689407348633,
       "ncols": null,
       "nrows": null,
       "prefix": "test_batch",
       "ascii": false,
       "unit": "it",
       "unit_scale": false,
       "rate": null,
       "bar_format": null,
       "postfix": null,
       "unit_divisor": 1000,
       "initial": 0,
       "colour": null
      }
     },
     "metadata": {},
     "output_type": "display_data"
    },
    {
     "data": {
      "text/plain": "train_batch:   0%|          | 0/2 [00:00<?, ?it/s]",
      "application/vnd.jupyter.widget-view+json": {
       "version_major": 2,
       "version_minor": 0,
       "model_id": "cb10bbf44c724ca18bd868844a792554"
      },
      "application/json": {
       "n": 0,
       "total": 2,
       "elapsed": 0.019945621490478516,
       "ncols": null,
       "nrows": null,
       "prefix": "train_batch",
       "ascii": false,
       "unit": "it",
       "unit_scale": false,
       "rate": null,
       "bar_format": null,
       "postfix": null,
       "unit_divisor": 1000,
       "initial": 0,
       "colour": null
      }
     },
     "metadata": {},
     "output_type": "display_data"
    },
    {
     "data": {
      "text/plain": "test_batch:   0%|          | 0/1 [00:00<?, ?it/s]",
      "application/vnd.jupyter.widget-view+json": {
       "version_major": 2,
       "version_minor": 0,
       "model_id": "21c3af591edd4024947417cd656374e5"
      },
      "application/json": {
       "n": 0,
       "total": 1,
       "elapsed": 0.032424211502075195,
       "ncols": null,
       "nrows": null,
       "prefix": "test_batch",
       "ascii": false,
       "unit": "it",
       "unit_scale": false,
       "rate": null,
       "bar_format": null,
       "postfix": null,
       "unit_divisor": 1000,
       "initial": 0,
       "colour": null
      }
     },
     "metadata": {},
     "output_type": "display_data"
    },
    {
     "data": {
      "text/plain": "train_batch:   0%|          | 0/2 [00:00<?, ?it/s]",
      "application/vnd.jupyter.widget-view+json": {
       "version_major": 2,
       "version_minor": 0,
       "model_id": "4cb1dd9da27248459314cc2f28859c5a"
      },
      "application/json": {
       "n": 0,
       "total": 2,
       "elapsed": 0.03065943717956543,
       "ncols": null,
       "nrows": null,
       "prefix": "train_batch",
       "ascii": false,
       "unit": "it",
       "unit_scale": false,
       "rate": null,
       "bar_format": null,
       "postfix": null,
       "unit_divisor": 1000,
       "initial": 0,
       "colour": null
      }
     },
     "metadata": {},
     "output_type": "display_data"
    },
    {
     "data": {
      "text/plain": "test_batch:   0%|          | 0/1 [00:00<?, ?it/s]",
      "application/vnd.jupyter.widget-view+json": {
       "version_major": 2,
       "version_minor": 0,
       "model_id": "ea528e6d5c914d699761720875a138ea"
      },
      "application/json": {
       "n": 0,
       "total": 1,
       "elapsed": 0.030917882919311523,
       "ncols": null,
       "nrows": null,
       "prefix": "test_batch",
       "ascii": false,
       "unit": "it",
       "unit_scale": false,
       "rate": null,
       "bar_format": null,
       "postfix": null,
       "unit_divisor": 1000,
       "initial": 0,
       "colour": null
      }
     },
     "metadata": {},
     "output_type": "display_data"
    },
    {
     "data": {
      "text/plain": "train_batch:   0%|          | 0/2 [00:00<?, ?it/s]",
      "application/vnd.jupyter.widget-view+json": {
       "version_major": 2,
       "version_minor": 0,
       "model_id": "fba19190e95e449d9f1b45f7a88c54f2"
      },
      "application/json": {
       "n": 0,
       "total": 2,
       "elapsed": 0.02194380760192871,
       "ncols": null,
       "nrows": null,
       "prefix": "train_batch",
       "ascii": false,
       "unit": "it",
       "unit_scale": false,
       "rate": null,
       "bar_format": null,
       "postfix": null,
       "unit_divisor": 1000,
       "initial": 0,
       "colour": null
      }
     },
     "metadata": {},
     "output_type": "display_data"
    },
    {
     "data": {
      "text/plain": "test_batch:   0%|          | 0/1 [00:00<?, ?it/s]",
      "application/vnd.jupyter.widget-view+json": {
       "version_major": 2,
       "version_minor": 0,
       "model_id": "9d7392ffa63e40b590f8febd7f422306"
      },
      "application/json": {
       "n": 0,
       "total": 1,
       "elapsed": 0.024932146072387695,
       "ncols": null,
       "nrows": null,
       "prefix": "test_batch",
       "ascii": false,
       "unit": "it",
       "unit_scale": false,
       "rate": null,
       "bar_format": null,
       "postfix": null,
       "unit_divisor": 1000,
       "initial": 0,
       "colour": null
      }
     },
     "metadata": {},
     "output_type": "display_data"
    },
    {
     "name": "stdout",
     "output_type": "stream",
     "text": [
      "--- EPOCH 61/100 ---\n"
     ]
    },
    {
     "data": {
      "text/plain": "train_batch:   0%|          | 0/2 [00:00<?, ?it/s]",
      "application/vnd.jupyter.widget-view+json": {
       "version_major": 2,
       "version_minor": 0,
       "model_id": "c4c904771037414a916b5b7a05e20e0a"
      },
      "application/json": {
       "n": 0,
       "total": 2,
       "elapsed": 0.022937774658203125,
       "ncols": null,
       "nrows": null,
       "prefix": "train_batch",
       "ascii": false,
       "unit": "it",
       "unit_scale": false,
       "rate": null,
       "bar_format": null,
       "postfix": null,
       "unit_divisor": 1000,
       "initial": 0,
       "colour": null
      }
     },
     "metadata": {},
     "output_type": "display_data"
    },
    {
     "data": {
      "text/plain": "test_batch:   0%|          | 0/1 [00:00<?, ?it/s]",
      "application/vnd.jupyter.widget-view+json": {
       "version_major": 2,
       "version_minor": 0,
       "model_id": "532dd5fbae8544a996b09042246aa705"
      },
      "application/json": {
       "n": 0,
       "total": 1,
       "elapsed": 0.01695394515991211,
       "ncols": null,
       "nrows": null,
       "prefix": "test_batch",
       "ascii": false,
       "unit": "it",
       "unit_scale": false,
       "rate": null,
       "bar_format": null,
       "postfix": null,
       "unit_divisor": 1000,
       "initial": 0,
       "colour": null
      }
     },
     "metadata": {},
     "output_type": "display_data"
    },
    {
     "data": {
      "text/plain": "train_batch:   0%|          | 0/2 [00:00<?, ?it/s]",
      "application/vnd.jupyter.widget-view+json": {
       "version_major": 2,
       "version_minor": 0,
       "model_id": "e9aeeef8770c4a6e820dbd5e8b457967"
      },
      "application/json": {
       "n": 0,
       "total": 2,
       "elapsed": 0.02393484115600586,
       "ncols": null,
       "nrows": null,
       "prefix": "train_batch",
       "ascii": false,
       "unit": "it",
       "unit_scale": false,
       "rate": null,
       "bar_format": null,
       "postfix": null,
       "unit_divisor": 1000,
       "initial": 0,
       "colour": null
      }
     },
     "metadata": {},
     "output_type": "display_data"
    },
    {
     "data": {
      "text/plain": "test_batch:   0%|          | 0/1 [00:00<?, ?it/s]",
      "application/vnd.jupyter.widget-view+json": {
       "version_major": 2,
       "version_minor": 0,
       "model_id": "83afd17c1a8e4f229ac0c7d82e64c6b7"
      },
      "application/json": {
       "n": 0,
       "total": 1,
       "elapsed": 0.01994490623474121,
       "ncols": null,
       "nrows": null,
       "prefix": "test_batch",
       "ascii": false,
       "unit": "it",
       "unit_scale": false,
       "rate": null,
       "bar_format": null,
       "postfix": null,
       "unit_divisor": 1000,
       "initial": 0,
       "colour": null
      }
     },
     "metadata": {},
     "output_type": "display_data"
    },
    {
     "data": {
      "text/plain": "train_batch:   0%|          | 0/2 [00:00<?, ?it/s]",
      "application/vnd.jupyter.widget-view+json": {
       "version_major": 2,
       "version_minor": 0,
       "model_id": "5fff2c01a2d144c09a184e20f14e1f4a"
      },
      "application/json": {
       "n": 0,
       "total": 2,
       "elapsed": 0.0219419002532959,
       "ncols": null,
       "nrows": null,
       "prefix": "train_batch",
       "ascii": false,
       "unit": "it",
       "unit_scale": false,
       "rate": null,
       "bar_format": null,
       "postfix": null,
       "unit_divisor": 1000,
       "initial": 0,
       "colour": null
      }
     },
     "metadata": {},
     "output_type": "display_data"
    },
    {
     "data": {
      "text/plain": "test_batch:   0%|          | 0/1 [00:00<?, ?it/s]",
      "application/vnd.jupyter.widget-view+json": {
       "version_major": 2,
       "version_minor": 0,
       "model_id": "92822b04413c47288cb67793f9392579"
      },
      "application/json": {
       "n": 0,
       "total": 1,
       "elapsed": 0.017937660217285156,
       "ncols": null,
       "nrows": null,
       "prefix": "test_batch",
       "ascii": false,
       "unit": "it",
       "unit_scale": false,
       "rate": null,
       "bar_format": null,
       "postfix": null,
       "unit_divisor": 1000,
       "initial": 0,
       "colour": null
      }
     },
     "metadata": {},
     "output_type": "display_data"
    },
    {
     "data": {
      "text/plain": "train_batch:   0%|          | 0/2 [00:00<?, ?it/s]",
      "application/vnd.jupyter.widget-view+json": {
       "version_major": 2,
       "version_minor": 0,
       "model_id": "5c4b355d063249f9b7109224aa2533e5"
      },
      "application/json": {
       "n": 0,
       "total": 2,
       "elapsed": 0.022266387939453125,
       "ncols": null,
       "nrows": null,
       "prefix": "train_batch",
       "ascii": false,
       "unit": "it",
       "unit_scale": false,
       "rate": null,
       "bar_format": null,
       "postfix": null,
       "unit_divisor": 1000,
       "initial": 0,
       "colour": null
      }
     },
     "metadata": {},
     "output_type": "display_data"
    },
    {
     "data": {
      "text/plain": "test_batch:   0%|          | 0/1 [00:00<?, ?it/s]",
      "application/vnd.jupyter.widget-view+json": {
       "version_major": 2,
       "version_minor": 0,
       "model_id": "af844056000244c9a9f5dabfc9f001af"
      },
      "application/json": {
       "n": 0,
       "total": 1,
       "elapsed": 0.019947052001953125,
       "ncols": null,
       "nrows": null,
       "prefix": "test_batch",
       "ascii": false,
       "unit": "it",
       "unit_scale": false,
       "rate": null,
       "bar_format": null,
       "postfix": null,
       "unit_divisor": 1000,
       "initial": 0,
       "colour": null
      }
     },
     "metadata": {},
     "output_type": "display_data"
    },
    {
     "data": {
      "text/plain": "train_batch:   0%|          | 0/2 [00:00<?, ?it/s]",
      "application/vnd.jupyter.widget-view+json": {
       "version_major": 2,
       "version_minor": 0,
       "model_id": "fdc70a7a89254aeb99968cc0e70b3f33"
      },
      "application/json": {
       "n": 0,
       "total": 2,
       "elapsed": 0.026923656463623047,
       "ncols": null,
       "nrows": null,
       "prefix": "train_batch",
       "ascii": false,
       "unit": "it",
       "unit_scale": false,
       "rate": null,
       "bar_format": null,
       "postfix": null,
       "unit_divisor": 1000,
       "initial": 0,
       "colour": null
      }
     },
     "metadata": {},
     "output_type": "display_data"
    },
    {
     "data": {
      "text/plain": "test_batch:   0%|          | 0/1 [00:00<?, ?it/s]",
      "application/vnd.jupyter.widget-view+json": {
       "version_major": 2,
       "version_minor": 0,
       "model_id": "47e200ee3d0c4822a7b68bedea462e97"
      },
      "application/json": {
       "n": 0,
       "total": 1,
       "elapsed": 0.018949031829833984,
       "ncols": null,
       "nrows": null,
       "prefix": "test_batch",
       "ascii": false,
       "unit": "it",
       "unit_scale": false,
       "rate": null,
       "bar_format": null,
       "postfix": null,
       "unit_divisor": 1000,
       "initial": 0,
       "colour": null
      }
     },
     "metadata": {},
     "output_type": "display_data"
    },
    {
     "data": {
      "text/plain": "train_batch:   0%|          | 0/2 [00:00<?, ?it/s]",
      "application/vnd.jupyter.widget-view+json": {
       "version_major": 2,
       "version_minor": 0,
       "model_id": "7b09e3c486254c33b054cf2848150a4b"
      },
      "application/json": {
       "n": 0,
       "total": 2,
       "elapsed": 0.027925491333007812,
       "ncols": null,
       "nrows": null,
       "prefix": "train_batch",
       "ascii": false,
       "unit": "it",
       "unit_scale": false,
       "rate": null,
       "bar_format": null,
       "postfix": null,
       "unit_divisor": 1000,
       "initial": 0,
       "colour": null
      }
     },
     "metadata": {},
     "output_type": "display_data"
    },
    {
     "data": {
      "text/plain": "test_batch:   0%|          | 0/1 [00:00<?, ?it/s]",
      "application/vnd.jupyter.widget-view+json": {
       "version_major": 2,
       "version_minor": 0,
       "model_id": "e278880f41af4acca30ff0e7c486c675"
      },
      "application/json": {
       "n": 0,
       "total": 1,
       "elapsed": 0.021942138671875,
       "ncols": null,
       "nrows": null,
       "prefix": "test_batch",
       "ascii": false,
       "unit": "it",
       "unit_scale": false,
       "rate": null,
       "bar_format": null,
       "postfix": null,
       "unit_divisor": 1000,
       "initial": 0,
       "colour": null
      }
     },
     "metadata": {},
     "output_type": "display_data"
    },
    {
     "data": {
      "text/plain": "train_batch:   0%|          | 0/2 [00:00<?, ?it/s]",
      "application/vnd.jupyter.widget-view+json": {
       "version_major": 2,
       "version_minor": 0,
       "model_id": "0a2e651138764efaab16091bbdd9a0b7"
      },
      "application/json": {
       "n": 0,
       "total": 2,
       "elapsed": 0.02393484115600586,
       "ncols": null,
       "nrows": null,
       "prefix": "train_batch",
       "ascii": false,
       "unit": "it",
       "unit_scale": false,
       "rate": null,
       "bar_format": null,
       "postfix": null,
       "unit_divisor": 1000,
       "initial": 0,
       "colour": null
      }
     },
     "metadata": {},
     "output_type": "display_data"
    },
    {
     "data": {
      "text/plain": "test_batch:   0%|          | 0/1 [00:00<?, ?it/s]",
      "application/vnd.jupyter.widget-view+json": {
       "version_major": 2,
       "version_minor": 0,
       "model_id": "197a8927b14142b89ced49f8370a3d80"
      },
      "application/json": {
       "n": 0,
       "total": 1,
       "elapsed": 0.021947145462036133,
       "ncols": null,
       "nrows": null,
       "prefix": "test_batch",
       "ascii": false,
       "unit": "it",
       "unit_scale": false,
       "rate": null,
       "bar_format": null,
       "postfix": null,
       "unit_divisor": 1000,
       "initial": 0,
       "colour": null
      }
     },
     "metadata": {},
     "output_type": "display_data"
    },
    {
     "data": {
      "text/plain": "train_batch:   0%|          | 0/2 [00:00<?, ?it/s]",
      "application/vnd.jupyter.widget-view+json": {
       "version_major": 2,
       "version_minor": 0,
       "model_id": "d48bf7d3bf5e457ca0df7e041d25a13b"
      },
      "application/json": {
       "n": 0,
       "total": 2,
       "elapsed": 0.02094292640686035,
       "ncols": null,
       "nrows": null,
       "prefix": "train_batch",
       "ascii": false,
       "unit": "it",
       "unit_scale": false,
       "rate": null,
       "bar_format": null,
       "postfix": null,
       "unit_divisor": 1000,
       "initial": 0,
       "colour": null
      }
     },
     "metadata": {},
     "output_type": "display_data"
    },
    {
     "data": {
      "text/plain": "test_batch:   0%|          | 0/1 [00:00<?, ?it/s]",
      "application/vnd.jupyter.widget-view+json": {
       "version_major": 2,
       "version_minor": 0,
       "model_id": "772c36c00f444306859e5571ab6212ff"
      },
      "application/json": {
       "n": 0,
       "total": 1,
       "elapsed": 0.020943164825439453,
       "ncols": null,
       "nrows": null,
       "prefix": "test_batch",
       "ascii": false,
       "unit": "it",
       "unit_scale": false,
       "rate": null,
       "bar_format": null,
       "postfix": null,
       "unit_divisor": 1000,
       "initial": 0,
       "colour": null
      }
     },
     "metadata": {},
     "output_type": "display_data"
    },
    {
     "data": {
      "text/plain": "train_batch:   0%|          | 0/2 [00:00<?, ?it/s]",
      "application/vnd.jupyter.widget-view+json": {
       "version_major": 2,
       "version_minor": 0,
       "model_id": "0c0bfce684a9457a9c32c83bb8adfc50"
      },
      "application/json": {
       "n": 0,
       "total": 2,
       "elapsed": 0.03246164321899414,
       "ncols": null,
       "nrows": null,
       "prefix": "train_batch",
       "ascii": false,
       "unit": "it",
       "unit_scale": false,
       "rate": null,
       "bar_format": null,
       "postfix": null,
       "unit_divisor": 1000,
       "initial": 0,
       "colour": null
      }
     },
     "metadata": {},
     "output_type": "display_data"
    },
    {
     "data": {
      "text/plain": "test_batch:   0%|          | 0/1 [00:00<?, ?it/s]",
      "application/vnd.jupyter.widget-view+json": {
       "version_major": 2,
       "version_minor": 0,
       "model_id": "98c82a011ddc443b9581c1ce5c71eca3"
      },
      "application/json": {
       "n": 0,
       "total": 1,
       "elapsed": 0.022937774658203125,
       "ncols": null,
       "nrows": null,
       "prefix": "test_batch",
       "ascii": false,
       "unit": "it",
       "unit_scale": false,
       "rate": null,
       "bar_format": null,
       "postfix": null,
       "unit_divisor": 1000,
       "initial": 0,
       "colour": null
      }
     },
     "metadata": {},
     "output_type": "display_data"
    },
    {
     "data": {
      "text/plain": "train_batch:   0%|          | 0/2 [00:00<?, ?it/s]",
      "application/vnd.jupyter.widget-view+json": {
       "version_major": 2,
       "version_minor": 0,
       "model_id": "565d65f0d39a4ae09d3da52dc80688e0"
      },
      "application/json": {
       "n": 0,
       "total": 2,
       "elapsed": 0.022937774658203125,
       "ncols": null,
       "nrows": null,
       "prefix": "train_batch",
       "ascii": false,
       "unit": "it",
       "unit_scale": false,
       "rate": null,
       "bar_format": null,
       "postfix": null,
       "unit_divisor": 1000,
       "initial": 0,
       "colour": null
      }
     },
     "metadata": {},
     "output_type": "display_data"
    },
    {
     "data": {
      "text/plain": "test_batch:   0%|          | 0/1 [00:00<?, ?it/s]",
      "application/vnd.jupyter.widget-view+json": {
       "version_major": 2,
       "version_minor": 0,
       "model_id": "5353240961f640a8b5f9c5d2bc057cc5"
      },
      "application/json": {
       "n": 0,
       "total": 1,
       "elapsed": 0.014959573745727539,
       "ncols": null,
       "nrows": null,
       "prefix": "test_batch",
       "ascii": false,
       "unit": "it",
       "unit_scale": false,
       "rate": null,
       "bar_format": null,
       "postfix": null,
       "unit_divisor": 1000,
       "initial": 0,
       "colour": null
      }
     },
     "metadata": {},
     "output_type": "display_data"
    },
    {
     "name": "stdout",
     "output_type": "stream",
     "text": [
      "--- EPOCH 71/100 ---\n"
     ]
    },
    {
     "data": {
      "text/plain": "train_batch:   0%|          | 0/2 [00:00<?, ?it/s]",
      "application/vnd.jupyter.widget-view+json": {
       "version_major": 2,
       "version_minor": 0,
       "model_id": "4f637835c0a64327b99622a381739120"
      },
      "application/json": {
       "n": 0,
       "total": 2,
       "elapsed": 0.026929140090942383,
       "ncols": null,
       "nrows": null,
       "prefix": "train_batch",
       "ascii": false,
       "unit": "it",
       "unit_scale": false,
       "rate": null,
       "bar_format": null,
       "postfix": null,
       "unit_divisor": 1000,
       "initial": 0,
       "colour": null
      }
     },
     "metadata": {},
     "output_type": "display_data"
    },
    {
     "data": {
      "text/plain": "test_batch:   0%|          | 0/1 [00:00<?, ?it/s]",
      "application/vnd.jupyter.widget-view+json": {
       "version_major": 2,
       "version_minor": 0,
       "model_id": "3f81fb31daf74337aa64ce7c4777077e"
      },
      "application/json": {
       "n": 0,
       "total": 1,
       "elapsed": 0.019945859909057617,
       "ncols": null,
       "nrows": null,
       "prefix": "test_batch",
       "ascii": false,
       "unit": "it",
       "unit_scale": false,
       "rate": null,
       "bar_format": null,
       "postfix": null,
       "unit_divisor": 1000,
       "initial": 0,
       "colour": null
      }
     },
     "metadata": {},
     "output_type": "display_data"
    },
    {
     "data": {
      "text/plain": "train_batch:   0%|          | 0/2 [00:00<?, ?it/s]",
      "application/vnd.jupyter.widget-view+json": {
       "version_major": 2,
       "version_minor": 0,
       "model_id": "e40b1111e03744beb016b96aefe78ff0"
      },
      "application/json": {
       "n": 0,
       "total": 2,
       "elapsed": 0.016076087951660156,
       "ncols": null,
       "nrows": null,
       "prefix": "train_batch",
       "ascii": false,
       "unit": "it",
       "unit_scale": false,
       "rate": null,
       "bar_format": null,
       "postfix": null,
       "unit_divisor": 1000,
       "initial": 0,
       "colour": null
      }
     },
     "metadata": {},
     "output_type": "display_data"
    },
    {
     "data": {
      "text/plain": "test_batch:   0%|          | 0/1 [00:00<?, ?it/s]",
      "application/vnd.jupyter.widget-view+json": {
       "version_major": 2,
       "version_minor": 0,
       "model_id": "c4db5d2a839643ad919ce1d03648049e"
      },
      "application/json": {
       "n": 0,
       "total": 1,
       "elapsed": 0.030918359756469727,
       "ncols": null,
       "nrows": null,
       "prefix": "test_batch",
       "ascii": false,
       "unit": "it",
       "unit_scale": false,
       "rate": null,
       "bar_format": null,
       "postfix": null,
       "unit_divisor": 1000,
       "initial": 0,
       "colour": null
      }
     },
     "metadata": {},
     "output_type": "display_data"
    },
    {
     "data": {
      "text/plain": "train_batch:   0%|          | 0/2 [00:00<?, ?it/s]",
      "application/vnd.jupyter.widget-view+json": {
       "version_major": 2,
       "version_minor": 0,
       "model_id": "3176e9470b0c47f5a68dd4574ab92b95"
      },
      "application/json": {
       "n": 0,
       "total": 2,
       "elapsed": 0.02195000648498535,
       "ncols": null,
       "nrows": null,
       "prefix": "train_batch",
       "ascii": false,
       "unit": "it",
       "unit_scale": false,
       "rate": null,
       "bar_format": null,
       "postfix": null,
       "unit_divisor": 1000,
       "initial": 0,
       "colour": null
      }
     },
     "metadata": {},
     "output_type": "display_data"
    },
    {
     "data": {
      "text/plain": "test_batch:   0%|          | 0/1 [00:00<?, ?it/s]",
      "application/vnd.jupyter.widget-view+json": {
       "version_major": 2,
       "version_minor": 0,
       "model_id": "589de3b3dc38411eb256bf475b1d5192"
      },
      "application/json": {
       "n": 0,
       "total": 1,
       "elapsed": 0.02493429183959961,
       "ncols": null,
       "nrows": null,
       "prefix": "test_batch",
       "ascii": false,
       "unit": "it",
       "unit_scale": false,
       "rate": null,
       "bar_format": null,
       "postfix": null,
       "unit_divisor": 1000,
       "initial": 0,
       "colour": null
      }
     },
     "metadata": {},
     "output_type": "display_data"
    },
    {
     "data": {
      "text/plain": "train_batch:   0%|          | 0/2 [00:00<?, ?it/s]",
      "application/vnd.jupyter.widget-view+json": {
       "version_major": 2,
       "version_minor": 0,
       "model_id": "7b97efe207d04f76bc780ace8386e831"
      },
      "application/json": {
       "n": 0,
       "total": 2,
       "elapsed": 0.015954256057739258,
       "ncols": null,
       "nrows": null,
       "prefix": "train_batch",
       "ascii": false,
       "unit": "it",
       "unit_scale": false,
       "rate": null,
       "bar_format": null,
       "postfix": null,
       "unit_divisor": 1000,
       "initial": 0,
       "colour": null
      }
     },
     "metadata": {},
     "output_type": "display_data"
    },
    {
     "data": {
      "text/plain": "test_batch:   0%|          | 0/1 [00:00<?, ?it/s]",
      "application/vnd.jupyter.widget-view+json": {
       "version_major": 2,
       "version_minor": 0,
       "model_id": "c513380b3676444886d14724a546b08b"
      },
      "application/json": {
       "n": 0,
       "total": 1,
       "elapsed": 0.021196842193603516,
       "ncols": null,
       "nrows": null,
       "prefix": "test_batch",
       "ascii": false,
       "unit": "it",
       "unit_scale": false,
       "rate": null,
       "bar_format": null,
       "postfix": null,
       "unit_divisor": 1000,
       "initial": 0,
       "colour": null
      }
     },
     "metadata": {},
     "output_type": "display_data"
    },
    {
     "data": {
      "text/plain": "train_batch:   0%|          | 0/2 [00:00<?, ?it/s]",
      "application/vnd.jupyter.widget-view+json": {
       "version_major": 2,
       "version_minor": 0,
       "model_id": "938fe5da9f294ea9a38dcc3d6ac62058"
      },
      "application/json": {
       "n": 0,
       "total": 2,
       "elapsed": 0.023934602737426758,
       "ncols": null,
       "nrows": null,
       "prefix": "train_batch",
       "ascii": false,
       "unit": "it",
       "unit_scale": false,
       "rate": null,
       "bar_format": null,
       "postfix": null,
       "unit_divisor": 1000,
       "initial": 0,
       "colour": null
      }
     },
     "metadata": {},
     "output_type": "display_data"
    },
    {
     "data": {
      "text/plain": "test_batch:   0%|          | 0/1 [00:00<?, ?it/s]",
      "application/vnd.jupyter.widget-view+json": {
       "version_major": 2,
       "version_minor": 0,
       "model_id": "bcc709e6645445599e0056c078985007"
      },
      "application/json": {
       "n": 0,
       "total": 1,
       "elapsed": 0.02792501449584961,
       "ncols": null,
       "nrows": null,
       "prefix": "test_batch",
       "ascii": false,
       "unit": "it",
       "unit_scale": false,
       "rate": null,
       "bar_format": null,
       "postfix": null,
       "unit_divisor": 1000,
       "initial": 0,
       "colour": null
      }
     },
     "metadata": {},
     "output_type": "display_data"
    },
    {
     "data": {
      "text/plain": "train_batch:   0%|          | 0/2 [00:00<?, ?it/s]",
      "application/vnd.jupyter.widget-view+json": {
       "version_major": 2,
       "version_minor": 0,
       "model_id": "f3b148fc004e44969e3b74837e74b76f"
      },
      "application/json": {
       "n": 0,
       "total": 2,
       "elapsed": 0.025929689407348633,
       "ncols": null,
       "nrows": null,
       "prefix": "train_batch",
       "ascii": false,
       "unit": "it",
       "unit_scale": false,
       "rate": null,
       "bar_format": null,
       "postfix": null,
       "unit_divisor": 1000,
       "initial": 0,
       "colour": null
      }
     },
     "metadata": {},
     "output_type": "display_data"
    },
    {
     "data": {
      "text/plain": "test_batch:   0%|          | 0/1 [00:00<?, ?it/s]",
      "application/vnd.jupyter.widget-view+json": {
       "version_major": 2,
       "version_minor": 0,
       "model_id": "eb61c72fd9eb40dea77fe2709b414fd6"
      },
      "application/json": {
       "n": 0,
       "total": 1,
       "elapsed": 0.021941184997558594,
       "ncols": null,
       "nrows": null,
       "prefix": "test_batch",
       "ascii": false,
       "unit": "it",
       "unit_scale": false,
       "rate": null,
       "bar_format": null,
       "postfix": null,
       "unit_divisor": 1000,
       "initial": 0,
       "colour": null
      }
     },
     "metadata": {},
     "output_type": "display_data"
    },
    {
     "data": {
      "text/plain": "train_batch:   0%|          | 0/2 [00:00<?, ?it/s]",
      "application/vnd.jupyter.widget-view+json": {
       "version_major": 2,
       "version_minor": 0,
       "model_id": "9c4613df11b64d0e80f0e467282e4aa3"
      },
      "application/json": {
       "n": 0,
       "total": 2,
       "elapsed": 0.02593231201171875,
       "ncols": null,
       "nrows": null,
       "prefix": "train_batch",
       "ascii": false,
       "unit": "it",
       "unit_scale": false,
       "rate": null,
       "bar_format": null,
       "postfix": null,
       "unit_divisor": 1000,
       "initial": 0,
       "colour": null
      }
     },
     "metadata": {},
     "output_type": "display_data"
    },
    {
     "data": {
      "text/plain": "test_batch:   0%|          | 0/1 [00:00<?, ?it/s]",
      "application/vnd.jupyter.widget-view+json": {
       "version_major": 2,
       "version_minor": 0,
       "model_id": "a227e9bcb26b48e3b5956045927be8f9"
      },
      "application/json": {
       "n": 0,
       "total": 1,
       "elapsed": 0.02194070816040039,
       "ncols": null,
       "nrows": null,
       "prefix": "test_batch",
       "ascii": false,
       "unit": "it",
       "unit_scale": false,
       "rate": null,
       "bar_format": null,
       "postfix": null,
       "unit_divisor": 1000,
       "initial": 0,
       "colour": null
      }
     },
     "metadata": {},
     "output_type": "display_data"
    },
    {
     "data": {
      "text/plain": "train_batch:   0%|          | 0/2 [00:00<?, ?it/s]",
      "application/vnd.jupyter.widget-view+json": {
       "version_major": 2,
       "version_minor": 0,
       "model_id": "2502b46b40cc4be9be846f95c5afeb85"
      },
      "application/json": {
       "n": 0,
       "total": 2,
       "elapsed": 0.022583723068237305,
       "ncols": null,
       "nrows": null,
       "prefix": "train_batch",
       "ascii": false,
       "unit": "it",
       "unit_scale": false,
       "rate": null,
       "bar_format": null,
       "postfix": null,
       "unit_divisor": 1000,
       "initial": 0,
       "colour": null
      }
     },
     "metadata": {},
     "output_type": "display_data"
    },
    {
     "data": {
      "text/plain": "test_batch:   0%|          | 0/1 [00:00<?, ?it/s]",
      "application/vnd.jupyter.widget-view+json": {
       "version_major": 2,
       "version_minor": 0,
       "model_id": "9db3954796ce4cce8f4531bd6ebe2705"
      },
      "application/json": {
       "n": 0,
       "total": 1,
       "elapsed": 0.018949031829833984,
       "ncols": null,
       "nrows": null,
       "prefix": "test_batch",
       "ascii": false,
       "unit": "it",
       "unit_scale": false,
       "rate": null,
       "bar_format": null,
       "postfix": null,
       "unit_divisor": 1000,
       "initial": 0,
       "colour": null
      }
     },
     "metadata": {},
     "output_type": "display_data"
    },
    {
     "data": {
      "text/plain": "train_batch:   0%|          | 0/2 [00:00<?, ?it/s]",
      "application/vnd.jupyter.widget-view+json": {
       "version_major": 2,
       "version_minor": 0,
       "model_id": "db5bb864f41244c6ba1d986e31212511"
      },
      "application/json": {
       "n": 0,
       "total": 2,
       "elapsed": 0.02103590965270996,
       "ncols": null,
       "nrows": null,
       "prefix": "train_batch",
       "ascii": false,
       "unit": "it",
       "unit_scale": false,
       "rate": null,
       "bar_format": null,
       "postfix": null,
       "unit_divisor": 1000,
       "initial": 0,
       "colour": null
      }
     },
     "metadata": {},
     "output_type": "display_data"
    },
    {
     "data": {
      "text/plain": "test_batch:   0%|          | 0/1 [00:00<?, ?it/s]",
      "application/vnd.jupyter.widget-view+json": {
       "version_major": 2,
       "version_minor": 0,
       "model_id": "d43c0fa05e174514b26f83ddcb21e948"
      },
      "application/json": {
       "n": 0,
       "total": 1,
       "elapsed": 0.019949674606323242,
       "ncols": null,
       "nrows": null,
       "prefix": "test_batch",
       "ascii": false,
       "unit": "it",
       "unit_scale": false,
       "rate": null,
       "bar_format": null,
       "postfix": null,
       "unit_divisor": 1000,
       "initial": 0,
       "colour": null
      }
     },
     "metadata": {},
     "output_type": "display_data"
    },
    {
     "data": {
      "text/plain": "train_batch:   0%|          | 0/2 [00:00<?, ?it/s]",
      "application/vnd.jupyter.widget-view+json": {
       "version_major": 2,
       "version_minor": 0,
       "model_id": "9a535d223204458db80ffa1f9105377d"
      },
      "application/json": {
       "n": 0,
       "total": 2,
       "elapsed": 0.04288506507873535,
       "ncols": null,
       "nrows": null,
       "prefix": "train_batch",
       "ascii": false,
       "unit": "it",
       "unit_scale": false,
       "rate": null,
       "bar_format": null,
       "postfix": null,
       "unit_divisor": 1000,
       "initial": 0,
       "colour": null
      }
     },
     "metadata": {},
     "output_type": "display_data"
    },
    {
     "data": {
      "text/plain": "test_batch:   0%|          | 0/1 [00:00<?, ?it/s]",
      "application/vnd.jupyter.widget-view+json": {
       "version_major": 2,
       "version_minor": 0,
       "model_id": "754ccc7da96a492181cd71781f394e2e"
      },
      "application/json": {
       "n": 0,
       "total": 1,
       "elapsed": 0.015957355499267578,
       "ncols": null,
       "nrows": null,
       "prefix": "test_batch",
       "ascii": false,
       "unit": "it",
       "unit_scale": false,
       "rate": null,
       "bar_format": null,
       "postfix": null,
       "unit_divisor": 1000,
       "initial": 0,
       "colour": null
      }
     },
     "metadata": {},
     "output_type": "display_data"
    },
    {
     "name": "stdout",
     "output_type": "stream",
     "text": [
      "--- EPOCH 81/100 ---\n"
     ]
    },
    {
     "data": {
      "text/plain": "train_batch:   0%|          | 0/2 [00:00<?, ?it/s]",
      "application/vnd.jupyter.widget-view+json": {
       "version_major": 2,
       "version_minor": 0,
       "model_id": "2b555945b8284357a2eb33bc20cafd2a"
      },
      "application/json": {
       "n": 0,
       "total": 2,
       "elapsed": 0.025928974151611328,
       "ncols": null,
       "nrows": null,
       "prefix": "train_batch",
       "ascii": false,
       "unit": "it",
       "unit_scale": false,
       "rate": null,
       "bar_format": null,
       "postfix": null,
       "unit_divisor": 1000,
       "initial": 0,
       "colour": null
      }
     },
     "metadata": {},
     "output_type": "display_data"
    },
    {
     "data": {
      "text/plain": "test_batch:   0%|          | 0/1 [00:00<?, ?it/s]",
      "application/vnd.jupyter.widget-view+json": {
       "version_major": 2,
       "version_minor": 0,
       "model_id": "db1c5539b85d473ea98fea173864017d"
      },
      "application/json": {
       "n": 0,
       "total": 1,
       "elapsed": 0.018946170806884766,
       "ncols": null,
       "nrows": null,
       "prefix": "test_batch",
       "ascii": false,
       "unit": "it",
       "unit_scale": false,
       "rate": null,
       "bar_format": null,
       "postfix": null,
       "unit_divisor": 1000,
       "initial": 0,
       "colour": null
      }
     },
     "metadata": {},
     "output_type": "display_data"
    },
    {
     "data": {
      "text/plain": "train_batch:   0%|          | 0/2 [00:00<?, ?it/s]",
      "application/vnd.jupyter.widget-view+json": {
       "version_major": 2,
       "version_minor": 0,
       "model_id": "206f5f9965714bbfa83433d58a9c16e0"
      },
      "application/json": {
       "n": 0,
       "total": 2,
       "elapsed": 0.022938013076782227,
       "ncols": null,
       "nrows": null,
       "prefix": "train_batch",
       "ascii": false,
       "unit": "it",
       "unit_scale": false,
       "rate": null,
       "bar_format": null,
       "postfix": null,
       "unit_divisor": 1000,
       "initial": 0,
       "colour": null
      }
     },
     "metadata": {},
     "output_type": "display_data"
    },
    {
     "data": {
      "text/plain": "test_batch:   0%|          | 0/1 [00:00<?, ?it/s]",
      "application/vnd.jupyter.widget-view+json": {
       "version_major": 2,
       "version_minor": 0,
       "model_id": "624a444121964e17952c2aea8da135f4"
      },
      "application/json": {
       "n": 0,
       "total": 1,
       "elapsed": 0.020944833755493164,
       "ncols": null,
       "nrows": null,
       "prefix": "test_batch",
       "ascii": false,
       "unit": "it",
       "unit_scale": false,
       "rate": null,
       "bar_format": null,
       "postfix": null,
       "unit_divisor": 1000,
       "initial": 0,
       "colour": null
      }
     },
     "metadata": {},
     "output_type": "display_data"
    },
    {
     "data": {
      "text/plain": "train_batch:   0%|          | 0/2 [00:00<?, ?it/s]",
      "application/vnd.jupyter.widget-view+json": {
       "version_major": 2,
       "version_minor": 0,
       "model_id": "ce4657b184dd4fcd8f0c3bd7a1bf843b"
      },
      "application/json": {
       "n": 0,
       "total": 2,
       "elapsed": 0.02393627166748047,
       "ncols": null,
       "nrows": null,
       "prefix": "train_batch",
       "ascii": false,
       "unit": "it",
       "unit_scale": false,
       "rate": null,
       "bar_format": null,
       "postfix": null,
       "unit_divisor": 1000,
       "initial": 0,
       "colour": null
      }
     },
     "metadata": {},
     "output_type": "display_data"
    },
    {
     "data": {
      "text/plain": "test_batch:   0%|          | 0/1 [00:00<?, ?it/s]",
      "application/vnd.jupyter.widget-view+json": {
       "version_major": 2,
       "version_minor": 0,
       "model_id": "e260060e6c374e90a573b6d8c90a9ce7"
      },
      "application/json": {
       "n": 0,
       "total": 1,
       "elapsed": 0.016946792602539062,
       "ncols": null,
       "nrows": null,
       "prefix": "test_batch",
       "ascii": false,
       "unit": "it",
       "unit_scale": false,
       "rate": null,
       "bar_format": null,
       "postfix": null,
       "unit_divisor": 1000,
       "initial": 0,
       "colour": null
      }
     },
     "metadata": {},
     "output_type": "display_data"
    },
    {
     "data": {
      "text/plain": "train_batch:   0%|          | 0/2 [00:00<?, ?it/s]",
      "application/vnd.jupyter.widget-view+json": {
       "version_major": 2,
       "version_minor": 0,
       "model_id": "83f04bf3c6134bed8852ffe30580c592"
      },
      "application/json": {
       "n": 0,
       "total": 2,
       "elapsed": 0.02925252914428711,
       "ncols": null,
       "nrows": null,
       "prefix": "train_batch",
       "ascii": false,
       "unit": "it",
       "unit_scale": false,
       "rate": null,
       "bar_format": null,
       "postfix": null,
       "unit_divisor": 1000,
       "initial": 0,
       "colour": null
      }
     },
     "metadata": {},
     "output_type": "display_data"
    },
    {
     "data": {
      "text/plain": "test_batch:   0%|          | 0/1 [00:00<?, ?it/s]",
      "application/vnd.jupyter.widget-view+json": {
       "version_major": 2,
       "version_minor": 0,
       "model_id": "b196fd59618a4cc29be4b70170e3a6fc"
      },
      "application/json": {
       "n": 0,
       "total": 1,
       "elapsed": 0.01695394515991211,
       "ncols": null,
       "nrows": null,
       "prefix": "test_batch",
       "ascii": false,
       "unit": "it",
       "unit_scale": false,
       "rate": null,
       "bar_format": null,
       "postfix": null,
       "unit_divisor": 1000,
       "initial": 0,
       "colour": null
      }
     },
     "metadata": {},
     "output_type": "display_data"
    },
    {
     "data": {
      "text/plain": "train_batch:   0%|          | 0/2 [00:00<?, ?it/s]",
      "application/vnd.jupyter.widget-view+json": {
       "version_major": 2,
       "version_minor": 0,
       "model_id": "fa9d3174ae5a4ddb9a760afb8f74f42a"
      },
      "application/json": {
       "n": 0,
       "total": 2,
       "elapsed": 0.025929927825927734,
       "ncols": null,
       "nrows": null,
       "prefix": "train_batch",
       "ascii": false,
       "unit": "it",
       "unit_scale": false,
       "rate": null,
       "bar_format": null,
       "postfix": null,
       "unit_divisor": 1000,
       "initial": 0,
       "colour": null
      }
     },
     "metadata": {},
     "output_type": "display_data"
    },
    {
     "data": {
      "text/plain": "test_batch:   0%|          | 0/1 [00:00<?, ?it/s]",
      "application/vnd.jupyter.widget-view+json": {
       "version_major": 2,
       "version_minor": 0,
       "model_id": "159f8a072818473bac2eebc703f072e8"
      },
      "application/json": {
       "n": 0,
       "total": 1,
       "elapsed": 0.016954421997070312,
       "ncols": null,
       "nrows": null,
       "prefix": "test_batch",
       "ascii": false,
       "unit": "it",
       "unit_scale": false,
       "rate": null,
       "bar_format": null,
       "postfix": null,
       "unit_divisor": 1000,
       "initial": 0,
       "colour": null
      }
     },
     "metadata": {},
     "output_type": "display_data"
    },
    {
     "data": {
      "text/plain": "train_batch:   0%|          | 0/2 [00:00<?, ?it/s]",
      "application/vnd.jupyter.widget-view+json": {
       "version_major": 2,
       "version_minor": 0,
       "model_id": "1b7ae26360e54c6d829438dd090a5f02"
      },
      "application/json": {
       "n": 0,
       "total": 2,
       "elapsed": 0.023939132690429688,
       "ncols": null,
       "nrows": null,
       "prefix": "train_batch",
       "ascii": false,
       "unit": "it",
       "unit_scale": false,
       "rate": null,
       "bar_format": null,
       "postfix": null,
       "unit_divisor": 1000,
       "initial": 0,
       "colour": null
      }
     },
     "metadata": {},
     "output_type": "display_data"
    },
    {
     "data": {
      "text/plain": "test_batch:   0%|          | 0/1 [00:00<?, ?it/s]",
      "application/vnd.jupyter.widget-view+json": {
       "version_major": 2,
       "version_minor": 0,
       "model_id": "16fc1c3ce8a441cea47e586dc04da493"
      },
      "application/json": {
       "n": 0,
       "total": 1,
       "elapsed": 0.01850104331970215,
       "ncols": null,
       "nrows": null,
       "prefix": "test_batch",
       "ascii": false,
       "unit": "it",
       "unit_scale": false,
       "rate": null,
       "bar_format": null,
       "postfix": null,
       "unit_divisor": 1000,
       "initial": 0,
       "colour": null
      }
     },
     "metadata": {},
     "output_type": "display_data"
    },
    {
     "data": {
      "text/plain": "train_batch:   0%|          | 0/2 [00:00<?, ?it/s]",
      "application/vnd.jupyter.widget-view+json": {
       "version_major": 2,
       "version_minor": 0,
       "model_id": "4725197d47784f7c9ab818518d1bf7a7"
      },
      "application/json": {
       "n": 0,
       "total": 2,
       "elapsed": 0.02294015884399414,
       "ncols": null,
       "nrows": null,
       "prefix": "train_batch",
       "ascii": false,
       "unit": "it",
       "unit_scale": false,
       "rate": null,
       "bar_format": null,
       "postfix": null,
       "unit_divisor": 1000,
       "initial": 0,
       "colour": null
      }
     },
     "metadata": {},
     "output_type": "display_data"
    },
    {
     "data": {
      "text/plain": "test_batch:   0%|          | 0/1 [00:00<?, ?it/s]",
      "application/vnd.jupyter.widget-view+json": {
       "version_major": 2,
       "version_minor": 0,
       "model_id": "17175284e1854e3db358f6a73de9dcaa"
      },
      "application/json": {
       "n": 0,
       "total": 1,
       "elapsed": 0.014959096908569336,
       "ncols": null,
       "nrows": null,
       "prefix": "test_batch",
       "ascii": false,
       "unit": "it",
       "unit_scale": false,
       "rate": null,
       "bar_format": null,
       "postfix": null,
       "unit_divisor": 1000,
       "initial": 0,
       "colour": null
      }
     },
     "metadata": {},
     "output_type": "display_data"
    },
    {
     "data": {
      "text/plain": "train_batch:   0%|          | 0/2 [00:00<?, ?it/s]",
      "application/vnd.jupyter.widget-view+json": {
       "version_major": 2,
       "version_minor": 0,
       "model_id": "d044fa34666e43a69a697e2ae584ff8b"
      },
      "application/json": {
       "n": 0,
       "total": 2,
       "elapsed": 0.025931835174560547,
       "ncols": null,
       "nrows": null,
       "prefix": "train_batch",
       "ascii": false,
       "unit": "it",
       "unit_scale": false,
       "rate": null,
       "bar_format": null,
       "postfix": null,
       "unit_divisor": 1000,
       "initial": 0,
       "colour": null
      }
     },
     "metadata": {},
     "output_type": "display_data"
    },
    {
     "data": {
      "text/plain": "test_batch:   0%|          | 0/1 [00:00<?, ?it/s]",
      "application/vnd.jupyter.widget-view+json": {
       "version_major": 2,
       "version_minor": 0,
       "model_id": "cfa9dcc9186d4cc2acb2a9cf3de48b53"
      },
      "application/json": {
       "n": 0,
       "total": 1,
       "elapsed": 0.019954442977905273,
       "ncols": null,
       "nrows": null,
       "prefix": "test_batch",
       "ascii": false,
       "unit": "it",
       "unit_scale": false,
       "rate": null,
       "bar_format": null,
       "postfix": null,
       "unit_divisor": 1000,
       "initial": 0,
       "colour": null
      }
     },
     "metadata": {},
     "output_type": "display_data"
    },
    {
     "data": {
      "text/plain": "train_batch:   0%|          | 0/2 [00:00<?, ?it/s]",
      "application/vnd.jupyter.widget-view+json": {
       "version_major": 2,
       "version_minor": 0,
       "model_id": "235f845bdafe4a3dace8834952b2f27d"
      },
      "application/json": {
       "n": 0,
       "total": 2,
       "elapsed": 0.024704694747924805,
       "ncols": null,
       "nrows": null,
       "prefix": "train_batch",
       "ascii": false,
       "unit": "it",
       "unit_scale": false,
       "rate": null,
       "bar_format": null,
       "postfix": null,
       "unit_divisor": 1000,
       "initial": 0,
       "colour": null
      }
     },
     "metadata": {},
     "output_type": "display_data"
    },
    {
     "data": {
      "text/plain": "test_batch:   0%|          | 0/1 [00:00<?, ?it/s]",
      "application/vnd.jupyter.widget-view+json": {
       "version_major": 2,
       "version_minor": 0,
       "model_id": "cfc00123365f4f5fac36eca2a2a2bc0e"
      },
      "application/json": {
       "n": 0,
       "total": 1,
       "elapsed": 0.01695394515991211,
       "ncols": null,
       "nrows": null,
       "prefix": "test_batch",
       "ascii": false,
       "unit": "it",
       "unit_scale": false,
       "rate": null,
       "bar_format": null,
       "postfix": null,
       "unit_divisor": 1000,
       "initial": 0,
       "colour": null
      }
     },
     "metadata": {},
     "output_type": "display_data"
    },
    {
     "data": {
      "text/plain": "train_batch:   0%|          | 0/2 [00:00<?, ?it/s]",
      "application/vnd.jupyter.widget-view+json": {
       "version_major": 2,
       "version_minor": 0,
       "model_id": "3699c9d7223a4e7db7a188c213d9d04c"
      },
      "application/json": {
       "n": 0,
       "total": 2,
       "elapsed": 0.02293848991394043,
       "ncols": null,
       "nrows": null,
       "prefix": "train_batch",
       "ascii": false,
       "unit": "it",
       "unit_scale": false,
       "rate": null,
       "bar_format": null,
       "postfix": null,
       "unit_divisor": 1000,
       "initial": 0,
       "colour": null
      }
     },
     "metadata": {},
     "output_type": "display_data"
    },
    {
     "data": {
      "text/plain": "test_batch:   0%|          | 0/1 [00:00<?, ?it/s]",
      "application/vnd.jupyter.widget-view+json": {
       "version_major": 2,
       "version_minor": 0,
       "model_id": "2899eeecca474b42a61bbaccee41f179"
      },
      "application/json": {
       "n": 0,
       "total": 1,
       "elapsed": 0.02094101905822754,
       "ncols": null,
       "nrows": null,
       "prefix": "test_batch",
       "ascii": false,
       "unit": "it",
       "unit_scale": false,
       "rate": null,
       "bar_format": null,
       "postfix": null,
       "unit_divisor": 1000,
       "initial": 0,
       "colour": null
      }
     },
     "metadata": {},
     "output_type": "display_data"
    },
    {
     "name": "stdout",
     "output_type": "stream",
     "text": [
      "--- EPOCH 91/100 ---\n"
     ]
    },
    {
     "data": {
      "text/plain": "train_batch:   0%|          | 0/2 [00:00<?, ?it/s]",
      "application/vnd.jupyter.widget-view+json": {
       "version_major": 2,
       "version_minor": 0,
       "model_id": "71a4f53c65ff4294b35c26c47b9e40ef"
      },
      "application/json": {
       "n": 0,
       "total": 2,
       "elapsed": 0.01994633674621582,
       "ncols": null,
       "nrows": null,
       "prefix": "train_batch",
       "ascii": false,
       "unit": "it",
       "unit_scale": false,
       "rate": null,
       "bar_format": null,
       "postfix": null,
       "unit_divisor": 1000,
       "initial": 0,
       "colour": null
      }
     },
     "metadata": {},
     "output_type": "display_data"
    },
    {
     "data": {
      "text/plain": "test_batch:   0%|          | 0/1 [00:00<?, ?it/s]",
      "application/vnd.jupyter.widget-view+json": {
       "version_major": 2,
       "version_minor": 0,
       "model_id": "59a3a72daa7d4a708fdca6f4ed288a35"
      },
      "application/json": {
       "n": 0,
       "total": 1,
       "elapsed": 0.019718647003173828,
       "ncols": null,
       "nrows": null,
       "prefix": "test_batch",
       "ascii": false,
       "unit": "it",
       "unit_scale": false,
       "rate": null,
       "bar_format": null,
       "postfix": null,
       "unit_divisor": 1000,
       "initial": 0,
       "colour": null
      }
     },
     "metadata": {},
     "output_type": "display_data"
    },
    {
     "data": {
      "text/plain": "train_batch:   0%|          | 0/2 [00:00<?, ?it/s]",
      "application/vnd.jupyter.widget-view+json": {
       "version_major": 2,
       "version_minor": 0,
       "model_id": "ac82da3ad3d84d74ae2bdcd5a507c36c"
      },
      "application/json": {
       "n": 0,
       "total": 2,
       "elapsed": 0.022938013076782227,
       "ncols": null,
       "nrows": null,
       "prefix": "train_batch",
       "ascii": false,
       "unit": "it",
       "unit_scale": false,
       "rate": null,
       "bar_format": null,
       "postfix": null,
       "unit_divisor": 1000,
       "initial": 0,
       "colour": null
      }
     },
     "metadata": {},
     "output_type": "display_data"
    },
    {
     "data": {
      "text/plain": "test_batch:   0%|          | 0/1 [00:00<?, ?it/s]",
      "application/vnd.jupyter.widget-view+json": {
       "version_major": 2,
       "version_minor": 0,
       "model_id": "7e5934282f294456b68918e0d782f996"
      },
      "application/json": {
       "n": 0,
       "total": 1,
       "elapsed": 0.020943164825439453,
       "ncols": null,
       "nrows": null,
       "prefix": "test_batch",
       "ascii": false,
       "unit": "it",
       "unit_scale": false,
       "rate": null,
       "bar_format": null,
       "postfix": null,
       "unit_divisor": 1000,
       "initial": 0,
       "colour": null
      }
     },
     "metadata": {},
     "output_type": "display_data"
    },
    {
     "data": {
      "text/plain": "train_batch:   0%|          | 0/2 [00:00<?, ?it/s]",
      "application/vnd.jupyter.widget-view+json": {
       "version_major": 2,
       "version_minor": 0,
       "model_id": "ae2f570503f54984878f81c6c34f7061"
      },
      "application/json": {
       "n": 0,
       "total": 2,
       "elapsed": 0.022512197494506836,
       "ncols": null,
       "nrows": null,
       "prefix": "train_batch",
       "ascii": false,
       "unit": "it",
       "unit_scale": false,
       "rate": null,
       "bar_format": null,
       "postfix": null,
       "unit_divisor": 1000,
       "initial": 0,
       "colour": null
      }
     },
     "metadata": {},
     "output_type": "display_data"
    },
    {
     "data": {
      "text/plain": "test_batch:   0%|          | 0/1 [00:00<?, ?it/s]",
      "application/vnd.jupyter.widget-view+json": {
       "version_major": 2,
       "version_minor": 0,
       "model_id": "8ed9355d85c34fd9a5ede4dec700373b"
      },
      "application/json": {
       "n": 0,
       "total": 1,
       "elapsed": 0.024932861328125,
       "ncols": null,
       "nrows": null,
       "prefix": "test_batch",
       "ascii": false,
       "unit": "it",
       "unit_scale": false,
       "rate": null,
       "bar_format": null,
       "postfix": null,
       "unit_divisor": 1000,
       "initial": 0,
       "colour": null
      }
     },
     "metadata": {},
     "output_type": "display_data"
    },
    {
     "data": {
      "text/plain": "train_batch:   0%|          | 0/2 [00:00<?, ?it/s]",
      "application/vnd.jupyter.widget-view+json": {
       "version_major": 2,
       "version_minor": 0,
       "model_id": "99674245e7db4cd9bdd324d752b73f94"
      },
      "application/json": {
       "n": 0,
       "total": 2,
       "elapsed": 0.02706146240234375,
       "ncols": null,
       "nrows": null,
       "prefix": "train_batch",
       "ascii": false,
       "unit": "it",
       "unit_scale": false,
       "rate": null,
       "bar_format": null,
       "postfix": null,
       "unit_divisor": 1000,
       "initial": 0,
       "colour": null
      }
     },
     "metadata": {},
     "output_type": "display_data"
    },
    {
     "data": {
      "text/plain": "test_batch:   0%|          | 0/1 [00:00<?, ?it/s]",
      "application/vnd.jupyter.widget-view+json": {
       "version_major": 2,
       "version_minor": 0,
       "model_id": "72b83d75617e473580daf2dbaebbec7f"
      },
      "application/json": {
       "n": 0,
       "total": 1,
       "elapsed": 0.030916929244995117,
       "ncols": null,
       "nrows": null,
       "prefix": "test_batch",
       "ascii": false,
       "unit": "it",
       "unit_scale": false,
       "rate": null,
       "bar_format": null,
       "postfix": null,
       "unit_divisor": 1000,
       "initial": 0,
       "colour": null
      }
     },
     "metadata": {},
     "output_type": "display_data"
    },
    {
     "data": {
      "text/plain": "train_batch:   0%|          | 0/2 [00:00<?, ?it/s]",
      "application/vnd.jupyter.widget-view+json": {
       "version_major": 2,
       "version_minor": 0,
       "model_id": "e1f32b7c1a2445d9aea523ff469295e0"
      },
      "application/json": {
       "n": 0,
       "total": 2,
       "elapsed": 0.018948793411254883,
       "ncols": null,
       "nrows": null,
       "prefix": "train_batch",
       "ascii": false,
       "unit": "it",
       "unit_scale": false,
       "rate": null,
       "bar_format": null,
       "postfix": null,
       "unit_divisor": 1000,
       "initial": 0,
       "colour": null
      }
     },
     "metadata": {},
     "output_type": "display_data"
    },
    {
     "data": {
      "text/plain": "test_batch:   0%|          | 0/1 [00:00<?, ?it/s]",
      "application/vnd.jupyter.widget-view+json": {
       "version_major": 2,
       "version_minor": 0,
       "model_id": "1f68c67f1c874aa192f73909d5e46ca6"
      },
      "application/json": {
       "n": 0,
       "total": 1,
       "elapsed": 0.018948793411254883,
       "ncols": null,
       "nrows": null,
       "prefix": "test_batch",
       "ascii": false,
       "unit": "it",
       "unit_scale": false,
       "rate": null,
       "bar_format": null,
       "postfix": null,
       "unit_divisor": 1000,
       "initial": 0,
       "colour": null
      }
     },
     "metadata": {},
     "output_type": "display_data"
    },
    {
     "data": {
      "text/plain": "train_batch:   0%|          | 0/2 [00:00<?, ?it/s]",
      "application/vnd.jupyter.widget-view+json": {
       "version_major": 2,
       "version_minor": 0,
       "model_id": "4f4a18333e7d4715b8fe95fbd480885b"
      },
      "application/json": {
       "n": 0,
       "total": 2,
       "elapsed": 0.020943880081176758,
       "ncols": null,
       "nrows": null,
       "prefix": "train_batch",
       "ascii": false,
       "unit": "it",
       "unit_scale": false,
       "rate": null,
       "bar_format": null,
       "postfix": null,
       "unit_divisor": 1000,
       "initial": 0,
       "colour": null
      }
     },
     "metadata": {},
     "output_type": "display_data"
    },
    {
     "data": {
      "text/plain": "test_batch:   0%|          | 0/1 [00:00<?, ?it/s]",
      "application/vnd.jupyter.widget-view+json": {
       "version_major": 2,
       "version_minor": 0,
       "model_id": "6061375dc24a486b9db75ce81ab50749"
      },
      "application/json": {
       "n": 0,
       "total": 1,
       "elapsed": 0.020946741104125977,
       "ncols": null,
       "nrows": null,
       "prefix": "test_batch",
       "ascii": false,
       "unit": "it",
       "unit_scale": false,
       "rate": null,
       "bar_format": null,
       "postfix": null,
       "unit_divisor": 1000,
       "initial": 0,
       "colour": null
      }
     },
     "metadata": {},
     "output_type": "display_data"
    },
    {
     "data": {
      "text/plain": "train_batch:   0%|          | 0/2 [00:00<?, ?it/s]",
      "application/vnd.jupyter.widget-view+json": {
       "version_major": 2,
       "version_minor": 0,
       "model_id": "e573e946333a4dda8548db16414a2b88"
      },
      "application/json": {
       "n": 0,
       "total": 2,
       "elapsed": 0.020943880081176758,
       "ncols": null,
       "nrows": null,
       "prefix": "train_batch",
       "ascii": false,
       "unit": "it",
       "unit_scale": false,
       "rate": null,
       "bar_format": null,
       "postfix": null,
       "unit_divisor": 1000,
       "initial": 0,
       "colour": null
      }
     },
     "metadata": {},
     "output_type": "display_data"
    },
    {
     "data": {
      "text/plain": "test_batch:   0%|          | 0/1 [00:00<?, ?it/s]",
      "application/vnd.jupyter.widget-view+json": {
       "version_major": 2,
       "version_minor": 0,
       "model_id": "02442abca2af465ba0933e5ce509006d"
      },
      "application/json": {
       "n": 0,
       "total": 1,
       "elapsed": 0.023935556411743164,
       "ncols": null,
       "nrows": null,
       "prefix": "test_batch",
       "ascii": false,
       "unit": "it",
       "unit_scale": false,
       "rate": null,
       "bar_format": null,
       "postfix": null,
       "unit_divisor": 1000,
       "initial": 0,
       "colour": null
      }
     },
     "metadata": {},
     "output_type": "display_data"
    },
    {
     "data": {
      "text/plain": "train_batch:   0%|          | 0/2 [00:00<?, ?it/s]",
      "application/vnd.jupyter.widget-view+json": {
       "version_major": 2,
       "version_minor": 0,
       "model_id": "7e09d628ada249e6b46758b0b47e98b8"
      },
      "application/json": {
       "n": 0,
       "total": 2,
       "elapsed": 0.02194070816040039,
       "ncols": null,
       "nrows": null,
       "prefix": "train_batch",
       "ascii": false,
       "unit": "it",
       "unit_scale": false,
       "rate": null,
       "bar_format": null,
       "postfix": null,
       "unit_divisor": 1000,
       "initial": 0,
       "colour": null
      }
     },
     "metadata": {},
     "output_type": "display_data"
    },
    {
     "data": {
      "text/plain": "test_batch:   0%|          | 0/1 [00:00<?, ?it/s]",
      "application/vnd.jupyter.widget-view+json": {
       "version_major": 2,
       "version_minor": 0,
       "model_id": "ac5fd59be4ca4c57b9ea9eca84954de8"
      },
      "application/json": {
       "n": 0,
       "total": 1,
       "elapsed": 0.024932384490966797,
       "ncols": null,
       "nrows": null,
       "prefix": "test_batch",
       "ascii": false,
       "unit": "it",
       "unit_scale": false,
       "rate": null,
       "bar_format": null,
       "postfix": null,
       "unit_divisor": 1000,
       "initial": 0,
       "colour": null
      }
     },
     "metadata": {},
     "output_type": "display_data"
    },
    {
     "data": {
      "text/plain": "train_batch:   0%|          | 0/2 [00:00<?, ?it/s]",
      "application/vnd.jupyter.widget-view+json": {
       "version_major": 2,
       "version_minor": 0,
       "model_id": "075c34113702437588aafc2096347cd4"
      },
      "application/json": {
       "n": 0,
       "total": 2,
       "elapsed": 0.021941423416137695,
       "ncols": null,
       "nrows": null,
       "prefix": "train_batch",
       "ascii": false,
       "unit": "it",
       "unit_scale": false,
       "rate": null,
       "bar_format": null,
       "postfix": null,
       "unit_divisor": 1000,
       "initial": 0,
       "colour": null
      }
     },
     "metadata": {},
     "output_type": "display_data"
    },
    {
     "data": {
      "text/plain": "test_batch:   0%|          | 0/1 [00:00<?, ?it/s]",
      "application/vnd.jupyter.widget-view+json": {
       "version_major": 2,
       "version_minor": 0,
       "model_id": "fd5f097d3e6840e7b3087e32cdb6e12d"
      },
      "application/json": {
       "n": 0,
       "total": 1,
       "elapsed": 0.021941423416137695,
       "ncols": null,
       "nrows": null,
       "prefix": "test_batch",
       "ascii": false,
       "unit": "it",
       "unit_scale": false,
       "rate": null,
       "bar_format": null,
       "postfix": null,
       "unit_divisor": 1000,
       "initial": 0,
       "colour": null
      }
     },
     "metadata": {},
     "output_type": "display_data"
    },
    {
     "name": "stdout",
     "output_type": "stream",
     "text": [
      "--- EPOCH 100/100 ---\n"
     ]
    },
    {
     "data": {
      "text/plain": "train_batch:   0%|          | 0/2 [00:00<?, ?it/s]",
      "application/vnd.jupyter.widget-view+json": {
       "version_major": 2,
       "version_minor": 0,
       "model_id": "d4bb72dcb1c94366b997a908c06c6e92"
      },
      "application/json": {
       "n": 0,
       "total": 2,
       "elapsed": 0.01894831657409668,
       "ncols": null,
       "nrows": null,
       "prefix": "train_batch",
       "ascii": false,
       "unit": "it",
       "unit_scale": false,
       "rate": null,
       "bar_format": null,
       "postfix": null,
       "unit_divisor": 1000,
       "initial": 0,
       "colour": null
      }
     },
     "metadata": {},
     "output_type": "display_data"
    },
    {
     "data": {
      "text/plain": "test_batch:   0%|          | 0/1 [00:00<?, ?it/s]",
      "application/vnd.jupyter.widget-view+json": {
       "version_major": 2,
       "version_minor": 0,
       "model_id": "e4ed52c1a8e641128990e07e77b0346e"
      },
      "application/json": {
       "n": 0,
       "total": 1,
       "elapsed": 0.02593088150024414,
       "ncols": null,
       "nrows": null,
       "prefix": "test_batch",
       "ascii": false,
       "unit": "it",
       "unit_scale": false,
       "rate": null,
       "bar_format": null,
       "postfix": null,
       "unit_divisor": 1000,
       "initial": 0,
       "colour": null
      }
     },
     "metadata": {},
     "output_type": "display_data"
    },
    {
     "data": {
      "text/plain": "<Figure size 1600x500 with 2 Axes>",
      "image/png": "[encoded data removed]"
     },
     "metadata": {},
     "output_type": "display_data"
    },
    {
     "name": "stdout",
     "output_type": "stream",
     "text": [
      "<dataset.Dataset object at 0x000001DE14D13A90>\n",
      "saving model in \"model2\"\n",
      "_________________game 2/2________________\n",
      "Player 1, action:(<BuildingType.SETTLEMENT: 1>, (q: 3, r:-1))\n",
      "Player 1, action:(<BuildingType.ROAD: 0>, frozenset({(q: 3, r:-1), (q: 3, r:-2)}))\n",
      "Player 2, action:(<BuildingType.SETTLEMENT: 1>, (q: 4, r:-3))\n",
      "Player 2, action:(<BuildingType.ROAD: 0>, frozenset({(q: 4, r:-4), (q: 4, r:-3)}))\n",
      "Player 3, action:(<BuildingType.SETTLEMENT: 1>, (q: -1, r:0))\n",
      "Player 3, action:(<BuildingType.ROAD: 0>, frozenset({(q: -1, r:0), (q: -1, r:1)}))\n",
      "Player 4, action:(<BuildingType.SETTLEMENT: 1>, (q: -5, r:2))\n",
      "Player 4, action:(<BuildingType.ROAD: 0>, frozenset({(q: -5, r:2), (q: -4, r:1)}))\n",
      "Player 4, action:(<BuildingType.SETTLEMENT: 1>, (q: 0, r:2))\n",
      "Player 4, action:(<BuildingType.ROAD: 0>, frozenset({(q: 0, r:2), (q: 1, r:2)}))\n",
      "Player 3, action:(<BuildingType.SETTLEMENT: 1>, (q: -3, r:-1))\n",
      "Player 3, action:(<BuildingType.ROAD: 0>, frozenset({(q: -3, r:-1), (q: -3, r:-2)}))\n",
      "Player 2, action:(<BuildingType.SETTLEMENT: 1>, (q: -1, r:-2))\n",
      "Player 2, action:(<BuildingType.ROAD: 0>, frozenset({(q: -1, r:-3), (q: -1, r:-2)}))\n",
      "Player 1, action:(<BuildingType.SETTLEMENT: 1>, (q: 2, r:-2))\n",
      "Player 1, action:(<BuildingType.ROAD: 0>, frozenset({(q: 2, r:-3), (q: 2, r:-2)}))\n",
      "Player 1, action:(<BuildingType.ROAD: 0>, frozenset({(q: 2, r:-3), (q: 1, r:-3)}))\n",
      "Player 1, action:(4,)\n",
      "Player 2 turn!, dice: 4\n",
      "Player 2, action:(<BuildingType.ROAD: 0>, frozenset({(q: 0, r:-4), (q: -1, r:-3)}))\n",
      "Player 2, action:(4,)\n",
      "Player 3 turn!, dice: 10\n",
      "Player 3, action:(4,)\n",
      "Player 4 turn!, dice: 8\n",
      "Player 4, action:(<BuildingType.ROAD: 0>, frozenset({(q: 1, r:2), (q: 2, r:1)}))\n",
      "Player 4, action:(4,)\n",
      "Player 1 turn!, dice: 5\n",
      "Player 1, action:(4,)\n",
      "Player 2 turn!, dice: 6\n",
      "Player 2, action:(<BuildingType.ROAD: 0>, frozenset({(q: 0, r:-4), (q: 1, r:-4)}))\n",
      "Player 2, action:(4,)\n",
      "Player 3 turn!, dice: 5\n",
      "Player 3, action:(4,)\n",
      "Player 4 turn!, dice: 7\n",
      "Player 4, action:(4,)\n",
      "Player 1 turn!, dice: 3\n",
      "Player 1, action:(4,)\n",
      "Player 2 turn!, dice: 8\n",
      "Player 2, action:(<BuildingType.ROAD: 0>, frozenset({(q: -2, r:-3), (q: -1, r:-3)}))\n",
      "Player 2, action:(4,)\n",
      "Player 3 turn!, dice: 5\n",
      "Player 3, action:(4,)\n",
      "Player 4 turn!, dice: 4\n",
      "Player 4, action:(<BuildingType.ROAD: 0>, frozenset({(q: 1, r:2), (q: 1, r:3)}))\n",
      "Player 4, action:(4,)\n",
      "Player 1 turn!, dice: 9\n",
      "Player 1, action:(4,)\n",
      "Player 2 turn!, dice: 5\n",
      "Player 2, action:(4,)\n",
      "Player 3 turn!, dice: 9\n",
      "Player 3, action:(4,)\n",
      "Player 4 turn!, dice: 9\n",
      "Player 4, action:(4,)\n",
      "Player 1 turn!, dice: 5\n",
      "Player 1, action:(4,)\n",
      "Player 2 turn!, dice: 8\n",
      "Player 2, action:(<BuildingType.ROAD: 0>, frozenset({(q: 3, r:-4), (q: 4, r:-4)}))\n",
      "Player 2, action:(4,)\n",
      "Player 3 turn!, dice: 9\n",
      "Player 3, action:(4,)\n",
      "Player 4 turn!, dice: 8\n",
      "Player 4, action:(4,)\n",
      "Player 1 turn!, dice: 6\n",
      "Player 1, action:(4,)\n",
      "Player 2 turn!, dice: 5\n",
      "Player 2, action:(<BuildingType.ROAD: 0>, frozenset({(q: 1, r:-4), (q: 1, r:-3)}))\n",
      "Player 2, action:(4,)\n",
      "Player 3 turn!, dice: 7\n",
      "Player 3, action:(4,)\n",
      "Player 4 turn!, dice: 10\n",
      "Player 4, action:(4,)\n",
      "Player 1 turn!, dice: 8\n",
      "Player 1, action:(3, ((<Resource.BRICK: 1>, -4), (<Resource.WOOL: 2>, 1)))\n",
      "Player 1, action:(4,)\n",
      "Player 2 turn!, dice: 7\n",
      "Player 2, action:(<BuildingType.ROAD: 0>, frozenset({(q: -2, r:-1), (q: -1, r:-2)}))\n",
      "Player 2, action:(4,)\n",
      "Player 3 turn!, dice: 5\n",
      "Player 3, action:(3, ((<Resource.BRICK: 1>, -4), (<Resource.ORE: 4>, 1)))\n",
      "Player 3, action:(3, ((<Resource.BRICK: 1>, -4), (<Resource.ORE: 4>, 1)))\n",
      "Player 3, action:(<BuildingType.CITY: 2>, (q: -1, r:0))\n",
      "Player 3, action:(4,)\n",
      "Player 4 turn!, dice: 6\n",
      "Player 4, action:(4,)\n",
      "Player 1 turn!, dice: 8\n",
      "Player 1, action:(4,)\n",
      "Player 2 turn!, dice: 7\n",
      "Player 2, action:(<BuildingType.ROAD: 0>, frozenset({(q: 3, r:-5), (q: 3, r:-4)}))\n",
      "Player 2, action:(4,)\n",
      "Player 3 turn!, dice: 6\n",
      "Player 3, action:(4,)\n",
      "Player 4 turn!, dice: 9\n",
      "Player 4, action:(4,)\n",
      "Player 1 turn!, dice: 8\n",
      "Player 1, action:(4,)\n",
      "Player 2 turn!, dice: 10\n",
      "Player 2, action:(<BuildingType.ROAD: 0>, frozenset({(q: 3, r:-5), (q: 2, r:-5)}))\n",
      "Player 2, action:(4,)\n",
      "Player 3 turn!, dice: 8\n",
      "Player 3, action:(4,)\n",
      "Player 4 turn!, dice: 8\n",
      "Player 4, action:(4,)\n",
      "Player 1 turn!, dice: 6\n",
      "Player 1, action:(3, ((<Resource.BRICK: 1>, -4), (<Resource.GRAIN: 3>, 1)))\n",
      "Player 1, action:(<BuildingType.CITY: 2>, (q: 2, r:-2))\n",
      "Player 1, action:(4,)\n",
      "Player 2 turn!, dice: 3\n",
      "Player 2, action:(4,)\n",
      "Player 3 turn!, dice: 3\n",
      "Player 3, action:(<BuildingType.CITY: 2>, (q: -3, r:-1))\n",
      "Player 3, action:(4,)\n",
      "Player 4 turn!, dice: 7\n",
      "Player 4, action:(<BuildingType.ROAD: 0>, frozenset({(q: 3, r:1), (q: 2, r:1)}))\n",
      "Player 4, action:(<BuildingType.ROAD: 0>, frozenset({(q: 1, r:3), (q: 0, r:4)}))\n",
      "Player 4, action:(4,)\n",
      "Player 1 turn!, dice: 5\n",
      "Player 1, action:(4,)\n",
      "Player 2 turn!, dice: 4\n",
      "Player 2, action:(4,)\n",
      "Player 3 turn!, dice: 7\n",
      "Player 3, action:(4,)\n",
      "Player 4 turn!, dice: 10\n",
      "Player 4, action:(3, ((<Resource.WOOL: 2>, -4), (<Resource.LUMBER: 0>, 1)))\n",
      "Player 4, action:(<BuildingType.ROAD: 0>, frozenset({(q: 3, r:1), (q: 3, r:2)}))\n",
      "Player 4, action:(4,)\n",
      "Player 1 turn!, dice: 6\n",
      "Player 1, action:(4,)\n",
      "Player 2 turn!, dice: 2\n",
      "Player 2, action:(4,)\n",
      "Player 3 turn!, dice: 3\n",
      "Player 3, action:(4,)\n",
      "Player 4 turn!, dice: 9\n",
      "Player 4, action:(4,)\n",
      "Player 1 turn!, dice: 5\n",
      "Player 1, action:(4,)\n",
      "Player 2 turn!, dice: 5\n",
      "Player 2, action:(4,)\n",
      "Player 3 turn!, dice: 6\n",
      "Player 3, action:(4,)\n",
      "Player 4 turn!, dice: 7\n",
      "Player 4, action:(4,)\n",
      "Player 1 turn!, dice: 6\n",
      "Player 1, action:(3, ((<Resource.BRICK: 1>, -4), (<Resource.GRAIN: 3>, 1)))\n",
      "Player 1, action:(3, ((<Resource.BRICK: 1>, -4), (<Resource.LUMBER: 0>, 1)))\n",
      "Player 1, action:(<BuildingType.SETTLEMENT: 1>, (q: 1, r:-3))\n",
      "Player 1, action:(4,)\n",
      "Player 2 turn!, dice: 10\n",
      "Player 2, action:(4,)\n",
      "Player 3 turn!, dice: 3\n",
      "Player 3, action:(4,)\n",
      "Player 4 turn!, dice: 6\n",
      "Player 4, action:(<BuildingType.ROAD: 0>, frozenset({(q: 0, r:4), (q: -1, r:4)}))\n",
      "Player 4, action:(4,)\n",
      "Player 1 turn!, dice: 7\n",
      "Player 1, action:(4,)\n",
      "Player 2 turn!, dice: 9\n",
      "Player 2, action:(<BuildingType.ROAD: 0>, frozenset({(q: 1, r:-4), (q: 2, r:-5)}))\n",
      "Player 2, action:(4,)\n",
      "Player 3 turn!, dice: 7\n",
      "Player 3, action:(4,)\n",
      "Player 4 turn!, dice: 8\n",
      "Player 4, action:(4,)\n",
      "Player 1 turn!, dice: 10\n",
      "Player 1, action:(3, ((<Resource.BRICK: 1>, -4), (<Resource.GRAIN: 3>, 1)))\n",
      "Player 1, action:(<BuildingType.CITY: 2>, (q: 3, r:-1))\n",
      "Player 1, action:(<BuildingType.ROAD: 0>, frozenset({(q: 2, r:-3), (q: 3, r:-4)}))\n",
      "Player 1, action:(4,)\n",
      "Player 2 turn!, dice: 5\n",
      "Player 2, action:(4,)\n",
      "Player 3 turn!, dice: 8\n",
      "Player 3, action:(4,)\n",
      "Player 4 turn!, dice: 7\n",
      "Player 4, action:(<BuildingType.ROAD: 0>, frozenset({(q: 2, r:3), (q: 3, r:2)}))\n",
      "Player 4, action:(4,)\n",
      "Player 1 turn!, dice: 3\n",
      "Player 1, action:(4,)\n",
      "Player 2 turn!, dice: 5\n",
      "Player 2, action:(3, ((<Resource.BRICK: 1>, -4), (<Resource.GRAIN: 3>, 1)))\n",
      "Player 2, action:(3, ((<Resource.ORE: 4>, -4), (<Resource.GRAIN: 3>, 1)))\n",
      "Player 2, action:(<BuildingType.CITY: 2>, (q: 4, r:-3))\n",
      "Player 2, action:(4,)\n",
      "Player 3 turn!, dice: 10\n",
      "Player 3, action:(4,)\n",
      "Player 4 turn!, dice: 7\n",
      "Player 4, action:(<BuildingType.ROAD: 0>, frozenset({(q: -4, r:1), (q: -3, r:1)}))\n",
      "Player 4, action:(4,)\n",
      "Player 1 turn!, dice: 3\n",
      "Player 1, action:(4,)\n",
      "Player 2 turn!, dice: 6\n",
      "Player 2, action:(4,)\n",
      "Player 3 turn!, dice: 6\n",
      "Player 3, action:(4,)\n",
      "Player 4 turn!, dice: 4\n",
      "Player 4, action:(4,)\n",
      "Player 1 turn!, dice: 2\n",
      "Player 1, action:(3, ((<Resource.BRICK: 1>, -4), (<Resource.GRAIN: 3>, 1)))\n",
      "Player 1, action:(<BuildingType.SETTLEMENT: 1>, (q: 3, r:-4))\n",
      "Player 1, action:(4,)\n",
      "Player 2 turn!, dice: 10\n",
      "Player 2, action:(3, ((<Resource.ORE: 4>, -4), (<Resource.GRAIN: 3>, 1)))\n",
      "Player 2, action:(3, ((<Resource.ORE: 4>, -4), (<Resource.GRAIN: 3>, 1)))\n",
      "Player 2, action:(<BuildingType.CITY: 2>, (q: -1, r:-2))\n",
      "Player 2, action:(4,)\n",
      "Player 3 turn!, dice: 4\n",
      "Player 3, action:(4,)\n",
      "Player 4 turn!, dice: 9\n",
      "Player 4, action:(<BuildingType.ROAD: 0>, frozenset({(q: -1, r:4), (q: -2, r:5)}))\n",
      "Player 4, action:(4,)\n",
      "Player 1 turn!, dice: 9\n",
      "Player 1, action:(<BuildingType.CITY: 2>, (q: 1, r:-3))\n",
      "Player 1, action:(4,)\n",
      "Player 2 turn!, dice: 3\n",
      "Player 2, action:(4,)\n",
      "Player 3 turn!, dice: 4\n",
      "Player 3, action:(4,)\n",
      "Player 4 turn!, dice: 10\n",
      "Player 4, action:(4,)\n",
      "Player 1 turn!, dice: 6\n",
      "Player 1, action:(<BuildingType.CITY: 2>, (q: 3, r:-4))\n",
      "Player 1, action:(4,)\n",
      "Player 2 turn!, dice: 10\n",
      "Player 2, action:(4,)\n",
      "Player 3 turn!, dice: 11\n",
      "Player 3, action:(4,)\n",
      "Player 4 turn!, dice: 11\n",
      "Player 4, action:(3, ((<Resource.WOOL: 2>, -4), (<Resource.GRAIN: 3>, 1)))\n",
      "Player 4, action:(<BuildingType.SETTLEMENT: 1>, (q: -3, r:1))\n",
      "Player 4, action:(4,)\n",
      "Player 1 turn!, dice: 9\n",
      "Player 1, action:(4,)\n",
      "Player 2 turn!, dice: 6\n",
      "Player 2, action:(4,)\n",
      "Player 3 turn!, dice: 5\n",
      "Player 3, action:(4,)\n",
      "Player 4 turn!, dice: 8\n",
      "Player 4, action:(4,)\n",
      "Player 1 turn!, dice: 5\n",
      "Player 1, action:(4,)\n",
      "Player 2 turn!, dice: 2\n",
      "Player 2, action:(<BuildingType.ROAD: 0>, frozenset({(q: -2, r:0), (q: -2, r:-1)}))\n",
      "Player 2, action:(<BuildingType.ROAD: 0>, frozenset({(q: -2, r:0), (q: -3, r:1)}))\n",
      "Player 2, action:(4,)\n",
      "Player 3 turn!, dice: 8\n",
      "Player 3, action:(4,)\n",
      "Player 4 turn!, dice: 6\n",
      "Player 4, action:(4,)\n",
      "Player 1 turn!, dice: 7\n",
      "Player 1, action:(4,)\n",
      "Player 2 turn!, dice: 11\n",
      "Player 2, action:(4,)\n",
      "Player 3 turn!, dice: 5\n",
      "Player 3, action:(3, ((<Resource.ORE: 4>, -4), (<Resource.LUMBER: 0>, 1)))\n",
      "Player 3, action:(<BuildingType.ROAD: 0>, frozenset({(q: -1, r:1), (q: -2, r:2)}))\n",
      "Player 3, action:(4,)\n",
      "Player 4 turn!, dice: 4\n",
      "Player 4, action:(4,)\n",
      "Player 1 turn!, dice: 9\n",
      "Player 1, action:(4,)\n",
      "Player 2 turn!, dice: 4\n",
      "Player 2, action:(4,)\n",
      "Player 3 turn!, dice: 10\n",
      "Player 3, action:(4,)\n",
      "Player 4 turn!, dice: 7\n",
      "Player 4, action:(4,)\n",
      "Player 1 turn!, dice: 7\n",
      "Player 1, action:(4,)\n",
      "Player 2 turn!, dice: 12\n",
      "Player 2, action:(3, ((<Resource.LUMBER: 0>, -4), (<Resource.WOOL: 2>, 1)))\n",
      "Player 2, action:(<BuildingType.SETTLEMENT: 1>, (q: 0, r:-4))\n",
      "Player 2, action:(3, ((<Resource.ORE: 4>, -4), (<Resource.GRAIN: 3>, 1)))\n",
      "Player 2, action:(<BuildingType.CITY: 2>, (q: 0, r:-4))\n",
      "Player 2, action:(4,)\n",
      "Player 3 turn!, dice: 6\n",
      "Player 3, action:(3, ((<Resource.ORE: 4>, -4), (<Resource.LUMBER: 0>, 1)))\n",
      "Player 3, action:(3, ((<Resource.GRAIN: 3>, -4), (<Resource.WOOL: 2>, 1)))\n",
      "Player 3, action:(<BuildingType.SETTLEMENT: 1>, (q: -2, r:2))\n",
      "Player 3, action:(<BuildingType.CITY: 2>, (q: -2, r:2))\n",
      "Player 3, action:(4,)\n",
      "Player 4 turn!, dice: 4\n",
      "Player 4, action:(3, ((<Resource.WOOL: 2>, -4), (<Resource.LUMBER: 0>, 1)))\n",
      "Player 4, action:(<BuildingType.SETTLEMENT: 1>, (q: -2, r:5))\n",
      "Player 4, action:(4,)\n",
      "Player 1 turn!, dice: 7\n",
      "Player 1, action:(4,)\n",
      "Player 2 turn!, dice: 8\n",
      "Player 2, action:(4,)\n",
      "Player 3 turn!, dice: 5\n",
      "Player 3, action:(4,)\n",
      "Player 4 turn!, dice: 11\n",
      "Player 4, action:(3, ((<Resource.GRAIN: 3>, -4), (<Resource.LUMBER: 0>, 1)))\n",
      "Player 4, action:(<BuildingType.SETTLEMENT: 1>, (q: 2, r:1))\n",
      "Player 4, action:(4,)\n",
      "Player 1 turn!, dice: 12\n",
      "Player 1, action:(4,)\n",
      "Player 2 turn!, dice: 11\n",
      "Player 2, action:(3, ((<Resource.BRICK: 1>, -4), (<Resource.WOOL: 2>, 1)))\n",
      "Player 2, action:(<BuildingType.SETTLEMENT: 1>, (q: 2, r:-5))\n",
      "Player 2, action:(4,)\n",
      "Player 3 turn!, dice: 12\n",
      "Player 3, action:(4,)\n",
      "Player 4 turn!, dice: 10\n",
      "Player 4, action:(4,)\n",
      "Player 1 turn!, dice: 4\n",
      "Player 1, action:(<BuildingType.ROAD: 0>, frozenset({(q: 4, r:-1), (q: 3, r:-1)}))\n",
      "Player 1, action:(<BuildingType.ROAD: 0>, frozenset({(q: 4, r:-1), (q: 5, r:-2)}))\n",
      "Player 1, action:(<BuildingType.SETTLEMENT: 1>, (q: 5, r:-2))\n",
      "Player 1, action:(<BuildingType.CITY: 2>, (q: 5, r:-2))\n",
      "Congratulations! Player 1 wins!\n",
      "Final board:\n",
      "                                                       \n",
      "                                                       \n",
      "                                                       \n",
      "                                                       \n",
      "                 3:1         2:1                       \n",
      "                  .--c--.--'--.--'--.                  \n",
      "                  | 10  |  2  |  9  | 2:1              \n",
      "               .--c--.--c--.--s--.--'--.               \n",
      "           2:1 | 12  |  6  |  4  | 10  |               \n",
      "            .--c--.--c--.--'--.--s--.--'--s            \n",
      "            |  9  | 11  |   R |  3  |  8  | 3:1        \n",
      "            s--.--c--.--'--c--'--c--'--.--'            \n",
      "           2:1 |  8  |  3  |  4  |  5  |               \n",
      "               c--.--c--.--'--s--'--.--'               \n",
      "                  |  5  |  6  | 11  | 2:1              \n",
      "                  '--.--c--.--'--s--'                  \n",
      "                 3:1         3:1                       \n",
      "                                                       \n",
      "                                                       \n",
      "                                                       \n",
      "dl_train=117dl_valid=39dl_test=39\n",
      "--- EPOCH 1/100 ---\n"
     ]
    },
    {
     "data": {
      "text/plain": "train_batch:   0%|          | 0/2 [00:00<?, ?it/s]",
      "application/vnd.jupyter.widget-view+json": {
       "version_major": 2,
       "version_minor": 0,
       "model_id": "ce94213d2d7347fa82bfe355f672231b"
      },
      "application/json": {
       "n": 0,
       "total": 2,
       "elapsed": 0.011969566345214844,
       "ncols": null,
       "nrows": null,
       "prefix": "train_batch",
       "ascii": false,
       "unit": "it",
       "unit_scale": false,
       "rate": null,
       "bar_format": null,
       "postfix": null,
       "unit_divisor": 1000,
       "initial": 0,
       "colour": null
      }
     },
     "metadata": {},
     "output_type": "display_data"
    },
    {
     "data": {
      "text/plain": "test_batch:   0%|          | 0/1 [00:00<?, ?it/s]",
      "application/vnd.jupyter.widget-view+json": {
       "version_major": 2,
       "version_minor": 0,
       "model_id": "4e755e9144444520aac381af8b2e5260"
      },
      "application/json": {
       "n": 0,
       "total": 1,
       "elapsed": 0.019946813583374023,
       "ncols": null,
       "nrows": null,
       "prefix": "test_batch",
       "ascii": false,
       "unit": "it",
       "unit_scale": false,
       "rate": null,
       "bar_format": null,
       "postfix": null,
       "unit_divisor": 1000,
       "initial": 0,
       "colour": null
      }
     },
     "metadata": {},
     "output_type": "display_data"
    },
    {
     "data": {
      "text/plain": "train_batch:   0%|          | 0/2 [00:00<?, ?it/s]",
      "application/vnd.jupyter.widget-view+json": {
       "version_major": 2,
       "version_minor": 0,
       "model_id": "aa76270555b841acb8425fad5e99b084"
      },
      "application/json": {
       "n": 0,
       "total": 2,
       "elapsed": 0.019947528839111328,
       "ncols": null,
       "nrows": null,
       "prefix": "train_batch",
       "ascii": false,
       "unit": "it",
       "unit_scale": false,
       "rate": null,
       "bar_format": null,
       "postfix": null,
       "unit_divisor": 1000,
       "initial": 0,
       "colour": null
      }
     },
     "metadata": {},
     "output_type": "display_data"
    },
    {
     "data": {
      "text/plain": "test_batch:   0%|          | 0/1 [00:00<?, ?it/s]",
      "application/vnd.jupyter.widget-view+json": {
       "version_major": 2,
       "version_minor": 0,
       "model_id": "26b5c03b5f8f4c1ba87cedba21e57752"
      },
      "application/json": {
       "n": 0,
       "total": 1,
       "elapsed": 0.01894998550415039,
       "ncols": null,
       "nrows": null,
       "prefix": "test_batch",
       "ascii": false,
       "unit": "it",
       "unit_scale": false,
       "rate": null,
       "bar_format": null,
       "postfix": null,
       "unit_divisor": 1000,
       "initial": 0,
       "colour": null
      }
     },
     "metadata": {},
     "output_type": "display_data"
    },
    {
     "data": {
      "text/plain": "train_batch:   0%|          | 0/2 [00:00<?, ?it/s]",
      "application/vnd.jupyter.widget-view+json": {
       "version_major": 2,
       "version_minor": 0,
       "model_id": "edf42f487b02474d8db516edc6d1b473"
      },
      "application/json": {
       "n": 0,
       "total": 2,
       "elapsed": 0.026919126510620117,
       "ncols": null,
       "nrows": null,
       "prefix": "train_batch",
       "ascii": false,
       "unit": "it",
       "unit_scale": false,
       "rate": null,
       "bar_format": null,
       "postfix": null,
       "unit_divisor": 1000,
       "initial": 0,
       "colour": null
      }
     },
     "metadata": {},
     "output_type": "display_data"
    },
    {
     "data": {
      "text/plain": "test_batch:   0%|          | 0/1 [00:00<?, ?it/s]",
      "application/vnd.jupyter.widget-view+json": {
       "version_major": 2,
       "version_minor": 0,
       "model_id": "738378d9549642f98c8aceafba3affd0"
      },
      "application/json": {
       "n": 0,
       "total": 1,
       "elapsed": 0.019946813583374023,
       "ncols": null,
       "nrows": null,
       "prefix": "test_batch",
       "ascii": false,
       "unit": "it",
       "unit_scale": false,
       "rate": null,
       "bar_format": null,
       "postfix": null,
       "unit_divisor": 1000,
       "initial": 0,
       "colour": null
      }
     },
     "metadata": {},
     "output_type": "display_data"
    },
    {
     "data": {
      "text/plain": "train_batch:   0%|          | 0/2 [00:00<?, ?it/s]",
      "application/vnd.jupyter.widget-view+json": {
       "version_major": 2,
       "version_minor": 0,
       "model_id": "67a4bd4cb097445db1f982c5e4fab1e8"
      },
      "application/json": {
       "n": 0,
       "total": 2,
       "elapsed": 0.02593541145324707,
       "ncols": null,
       "nrows": null,
       "prefix": "train_batch",
       "ascii": false,
       "unit": "it",
       "unit_scale": false,
       "rate": null,
       "bar_format": null,
       "postfix": null,
       "unit_divisor": 1000,
       "initial": 0,
       "colour": null
      }
     },
     "metadata": {},
     "output_type": "display_data"
    },
    {
     "data": {
      "text/plain": "test_batch:   0%|          | 0/1 [00:00<?, ?it/s]",
      "application/vnd.jupyter.widget-view+json": {
       "version_major": 2,
       "version_minor": 0,
       "model_id": "e952b1168acf4a69872f14f30ffd1f9b"
      },
      "application/json": {
       "n": 0,
       "total": 1,
       "elapsed": 0.023933887481689453,
       "ncols": null,
       "nrows": null,
       "prefix": "test_batch",
       "ascii": false,
       "unit": "it",
       "unit_scale": false,
       "rate": null,
       "bar_format": null,
       "postfix": null,
       "unit_divisor": 1000,
       "initial": 0,
       "colour": null
      }
     },
     "metadata": {},
     "output_type": "display_data"
    },
    {
     "data": {
      "text/plain": "train_batch:   0%|          | 0/2 [00:00<?, ?it/s]",
      "application/vnd.jupyter.widget-view+json": {
       "version_major": 2,
       "version_minor": 0,
       "model_id": "8afe0eb2fc4849aaacc90bfd83e1096a"
      },
      "application/json": {
       "n": 0,
       "total": 2,
       "elapsed": 0.029927968978881836,
       "ncols": null,
       "nrows": null,
       "prefix": "train_batch",
       "ascii": false,
       "unit": "it",
       "unit_scale": false,
       "rate": null,
       "bar_format": null,
       "postfix": null,
       "unit_divisor": 1000,
       "initial": 0,
       "colour": null
      }
     },
     "metadata": {},
     "output_type": "display_data"
    },
    {
     "data": {
      "text/plain": "test_batch:   0%|          | 0/1 [00:00<?, ?it/s]",
      "application/vnd.jupyter.widget-view+json": {
       "version_major": 2,
       "version_minor": 0,
       "model_id": "73a423a132ec4af8a62fed2cb9cbffa5"
      },
      "application/json": {
       "n": 0,
       "total": 1,
       "elapsed": 0.020943641662597656,
       "ncols": null,
       "nrows": null,
       "prefix": "test_batch",
       "ascii": false,
       "unit": "it",
       "unit_scale": false,
       "rate": null,
       "bar_format": null,
       "postfix": null,
       "unit_divisor": 1000,
       "initial": 0,
       "colour": null
      }
     },
     "metadata": {},
     "output_type": "display_data"
    },
    {
     "data": {
      "text/plain": "train_batch:   0%|          | 0/2 [00:00<?, ?it/s]",
      "application/vnd.jupyter.widget-view+json": {
       "version_major": 2,
       "version_minor": 0,
       "model_id": "f935c40fda2444a1ae6035fe4aa9e846"
      },
      "application/json": {
       "n": 0,
       "total": 2,
       "elapsed": 0.02692699432373047,
       "ncols": null,
       "nrows": null,
       "prefix": "train_batch",
       "ascii": false,
       "unit": "it",
       "unit_scale": false,
       "rate": null,
       "bar_format": null,
       "postfix": null,
       "unit_divisor": 1000,
       "initial": 0,
       "colour": null
      }
     },
     "metadata": {},
     "output_type": "display_data"
    },
    {
     "data": {
      "text/plain": "test_batch:   0%|          | 0/1 [00:00<?, ?it/s]",
      "application/vnd.jupyter.widget-view+json": {
       "version_major": 2,
       "version_minor": 0,
       "model_id": "58878183ff5d41ab9dacfc5fb31dd589"
      },
      "application/json": {
       "n": 0,
       "total": 1,
       "elapsed": 0.017951488494873047,
       "ncols": null,
       "nrows": null,
       "prefix": "test_batch",
       "ascii": false,
       "unit": "it",
       "unit_scale": false,
       "rate": null,
       "bar_format": null,
       "postfix": null,
       "unit_divisor": 1000,
       "initial": 0,
       "colour": null
      }
     },
     "metadata": {},
     "output_type": "display_data"
    },
    {
     "data": {
      "text/plain": "train_batch:   0%|          | 0/2 [00:00<?, ?it/s]",
      "application/vnd.jupyter.widget-view+json": {
       "version_major": 2,
       "version_minor": 0,
       "model_id": "3ef0a4df84214030bb8fc16edab9458c"
      },
      "application/json": {
       "n": 0,
       "total": 2,
       "elapsed": 0.010972738265991211,
       "ncols": null,
       "nrows": null,
       "prefix": "train_batch",
       "ascii": false,
       "unit": "it",
       "unit_scale": false,
       "rate": null,
       "bar_format": null,
       "postfix": null,
       "unit_divisor": 1000,
       "initial": 0,
       "colour": null
      }
     },
     "metadata": {},
     "output_type": "display_data"
    },
    {
     "data": {
      "text/plain": "test_batch:   0%|          | 0/1 [00:00<?, ?it/s]",
      "application/vnd.jupyter.widget-view+json": {
       "version_major": 2,
       "version_minor": 0,
       "model_id": "2978dbf2291740f3b740db5faca0dc14"
      },
      "application/json": {
       "n": 0,
       "total": 1,
       "elapsed": 0.019946575164794922,
       "ncols": null,
       "nrows": null,
       "prefix": "test_batch",
       "ascii": false,
       "unit": "it",
       "unit_scale": false,
       "rate": null,
       "bar_format": null,
       "postfix": null,
       "unit_divisor": 1000,
       "initial": 0,
       "colour": null
      }
     },
     "metadata": {},
     "output_type": "display_data"
    },
    {
     "data": {
      "text/plain": "train_batch:   0%|          | 0/2 [00:00<?, ?it/s]",
      "application/vnd.jupyter.widget-view+json": {
       "version_major": 2,
       "version_minor": 0,
       "model_id": "38377c2e021042c798805ad03d6538e1"
      },
      "application/json": {
       "n": 0,
       "total": 2,
       "elapsed": 0.022937297821044922,
       "ncols": null,
       "nrows": null,
       "prefix": "train_batch",
       "ascii": false,
       "unit": "it",
       "unit_scale": false,
       "rate": null,
       "bar_format": null,
       "postfix": null,
       "unit_divisor": 1000,
       "initial": 0,
       "colour": null
      }
     },
     "metadata": {},
     "output_type": "display_data"
    },
    {
     "data": {
      "text/plain": "test_batch:   0%|          | 0/1 [00:00<?, ?it/s]",
      "application/vnd.jupyter.widget-view+json": {
       "version_major": 2,
       "version_minor": 0,
       "model_id": "26be60c495324ac8ab1e3a00b3efd6aa"
      },
      "application/json": {
       "n": 0,
       "total": 1,
       "elapsed": 0.019520044326782227,
       "ncols": null,
       "nrows": null,
       "prefix": "test_batch",
       "ascii": false,
       "unit": "it",
       "unit_scale": false,
       "rate": null,
       "bar_format": null,
       "postfix": null,
       "unit_divisor": 1000,
       "initial": 0,
       "colour": null
      }
     },
     "metadata": {},
     "output_type": "display_data"
    },
    {
     "data": {
      "text/plain": "train_batch:   0%|          | 0/2 [00:00<?, ?it/s]",
      "application/vnd.jupyter.widget-view+json": {
       "version_major": 2,
       "version_minor": 0,
       "model_id": "8936564b45834ba3bc42d3437d6755b2"
      },
      "application/json": {
       "n": 0,
       "total": 2,
       "elapsed": 0.020943880081176758,
       "ncols": null,
       "nrows": null,
       "prefix": "train_batch",
       "ascii": false,
       "unit": "it",
       "unit_scale": false,
       "rate": null,
       "bar_format": null,
       "postfix": null,
       "unit_divisor": 1000,
       "initial": 0,
       "colour": null
      }
     },
     "metadata": {},
     "output_type": "display_data"
    },
    {
     "data": {
      "text/plain": "test_batch:   0%|          | 0/1 [00:00<?, ?it/s]",
      "application/vnd.jupyter.widget-view+json": {
       "version_major": 2,
       "version_minor": 0,
       "model_id": "e6f37f57ee3e4030997488d68e980767"
      },
      "application/json": {
       "n": 0,
       "total": 1,
       "elapsed": 0.025930166244506836,
       "ncols": null,
       "nrows": null,
       "prefix": "test_batch",
       "ascii": false,
       "unit": "it",
       "unit_scale": false,
       "rate": null,
       "bar_format": null,
       "postfix": null,
       "unit_divisor": 1000,
       "initial": 0,
       "colour": null
      }
     },
     "metadata": {},
     "output_type": "display_data"
    },
    {
     "data": {
      "text/plain": "train_batch:   0%|          | 0/2 [00:00<?, ?it/s]",
      "application/vnd.jupyter.widget-view+json": {
       "version_major": 2,
       "version_minor": 0,
       "model_id": "ab6fbb280a3f4d2087a5d014104a1cd3"
      },
      "application/json": {
       "n": 0,
       "total": 2,
       "elapsed": 0.023936033248901367,
       "ncols": null,
       "nrows": null,
       "prefix": "train_batch",
       "ascii": false,
       "unit": "it",
       "unit_scale": false,
       "rate": null,
       "bar_format": null,
       "postfix": null,
       "unit_divisor": 1000,
       "initial": 0,
       "colour": null
      }
     },
     "metadata": {},
     "output_type": "display_data"
    },
    {
     "data": {
      "text/plain": "test_batch:   0%|          | 0/1 [00:00<?, ?it/s]",
      "application/vnd.jupyter.widget-view+json": {
       "version_major": 2,
       "version_minor": 0,
       "model_id": "65694a48478c49248c4a00ea26050d2b"
      },
      "application/json": {
       "n": 0,
       "total": 1,
       "elapsed": 0.01795172691345215,
       "ncols": null,
       "nrows": null,
       "prefix": "test_batch",
       "ascii": false,
       "unit": "it",
       "unit_scale": false,
       "rate": null,
       "bar_format": null,
       "postfix": null,
       "unit_divisor": 1000,
       "initial": 0,
       "colour": null
      }
     },
     "metadata": {},
     "output_type": "display_data"
    },
    {
     "name": "stdout",
     "output_type": "stream",
     "text": [
      "--- EPOCH 11/100 ---\n"
     ]
    },
    {
     "data": {
      "text/plain": "train_batch:   0%|          | 0/2 [00:00<?, ?it/s]",
      "application/vnd.jupyter.widget-view+json": {
       "version_major": 2,
       "version_minor": 0,
       "model_id": "418ba42735d1405d837f9d82729b4a04"
      },
      "application/json": {
       "n": 0,
       "total": 2,
       "elapsed": 0.021940946578979492,
       "ncols": null,
       "nrows": null,
       "prefix": "train_batch",
       "ascii": false,
       "unit": "it",
       "unit_scale": false,
       "rate": null,
       "bar_format": null,
       "postfix": null,
       "unit_divisor": 1000,
       "initial": 0,
       "colour": null
      }
     },
     "metadata": {},
     "output_type": "display_data"
    },
    {
     "data": {
      "text/plain": "test_batch:   0%|          | 0/1 [00:00<?, ?it/s]",
      "application/vnd.jupyter.widget-view+json": {
       "version_major": 2,
       "version_minor": 0,
       "model_id": "4fd3244e1c2441eb892fe24042ec675a"
      },
      "application/json": {
       "n": 0,
       "total": 1,
       "elapsed": 0.025931596755981445,
       "ncols": null,
       "nrows": null,
       "prefix": "test_batch",
       "ascii": false,
       "unit": "it",
       "unit_scale": false,
       "rate": null,
       "bar_format": null,
       "postfix": null,
       "unit_divisor": 1000,
       "initial": 0,
       "colour": null
      }
     },
     "metadata": {},
     "output_type": "display_data"
    },
    {
     "data": {
      "text/plain": "train_batch:   0%|          | 0/2 [00:00<?, ?it/s]",
      "application/vnd.jupyter.widget-view+json": {
       "version_major": 2,
       "version_minor": 0,
       "model_id": "6ed4cbcc45c241b3976f474296cb8f58"
      },
      "application/json": {
       "n": 0,
       "total": 2,
       "elapsed": 0.020943164825439453,
       "ncols": null,
       "nrows": null,
       "prefix": "train_batch",
       "ascii": false,
       "unit": "it",
       "unit_scale": false,
       "rate": null,
       "bar_format": null,
       "postfix": null,
       "unit_divisor": 1000,
       "initial": 0,
       "colour": null
      }
     },
     "metadata": {},
     "output_type": "display_data"
    },
    {
     "data": {
      "text/plain": "test_batch:   0%|          | 0/1 [00:00<?, ?it/s]",
      "application/vnd.jupyter.widget-view+json": {
       "version_major": 2,
       "version_minor": 0,
       "model_id": "4a5e2926e2284e089759b705607d4906"
      },
      "application/json": {
       "n": 0,
       "total": 1,
       "elapsed": 0.020944595336914062,
       "ncols": null,
       "nrows": null,
       "prefix": "test_batch",
       "ascii": false,
       "unit": "it",
       "unit_scale": false,
       "rate": null,
       "bar_format": null,
       "postfix": null,
       "unit_divisor": 1000,
       "initial": 0,
       "colour": null
      }
     },
     "metadata": {},
     "output_type": "display_data"
    },
    {
     "data": {
      "text/plain": "train_batch:   0%|          | 0/2 [00:00<?, ?it/s]",
      "application/vnd.jupyter.widget-view+json": {
       "version_major": 2,
       "version_minor": 0,
       "model_id": "f9e0c2d79d2a4cc48c098eb28fbf071b"
      },
      "application/json": {
       "n": 0,
       "total": 2,
       "elapsed": 0.027925491333007812,
       "ncols": null,
       "nrows": null,
       "prefix": "train_batch",
       "ascii": false,
       "unit": "it",
       "unit_scale": false,
       "rate": null,
       "bar_format": null,
       "postfix": null,
       "unit_divisor": 1000,
       "initial": 0,
       "colour": null
      }
     },
     "metadata": {},
     "output_type": "display_data"
    },
    {
     "data": {
      "text/plain": "test_batch:   0%|          | 0/1 [00:00<?, ?it/s]",
      "application/vnd.jupyter.widget-view+json": {
       "version_major": 2,
       "version_minor": 0,
       "model_id": "904814cba7a24c6ba8ff6c23e2b8bae2"
      },
      "application/json": {
       "n": 0,
       "total": 1,
       "elapsed": 0.025929689407348633,
       "ncols": null,
       "nrows": null,
       "prefix": "test_batch",
       "ascii": false,
       "unit": "it",
       "unit_scale": false,
       "rate": null,
       "bar_format": null,
       "postfix": null,
       "unit_divisor": 1000,
       "initial": 0,
       "colour": null
      }
     },
     "metadata": {},
     "output_type": "display_data"
    },
    {
     "data": {
      "text/plain": "train_batch:   0%|          | 0/2 [00:00<?, ?it/s]",
      "application/vnd.jupyter.widget-view+json": {
       "version_major": 2,
       "version_minor": 0,
       "model_id": "3878eabcdf084324acea9329d5e98b22"
      },
      "application/json": {
       "n": 0,
       "total": 2,
       "elapsed": 0.01932048797607422,
       "ncols": null,
       "nrows": null,
       "prefix": "train_batch",
       "ascii": false,
       "unit": "it",
       "unit_scale": false,
       "rate": null,
       "bar_format": null,
       "postfix": null,
       "unit_divisor": 1000,
       "initial": 0,
       "colour": null
      }
     },
     "metadata": {},
     "output_type": "display_data"
    },
    {
     "data": {
      "text/plain": "test_batch:   0%|          | 0/1 [00:00<?, ?it/s]",
      "application/vnd.jupyter.widget-view+json": {
       "version_major": 2,
       "version_minor": 0,
       "model_id": "821f924a73ec41ca8479f58c222cb1a1"
      },
      "application/json": {
       "n": 0,
       "total": 1,
       "elapsed": 0.0249330997467041,
       "ncols": null,
       "nrows": null,
       "prefix": "test_batch",
       "ascii": false,
       "unit": "it",
       "unit_scale": false,
       "rate": null,
       "bar_format": null,
       "postfix": null,
       "unit_divisor": 1000,
       "initial": 0,
       "colour": null
      }
     },
     "metadata": {},
     "output_type": "display_data"
    },
    {
     "data": {
      "text/plain": "train_batch:   0%|          | 0/2 [00:00<?, ?it/s]",
      "application/vnd.jupyter.widget-view+json": {
       "version_major": 2,
       "version_minor": 0,
       "model_id": "1098dc04b5054f40bc0c8369b31f96b4"
      },
      "application/json": {
       "n": 0,
       "total": 2,
       "elapsed": 0.028922080993652344,
       "ncols": null,
       "nrows": null,
       "prefix": "train_batch",
       "ascii": false,
       "unit": "it",
       "unit_scale": false,
       "rate": null,
       "bar_format": null,
       "postfix": null,
       "unit_divisor": 1000,
       "initial": 0,
       "colour": null
      }
     },
     "metadata": {},
     "output_type": "display_data"
    },
    {
     "data": {
      "text/plain": "test_batch:   0%|          | 0/1 [00:00<?, ?it/s]",
      "application/vnd.jupyter.widget-view+json": {
       "version_major": 2,
       "version_minor": 0,
       "model_id": "9592405a81de4d84bfdd122fe31822ec"
      },
      "application/json": {
       "n": 0,
       "total": 1,
       "elapsed": 0.022939443588256836,
       "ncols": null,
       "nrows": null,
       "prefix": "test_batch",
       "ascii": false,
       "unit": "it",
       "unit_scale": false,
       "rate": null,
       "bar_format": null,
       "postfix": null,
       "unit_divisor": 1000,
       "initial": 0,
       "colour": null
      }
     },
     "metadata": {},
     "output_type": "display_data"
    },
    {
     "data": {
      "text/plain": "train_batch:   0%|          | 0/2 [00:00<?, ?it/s]",
      "application/vnd.jupyter.widget-view+json": {
       "version_major": 2,
       "version_minor": 0,
       "model_id": "ab26faa9a33347b9a290607a52796219"
      },
      "application/json": {
       "n": 0,
       "total": 2,
       "elapsed": 0.018949508666992188,
       "ncols": null,
       "nrows": null,
       "prefix": "train_batch",
       "ascii": false,
       "unit": "it",
       "unit_scale": false,
       "rate": null,
       "bar_format": null,
       "postfix": null,
       "unit_divisor": 1000,
       "initial": 0,
       "colour": null
      }
     },
     "metadata": {},
     "output_type": "display_data"
    },
    {
     "data": {
      "text/plain": "test_batch:   0%|          | 0/1 [00:00<?, ?it/s]",
      "application/vnd.jupyter.widget-view+json": {
       "version_major": 2,
       "version_minor": 0,
       "model_id": "d4ce250210f847d481553be9917b69e6"
      },
      "application/json": {
       "n": 0,
       "total": 1,
       "elapsed": 0.02593064308166504,
       "ncols": null,
       "nrows": null,
       "prefix": "test_batch",
       "ascii": false,
       "unit": "it",
       "unit_scale": false,
       "rate": null,
       "bar_format": null,
       "postfix": null,
       "unit_divisor": 1000,
       "initial": 0,
       "colour": null
      }
     },
     "metadata": {},
     "output_type": "display_data"
    },
    {
     "data": {
      "text/plain": "train_batch:   0%|          | 0/2 [00:00<?, ?it/s]",
      "application/vnd.jupyter.widget-view+json": {
       "version_major": 2,
       "version_minor": 0,
       "model_id": "6e40b8a1d0eb4f3c90a5ce06b7787941"
      },
      "application/json": {
       "n": 0,
       "total": 2,
       "elapsed": 0.027927398681640625,
       "ncols": null,
       "nrows": null,
       "prefix": "train_batch",
       "ascii": false,
       "unit": "it",
       "unit_scale": false,
       "rate": null,
       "bar_format": null,
       "postfix": null,
       "unit_divisor": 1000,
       "initial": 0,
       "colour": null
      }
     },
     "metadata": {},
     "output_type": "display_data"
    },
    {
     "data": {
      "text/plain": "test_batch:   0%|          | 0/1 [00:00<?, ?it/s]",
      "application/vnd.jupyter.widget-view+json": {
       "version_major": 2,
       "version_minor": 0,
       "model_id": "591504dc5e274c30b6385b47ffda7f2c"
      },
      "application/json": {
       "n": 0,
       "total": 1,
       "elapsed": 0.020943403244018555,
       "ncols": null,
       "nrows": null,
       "prefix": "test_batch",
       "ascii": false,
       "unit": "it",
       "unit_scale": false,
       "rate": null,
       "bar_format": null,
       "postfix": null,
       "unit_divisor": 1000,
       "initial": 0,
       "colour": null
      }
     },
     "metadata": {},
     "output_type": "display_data"
    },
    {
     "data": {
      "text/plain": "train_batch:   0%|          | 0/2 [00:00<?, ?it/s]",
      "application/vnd.jupyter.widget-view+json": {
       "version_major": 2,
       "version_minor": 0,
       "model_id": "72981298e5d04e5bbc92acd4cfb28109"
      },
      "application/json": {
       "n": 0,
       "total": 2,
       "elapsed": 0.027626991271972656,
       "ncols": null,
       "nrows": null,
       "prefix": "train_batch",
       "ascii": false,
       "unit": "it",
       "unit_scale": false,
       "rate": null,
       "bar_format": null,
       "postfix": null,
       "unit_divisor": 1000,
       "initial": 0,
       "colour": null
      }
     },
     "metadata": {},
     "output_type": "display_data"
    },
    {
     "data": {
      "text/plain": "test_batch:   0%|          | 0/1 [00:00<?, ?it/s]",
      "application/vnd.jupyter.widget-view+json": {
       "version_major": 2,
       "version_minor": 0,
       "model_id": "b89dc15b6e31473ba3961f1617187fce"
      },
      "application/json": {
       "n": 0,
       "total": 1,
       "elapsed": 0.027924060821533203,
       "ncols": null,
       "nrows": null,
       "prefix": "test_batch",
       "ascii": false,
       "unit": "it",
       "unit_scale": false,
       "rate": null,
       "bar_format": null,
       "postfix": null,
       "unit_divisor": 1000,
       "initial": 0,
       "colour": null
      }
     },
     "metadata": {},
     "output_type": "display_data"
    },
    {
     "data": {
      "text/plain": "train_batch:   0%|          | 0/2 [00:00<?, ?it/s]",
      "application/vnd.jupyter.widget-view+json": {
       "version_major": 2,
       "version_minor": 0,
       "model_id": "c26f3339e0f843ac9cbd1dfae7348edd"
      },
      "application/json": {
       "n": 0,
       "total": 2,
       "elapsed": 0.024933576583862305,
       "ncols": null,
       "nrows": null,
       "prefix": "train_batch",
       "ascii": false,
       "unit": "it",
       "unit_scale": false,
       "rate": null,
       "bar_format": null,
       "postfix": null,
       "unit_divisor": 1000,
       "initial": 0,
       "colour": null
      }
     },
     "metadata": {},
     "output_type": "display_data"
    },
    {
     "data": {
      "text/plain": "test_batch:   0%|          | 0/1 [00:00<?, ?it/s]",
      "application/vnd.jupyter.widget-view+json": {
       "version_major": 2,
       "version_minor": 0,
       "model_id": "1bda5cfdce3a49e2aaa94af4dbaf4d1c"
      },
      "application/json": {
       "n": 0,
       "total": 1,
       "elapsed": 0.022607088088989258,
       "ncols": null,
       "nrows": null,
       "prefix": "test_batch",
       "ascii": false,
       "unit": "it",
       "unit_scale": false,
       "rate": null,
       "bar_format": null,
       "postfix": null,
       "unit_divisor": 1000,
       "initial": 0,
       "colour": null
      }
     },
     "metadata": {},
     "output_type": "display_data"
    },
    {
     "data": {
      "text/plain": "train_batch:   0%|          | 0/2 [00:00<?, ?it/s]",
      "application/vnd.jupyter.widget-view+json": {
       "version_major": 2,
       "version_minor": 0,
       "model_id": "b17c6b74834641c492f55d72668f303a"
      },
      "application/json": {
       "n": 0,
       "total": 2,
       "elapsed": 0.020943164825439453,
       "ncols": null,
       "nrows": null,
       "prefix": "train_batch",
       "ascii": false,
       "unit": "it",
       "unit_scale": false,
       "rate": null,
       "bar_format": null,
       "postfix": null,
       "unit_divisor": 1000,
       "initial": 0,
       "colour": null
      }
     },
     "metadata": {},
     "output_type": "display_data"
    },
    {
     "data": {
      "text/plain": "test_batch:   0%|          | 0/1 [00:00<?, ?it/s]",
      "application/vnd.jupyter.widget-view+json": {
       "version_major": 2,
       "version_minor": 0,
       "model_id": "ffa81c8227d44974923bc9323cc75739"
      },
      "application/json": {
       "n": 0,
       "total": 1,
       "elapsed": 0.029918670654296875,
       "ncols": null,
       "nrows": null,
       "prefix": "test_batch",
       "ascii": false,
       "unit": "it",
       "unit_scale": false,
       "rate": null,
       "bar_format": null,
       "postfix": null,
       "unit_divisor": 1000,
       "initial": 0,
       "colour": null
      }
     },
     "metadata": {},
     "output_type": "display_data"
    },
    {
     "name": "stdout",
     "output_type": "stream",
     "text": [
      "--- EPOCH 21/100 ---\n"
     ]
    },
    {
     "data": {
      "text/plain": "train_batch:   0%|          | 0/2 [00:00<?, ?it/s]",
      "application/vnd.jupyter.widget-view+json": {
       "version_major": 2,
       "version_minor": 0,
       "model_id": "400976aedcea4b3e8cedbcdfee7b25ab"
      },
      "application/json": {
       "n": 0,
       "total": 2,
       "elapsed": 0.023934364318847656,
       "ncols": null,
       "nrows": null,
       "prefix": "train_batch",
       "ascii": false,
       "unit": "it",
       "unit_scale": false,
       "rate": null,
       "bar_format": null,
       "postfix": null,
       "unit_divisor": 1000,
       "initial": 0,
       "colour": null
      }
     },
     "metadata": {},
     "output_type": "display_data"
    },
    {
     "data": {
      "text/plain": "test_batch:   0%|          | 0/1 [00:00<?, ?it/s]",
      "application/vnd.jupyter.widget-view+json": {
       "version_major": 2,
       "version_minor": 0,
       "model_id": "b5b282fc8c5548b496cbd2aca97cbc7d"
      },
      "application/json": {
       "n": 0,
       "total": 1,
       "elapsed": 0.016954898834228516,
       "ncols": null,
       "nrows": null,
       "prefix": "test_batch",
       "ascii": false,
       "unit": "it",
       "unit_scale": false,
       "rate": null,
       "bar_format": null,
       "postfix": null,
       "unit_divisor": 1000,
       "initial": 0,
       "colour": null
      }
     },
     "metadata": {},
     "output_type": "display_data"
    },
    {
     "data": {
      "text/plain": "train_batch:   0%|          | 0/2 [00:00<?, ?it/s]",
      "application/vnd.jupyter.widget-view+json": {
       "version_major": 2,
       "version_minor": 0,
       "model_id": "fc261811256140f7845f8dd6fc1a6bc5"
      },
      "application/json": {
       "n": 0,
       "total": 2,
       "elapsed": 0.028316736221313477,
       "ncols": null,
       "nrows": null,
       "prefix": "train_batch",
       "ascii": false,
       "unit": "it",
       "unit_scale": false,
       "rate": null,
       "bar_format": null,
       "postfix": null,
       "unit_divisor": 1000,
       "initial": 0,
       "colour": null
      }
     },
     "metadata": {},
     "output_type": "display_data"
    },
    {
     "data": {
      "text/plain": "test_batch:   0%|          | 0/1 [00:00<?, ?it/s]",
      "application/vnd.jupyter.widget-view+json": {
       "version_major": 2,
       "version_minor": 0,
       "model_id": "5ce01586972846d78feada82b7aa14a3"
      },
      "application/json": {
       "n": 0,
       "total": 1,
       "elapsed": 0.02293229103088379,
       "ncols": null,
       "nrows": null,
       "prefix": "test_batch",
       "ascii": false,
       "unit": "it",
       "unit_scale": false,
       "rate": null,
       "bar_format": null,
       "postfix": null,
       "unit_divisor": 1000,
       "initial": 0,
       "colour": null
      }
     },
     "metadata": {},
     "output_type": "display_data"
    },
    {
     "data": {
      "text/plain": "train_batch:   0%|          | 0/2 [00:00<?, ?it/s]",
      "application/vnd.jupyter.widget-view+json": {
       "version_major": 2,
       "version_minor": 0,
       "model_id": "977d8b57454d4621ba76562e393c80fb"
      },
      "application/json": {
       "n": 0,
       "total": 2,
       "elapsed": 0.02393484115600586,
       "ncols": null,
       "nrows": null,
       "prefix": "train_batch",
       "ascii": false,
       "unit": "it",
       "unit_scale": false,
       "rate": null,
       "bar_format": null,
       "postfix": null,
       "unit_divisor": 1000,
       "initial": 0,
       "colour": null
      }
     },
     "metadata": {},
     "output_type": "display_data"
    },
    {
     "data": {
      "text/plain": "test_batch:   0%|          | 0/1 [00:00<?, ?it/s]",
      "application/vnd.jupyter.widget-view+json": {
       "version_major": 2,
       "version_minor": 0,
       "model_id": "23bf634380174a37abff3755093ba5ff"
      },
      "application/json": {
       "n": 0,
       "total": 1,
       "elapsed": 0.023938894271850586,
       "ncols": null,
       "nrows": null,
       "prefix": "test_batch",
       "ascii": false,
       "unit": "it",
       "unit_scale": false,
       "rate": null,
       "bar_format": null,
       "postfix": null,
       "unit_divisor": 1000,
       "initial": 0,
       "colour": null
      }
     },
     "metadata": {},
     "output_type": "display_data"
    },
    {
     "data": {
      "text/plain": "train_batch:   0%|          | 0/2 [00:00<?, ?it/s]",
      "application/vnd.jupyter.widget-view+json": {
       "version_major": 2,
       "version_minor": 0,
       "model_id": "bad83c36e5d34234b5f7cf92bf1bd021"
      },
      "application/json": {
       "n": 0,
       "total": 2,
       "elapsed": 0.03191518783569336,
       "ncols": null,
       "nrows": null,
       "prefix": "train_batch",
       "ascii": false,
       "unit": "it",
       "unit_scale": false,
       "rate": null,
       "bar_format": null,
       "postfix": null,
       "unit_divisor": 1000,
       "initial": 0,
       "colour": null
      }
     },
     "metadata": {},
     "output_type": "display_data"
    },
    {
     "data": {
      "text/plain": "test_batch:   0%|          | 0/1 [00:00<?, ?it/s]",
      "application/vnd.jupyter.widget-view+json": {
       "version_major": 2,
       "version_minor": 0,
       "model_id": "0ace472bdce84f07b617c73b28fa9343"
      },
      "application/json": {
       "n": 0,
       "total": 1,
       "elapsed": 0.019947052001953125,
       "ncols": null,
       "nrows": null,
       "prefix": "test_batch",
       "ascii": false,
       "unit": "it",
       "unit_scale": false,
       "rate": null,
       "bar_format": null,
       "postfix": null,
       "unit_divisor": 1000,
       "initial": 0,
       "colour": null
      }
     },
     "metadata": {},
     "output_type": "display_data"
    },
    {
     "data": {
      "text/plain": "train_batch:   0%|          | 0/2 [00:00<?, ?it/s]",
      "application/vnd.jupyter.widget-view+json": {
       "version_major": 2,
       "version_minor": 0,
       "model_id": "22a4d1518ff84cbfad00366cb1aa693a"
      },
      "application/json": {
       "n": 0,
       "total": 2,
       "elapsed": 0.020086050033569336,
       "ncols": null,
       "nrows": null,
       "prefix": "train_batch",
       "ascii": false,
       "unit": "it",
       "unit_scale": false,
       "rate": null,
       "bar_format": null,
       "postfix": null,
       "unit_divisor": 1000,
       "initial": 0,
       "colour": null
      }
     },
     "metadata": {},
     "output_type": "display_data"
    },
    {
     "data": {
      "text/plain": "test_batch:   0%|          | 0/1 [00:00<?, ?it/s]",
      "application/vnd.jupyter.widget-view+json": {
       "version_major": 2,
       "version_minor": 0,
       "model_id": "3fac1d096516473ab7d4d8ce457fd9f2"
      },
      "application/json": {
       "n": 0,
       "total": 1,
       "elapsed": 0.026650667190551758,
       "ncols": null,
       "nrows": null,
       "prefix": "test_batch",
       "ascii": false,
       "unit": "it",
       "unit_scale": false,
       "rate": null,
       "bar_format": null,
       "postfix": null,
       "unit_divisor": 1000,
       "initial": 0,
       "colour": null
      }
     },
     "metadata": {},
     "output_type": "display_data"
    },
    {
     "data": {
      "text/plain": "train_batch:   0%|          | 0/2 [00:00<?, ?it/s]",
      "application/vnd.jupyter.widget-view+json": {
       "version_major": 2,
       "version_minor": 0,
       "model_id": "e29e043f184c49479f98e5a27e0ffe97"
      },
      "application/json": {
       "n": 0,
       "total": 2,
       "elapsed": 0.027930021286010742,
       "ncols": null,
       "nrows": null,
       "prefix": "train_batch",
       "ascii": false,
       "unit": "it",
       "unit_scale": false,
       "rate": null,
       "bar_format": null,
       "postfix": null,
       "unit_divisor": 1000,
       "initial": 0,
       "colour": null
      }
     },
     "metadata": {},
     "output_type": "display_data"
    },
    {
     "data": {
      "text/plain": "test_batch:   0%|          | 0/1 [00:00<?, ?it/s]",
      "application/vnd.jupyter.widget-view+json": {
       "version_major": 2,
       "version_minor": 0,
       "model_id": "9dec194c980b44da80519f7905e51640"
      },
      "application/json": {
       "n": 0,
       "total": 1,
       "elapsed": 0.024932861328125,
       "ncols": null,
       "nrows": null,
       "prefix": "test_batch",
       "ascii": false,
       "unit": "it",
       "unit_scale": false,
       "rate": null,
       "bar_format": null,
       "postfix": null,
       "unit_divisor": 1000,
       "initial": 0,
       "colour": null
      }
     },
     "metadata": {},
     "output_type": "display_data"
    },
    {
     "data": {
      "text/plain": "train_batch:   0%|          | 0/2 [00:00<?, ?it/s]",
      "application/vnd.jupyter.widget-view+json": {
       "version_major": 2,
       "version_minor": 0,
       "model_id": "e7f8e13bb0b24a5b8af82c1477ac233b"
      },
      "application/json": {
       "n": 0,
       "total": 2,
       "elapsed": 0.021479129791259766,
       "ncols": null,
       "nrows": null,
       "prefix": "train_batch",
       "ascii": false,
       "unit": "it",
       "unit_scale": false,
       "rate": null,
       "bar_format": null,
       "postfix": null,
       "unit_divisor": 1000,
       "initial": 0,
       "colour": null
      }
     },
     "metadata": {},
     "output_type": "display_data"
    },
    {
     "data": {
      "text/plain": "test_batch:   0%|          | 0/1 [00:00<?, ?it/s]",
      "application/vnd.jupyter.widget-view+json": {
       "version_major": 2,
       "version_minor": 0,
       "model_id": "587df42e49264ce3b6370df17c3c95a5"
      },
      "application/json": {
       "n": 0,
       "total": 1,
       "elapsed": 0.037836313247680664,
       "ncols": null,
       "nrows": null,
       "prefix": "test_batch",
       "ascii": false,
       "unit": "it",
       "unit_scale": false,
       "rate": null,
       "bar_format": null,
       "postfix": null,
       "unit_divisor": 1000,
       "initial": 0,
       "colour": null
      }
     },
     "metadata": {},
     "output_type": "display_data"
    },
    {
     "data": {
      "text/plain": "train_batch:   0%|          | 0/2 [00:00<?, ?it/s]",
      "application/vnd.jupyter.widget-view+json": {
       "version_major": 2,
       "version_minor": 0,
       "model_id": "4ff64bec0c1c4113aaa961886141ac0c"
      },
      "application/json": {
       "n": 0,
       "total": 2,
       "elapsed": 0.03191351890563965,
       "ncols": null,
       "nrows": null,
       "prefix": "train_batch",
       "ascii": false,
       "unit": "it",
       "unit_scale": false,
       "rate": null,
       "bar_format": null,
       "postfix": null,
       "unit_divisor": 1000,
       "initial": 0,
       "colour": null
      }
     },
     "metadata": {},
     "output_type": "display_data"
    },
    {
     "data": {
      "text/plain": "test_batch:   0%|          | 0/1 [00:00<?, ?it/s]",
      "application/vnd.jupyter.widget-view+json": {
       "version_major": 2,
       "version_minor": 0,
       "model_id": "7a840ed53b0c41cfb7e2b03a9b8e4c7c"
      },
      "application/json": {
       "n": 0,
       "total": 1,
       "elapsed": 0.025931835174560547,
       "ncols": null,
       "nrows": null,
       "prefix": "test_batch",
       "ascii": false,
       "unit": "it",
       "unit_scale": false,
       "rate": null,
       "bar_format": null,
       "postfix": null,
       "unit_divisor": 1000,
       "initial": 0,
       "colour": null
      }
     },
     "metadata": {},
     "output_type": "display_data"
    },
    {
     "data": {
      "text/plain": "train_batch:   0%|          | 0/2 [00:00<?, ?it/s]",
      "application/vnd.jupyter.widget-view+json": {
       "version_major": 2,
       "version_minor": 0,
       "model_id": "a8cc3322889c4c58b6ac3194dd570ba2"
      },
      "application/json": {
       "n": 0,
       "total": 2,
       "elapsed": 0.027927875518798828,
       "ncols": null,
       "nrows": null,
       "prefix": "train_batch",
       "ascii": false,
       "unit": "it",
       "unit_scale": false,
       "rate": null,
       "bar_format": null,
       "postfix": null,
       "unit_divisor": 1000,
       "initial": 0,
       "colour": null
      }
     },
     "metadata": {},
     "output_type": "display_data"
    },
    {
     "data": {
      "text/plain": "test_batch:   0%|          | 0/1 [00:00<?, ?it/s]",
      "application/vnd.jupyter.widget-view+json": {
       "version_major": 2,
       "version_minor": 0,
       "model_id": "11965eeb772e4e03bbe403adb09c5ab1"
      },
      "application/json": {
       "n": 0,
       "total": 1,
       "elapsed": 0.030910253524780273,
       "ncols": null,
       "nrows": null,
       "prefix": "test_batch",
       "ascii": false,
       "unit": "it",
       "unit_scale": false,
       "rate": null,
       "bar_format": null,
       "postfix": null,
       "unit_divisor": 1000,
       "initial": 0,
       "colour": null
      }
     },
     "metadata": {},
     "output_type": "display_data"
    },
    {
     "data": {
      "text/plain": "train_batch:   0%|          | 0/2 [00:00<?, ?it/s]",
      "application/vnd.jupyter.widget-view+json": {
       "version_major": 2,
       "version_minor": 0,
       "model_id": "2624dd56214f44ac97fdc5ee41cc6c94"
      },
      "application/json": {
       "n": 0,
       "total": 2,
       "elapsed": 0.03513836860656738,
       "ncols": null,
       "nrows": null,
       "prefix": "train_batch",
       "ascii": false,
       "unit": "it",
       "unit_scale": false,
       "rate": null,
       "bar_format": null,
       "postfix": null,
       "unit_divisor": 1000,
       "initial": 0,
       "colour": null
      }
     },
     "metadata": {},
     "output_type": "display_data"
    },
    {
     "data": {
      "text/plain": "test_batch:   0%|          | 0/1 [00:00<?, ?it/s]",
      "application/vnd.jupyter.widget-view+json": {
       "version_major": 2,
       "version_minor": 0,
       "model_id": "8f83457624bd489b9def0d631d9cd0b2"
      },
      "application/json": {
       "n": 0,
       "total": 1,
       "elapsed": 0.024911165237426758,
       "ncols": null,
       "nrows": null,
       "prefix": "test_batch",
       "ascii": false,
       "unit": "it",
       "unit_scale": false,
       "rate": null,
       "bar_format": null,
       "postfix": null,
       "unit_divisor": 1000,
       "initial": 0,
       "colour": null
      }
     },
     "metadata": {},
     "output_type": "display_data"
    },
    {
     "name": "stdout",
     "output_type": "stream",
     "text": [
      "--- EPOCH 31/100 ---\n"
     ]
    },
    {
     "data": {
      "text/plain": "train_batch:   0%|          | 0/2 [00:00<?, ?it/s]",
      "application/vnd.jupyter.widget-view+json": {
       "version_major": 2,
       "version_minor": 0,
       "model_id": "6202207349cb4b9f964b278c8d31934b"
      },
      "application/json": {
       "n": 0,
       "total": 2,
       "elapsed": 0.031252384185791016,
       "ncols": null,
       "nrows": null,
       "prefix": "train_batch",
       "ascii": false,
       "unit": "it",
       "unit_scale": false,
       "rate": null,
       "bar_format": null,
       "postfix": null,
       "unit_divisor": 1000,
       "initial": 0,
       "colour": null
      }
     },
     "metadata": {},
     "output_type": "display_data"
    },
    {
     "data": {
      "text/plain": "test_batch:   0%|          | 0/1 [00:00<?, ?it/s]",
      "application/vnd.jupyter.widget-view+json": {
       "version_major": 2,
       "version_minor": 0,
       "model_id": "d8f8bcd66f9247c481b399352612a351"
      },
      "application/json": {
       "n": 0,
       "total": 1,
       "elapsed": 0.02293086051940918,
       "ncols": null,
       "nrows": null,
       "prefix": "test_batch",
       "ascii": false,
       "unit": "it",
       "unit_scale": false,
       "rate": null,
       "bar_format": null,
       "postfix": null,
       "unit_divisor": 1000,
       "initial": 0,
       "colour": null
      }
     },
     "metadata": {},
     "output_type": "display_data"
    },
    {
     "data": {
      "text/plain": "train_batch:   0%|          | 0/2 [00:00<?, ?it/s]",
      "application/vnd.jupyter.widget-view+json": {
       "version_major": 2,
       "version_minor": 0,
       "model_id": "6506c62199774d84996aadbbe41a64d8"
      },
      "application/json": {
       "n": 0,
       "total": 2,
       "elapsed": 0.021337270736694336,
       "ncols": null,
       "nrows": null,
       "prefix": "train_batch",
       "ascii": false,
       "unit": "it",
       "unit_scale": false,
       "rate": null,
       "bar_format": null,
       "postfix": null,
       "unit_divisor": 1000,
       "initial": 0,
       "colour": null
      }
     },
     "metadata": {},
     "output_type": "display_data"
    },
    {
     "data": {
      "text/plain": "test_batch:   0%|          | 0/1 [00:00<?, ?it/s]",
      "application/vnd.jupyter.widget-view+json": {
       "version_major": 2,
       "version_minor": 0,
       "model_id": "3598a9edcf9d4579a333818552e1785a"
      },
      "application/json": {
       "n": 0,
       "total": 1,
       "elapsed": 0.02792525291442871,
       "ncols": null,
       "nrows": null,
       "prefix": "test_batch",
       "ascii": false,
       "unit": "it",
       "unit_scale": false,
       "rate": null,
       "bar_format": null,
       "postfix": null,
       "unit_divisor": 1000,
       "initial": 0,
       "colour": null
      }
     },
     "metadata": {},
     "output_type": "display_data"
    },
    {
     "data": {
      "text/plain": "train_batch:   0%|          | 0/2 [00:00<?, ?it/s]",
      "application/vnd.jupyter.widget-view+json": {
       "version_major": 2,
       "version_minor": 0,
       "model_id": "a70f4aeeffca41d183a2b2a98fb05d1b"
      },
      "application/json": {
       "n": 0,
       "total": 2,
       "elapsed": 0.019880056381225586,
       "ncols": null,
       "nrows": null,
       "prefix": "train_batch",
       "ascii": false,
       "unit": "it",
       "unit_scale": false,
       "rate": null,
       "bar_format": null,
       "postfix": null,
       "unit_divisor": 1000,
       "initial": 0,
       "colour": null
      }
     },
     "metadata": {},
     "output_type": "display_data"
    },
    {
     "data": {
      "text/plain": "test_batch:   0%|          | 0/1 [00:00<?, ?it/s]",
      "application/vnd.jupyter.widget-view+json": {
       "version_major": 2,
       "version_minor": 0,
       "model_id": "7a79ff1a1dd2422ea95eefc17b87e3ab"
      },
      "application/json": {
       "n": 0,
       "total": 1,
       "elapsed": 0.021366357803344727,
       "ncols": null,
       "nrows": null,
       "prefix": "test_batch",
       "ascii": false,
       "unit": "it",
       "unit_scale": false,
       "rate": null,
       "bar_format": null,
       "postfix": null,
       "unit_divisor": 1000,
       "initial": 0,
       "colour": null
      }
     },
     "metadata": {},
     "output_type": "display_data"
    },
    {
     "data": {
      "text/plain": "train_batch:   0%|          | 0/2 [00:00<?, ?it/s]",
      "application/vnd.jupyter.widget-view+json": {
       "version_major": 2,
       "version_minor": 0,
       "model_id": "32526cefca1d4d7fb1a6ece6def68bba"
      },
      "application/json": {
       "n": 0,
       "total": 2,
       "elapsed": 0.03068399429321289,
       "ncols": null,
       "nrows": null,
       "prefix": "train_batch",
       "ascii": false,
       "unit": "it",
       "unit_scale": false,
       "rate": null,
       "bar_format": null,
       "postfix": null,
       "unit_divisor": 1000,
       "initial": 0,
       "colour": null
      }
     },
     "metadata": {},
     "output_type": "display_data"
    },
    {
     "data": {
      "text/plain": "test_batch:   0%|          | 0/1 [00:00<?, ?it/s]",
      "application/vnd.jupyter.widget-view+json": {
       "version_major": 2,
       "version_minor": 0,
       "model_id": "526d551a1a1b4297be6eb07a8c9c0e05"
      },
      "application/json": {
       "n": 0,
       "total": 1,
       "elapsed": 0.024933576583862305,
       "ncols": null,
       "nrows": null,
       "prefix": "test_batch",
       "ascii": false,
       "unit": "it",
       "unit_scale": false,
       "rate": null,
       "bar_format": null,
       "postfix": null,
       "unit_divisor": 1000,
       "initial": 0,
       "colour": null
      }
     },
     "metadata": {},
     "output_type": "display_data"
    },
    {
     "data": {
      "text/plain": "train_batch:   0%|          | 0/2 [00:00<?, ?it/s]",
      "application/vnd.jupyter.widget-view+json": {
       "version_major": 2,
       "version_minor": 0,
       "model_id": "1e53f953eefb460faf343e15b194c4c2"
      },
      "application/json": {
       "n": 0,
       "total": 2,
       "elapsed": 0.027926206588745117,
       "ncols": null,
       "nrows": null,
       "prefix": "train_batch",
       "ascii": false,
       "unit": "it",
       "unit_scale": false,
       "rate": null,
       "bar_format": null,
       "postfix": null,
       "unit_divisor": 1000,
       "initial": 0,
       "colour": null
      }
     },
     "metadata": {},
     "output_type": "display_data"
    },
    {
     "data": {
      "text/plain": "test_batch:   0%|          | 0/1 [00:00<?, ?it/s]",
      "application/vnd.jupyter.widget-view+json": {
       "version_major": 2,
       "version_minor": 0,
       "model_id": "f8fa07a22f0f4622bfba39af781cb620"
      },
      "application/json": {
       "n": 0,
       "total": 1,
       "elapsed": 0.026927947998046875,
       "ncols": null,
       "nrows": null,
       "prefix": "test_batch",
       "ascii": false,
       "unit": "it",
       "unit_scale": false,
       "rate": null,
       "bar_format": null,
       "postfix": null,
       "unit_divisor": 1000,
       "initial": 0,
       "colour": null
      }
     },
     "metadata": {},
     "output_type": "display_data"
    },
    {
     "data": {
      "text/plain": "train_batch:   0%|          | 0/2 [00:00<?, ?it/s]",
      "application/vnd.jupyter.widget-view+json": {
       "version_major": 2,
       "version_minor": 0,
       "model_id": "96b1ea2a48044e9a97b45ee70d0a887c"
      },
      "application/json": {
       "n": 0,
       "total": 2,
       "elapsed": 0.023567914962768555,
       "ncols": null,
       "nrows": null,
       "prefix": "train_batch",
       "ascii": false,
       "unit": "it",
       "unit_scale": false,
       "rate": null,
       "bar_format": null,
       "postfix": null,
       "unit_divisor": 1000,
       "initial": 0,
       "colour": null
      }
     },
     "metadata": {},
     "output_type": "display_data"
    },
    {
     "data": {
      "text/plain": "test_batch:   0%|          | 0/1 [00:00<?, ?it/s]",
      "application/vnd.jupyter.widget-view+json": {
       "version_major": 2,
       "version_minor": 0,
       "model_id": "7a11299f9c0e4644a09391268b538c41"
      },
      "application/json": {
       "n": 0,
       "total": 1,
       "elapsed": 0.028922080993652344,
       "ncols": null,
       "nrows": null,
       "prefix": "test_batch",
       "ascii": false,
       "unit": "it",
       "unit_scale": false,
       "rate": null,
       "bar_format": null,
       "postfix": null,
       "unit_divisor": 1000,
       "initial": 0,
       "colour": null
      }
     },
     "metadata": {},
     "output_type": "display_data"
    },
    {
     "data": {
      "text/plain": "train_batch:   0%|          | 0/2 [00:00<?, ?it/s]",
      "application/vnd.jupyter.widget-view+json": {
       "version_major": 2,
       "version_minor": 0,
       "model_id": "b1bd30e2f6374c15bbfe40b3dfbb044c"
      },
      "application/json": {
       "n": 0,
       "total": 2,
       "elapsed": 0.02176213264465332,
       "ncols": null,
       "nrows": null,
       "prefix": "train_batch",
       "ascii": false,
       "unit": "it",
       "unit_scale": false,
       "rate": null,
       "bar_format": null,
       "postfix": null,
       "unit_divisor": 1000,
       "initial": 0,
       "colour": null
      }
     },
     "metadata": {},
     "output_type": "display_data"
    },
    {
     "data": {
      "text/plain": "test_batch:   0%|          | 0/1 [00:00<?, ?it/s]",
      "application/vnd.jupyter.widget-view+json": {
       "version_major": 2,
       "version_minor": 0,
       "model_id": "0fa364df047f4909a69ff4d4cf698f90"
      },
      "application/json": {
       "n": 0,
       "total": 1,
       "elapsed": 0.023931026458740234,
       "ncols": null,
       "nrows": null,
       "prefix": "test_batch",
       "ascii": false,
       "unit": "it",
       "unit_scale": false,
       "rate": null,
       "bar_format": null,
       "postfix": null,
       "unit_divisor": 1000,
       "initial": 0,
       "colour": null
      }
     },
     "metadata": {},
     "output_type": "display_data"
    },
    {
     "data": {
      "text/plain": "train_batch:   0%|          | 0/2 [00:00<?, ?it/s]",
      "application/vnd.jupyter.widget-view+json": {
       "version_major": 2,
       "version_minor": 0,
       "model_id": "8faa2adee3b2488985be90ab2569b88f"
      },
      "application/json": {
       "n": 0,
       "total": 2,
       "elapsed": 0.028922080993652344,
       "ncols": null,
       "nrows": null,
       "prefix": "train_batch",
       "ascii": false,
       "unit": "it",
       "unit_scale": false,
       "rate": null,
       "bar_format": null,
       "postfix": null,
       "unit_divisor": 1000,
       "initial": 0,
       "colour": null
      }
     },
     "metadata": {},
     "output_type": "display_data"
    },
    {
     "data": {
      "text/plain": "test_batch:   0%|          | 0/1 [00:00<?, ?it/s]",
      "application/vnd.jupyter.widget-view+json": {
       "version_major": 2,
       "version_minor": 0,
       "model_id": "18a4fde6a1304473ae05649064dbe85b"
      },
      "application/json": {
       "n": 0,
       "total": 1,
       "elapsed": 0.02392578125,
       "ncols": null,
       "nrows": null,
       "prefix": "test_batch",
       "ascii": false,
       "unit": "it",
       "unit_scale": false,
       "rate": null,
       "bar_format": null,
       "postfix": null,
       "unit_divisor": 1000,
       "initial": 0,
       "colour": null
      }
     },
     "metadata": {},
     "output_type": "display_data"
    },
    {
     "data": {
      "text/plain": "train_batch:   0%|          | 0/2 [00:00<?, ?it/s]",
      "application/vnd.jupyter.widget-view+json": {
       "version_major": 2,
       "version_minor": 0,
       "model_id": "93ade4cfd29947809f6cf832f39206d6"
      },
      "application/json": {
       "n": 0,
       "total": 2,
       "elapsed": 0.013879776000976562,
       "ncols": null,
       "nrows": null,
       "prefix": "train_batch",
       "ascii": false,
       "unit": "it",
       "unit_scale": false,
       "rate": null,
       "bar_format": null,
       "postfix": null,
       "unit_divisor": 1000,
       "initial": 0,
       "colour": null
      }
     },
     "metadata": {},
     "output_type": "display_data"
    },
    {
     "data": {
      "text/plain": "test_batch:   0%|          | 0/1 [00:00<?, ?it/s]",
      "application/vnd.jupyter.widget-view+json": {
       "version_major": 2,
       "version_minor": 0,
       "model_id": "deda1a5151dd413493667f9f7504d5ee"
      },
      "application/json": {
       "n": 0,
       "total": 1,
       "elapsed": 0.03391885757446289,
       "ncols": null,
       "nrows": null,
       "prefix": "test_batch",
       "ascii": false,
       "unit": "it",
       "unit_scale": false,
       "rate": null,
       "bar_format": null,
       "postfix": null,
       "unit_divisor": 1000,
       "initial": 0,
       "colour": null
      }
     },
     "metadata": {},
     "output_type": "display_data"
    },
    {
     "data": {
      "text/plain": "train_batch:   0%|          | 0/2 [00:00<?, ?it/s]",
      "application/vnd.jupyter.widget-view+json": {
       "version_major": 2,
       "version_minor": 0,
       "model_id": "202a86725b6f47caa6a1382494883de1"
      },
      "application/json": {
       "n": 0,
       "total": 2,
       "elapsed": 0.024994611740112305,
       "ncols": null,
       "nrows": null,
       "prefix": "train_batch",
       "ascii": false,
       "unit": "it",
       "unit_scale": false,
       "rate": null,
       "bar_format": null,
       "postfix": null,
       "unit_divisor": 1000,
       "initial": 0,
       "colour": null
      }
     },
     "metadata": {},
     "output_type": "display_data"
    },
    {
     "data": {
      "text/plain": "test_batch:   0%|          | 0/1 [00:00<?, ?it/s]",
      "application/vnd.jupyter.widget-view+json": {
       "version_major": 2,
       "version_minor": 0,
       "model_id": "7f81469de1da4a7196c7cc6fc28190b1"
      },
      "application/json": {
       "n": 0,
       "total": 1,
       "elapsed": 0.021939754486083984,
       "ncols": null,
       "nrows": null,
       "prefix": "test_batch",
       "ascii": false,
       "unit": "it",
       "unit_scale": false,
       "rate": null,
       "bar_format": null,
       "postfix": null,
       "unit_divisor": 1000,
       "initial": 0,
       "colour": null
      }
     },
     "metadata": {},
     "output_type": "display_data"
    },
    {
     "name": "stdout",
     "output_type": "stream",
     "text": [
      "--- EPOCH 41/100 ---\n"
     ]
    },
    {
     "data": {
      "text/plain": "train_batch:   0%|          | 0/2 [00:00<?, ?it/s]",
      "application/vnd.jupyter.widget-view+json": {
       "version_major": 2,
       "version_minor": 0,
       "model_id": "60831ef040c9451aae13aafc79712c26"
      },
      "application/json": {
       "n": 0,
       "total": 2,
       "elapsed": 0.02293848991394043,
       "ncols": null,
       "nrows": null,
       "prefix": "train_batch",
       "ascii": false,
       "unit": "it",
       "unit_scale": false,
       "rate": null,
       "bar_format": null,
       "postfix": null,
       "unit_divisor": 1000,
       "initial": 0,
       "colour": null
      }
     },
     "metadata": {},
     "output_type": "display_data"
    },
    {
     "data": {
      "text/plain": "test_batch:   0%|          | 0/1 [00:00<?, ?it/s]",
      "application/vnd.jupyter.widget-view+json": {
       "version_major": 2,
       "version_minor": 0,
       "model_id": "bbd4aa917feb4f30afe3cfb451e1408e"
      },
      "application/json": {
       "n": 0,
       "total": 1,
       "elapsed": 0.028437376022338867,
       "ncols": null,
       "nrows": null,
       "prefix": "test_batch",
       "ascii": false,
       "unit": "it",
       "unit_scale": false,
       "rate": null,
       "bar_format": null,
       "postfix": null,
       "unit_divisor": 1000,
       "initial": 0,
       "colour": null
      }
     },
     "metadata": {},
     "output_type": "display_data"
    },
    {
     "data": {
      "text/plain": "train_batch:   0%|          | 0/2 [00:00<?, ?it/s]",
      "application/vnd.jupyter.widget-view+json": {
       "version_major": 2,
       "version_minor": 0,
       "model_id": "164b131dede14b2d8f1bc84cfbec9439"
      },
      "application/json": {
       "n": 0,
       "total": 2,
       "elapsed": 0.02592945098876953,
       "ncols": null,
       "nrows": null,
       "prefix": "train_batch",
       "ascii": false,
       "unit": "it",
       "unit_scale": false,
       "rate": null,
       "bar_format": null,
       "postfix": null,
       "unit_divisor": 1000,
       "initial": 0,
       "colour": null
      }
     },
     "metadata": {},
     "output_type": "display_data"
    },
    {
     "data": {
      "text/plain": "test_batch:   0%|          | 0/1 [00:00<?, ?it/s]",
      "application/vnd.jupyter.widget-view+json": {
       "version_major": 2,
       "version_minor": 0,
       "model_id": "11f8b1bc88254c2eaa753202ec7e070d"
      },
      "application/json": {
       "n": 0,
       "total": 1,
       "elapsed": 0.022939205169677734,
       "ncols": null,
       "nrows": null,
       "prefix": "test_batch",
       "ascii": false,
       "unit": "it",
       "unit_scale": false,
       "rate": null,
       "bar_format": null,
       "postfix": null,
       "unit_divisor": 1000,
       "initial": 0,
       "colour": null
      }
     },
     "metadata": {},
     "output_type": "display_data"
    },
    {
     "data": {
      "text/plain": "train_batch:   0%|          | 0/2 [00:00<?, ?it/s]",
      "application/vnd.jupyter.widget-view+json": {
       "version_major": 2,
       "version_minor": 0,
       "model_id": "50c19c8da6f84e91b01da41bbe10ced4"
      },
      "application/json": {
       "n": 0,
       "total": 2,
       "elapsed": 0.02991938591003418,
       "ncols": null,
       "nrows": null,
       "prefix": "train_batch",
       "ascii": false,
       "unit": "it",
       "unit_scale": false,
       "rate": null,
       "bar_format": null,
       "postfix": null,
       "unit_divisor": 1000,
       "initial": 0,
       "colour": null
      }
     },
     "metadata": {},
     "output_type": "display_data"
    },
    {
     "data": {
      "text/plain": "test_batch:   0%|          | 0/1 [00:00<?, ?it/s]",
      "application/vnd.jupyter.widget-view+json": {
       "version_major": 2,
       "version_minor": 0,
       "model_id": "ee69c57bf2b64c83af18a4e6cf4d9351"
      },
      "application/json": {
       "n": 0,
       "total": 1,
       "elapsed": 0.015956878662109375,
       "ncols": null,
       "nrows": null,
       "prefix": "test_batch",
       "ascii": false,
       "unit": "it",
       "unit_scale": false,
       "rate": null,
       "bar_format": null,
       "postfix": null,
       "unit_divisor": 1000,
       "initial": 0,
       "colour": null
      }
     },
     "metadata": {},
     "output_type": "display_data"
    },
    {
     "data": {
      "text/plain": "train_batch:   0%|          | 0/2 [00:00<?, ?it/s]",
      "application/vnd.jupyter.widget-view+json": {
       "version_major": 2,
       "version_minor": 0,
       "model_id": "a8db540b7add4867967a7e848e9192c9"
      },
      "application/json": {
       "n": 0,
       "total": 2,
       "elapsed": 0.03690052032470703,
       "ncols": null,
       "nrows": null,
       "prefix": "train_batch",
       "ascii": false,
       "unit": "it",
       "unit_scale": false,
       "rate": null,
       "bar_format": null,
       "postfix": null,
       "unit_divisor": 1000,
       "initial": 0,
       "colour": null
      }
     },
     "metadata": {},
     "output_type": "display_data"
    },
    {
     "data": {
      "text/plain": "test_batch:   0%|          | 0/1 [00:00<?, ?it/s]",
      "application/vnd.jupyter.widget-view+json": {
       "version_major": 2,
       "version_minor": 0,
       "model_id": "9fc35d31ae374df6acc038664d3376e4"
      },
      "application/json": {
       "n": 0,
       "total": 1,
       "elapsed": 0.027920007705688477,
       "ncols": null,
       "nrows": null,
       "prefix": "test_batch",
       "ascii": false,
       "unit": "it",
       "unit_scale": false,
       "rate": null,
       "bar_format": null,
       "postfix": null,
       "unit_divisor": 1000,
       "initial": 0,
       "colour": null
      }
     },
     "metadata": {},
     "output_type": "display_data"
    },
    {
     "data": {
      "text/plain": "train_batch:   0%|          | 0/2 [00:00<?, ?it/s]",
      "application/vnd.jupyter.widget-view+json": {
       "version_major": 2,
       "version_minor": 0,
       "model_id": "9e60bc92c01a4853ba10923c263f8644"
      },
      "application/json": {
       "n": 0,
       "total": 2,
       "elapsed": 0.022938251495361328,
       "ncols": null,
       "nrows": null,
       "prefix": "train_batch",
       "ascii": false,
       "unit": "it",
       "unit_scale": false,
       "rate": null,
       "bar_format": null,
       "postfix": null,
       "unit_divisor": 1000,
       "initial": 0,
       "colour": null
      }
     },
     "metadata": {},
     "output_type": "display_data"
    },
    {
     "data": {
      "text/plain": "test_batch:   0%|          | 0/1 [00:00<?, ?it/s]",
      "application/vnd.jupyter.widget-view+json": {
       "version_major": 2,
       "version_minor": 0,
       "model_id": "7659361f0f7748348371607c758fb62b"
      },
      "application/json": {
       "n": 0,
       "total": 1,
       "elapsed": 0.027601957321166992,
       "ncols": null,
       "nrows": null,
       "prefix": "test_batch",
       "ascii": false,
       "unit": "it",
       "unit_scale": false,
       "rate": null,
       "bar_format": null,
       "postfix": null,
       "unit_divisor": 1000,
       "initial": 0,
       "colour": null
      }
     },
     "metadata": {},
     "output_type": "display_data"
    },
    {
     "data": {
      "text/plain": "train_batch:   0%|          | 0/2 [00:00<?, ?it/s]",
      "application/vnd.jupyter.widget-view+json": {
       "version_major": 2,
       "version_minor": 0,
       "model_id": "04f80709abfc4a33a4e00067b217b73b"
      },
      "application/json": {
       "n": 0,
       "total": 2,
       "elapsed": 0.030919551849365234,
       "ncols": null,
       "nrows": null,
       "prefix": "train_batch",
       "ascii": false,
       "unit": "it",
       "unit_scale": false,
       "rate": null,
       "bar_format": null,
       "postfix": null,
       "unit_divisor": 1000,
       "initial": 0,
       "colour": null
      }
     },
     "metadata": {},
     "output_type": "display_data"
    },
    {
     "data": {
      "text/plain": "test_batch:   0%|          | 0/1 [00:00<?, ?it/s]",
      "application/vnd.jupyter.widget-view+json": {
       "version_major": 2,
       "version_minor": 0,
       "model_id": "1ac9110a0fd943b1a24121f2bbaca3c0"
      },
      "application/json": {
       "n": 0,
       "total": 1,
       "elapsed": 0.02937173843383789,
       "ncols": null,
       "nrows": null,
       "prefix": "test_batch",
       "ascii": false,
       "unit": "it",
       "unit_scale": false,
       "rate": null,
       "bar_format": null,
       "postfix": null,
       "unit_divisor": 1000,
       "initial": 0,
       "colour": null
      }
     },
     "metadata": {},
     "output_type": "display_data"
    },
    {
     "data": {
      "text/plain": "train_batch:   0%|          | 0/2 [00:00<?, ?it/s]",
      "application/vnd.jupyter.widget-view+json": {
       "version_major": 2,
       "version_minor": 0,
       "model_id": "ac336a0f0fe240b193f9d2e2b5ae418d"
      },
      "application/json": {
       "n": 0,
       "total": 2,
       "elapsed": 0.028923988342285156,
       "ncols": null,
       "nrows": null,
       "prefix": "train_batch",
       "ascii": false,
       "unit": "it",
       "unit_scale": false,
       "rate": null,
       "bar_format": null,
       "postfix": null,
       "unit_divisor": 1000,
       "initial": 0,
       "colour": null
      }
     },
     "metadata": {},
     "output_type": "display_data"
    },
    {
     "data": {
      "text/plain": "test_batch:   0%|          | 0/1 [00:00<?, ?it/s]",
      "application/vnd.jupyter.widget-view+json": {
       "version_major": 2,
       "version_minor": 0,
       "model_id": "7fc37bdcbc464c918cc796aa3aed6a70"
      },
      "application/json": {
       "n": 0,
       "total": 1,
       "elapsed": 0.022937536239624023,
       "ncols": null,
       "nrows": null,
       "prefix": "test_batch",
       "ascii": false,
       "unit": "it",
       "unit_scale": false,
       "rate": null,
       "bar_format": null,
       "postfix": null,
       "unit_divisor": 1000,
       "initial": 0,
       "colour": null
      }
     },
     "metadata": {},
     "output_type": "display_data"
    },
    {
     "data": {
      "text/plain": "train_batch:   0%|          | 0/2 [00:00<?, ?it/s]",
      "application/vnd.jupyter.widget-view+json": {
       "version_major": 2,
       "version_minor": 0,
       "model_id": "550d02db501b459da608af121c89573f"
      },
      "application/json": {
       "n": 0,
       "total": 2,
       "elapsed": 0.021941423416137695,
       "ncols": null,
       "nrows": null,
       "prefix": "train_batch",
       "ascii": false,
       "unit": "it",
       "unit_scale": false,
       "rate": null,
       "bar_format": null,
       "postfix": null,
       "unit_divisor": 1000,
       "initial": 0,
       "colour": null
      }
     },
     "metadata": {},
     "output_type": "display_data"
    },
    {
     "data": {
      "text/plain": "test_batch:   0%|          | 0/1 [00:00<?, ?it/s]",
      "application/vnd.jupyter.widget-view+json": {
       "version_major": 2,
       "version_minor": 0,
       "model_id": "23b4e299e220437ab91ab294ed6206cd"
      },
      "application/json": {
       "n": 0,
       "total": 1,
       "elapsed": 0.020602703094482422,
       "ncols": null,
       "nrows": null,
       "prefix": "test_batch",
       "ascii": false,
       "unit": "it",
       "unit_scale": false,
       "rate": null,
       "bar_format": null,
       "postfix": null,
       "unit_divisor": 1000,
       "initial": 0,
       "colour": null
      }
     },
     "metadata": {},
     "output_type": "display_data"
    },
    {
     "data": {
      "text/plain": "train_batch:   0%|          | 0/2 [00:00<?, ?it/s]",
      "application/vnd.jupyter.widget-view+json": {
       "version_major": 2,
       "version_minor": 0,
       "model_id": "d2e97d74545c4e63b32ba457e806e51f"
      },
      "application/json": {
       "n": 0,
       "total": 2,
       "elapsed": 0.0279238224029541,
       "ncols": null,
       "nrows": null,
       "prefix": "train_batch",
       "ascii": false,
       "unit": "it",
       "unit_scale": false,
       "rate": null,
       "bar_format": null,
       "postfix": null,
       "unit_divisor": 1000,
       "initial": 0,
       "colour": null
      }
     },
     "metadata": {},
     "output_type": "display_data"
    },
    {
     "data": {
      "text/plain": "test_batch:   0%|          | 0/1 [00:00<?, ?it/s]",
      "application/vnd.jupyter.widget-view+json": {
       "version_major": 2,
       "version_minor": 0,
       "model_id": "7d4a866ae30d458e9c4ce58bca6d18ac"
      },
      "application/json": {
       "n": 0,
       "total": 1,
       "elapsed": 0.02196812629699707,
       "ncols": null,
       "nrows": null,
       "prefix": "test_batch",
       "ascii": false,
       "unit": "it",
       "unit_scale": false,
       "rate": null,
       "bar_format": null,
       "postfix": null,
       "unit_divisor": 1000,
       "initial": 0,
       "colour": null
      }
     },
     "metadata": {},
     "output_type": "display_data"
    },
    {
     "data": {
      "text/plain": "train_batch:   0%|          | 0/2 [00:00<?, ?it/s]",
      "application/vnd.jupyter.widget-view+json": {
       "version_major": 2,
       "version_minor": 0,
       "model_id": "eb1d2d962f23424fa72740514b55149f"
      },
      "application/json": {
       "n": 0,
       "total": 2,
       "elapsed": 0.022939443588256836,
       "ncols": null,
       "nrows": null,
       "prefix": "train_batch",
       "ascii": false,
       "unit": "it",
       "unit_scale": false,
       "rate": null,
       "bar_format": null,
       "postfix": null,
       "unit_divisor": 1000,
       "initial": 0,
       "colour": null
      }
     },
     "metadata": {},
     "output_type": "display_data"
    },
    {
     "data": {
      "text/plain": "test_batch:   0%|          | 0/1 [00:00<?, ?it/s]",
      "application/vnd.jupyter.widget-view+json": {
       "version_major": 2,
       "version_minor": 0,
       "model_id": "6351653dc640459dabc2805e6ae7853b"
      },
      "application/json": {
       "n": 0,
       "total": 1,
       "elapsed": 0.02241683006286621,
       "ncols": null,
       "nrows": null,
       "prefix": "test_batch",
       "ascii": false,
       "unit": "it",
       "unit_scale": false,
       "rate": null,
       "bar_format": null,
       "postfix": null,
       "unit_divisor": 1000,
       "initial": 0,
       "colour": null
      }
     },
     "metadata": {},
     "output_type": "display_data"
    },
    {
     "name": "stdout",
     "output_type": "stream",
     "text": [
      "--- EPOCH 51/100 ---\n"
     ]
    },
    {
     "data": {
      "text/plain": "train_batch:   0%|          | 0/2 [00:00<?, ?it/s]",
      "application/vnd.jupyter.widget-view+json": {
       "version_major": 2,
       "version_minor": 0,
       "model_id": "555859dd31034f53b86dc85522fae120"
      },
      "application/json": {
       "n": 0,
       "total": 2,
       "elapsed": 0.02592921257019043,
       "ncols": null,
       "nrows": null,
       "prefix": "train_batch",
       "ascii": false,
       "unit": "it",
       "unit_scale": false,
       "rate": null,
       "bar_format": null,
       "postfix": null,
       "unit_divisor": 1000,
       "initial": 0,
       "colour": null
      }
     },
     "metadata": {},
     "output_type": "display_data"
    },
    {
     "data": {
      "text/plain": "test_batch:   0%|          | 0/1 [00:00<?, ?it/s]",
      "application/vnd.jupyter.widget-view+json": {
       "version_major": 2,
       "version_minor": 0,
       "model_id": "e6d94f94527c4d00bd3c44e6306cff34"
      },
      "application/json": {
       "n": 0,
       "total": 1,
       "elapsed": 0.017953157424926758,
       "ncols": null,
       "nrows": null,
       "prefix": "test_batch",
       "ascii": false,
       "unit": "it",
       "unit_scale": false,
       "rate": null,
       "bar_format": null,
       "postfix": null,
       "unit_divisor": 1000,
       "initial": 0,
       "colour": null
      }
     },
     "metadata": {},
     "output_type": "display_data"
    },
    {
     "data": {
      "text/plain": "train_batch:   0%|          | 0/2 [00:00<?, ?it/s]",
      "application/vnd.jupyter.widget-view+json": {
       "version_major": 2,
       "version_minor": 0,
       "model_id": "171b087e6fce46c58494764ff5807db3"
      },
      "application/json": {
       "n": 0,
       "total": 2,
       "elapsed": 0.02892303466796875,
       "ncols": null,
       "nrows": null,
       "prefix": "train_batch",
       "ascii": false,
       "unit": "it",
       "unit_scale": false,
       "rate": null,
       "bar_format": null,
       "postfix": null,
       "unit_divisor": 1000,
       "initial": 0,
       "colour": null
      }
     },
     "metadata": {},
     "output_type": "display_data"
    },
    {
     "data": {
      "text/plain": "test_batch:   0%|          | 0/1 [00:00<?, ?it/s]",
      "application/vnd.jupyter.widget-view+json": {
       "version_major": 2,
       "version_minor": 0,
       "model_id": "a5956cdf1cf44e5397c0eaba828c3612"
      },
      "application/json": {
       "n": 0,
       "total": 1,
       "elapsed": 0.023935794830322266,
       "ncols": null,
       "nrows": null,
       "prefix": "test_batch",
       "ascii": false,
       "unit": "it",
       "unit_scale": false,
       "rate": null,
       "bar_format": null,
       "postfix": null,
       "unit_divisor": 1000,
       "initial": 0,
       "colour": null
      }
     },
     "metadata": {},
     "output_type": "display_data"
    },
    {
     "data": {
      "text/plain": "train_batch:   0%|          | 0/2 [00:00<?, ?it/s]",
      "application/vnd.jupyter.widget-view+json": {
       "version_major": 2,
       "version_minor": 0,
       "model_id": "4daa1fbc8d4f4a30b2bbf10529cc532a"
      },
      "application/json": {
       "n": 0,
       "total": 2,
       "elapsed": 0.024765968322753906,
       "ncols": null,
       "nrows": null,
       "prefix": "train_batch",
       "ascii": false,
       "unit": "it",
       "unit_scale": false,
       "rate": null,
       "bar_format": null,
       "postfix": null,
       "unit_divisor": 1000,
       "initial": 0,
       "colour": null
      }
     },
     "metadata": {},
     "output_type": "display_data"
    },
    {
     "data": {
      "text/plain": "test_batch:   0%|          | 0/1 [00:00<?, ?it/s]",
      "application/vnd.jupyter.widget-view+json": {
       "version_major": 2,
       "version_minor": 0,
       "model_id": "65517271780942ca811514a430702900"
      },
      "application/json": {
       "n": 0,
       "total": 1,
       "elapsed": 0.029917478561401367,
       "ncols": null,
       "nrows": null,
       "prefix": "test_batch",
       "ascii": false,
       "unit": "it",
       "unit_scale": false,
       "rate": null,
       "bar_format": null,
       "postfix": null,
       "unit_divisor": 1000,
       "initial": 0,
       "colour": null
      }
     },
     "metadata": {},
     "output_type": "display_data"
    },
    {
     "data": {
      "text/plain": "train_batch:   0%|          | 0/2 [00:00<?, ?it/s]",
      "application/vnd.jupyter.widget-view+json": {
       "version_major": 2,
       "version_minor": 0,
       "model_id": "29d3734dc229409c84b3e391d08e945d"
      },
      "application/json": {
       "n": 0,
       "total": 2,
       "elapsed": 0.02643585205078125,
       "ncols": null,
       "nrows": null,
       "prefix": "train_batch",
       "ascii": false,
       "unit": "it",
       "unit_scale": false,
       "rate": null,
       "bar_format": null,
       "postfix": null,
       "unit_divisor": 1000,
       "initial": 0,
       "colour": null
      }
     },
     "metadata": {},
     "output_type": "display_data"
    },
    {
     "data": {
      "text/plain": "test_batch:   0%|          | 0/1 [00:00<?, ?it/s]",
      "application/vnd.jupyter.widget-view+json": {
       "version_major": 2,
       "version_minor": 0,
       "model_id": "870278aee0904d69b0a76339e1bb0b3a"
      },
      "application/json": {
       "n": 0,
       "total": 1,
       "elapsed": 0.02593064308166504,
       "ncols": null,
       "nrows": null,
       "prefix": "test_batch",
       "ascii": false,
       "unit": "it",
       "unit_scale": false,
       "rate": null,
       "bar_format": null,
       "postfix": null,
       "unit_divisor": 1000,
       "initial": 0,
       "colour": null
      }
     },
     "metadata": {},
     "output_type": "display_data"
    },
    {
     "data": {
      "text/plain": "train_batch:   0%|          | 0/2 [00:00<?, ?it/s]",
      "application/vnd.jupyter.widget-view+json": {
       "version_major": 2,
       "version_minor": 0,
       "model_id": "b68eff49578f4457a949b16310f779e8"
      },
      "application/json": {
       "n": 0,
       "total": 2,
       "elapsed": 0.03191518783569336,
       "ncols": null,
       "nrows": null,
       "prefix": "train_batch",
       "ascii": false,
       "unit": "it",
       "unit_scale": false,
       "rate": null,
       "bar_format": null,
       "postfix": null,
       "unit_divisor": 1000,
       "initial": 0,
       "colour": null
      }
     },
     "metadata": {},
     "output_type": "display_data"
    },
    {
     "data": {
      "text/plain": "test_batch:   0%|          | 0/1 [00:00<?, ?it/s]",
      "application/vnd.jupyter.widget-view+json": {
       "version_major": 2,
       "version_minor": 0,
       "model_id": "f61b367398c34075b90d829c9f68f8df"
      },
      "application/json": {
       "n": 0,
       "total": 1,
       "elapsed": 0.021112680435180664,
       "ncols": null,
       "nrows": null,
       "prefix": "test_batch",
       "ascii": false,
       "unit": "it",
       "unit_scale": false,
       "rate": null,
       "bar_format": null,
       "postfix": null,
       "unit_divisor": 1000,
       "initial": 0,
       "colour": null
      }
     },
     "metadata": {},
     "output_type": "display_data"
    },
    {
     "data": {
      "text/plain": "train_batch:   0%|          | 0/2 [00:00<?, ?it/s]",
      "application/vnd.jupyter.widget-view+json": {
       "version_major": 2,
       "version_minor": 0,
       "model_id": "32db60061dfb4c3bba08f4e45c22ce8e"
      },
      "application/json": {
       "n": 0,
       "total": 2,
       "elapsed": 0.021770000457763672,
       "ncols": null,
       "nrows": null,
       "prefix": "train_batch",
       "ascii": false,
       "unit": "it",
       "unit_scale": false,
       "rate": null,
       "bar_format": null,
       "postfix": null,
       "unit_divisor": 1000,
       "initial": 0,
       "colour": null
      }
     },
     "metadata": {},
     "output_type": "display_data"
    },
    {
     "data": {
      "text/plain": "test_batch:   0%|          | 0/1 [00:00<?, ?it/s]",
      "application/vnd.jupyter.widget-view+json": {
       "version_major": 2,
       "version_minor": 0,
       "model_id": "d9c4f81f607744ebb3dff2cc556b5fb4"
      },
      "application/json": {
       "n": 0,
       "total": 1,
       "elapsed": 0.022939682006835938,
       "ncols": null,
       "nrows": null,
       "prefix": "test_batch",
       "ascii": false,
       "unit": "it",
       "unit_scale": false,
       "rate": null,
       "bar_format": null,
       "postfix": null,
       "unit_divisor": 1000,
       "initial": 0,
       "colour": null
      }
     },
     "metadata": {},
     "output_type": "display_data"
    },
    {
     "data": {
      "text/plain": "train_batch:   0%|          | 0/2 [00:00<?, ?it/s]",
      "application/vnd.jupyter.widget-view+json": {
       "version_major": 2,
       "version_minor": 0,
       "model_id": "106cd13971a14d9fa22b567d887a1761"
      },
      "application/json": {
       "n": 0,
       "total": 2,
       "elapsed": 0.026927709579467773,
       "ncols": null,
       "nrows": null,
       "prefix": "train_batch",
       "ascii": false,
       "unit": "it",
       "unit_scale": false,
       "rate": null,
       "bar_format": null,
       "postfix": null,
       "unit_divisor": 1000,
       "initial": 0,
       "colour": null
      }
     },
     "metadata": {},
     "output_type": "display_data"
    },
    {
     "data": {
      "text/plain": "test_batch:   0%|          | 0/1 [00:00<?, ?it/s]",
      "application/vnd.jupyter.widget-view+json": {
       "version_major": 2,
       "version_minor": 0,
       "model_id": "6bc75c58d0344e4a94ce9a6ea74412ad"
      },
      "application/json": {
       "n": 0,
       "total": 1,
       "elapsed": 0.01947164535522461,
       "ncols": null,
       "nrows": null,
       "prefix": "test_batch",
       "ascii": false,
       "unit": "it",
       "unit_scale": false,
       "rate": null,
       "bar_format": null,
       "postfix": null,
       "unit_divisor": 1000,
       "initial": 0,
       "colour": null
      }
     },
     "metadata": {},
     "output_type": "display_data"
    },
    {
     "data": {
      "text/plain": "train_batch:   0%|          | 0/2 [00:00<?, ?it/s]",
      "application/vnd.jupyter.widget-view+json": {
       "version_major": 2,
       "version_minor": 0,
       "model_id": "3d787f0a55374d2eb9b560b5a5f97307"
      },
      "application/json": {
       "n": 0,
       "total": 2,
       "elapsed": 0.02732229232788086,
       "ncols": null,
       "nrows": null,
       "prefix": "train_batch",
       "ascii": false,
       "unit": "it",
       "unit_scale": false,
       "rate": null,
       "bar_format": null,
       "postfix": null,
       "unit_divisor": 1000,
       "initial": 0,
       "colour": null
      }
     },
     "metadata": {},
     "output_type": "display_data"
    },
    {
     "data": {
      "text/plain": "test_batch:   0%|          | 0/1 [00:00<?, ?it/s]",
      "application/vnd.jupyter.widget-view+json": {
       "version_major": 2,
       "version_minor": 0,
       "model_id": "84217638264d4652b4b41b8c113c4e95"
      },
      "application/json": {
       "n": 0,
       "total": 1,
       "elapsed": 0.01695990562438965,
       "ncols": null,
       "nrows": null,
       "prefix": "test_batch",
       "ascii": false,
       "unit": "it",
       "unit_scale": false,
       "rate": null,
       "bar_format": null,
       "postfix": null,
       "unit_divisor": 1000,
       "initial": 0,
       "colour": null
      }
     },
     "metadata": {},
     "output_type": "display_data"
    },
    {
     "data": {
      "text/plain": "train_batch:   0%|          | 0/2 [00:00<?, ?it/s]",
      "application/vnd.jupyter.widget-view+json": {
       "version_major": 2,
       "version_minor": 0,
       "model_id": "c30b6b8c611b4899ab89d03d363a60b8"
      },
      "application/json": {
       "n": 0,
       "total": 2,
       "elapsed": 0.0265500545501709,
       "ncols": null,
       "nrows": null,
       "prefix": "train_batch",
       "ascii": false,
       "unit": "it",
       "unit_scale": false,
       "rate": null,
       "bar_format": null,
       "postfix": null,
       "unit_divisor": 1000,
       "initial": 0,
       "colour": null
      }
     },
     "metadata": {},
     "output_type": "display_data"
    },
    {
     "data": {
      "text/plain": "test_batch:   0%|          | 0/1 [00:00<?, ?it/s]",
      "application/vnd.jupyter.widget-view+json": {
       "version_major": 2,
       "version_minor": 0,
       "model_id": "26c43cca512e49029af08949f7512216"
      },
      "application/json": {
       "n": 0,
       "total": 1,
       "elapsed": 0.017952919006347656,
       "ncols": null,
       "nrows": null,
       "prefix": "test_batch",
       "ascii": false,
       "unit": "it",
       "unit_scale": false,
       "rate": null,
       "bar_format": null,
       "postfix": null,
       "unit_divisor": 1000,
       "initial": 0,
       "colour": null
      }
     },
     "metadata": {},
     "output_type": "display_data"
    },
    {
     "data": {
      "text/plain": "train_batch:   0%|          | 0/2 [00:00<?, ?it/s]",
      "application/vnd.jupyter.widget-view+json": {
       "version_major": 2,
       "version_minor": 0,
       "model_id": "0c8dc831c055435596d20ab0cd2baab4"
      },
      "application/json": {
       "n": 0,
       "total": 2,
       "elapsed": 0.026989221572875977,
       "ncols": null,
       "nrows": null,
       "prefix": "train_batch",
       "ascii": false,
       "unit": "it",
       "unit_scale": false,
       "rate": null,
       "bar_format": null,
       "postfix": null,
       "unit_divisor": 1000,
       "initial": 0,
       "colour": null
      }
     },
     "metadata": {},
     "output_type": "display_data"
    },
    {
     "data": {
      "text/plain": "test_batch:   0%|          | 0/1 [00:00<?, ?it/s]",
      "application/vnd.jupyter.widget-view+json": {
       "version_major": 2,
       "version_minor": 0,
       "model_id": "d6df9449df624be5b895b4e4d7611737"
      },
      "application/json": {
       "n": 0,
       "total": 1,
       "elapsed": 0.022937774658203125,
       "ncols": null,
       "nrows": null,
       "prefix": "test_batch",
       "ascii": false,
       "unit": "it",
       "unit_scale": false,
       "rate": null,
       "bar_format": null,
       "postfix": null,
       "unit_divisor": 1000,
       "initial": 0,
       "colour": null
      }
     },
     "metadata": {},
     "output_type": "display_data"
    },
    {
     "name": "stdout",
     "output_type": "stream",
     "text": [
      "--- EPOCH 61/100 ---\n"
     ]
    },
    {
     "data": {
      "text/plain": "train_batch:   0%|          | 0/2 [00:00<?, ?it/s]",
      "application/vnd.jupyter.widget-view+json": {
       "version_major": 2,
       "version_minor": 0,
       "model_id": "594a6410c6384aa0a90773d94fc40aa9"
      },
      "application/json": {
       "n": 0,
       "total": 2,
       "elapsed": 0.025933027267456055,
       "ncols": null,
       "nrows": null,
       "prefix": "train_batch",
       "ascii": false,
       "unit": "it",
       "unit_scale": false,
       "rate": null,
       "bar_format": null,
       "postfix": null,
       "unit_divisor": 1000,
       "initial": 0,
       "colour": null
      }
     },
     "metadata": {},
     "output_type": "display_data"
    },
    {
     "data": {
      "text/plain": "test_batch:   0%|          | 0/1 [00:00<?, ?it/s]",
      "application/vnd.jupyter.widget-view+json": {
       "version_major": 2,
       "version_minor": 0,
       "model_id": "1d1dd3e3d550408391fdbac0992f9688"
      },
      "application/json": {
       "n": 0,
       "total": 1,
       "elapsed": 0.02094411849975586,
       "ncols": null,
       "nrows": null,
       "prefix": "test_batch",
       "ascii": false,
       "unit": "it",
       "unit_scale": false,
       "rate": null,
       "bar_format": null,
       "postfix": null,
       "unit_divisor": 1000,
       "initial": 0,
       "colour": null
      }
     },
     "metadata": {},
     "output_type": "display_data"
    },
    {
     "data": {
      "text/plain": "train_batch:   0%|          | 0/2 [00:00<?, ?it/s]",
      "application/vnd.jupyter.widget-view+json": {
       "version_major": 2,
       "version_minor": 0,
       "model_id": "883b392f368145039518f3985d95a49d"
      },
      "application/json": {
       "n": 0,
       "total": 2,
       "elapsed": 0.02623915672302246,
       "ncols": null,
       "nrows": null,
       "prefix": "train_batch",
       "ascii": false,
       "unit": "it",
       "unit_scale": false,
       "rate": null,
       "bar_format": null,
       "postfix": null,
       "unit_divisor": 1000,
       "initial": 0,
       "colour": null
      }
     },
     "metadata": {},
     "output_type": "display_data"
    },
    {
     "data": {
      "text/plain": "test_batch:   0%|          | 0/1 [00:00<?, ?it/s]",
      "application/vnd.jupyter.widget-view+json": {
       "version_major": 2,
       "version_minor": 0,
       "model_id": "fb8eb83b9b00459d99708f6b55fc54f0"
      },
      "application/json": {
       "n": 0,
       "total": 1,
       "elapsed": 0.020951032638549805,
       "ncols": null,
       "nrows": null,
       "prefix": "test_batch",
       "ascii": false,
       "unit": "it",
       "unit_scale": false,
       "rate": null,
       "bar_format": null,
       "postfix": null,
       "unit_divisor": 1000,
       "initial": 0,
       "colour": null
      }
     },
     "metadata": {},
     "output_type": "display_data"
    },
    {
     "data": {
      "text/plain": "train_batch:   0%|          | 0/2 [00:00<?, ?it/s]",
      "application/vnd.jupyter.widget-view+json": {
       "version_major": 2,
       "version_minor": 0,
       "model_id": "a208a26568ae44e38280b8040e4964c2"
      },
      "application/json": {
       "n": 0,
       "total": 2,
       "elapsed": 0.027925491333007812,
       "ncols": null,
       "nrows": null,
       "prefix": "train_batch",
       "ascii": false,
       "unit": "it",
       "unit_scale": false,
       "rate": null,
       "bar_format": null,
       "postfix": null,
       "unit_divisor": 1000,
       "initial": 0,
       "colour": null
      }
     },
     "metadata": {},
     "output_type": "display_data"
    },
    {
     "data": {
      "text/plain": "test_batch:   0%|          | 0/1 [00:00<?, ?it/s]",
      "application/vnd.jupyter.widget-view+json": {
       "version_major": 2,
       "version_minor": 0,
       "model_id": "27277e4b09514e29ab50d8a58f482cc0"
      },
      "application/json": {
       "n": 0,
       "total": 1,
       "elapsed": 0.02991771697998047,
       "ncols": null,
       "nrows": null,
       "prefix": "test_batch",
       "ascii": false,
       "unit": "it",
       "unit_scale": false,
       "rate": null,
       "bar_format": null,
       "postfix": null,
       "unit_divisor": 1000,
       "initial": 0,
       "colour": null
      }
     },
     "metadata": {},
     "output_type": "display_data"
    },
    {
     "data": {
      "text/plain": "train_batch:   0%|          | 0/2 [00:00<?, ?it/s]",
      "application/vnd.jupyter.widget-view+json": {
       "version_major": 2,
       "version_minor": 0,
       "model_id": "06072cba32344201bc2ffc510c42fbbd"
      },
      "application/json": {
       "n": 0,
       "total": 2,
       "elapsed": 0.018361330032348633,
       "ncols": null,
       "nrows": null,
       "prefix": "train_batch",
       "ascii": false,
       "unit": "it",
       "unit_scale": false,
       "rate": null,
       "bar_format": null,
       "postfix": null,
       "unit_divisor": 1000,
       "initial": 0,
       "colour": null
      }
     },
     "metadata": {},
     "output_type": "display_data"
    },
    {
     "data": {
      "text/plain": "test_batch:   0%|          | 0/1 [00:00<?, ?it/s]",
      "application/vnd.jupyter.widget-view+json": {
       "version_major": 2,
       "version_minor": 0,
       "model_id": "1f1ace7838454af59fac66fe68b7024d"
      },
      "application/json": {
       "n": 0,
       "total": 1,
       "elapsed": 0.03191399574279785,
       "ncols": null,
       "nrows": null,
       "prefix": "test_batch",
       "ascii": false,
       "unit": "it",
       "unit_scale": false,
       "rate": null,
       "bar_format": null,
       "postfix": null,
       "unit_divisor": 1000,
       "initial": 0,
       "colour": null
      }
     },
     "metadata": {},
     "output_type": "display_data"
    },
    {
     "data": {
      "text/plain": "train_batch:   0%|          | 0/2 [00:00<?, ?it/s]",
      "application/vnd.jupyter.widget-view+json": {
       "version_major": 2,
       "version_minor": 0,
       "model_id": "4264fece44ff4d179d2a3b0f5f3ff9f2"
      },
      "application/json": {
       "n": 0,
       "total": 2,
       "elapsed": 0.020943641662597656,
       "ncols": null,
       "nrows": null,
       "prefix": "train_batch",
       "ascii": false,
       "unit": "it",
       "unit_scale": false,
       "rate": null,
       "bar_format": null,
       "postfix": null,
       "unit_divisor": 1000,
       "initial": 0,
       "colour": null
      }
     },
     "metadata": {},
     "output_type": "display_data"
    },
    {
     "data": {
      "text/plain": "test_batch:   0%|          | 0/1 [00:00<?, ?it/s]",
      "application/vnd.jupyter.widget-view+json": {
       "version_major": 2,
       "version_minor": 0,
       "model_id": "30f65459661c4e03a2aa38287fcdff17"
      },
      "application/json": {
       "n": 0,
       "total": 1,
       "elapsed": 0.01695418357849121,
       "ncols": null,
       "nrows": null,
       "prefix": "test_batch",
       "ascii": false,
       "unit": "it",
       "unit_scale": false,
       "rate": null,
       "bar_format": null,
       "postfix": null,
       "unit_divisor": 1000,
       "initial": 0,
       "colour": null
      }
     },
     "metadata": {},
     "output_type": "display_data"
    },
    {
     "data": {
      "text/plain": "train_batch:   0%|          | 0/2 [00:00<?, ?it/s]",
      "application/vnd.jupyter.widget-view+json": {
       "version_major": 2,
       "version_minor": 0,
       "model_id": "78f2b17ffd2949d99ac3763672f4f1ec"
      },
      "application/json": {
       "n": 0,
       "total": 2,
       "elapsed": 0.024938344955444336,
       "ncols": null,
       "nrows": null,
       "prefix": "train_batch",
       "ascii": false,
       "unit": "it",
       "unit_scale": false,
       "rate": null,
       "bar_format": null,
       "postfix": null,
       "unit_divisor": 1000,
       "initial": 0,
       "colour": null
      }
     },
     "metadata": {},
     "output_type": "display_data"
    },
    {
     "data": {
      "text/plain": "test_batch:   0%|          | 0/1 [00:00<?, ?it/s]",
      "application/vnd.jupyter.widget-view+json": {
       "version_major": 2,
       "version_minor": 0,
       "model_id": "e8e4315ab9ee4044a9d9624c570a02b7"
      },
      "application/json": {
       "n": 0,
       "total": 1,
       "elapsed": 0.026927471160888672,
       "ncols": null,
       "nrows": null,
       "prefix": "test_batch",
       "ascii": false,
       "unit": "it",
       "unit_scale": false,
       "rate": null,
       "bar_format": null,
       "postfix": null,
       "unit_divisor": 1000,
       "initial": 0,
       "colour": null
      }
     },
     "metadata": {},
     "output_type": "display_data"
    },
    {
     "data": {
      "text/plain": "train_batch:   0%|          | 0/2 [00:00<?, ?it/s]",
      "application/vnd.jupyter.widget-view+json": {
       "version_major": 2,
       "version_minor": 0,
       "model_id": "50c2c44d07fc42869d65263975546846"
      },
      "application/json": {
       "n": 0,
       "total": 2,
       "elapsed": 0.022938013076782227,
       "ncols": null,
       "nrows": null,
       "prefix": "train_batch",
       "ascii": false,
       "unit": "it",
       "unit_scale": false,
       "rate": null,
       "bar_format": null,
       "postfix": null,
       "unit_divisor": 1000,
       "initial": 0,
       "colour": null
      }
     },
     "metadata": {},
     "output_type": "display_data"
    },
    {
     "data": {
      "text/plain": "test_batch:   0%|          | 0/1 [00:00<?, ?it/s]",
      "application/vnd.jupyter.widget-view+json": {
       "version_major": 2,
       "version_minor": 0,
       "model_id": "62ab7d0ac8b54f09a452ea3f44343b07"
      },
      "application/json": {
       "n": 0,
       "total": 1,
       "elapsed": 0.028185606002807617,
       "ncols": null,
       "nrows": null,
       "prefix": "test_batch",
       "ascii": false,
       "unit": "it",
       "unit_scale": false,
       "rate": null,
       "bar_format": null,
       "postfix": null,
       "unit_divisor": 1000,
       "initial": 0,
       "colour": null
      }
     },
     "metadata": {},
     "output_type": "display_data"
    },
    {
     "data": {
      "text/plain": "train_batch:   0%|          | 0/2 [00:00<?, ?it/s]",
      "application/vnd.jupyter.widget-view+json": {
       "version_major": 2,
       "version_minor": 0,
       "model_id": "46829f0b040241d5ab2a2d73e49468b9"
      },
      "application/json": {
       "n": 0,
       "total": 2,
       "elapsed": 0.026927947998046875,
       "ncols": null,
       "nrows": null,
       "prefix": "train_batch",
       "ascii": false,
       "unit": "it",
       "unit_scale": false,
       "rate": null,
       "bar_format": null,
       "postfix": null,
       "unit_divisor": 1000,
       "initial": 0,
       "colour": null
      }
     },
     "metadata": {},
     "output_type": "display_data"
    },
    {
     "data": {
      "text/plain": "test_batch:   0%|          | 0/1 [00:00<?, ?it/s]",
      "application/vnd.jupyter.widget-view+json": {
       "version_major": 2,
       "version_minor": 0,
       "model_id": "aa69b946ba154a4eb668c33643b1e28f"
      },
      "application/json": {
       "n": 0,
       "total": 1,
       "elapsed": 0.017060518264770508,
       "ncols": null,
       "nrows": null,
       "prefix": "test_batch",
       "ascii": false,
       "unit": "it",
       "unit_scale": false,
       "rate": null,
       "bar_format": null,
       "postfix": null,
       "unit_divisor": 1000,
       "initial": 0,
       "colour": null
      }
     },
     "metadata": {},
     "output_type": "display_data"
    },
    {
     "data": {
      "text/plain": "train_batch:   0%|          | 0/2 [00:00<?, ?it/s]",
      "application/vnd.jupyter.widget-view+json": {
       "version_major": 2,
       "version_minor": 0,
       "model_id": "704767c7ea014916bf867dcbe921d418"
      },
      "application/json": {
       "n": 0,
       "total": 2,
       "elapsed": 0.022938251495361328,
       "ncols": null,
       "nrows": null,
       "prefix": "train_batch",
       "ascii": false,
       "unit": "it",
       "unit_scale": false,
       "rate": null,
       "bar_format": null,
       "postfix": null,
       "unit_divisor": 1000,
       "initial": 0,
       "colour": null
      }
     },
     "metadata": {},
     "output_type": "display_data"
    },
    {
     "data": {
      "text/plain": "test_batch:   0%|          | 0/1 [00:00<?, ?it/s]",
      "application/vnd.jupyter.widget-view+json": {
       "version_major": 2,
       "version_minor": 0,
       "model_id": "9acbe7862029474891a61960eaebb6b3"
      },
      "application/json": {
       "n": 0,
       "total": 1,
       "elapsed": 0.019947528839111328,
       "ncols": null,
       "nrows": null,
       "prefix": "test_batch",
       "ascii": false,
       "unit": "it",
       "unit_scale": false,
       "rate": null,
       "bar_format": null,
       "postfix": null,
       "unit_divisor": 1000,
       "initial": 0,
       "colour": null
      }
     },
     "metadata": {},
     "output_type": "display_data"
    },
    {
     "data": {
      "text/plain": "train_batch:   0%|          | 0/2 [00:00<?, ?it/s]",
      "application/vnd.jupyter.widget-view+json": {
       "version_major": 2,
       "version_minor": 0,
       "model_id": "8df6bf05bae04b5a81f6f0819cb52f92"
      },
      "application/json": {
       "n": 0,
       "total": 2,
       "elapsed": 0.02593231201171875,
       "ncols": null,
       "nrows": null,
       "prefix": "train_batch",
       "ascii": false,
       "unit": "it",
       "unit_scale": false,
       "rate": null,
       "bar_format": null,
       "postfix": null,
       "unit_divisor": 1000,
       "initial": 0,
       "colour": null
      }
     },
     "metadata": {},
     "output_type": "display_data"
    },
    {
     "data": {
      "text/plain": "test_batch:   0%|          | 0/1 [00:00<?, ?it/s]",
      "application/vnd.jupyter.widget-view+json": {
       "version_major": 2,
       "version_minor": 0,
       "model_id": "374c622d20eb489ca779ff761bb0911c"
      },
      "application/json": {
       "n": 0,
       "total": 1,
       "elapsed": 0.022938013076782227,
       "ncols": null,
       "nrows": null,
       "prefix": "test_batch",
       "ascii": false,
       "unit": "it",
       "unit_scale": false,
       "rate": null,
       "bar_format": null,
       "postfix": null,
       "unit_divisor": 1000,
       "initial": 0,
       "colour": null
      }
     },
     "metadata": {},
     "output_type": "display_data"
    },
    {
     "name": "stdout",
     "output_type": "stream",
     "text": [
      "--- EPOCH 71/100 ---\n"
     ]
    },
    {
     "data": {
      "text/plain": "train_batch:   0%|          | 0/2 [00:00<?, ?it/s]",
      "application/vnd.jupyter.widget-view+json": {
       "version_major": 2,
       "version_minor": 0,
       "model_id": "e7c8bc40c7bc4401b20f7991b88b71db"
      },
      "application/json": {
       "n": 0,
       "total": 2,
       "elapsed": 0.02215409278869629,
       "ncols": null,
       "nrows": null,
       "prefix": "train_batch",
       "ascii": false,
       "unit": "it",
       "unit_scale": false,
       "rate": null,
       "bar_format": null,
       "postfix": null,
       "unit_divisor": 1000,
       "initial": 0,
       "colour": null
      }
     },
     "metadata": {},
     "output_type": "display_data"
    },
    {
     "data": {
      "text/plain": "test_batch:   0%|          | 0/1 [00:00<?, ?it/s]",
      "application/vnd.jupyter.widget-view+json": {
       "version_major": 2,
       "version_minor": 0,
       "model_id": "acddb115a09b47b0855fe09ee010289c"
      },
      "application/json": {
       "n": 0,
       "total": 1,
       "elapsed": 0.02493596076965332,
       "ncols": null,
       "nrows": null,
       "prefix": "test_batch",
       "ascii": false,
       "unit": "it",
       "unit_scale": false,
       "rate": null,
       "bar_format": null,
       "postfix": null,
       "unit_divisor": 1000,
       "initial": 0,
       "colour": null
      }
     },
     "metadata": {},
     "output_type": "display_data"
    },
    {
     "data": {
      "text/plain": "train_batch:   0%|          | 0/2 [00:00<?, ?it/s]",
      "application/vnd.jupyter.widget-view+json": {
       "version_major": 2,
       "version_minor": 0,
       "model_id": "0bc63b97f3ab43e9b7b3bed90458973f"
      },
      "application/json": {
       "n": 0,
       "total": 2,
       "elapsed": 0.023925304412841797,
       "ncols": null,
       "nrows": null,
       "prefix": "train_batch",
       "ascii": false,
       "unit": "it",
       "unit_scale": false,
       "rate": null,
       "bar_format": null,
       "postfix": null,
       "unit_divisor": 1000,
       "initial": 0,
       "colour": null
      }
     },
     "metadata": {},
     "output_type": "display_data"
    },
    {
     "data": {
      "text/plain": "test_batch:   0%|          | 0/1 [00:00<?, ?it/s]",
      "application/vnd.jupyter.widget-view+json": {
       "version_major": 2,
       "version_minor": 0,
       "model_id": "93e70af602da454baa568fec04430cf5"
      },
      "application/json": {
       "n": 0,
       "total": 1,
       "elapsed": 0.01795172691345215,
       "ncols": null,
       "nrows": null,
       "prefix": "test_batch",
       "ascii": false,
       "unit": "it",
       "unit_scale": false,
       "rate": null,
       "bar_format": null,
       "postfix": null,
       "unit_divisor": 1000,
       "initial": 0,
       "colour": null
      }
     },
     "metadata": {},
     "output_type": "display_data"
    },
    {
     "data": {
      "text/plain": "train_batch:   0%|          | 0/2 [00:00<?, ?it/s]",
      "application/vnd.jupyter.widget-view+json": {
       "version_major": 2,
       "version_minor": 0,
       "model_id": "9c787f518a394b51942cfe88b8576845"
      },
      "application/json": {
       "n": 0,
       "total": 2,
       "elapsed": 0.02593064308166504,
       "ncols": null,
       "nrows": null,
       "prefix": "train_batch",
       "ascii": false,
       "unit": "it",
       "unit_scale": false,
       "rate": null,
       "bar_format": null,
       "postfix": null,
       "unit_divisor": 1000,
       "initial": 0,
       "colour": null
      }
     },
     "metadata": {},
     "output_type": "display_data"
    },
    {
     "data": {
      "text/plain": "test_batch:   0%|          | 0/1 [00:00<?, ?it/s]",
      "application/vnd.jupyter.widget-view+json": {
       "version_major": 2,
       "version_minor": 0,
       "model_id": "d4092e71b6714a6b9b743f45b9d1909c"
      },
      "application/json": {
       "n": 0,
       "total": 1,
       "elapsed": 0.02216506004333496,
       "ncols": null,
       "nrows": null,
       "prefix": "test_batch",
       "ascii": false,
       "unit": "it",
       "unit_scale": false,
       "rate": null,
       "bar_format": null,
       "postfix": null,
       "unit_divisor": 1000,
       "initial": 0,
       "colour": null
      }
     },
     "metadata": {},
     "output_type": "display_data"
    },
    {
     "data": {
      "text/plain": "train_batch:   0%|          | 0/2 [00:00<?, ?it/s]",
      "application/vnd.jupyter.widget-view+json": {
       "version_major": 2,
       "version_minor": 0,
       "model_id": "8f8b589e3ecf454fb3b79f57cc229396"
      },
      "application/json": {
       "n": 0,
       "total": 2,
       "elapsed": 0.0284268856048584,
       "ncols": null,
       "nrows": null,
       "prefix": "train_batch",
       "ascii": false,
       "unit": "it",
       "unit_scale": false,
       "rate": null,
       "bar_format": null,
       "postfix": null,
       "unit_divisor": 1000,
       "initial": 0,
       "colour": null
      }
     },
     "metadata": {},
     "output_type": "display_data"
    },
    {
     "data": {
      "text/plain": "test_batch:   0%|          | 0/1 [00:00<?, ?it/s]",
      "application/vnd.jupyter.widget-view+json": {
       "version_major": 2,
       "version_minor": 0,
       "model_id": "72e6c0d684b34cfcafa02046e85b333b"
      },
      "application/json": {
       "n": 0,
       "total": 1,
       "elapsed": 0.021941184997558594,
       "ncols": null,
       "nrows": null,
       "prefix": "test_batch",
       "ascii": false,
       "unit": "it",
       "unit_scale": false,
       "rate": null,
       "bar_format": null,
       "postfix": null,
       "unit_divisor": 1000,
       "initial": 0,
       "colour": null
      }
     },
     "metadata": {},
     "output_type": "display_data"
    },
    {
     "data": {
      "text/plain": "train_batch:   0%|          | 0/2 [00:00<?, ?it/s]",
      "application/vnd.jupyter.widget-view+json": {
       "version_major": 2,
       "version_minor": 0,
       "model_id": "016211de41aa4b1e8eba72f2b43d13ae"
      },
      "application/json": {
       "n": 0,
       "total": 2,
       "elapsed": 0.026936769485473633,
       "ncols": null,
       "nrows": null,
       "prefix": "train_batch",
       "ascii": false,
       "unit": "it",
       "unit_scale": false,
       "rate": null,
       "bar_format": null,
       "postfix": null,
       "unit_divisor": 1000,
       "initial": 0,
       "colour": null
      }
     },
     "metadata": {},
     "output_type": "display_data"
    },
    {
     "data": {
      "text/plain": "test_batch:   0%|          | 0/1 [00:00<?, ?it/s]",
      "application/vnd.jupyter.widget-view+json": {
       "version_major": 2,
       "version_minor": 0,
       "model_id": "60018135e4a24271a7b2f633d04c6ae1"
      },
      "application/json": {
       "n": 0,
       "total": 1,
       "elapsed": 0.018084049224853516,
       "ncols": null,
       "nrows": null,
       "prefix": "test_batch",
       "ascii": false,
       "unit": "it",
       "unit_scale": false,
       "rate": null,
       "bar_format": null,
       "postfix": null,
       "unit_divisor": 1000,
       "initial": 0,
       "colour": null
      }
     },
     "metadata": {},
     "output_type": "display_data"
    },
    {
     "data": {
      "text/plain": "train_batch:   0%|          | 0/2 [00:00<?, ?it/s]",
      "application/vnd.jupyter.widget-view+json": {
       "version_major": 2,
       "version_minor": 0,
       "model_id": "fbb98cadc7a4464a8e27efbbebd91b22"
      },
      "application/json": {
       "n": 0,
       "total": 2,
       "elapsed": 0.021941184997558594,
       "ncols": null,
       "nrows": null,
       "prefix": "train_batch",
       "ascii": false,
       "unit": "it",
       "unit_scale": false,
       "rate": null,
       "bar_format": null,
       "postfix": null,
       "unit_divisor": 1000,
       "initial": 0,
       "colour": null
      }
     },
     "metadata": {},
     "output_type": "display_data"
    },
    {
     "data": {
      "text/plain": "test_batch:   0%|          | 0/1 [00:00<?, ?it/s]",
      "application/vnd.jupyter.widget-view+json": {
       "version_major": 2,
       "version_minor": 0,
       "model_id": "27a7b8c36d064bac83717d67af7952d7"
      },
      "application/json": {
       "n": 0,
       "total": 1,
       "elapsed": 0.02593064308166504,
       "ncols": null,
       "nrows": null,
       "prefix": "test_batch",
       "ascii": false,
       "unit": "it",
       "unit_scale": false,
       "rate": null,
       "bar_format": null,
       "postfix": null,
       "unit_divisor": 1000,
       "initial": 0,
       "colour": null
      }
     },
     "metadata": {},
     "output_type": "display_data"
    },
    {
     "data": {
      "text/plain": "train_batch:   0%|          | 0/2 [00:00<?, ?it/s]",
      "application/vnd.jupyter.widget-view+json": {
       "version_major": 2,
       "version_minor": 0,
       "model_id": "f4d4b64c5819445987840159af6756b2"
      },
      "application/json": {
       "n": 0,
       "total": 2,
       "elapsed": 0.018949270248413086,
       "ncols": null,
       "nrows": null,
       "prefix": "train_batch",
       "ascii": false,
       "unit": "it",
       "unit_scale": false,
       "rate": null,
       "bar_format": null,
       "postfix": null,
       "unit_divisor": 1000,
       "initial": 0,
       "colour": null
      }
     },
     "metadata": {},
     "output_type": "display_data"
    },
    {
     "data": {
      "text/plain": "test_batch:   0%|          | 0/1 [00:00<?, ?it/s]",
      "application/vnd.jupyter.widget-view+json": {
       "version_major": 2,
       "version_minor": 0,
       "model_id": "b36fa67333fe42b497f8922741a3a439"
      },
      "application/json": {
       "n": 0,
       "total": 1,
       "elapsed": 0.021944046020507812,
       "ncols": null,
       "nrows": null,
       "prefix": "test_batch",
       "ascii": false,
       "unit": "it",
       "unit_scale": false,
       "rate": null,
       "bar_format": null,
       "postfix": null,
       "unit_divisor": 1000,
       "initial": 0,
       "colour": null
      }
     },
     "metadata": {},
     "output_type": "display_data"
    },
    {
     "data": {
      "text/plain": "train_batch:   0%|          | 0/2 [00:00<?, ?it/s]",
      "application/vnd.jupyter.widget-view+json": {
       "version_major": 2,
       "version_minor": 0,
       "model_id": "42a13c86139c48adbd574df6238870ab"
      },
      "application/json": {
       "n": 0,
       "total": 2,
       "elapsed": 0.02692890167236328,
       "ncols": null,
       "nrows": null,
       "prefix": "train_batch",
       "ascii": false,
       "unit": "it",
       "unit_scale": false,
       "rate": null,
       "bar_format": null,
       "postfix": null,
       "unit_divisor": 1000,
       "initial": 0,
       "colour": null
      }
     },
     "metadata": {},
     "output_type": "display_data"
    },
    {
     "data": {
      "text/plain": "test_batch:   0%|          | 0/1 [00:00<?, ?it/s]",
      "application/vnd.jupyter.widget-view+json": {
       "version_major": 2,
       "version_minor": 0,
       "model_id": "2f770dad9ebb417ebeacfa6f611221c1"
      },
      "application/json": {
       "n": 0,
       "total": 1,
       "elapsed": 0.024935007095336914,
       "ncols": null,
       "nrows": null,
       "prefix": "test_batch",
       "ascii": false,
       "unit": "it",
       "unit_scale": false,
       "rate": null,
       "bar_format": null,
       "postfix": null,
       "unit_divisor": 1000,
       "initial": 0,
       "colour": null
      }
     },
     "metadata": {},
     "output_type": "display_data"
    },
    {
     "data": {
      "text/plain": "train_batch:   0%|          | 0/2 [00:00<?, ?it/s]",
      "application/vnd.jupyter.widget-view+json": {
       "version_major": 2,
       "version_minor": 0,
       "model_id": "10bc3f94dd9a4eeb9ce03f28fcf326c9"
      },
      "application/json": {
       "n": 0,
       "total": 2,
       "elapsed": 0.02293848991394043,
       "ncols": null,
       "nrows": null,
       "prefix": "train_batch",
       "ascii": false,
       "unit": "it",
       "unit_scale": false,
       "rate": null,
       "bar_format": null,
       "postfix": null,
       "unit_divisor": 1000,
       "initial": 0,
       "colour": null
      }
     },
     "metadata": {},
     "output_type": "display_data"
    },
    {
     "data": {
      "text/plain": "test_batch:   0%|          | 0/1 [00:00<?, ?it/s]",
      "application/vnd.jupyter.widget-view+json": {
       "version_major": 2,
       "version_minor": 0,
       "model_id": "14959086408b46edb5aaf2c5ca9f66d9"
      },
      "application/json": {
       "n": 0,
       "total": 1,
       "elapsed": 0.024933815002441406,
       "ncols": null,
       "nrows": null,
       "prefix": "test_batch",
       "ascii": false,
       "unit": "it",
       "unit_scale": false,
       "rate": null,
       "bar_format": null,
       "postfix": null,
       "unit_divisor": 1000,
       "initial": 0,
       "colour": null
      }
     },
     "metadata": {},
     "output_type": "display_data"
    },
    {
     "data": {
      "text/plain": "train_batch:   0%|          | 0/2 [00:00<?, ?it/s]",
      "application/vnd.jupyter.widget-view+json": {
       "version_major": 2,
       "version_minor": 0,
       "model_id": "2e9b53eec3504492a401233a04eb66bc"
      },
      "application/json": {
       "n": 0,
       "total": 2,
       "elapsed": 0.029918670654296875,
       "ncols": null,
       "nrows": null,
       "prefix": "train_batch",
       "ascii": false,
       "unit": "it",
       "unit_scale": false,
       "rate": null,
       "bar_format": null,
       "postfix": null,
       "unit_divisor": 1000,
       "initial": 0,
       "colour": null
      }
     },
     "metadata": {},
     "output_type": "display_data"
    },
    {
     "data": {
      "text/plain": "test_batch:   0%|          | 0/1 [00:00<?, ?it/s]",
      "application/vnd.jupyter.widget-view+json": {
       "version_major": 2,
       "version_minor": 0,
       "model_id": "328b5bd5edea4299a23dbd985725c616"
      },
      "application/json": {
       "n": 0,
       "total": 1,
       "elapsed": 0.019940853118896484,
       "ncols": null,
       "nrows": null,
       "prefix": "test_batch",
       "ascii": false,
       "unit": "it",
       "unit_scale": false,
       "rate": null,
       "bar_format": null,
       "postfix": null,
       "unit_divisor": 1000,
       "initial": 0,
       "colour": null
      }
     },
     "metadata": {},
     "output_type": "display_data"
    },
    {
     "name": "stdout",
     "output_type": "stream",
     "text": [
      "--- EPOCH 81/100 ---\n"
     ]
    },
    {
     "data": {
      "text/plain": "train_batch:   0%|          | 0/2 [00:00<?, ?it/s]",
      "application/vnd.jupyter.widget-view+json": {
       "version_major": 2,
       "version_minor": 0,
       "model_id": "d8bef802c03b4cfb9de82f38c456b648"
      },
      "application/json": {
       "n": 0,
       "total": 2,
       "elapsed": 0.01994633674621582,
       "ncols": null,
       "nrows": null,
       "prefix": "train_batch",
       "ascii": false,
       "unit": "it",
       "unit_scale": false,
       "rate": null,
       "bar_format": null,
       "postfix": null,
       "unit_divisor": 1000,
       "initial": 0,
       "colour": null
      }
     },
     "metadata": {},
     "output_type": "display_data"
    },
    {
     "data": {
      "text/plain": "test_batch:   0%|          | 0/1 [00:00<?, ?it/s]",
      "application/vnd.jupyter.widget-view+json": {
       "version_major": 2,
       "version_minor": 0,
       "model_id": "b6bfb1227e1041bfa902e1b24a5a0eef"
      },
      "application/json": {
       "n": 0,
       "total": 1,
       "elapsed": 0.02089524269104004,
       "ncols": null,
       "nrows": null,
       "prefix": "test_batch",
       "ascii": false,
       "unit": "it",
       "unit_scale": false,
       "rate": null,
       "bar_format": null,
       "postfix": null,
       "unit_divisor": 1000,
       "initial": 0,
       "colour": null
      }
     },
     "metadata": {},
     "output_type": "display_data"
    },
    {
     "data": {
      "text/plain": "train_batch:   0%|          | 0/2 [00:00<?, ?it/s]",
      "application/vnd.jupyter.widget-view+json": {
       "version_major": 2,
       "version_minor": 0,
       "model_id": "7e0b2715187e49e895cfaaa060fa9376"
      },
      "application/json": {
       "n": 0,
       "total": 2,
       "elapsed": 0.02792501449584961,
       "ncols": null,
       "nrows": null,
       "prefix": "train_batch",
       "ascii": false,
       "unit": "it",
       "unit_scale": false,
       "rate": null,
       "bar_format": null,
       "postfix": null,
       "unit_divisor": 1000,
       "initial": 0,
       "colour": null
      }
     },
     "metadata": {},
     "output_type": "display_data"
    },
    {
     "data": {
      "text/plain": "test_batch:   0%|          | 0/1 [00:00<?, ?it/s]",
      "application/vnd.jupyter.widget-view+json": {
       "version_major": 2,
       "version_minor": 0,
       "model_id": "e6a46bdf82cc4e399171a048e1151931"
      },
      "application/json": {
       "n": 0,
       "total": 1,
       "elapsed": 0.025960445404052734,
       "ncols": null,
       "nrows": null,
       "prefix": "test_batch",
       "ascii": false,
       "unit": "it",
       "unit_scale": false,
       "rate": null,
       "bar_format": null,
       "postfix": null,
       "unit_divisor": 1000,
       "initial": 0,
       "colour": null
      }
     },
     "metadata": {},
     "output_type": "display_data"
    },
    {
     "data": {
      "text/plain": "train_batch:   0%|          | 0/2 [00:00<?, ?it/s]",
      "application/vnd.jupyter.widget-view+json": {
       "version_major": 2,
       "version_minor": 0,
       "model_id": "ea491d3d16d94eb1999a6890539e6d91"
      },
      "application/json": {
       "n": 0,
       "total": 2,
       "elapsed": 0.024933576583862305,
       "ncols": null,
       "nrows": null,
       "prefix": "train_batch",
       "ascii": false,
       "unit": "it",
       "unit_scale": false,
       "rate": null,
       "bar_format": null,
       "postfix": null,
       "unit_divisor": 1000,
       "initial": 0,
       "colour": null
      }
     },
     "metadata": {},
     "output_type": "display_data"
    },
    {
     "data": {
      "text/plain": "test_batch:   0%|          | 0/1 [00:00<?, ?it/s]",
      "application/vnd.jupyter.widget-view+json": {
       "version_major": 2,
       "version_minor": 0,
       "model_id": "304b9f18bca54e43ac7b59cc36491229"
      },
      "application/json": {
       "n": 0,
       "total": 1,
       "elapsed": 0.025344371795654297,
       "ncols": null,
       "nrows": null,
       "prefix": "test_batch",
       "ascii": false,
       "unit": "it",
       "unit_scale": false,
       "rate": null,
       "bar_format": null,
       "postfix": null,
       "unit_divisor": 1000,
       "initial": 0,
       "colour": null
      }
     },
     "metadata": {},
     "output_type": "display_data"
    },
    {
     "data": {
      "text/plain": "train_batch:   0%|          | 0/2 [00:00<?, ?it/s]",
      "application/vnd.jupyter.widget-view+json": {
       "version_major": 2,
       "version_minor": 0,
       "model_id": "739776289dc049408bb27689df526c5c"
      },
      "application/json": {
       "n": 0,
       "total": 2,
       "elapsed": 0.029921770095825195,
       "ncols": null,
       "nrows": null,
       "prefix": "train_batch",
       "ascii": false,
       "unit": "it",
       "unit_scale": false,
       "rate": null,
       "bar_format": null,
       "postfix": null,
       "unit_divisor": 1000,
       "initial": 0,
       "colour": null
      }
     },
     "metadata": {},
     "output_type": "display_data"
    },
    {
     "data": {
      "text/plain": "test_batch:   0%|          | 0/1 [00:00<?, ?it/s]",
      "application/vnd.jupyter.widget-view+json": {
       "version_major": 2,
       "version_minor": 0,
       "model_id": "57f4956d8cbb4eea8906f8bcf632ea3b"
      },
      "application/json": {
       "n": 0,
       "total": 1,
       "elapsed": 0.025931358337402344,
       "ncols": null,
       "nrows": null,
       "prefix": "test_batch",
       "ascii": false,
       "unit": "it",
       "unit_scale": false,
       "rate": null,
       "bar_format": null,
       "postfix": null,
       "unit_divisor": 1000,
       "initial": 0,
       "colour": null
      }
     },
     "metadata": {},
     "output_type": "display_data"
    },
    {
     "data": {
      "text/plain": "train_batch:   0%|          | 0/2 [00:00<?, ?it/s]",
      "application/vnd.jupyter.widget-view+json": {
       "version_major": 2,
       "version_minor": 0,
       "model_id": "47a8b94fac004960b5c530f3a032d3d4"
      },
      "application/json": {
       "n": 0,
       "total": 2,
       "elapsed": 0.022940397262573242,
       "ncols": null,
       "nrows": null,
       "prefix": "train_batch",
       "ascii": false,
       "unit": "it",
       "unit_scale": false,
       "rate": null,
       "bar_format": null,
       "postfix": null,
       "unit_divisor": 1000,
       "initial": 0,
       "colour": null
      }
     },
     "metadata": {},
     "output_type": "display_data"
    },
    {
     "data": {
      "text/plain": "test_batch:   0%|          | 0/1 [00:00<?, ?it/s]",
      "application/vnd.jupyter.widget-view+json": {
       "version_major": 2,
       "version_minor": 0,
       "model_id": "2e7e5517f5fa4b7aacae6fecc1f5c0ec"
      },
      "application/json": {
       "n": 0,
       "total": 1,
       "elapsed": 0.022938013076782227,
       "ncols": null,
       "nrows": null,
       "prefix": "test_batch",
       "ascii": false,
       "unit": "it",
       "unit_scale": false,
       "rate": null,
       "bar_format": null,
       "postfix": null,
       "unit_divisor": 1000,
       "initial": 0,
       "colour": null
      }
     },
     "metadata": {},
     "output_type": "display_data"
    },
    {
     "data": {
      "text/plain": "train_batch:   0%|          | 0/2 [00:00<?, ?it/s]",
      "application/vnd.jupyter.widget-view+json": {
       "version_major": 2,
       "version_minor": 0,
       "model_id": "87ab365cb05145cf9356dc660cbbbcf6"
      },
      "application/json": {
       "n": 0,
       "total": 2,
       "elapsed": 0.026420116424560547,
       "ncols": null,
       "nrows": null,
       "prefix": "train_batch",
       "ascii": false,
       "unit": "it",
       "unit_scale": false,
       "rate": null,
       "bar_format": null,
       "postfix": null,
       "unit_divisor": 1000,
       "initial": 0,
       "colour": null
      }
     },
     "metadata": {},
     "output_type": "display_data"
    },
    {
     "data": {
      "text/plain": "test_batch:   0%|          | 0/1 [00:00<?, ?it/s]",
      "application/vnd.jupyter.widget-view+json": {
       "version_major": 2,
       "version_minor": 0,
       "model_id": "7e81d4f4aef7481da343bce69b5688e9"
      },
      "application/json": {
       "n": 0,
       "total": 1,
       "elapsed": 0.023935556411743164,
       "ncols": null,
       "nrows": null,
       "prefix": "test_batch",
       "ascii": false,
       "unit": "it",
       "unit_scale": false,
       "rate": null,
       "bar_format": null,
       "postfix": null,
       "unit_divisor": 1000,
       "initial": 0,
       "colour": null
      }
     },
     "metadata": {},
     "output_type": "display_data"
    },
    {
     "data": {
      "text/plain": "train_batch:   0%|          | 0/2 [00:00<?, ?it/s]",
      "application/vnd.jupyter.widget-view+json": {
       "version_major": 2,
       "version_minor": 0,
       "model_id": "21edb7294a254ed08ffb42c859338746"
      },
      "application/json": {
       "n": 0,
       "total": 2,
       "elapsed": 0.021542787551879883,
       "ncols": null,
       "nrows": null,
       "prefix": "train_batch",
       "ascii": false,
       "unit": "it",
       "unit_scale": false,
       "rate": null,
       "bar_format": null,
       "postfix": null,
       "unit_divisor": 1000,
       "initial": 0,
       "colour": null
      }
     },
     "metadata": {},
     "output_type": "display_data"
    },
    {
     "data": {
      "text/plain": "test_batch:   0%|          | 0/1 [00:00<?, ?it/s]",
      "application/vnd.jupyter.widget-view+json": {
       "version_major": 2,
       "version_minor": 0,
       "model_id": "4b4fe6791db34d27ab707db882db7cd8"
      },
      "application/json": {
       "n": 0,
       "total": 1,
       "elapsed": 0.029921531677246094,
       "ncols": null,
       "nrows": null,
       "prefix": "test_batch",
       "ascii": false,
       "unit": "it",
       "unit_scale": false,
       "rate": null,
       "bar_format": null,
       "postfix": null,
       "unit_divisor": 1000,
       "initial": 0,
       "colour": null
      }
     },
     "metadata": {},
     "output_type": "display_data"
    },
    {
     "data": {
      "text/plain": "train_batch:   0%|          | 0/2 [00:00<?, ?it/s]",
      "application/vnd.jupyter.widget-view+json": {
       "version_major": 2,
       "version_minor": 0,
       "model_id": "9f22cbb4056542e7a72fd70845ce497e"
      },
      "application/json": {
       "n": 0,
       "total": 2,
       "elapsed": 0.018773794174194336,
       "ncols": null,
       "nrows": null,
       "prefix": "train_batch",
       "ascii": false,
       "unit": "it",
       "unit_scale": false,
       "rate": null,
       "bar_format": null,
       "postfix": null,
       "unit_divisor": 1000,
       "initial": 0,
       "colour": null
      }
     },
     "metadata": {},
     "output_type": "display_data"
    },
    {
     "data": {
      "text/plain": "test_batch:   0%|          | 0/1 [00:00<?, ?it/s]",
      "application/vnd.jupyter.widget-view+json": {
       "version_major": 2,
       "version_minor": 0,
       "model_id": "0df1309889ef420cb045a5b91f1311f2"
      },
      "application/json": {
       "n": 0,
       "total": 1,
       "elapsed": 0.02367877960205078,
       "ncols": null,
       "nrows": null,
       "prefix": "test_batch",
       "ascii": false,
       "unit": "it",
       "unit_scale": false,
       "rate": null,
       "bar_format": null,
       "postfix": null,
       "unit_divisor": 1000,
       "initial": 0,
       "colour": null
      }
     },
     "metadata": {},
     "output_type": "display_data"
    },
    {
     "data": {
      "text/plain": "train_batch:   0%|          | 0/2 [00:00<?, ?it/s]",
      "application/vnd.jupyter.widget-view+json": {
       "version_major": 2,
       "version_minor": 0,
       "model_id": "fe0519f1b3eb4aabade9d387f7533b89"
      },
      "application/json": {
       "n": 0,
       "total": 2,
       "elapsed": 0.024933576583862305,
       "ncols": null,
       "nrows": null,
       "prefix": "train_batch",
       "ascii": false,
       "unit": "it",
       "unit_scale": false,
       "rate": null,
       "bar_format": null,
       "postfix": null,
       "unit_divisor": 1000,
       "initial": 0,
       "colour": null
      }
     },
     "metadata": {},
     "output_type": "display_data"
    },
    {
     "data": {
      "text/plain": "test_batch:   0%|          | 0/1 [00:00<?, ?it/s]",
      "application/vnd.jupyter.widget-view+json": {
       "version_major": 2,
       "version_minor": 0,
       "model_id": "ea8c309658ae4104a8ee342b0db88d01"
      },
      "application/json": {
       "n": 0,
       "total": 1,
       "elapsed": 0.023933887481689453,
       "ncols": null,
       "nrows": null,
       "prefix": "test_batch",
       "ascii": false,
       "unit": "it",
       "unit_scale": false,
       "rate": null,
       "bar_format": null,
       "postfix": null,
       "unit_divisor": 1000,
       "initial": 0,
       "colour": null
      }
     },
     "metadata": {},
     "output_type": "display_data"
    },
    {
     "data": {
      "text/plain": "train_batch:   0%|          | 0/2 [00:00<?, ?it/s]",
      "application/vnd.jupyter.widget-view+json": {
       "version_major": 2,
       "version_minor": 0,
       "model_id": "aa3bff5e1b1f460a8e2312b17133676f"
      },
      "application/json": {
       "n": 0,
       "total": 2,
       "elapsed": 0.026929855346679688,
       "ncols": null,
       "nrows": null,
       "prefix": "train_batch",
       "ascii": false,
       "unit": "it",
       "unit_scale": false,
       "rate": null,
       "bar_format": null,
       "postfix": null,
       "unit_divisor": 1000,
       "initial": 0,
       "colour": null
      }
     },
     "metadata": {},
     "output_type": "display_data"
    },
    {
     "data": {
      "text/plain": "test_batch:   0%|          | 0/1 [00:00<?, ?it/s]",
      "application/vnd.jupyter.widget-view+json": {
       "version_major": 2,
       "version_minor": 0,
       "model_id": "7cc28bf18c4243b48c37957258f5d778"
      },
      "application/json": {
       "n": 0,
       "total": 1,
       "elapsed": 0.021938800811767578,
       "ncols": null,
       "nrows": null,
       "prefix": "test_batch",
       "ascii": false,
       "unit": "it",
       "unit_scale": false,
       "rate": null,
       "bar_format": null,
       "postfix": null,
       "unit_divisor": 1000,
       "initial": 0,
       "colour": null
      }
     },
     "metadata": {},
     "output_type": "display_data"
    },
    {
     "name": "stdout",
     "output_type": "stream",
     "text": [
      "--- EPOCH 91/100 ---\n"
     ]
    },
    {
     "data": {
      "text/plain": "train_batch:   0%|          | 0/2 [00:00<?, ?it/s]",
      "application/vnd.jupyter.widget-view+json": {
       "version_major": 2,
       "version_minor": 0,
       "model_id": "f943aee113cb46beb1582bee1b303506"
      },
      "application/json": {
       "n": 0,
       "total": 2,
       "elapsed": 0.027924537658691406,
       "ncols": null,
       "nrows": null,
       "prefix": "train_batch",
       "ascii": false,
       "unit": "it",
       "unit_scale": false,
       "rate": null,
       "bar_format": null,
       "postfix": null,
       "unit_divisor": 1000,
       "initial": 0,
       "colour": null
      }
     },
     "metadata": {},
     "output_type": "display_data"
    },
    {
     "data": {
      "text/plain": "test_batch:   0%|          | 0/1 [00:00<?, ?it/s]",
      "application/vnd.jupyter.widget-view+json": {
       "version_major": 2,
       "version_minor": 0,
       "model_id": "77d8efbb75574159b87333ead834358b"
      },
      "application/json": {
       "n": 0,
       "total": 1,
       "elapsed": 0.018064022064208984,
       "ncols": null,
       "nrows": null,
       "prefix": "test_batch",
       "ascii": false,
       "unit": "it",
       "unit_scale": false,
       "rate": null,
       "bar_format": null,
       "postfix": null,
       "unit_divisor": 1000,
       "initial": 0,
       "colour": null
      }
     },
     "metadata": {},
     "output_type": "display_data"
    },
    {
     "data": {
      "text/plain": "train_batch:   0%|          | 0/2 [00:00<?, ?it/s]",
      "application/vnd.jupyter.widget-view+json": {
       "version_major": 2,
       "version_minor": 0,
       "model_id": "386c4330e7e84b07bf9e7e1265b9d7f5"
      },
      "application/json": {
       "n": 0,
       "total": 2,
       "elapsed": 0.019946813583374023,
       "ncols": null,
       "nrows": null,
       "prefix": "train_batch",
       "ascii": false,
       "unit": "it",
       "unit_scale": false,
       "rate": null,
       "bar_format": null,
       "postfix": null,
       "unit_divisor": 1000,
       "initial": 0,
       "colour": null
      }
     },
     "metadata": {},
     "output_type": "display_data"
    },
    {
     "data": {
      "text/plain": "test_batch:   0%|          | 0/1 [00:00<?, ?it/s]",
      "application/vnd.jupyter.widget-view+json": {
       "version_major": 2,
       "version_minor": 0,
       "model_id": "d1eed9ae43544cbb8ba10e7a2b28d6c8"
      },
      "application/json": {
       "n": 0,
       "total": 1,
       "elapsed": 0.0249326229095459,
       "ncols": null,
       "nrows": null,
       "prefix": "test_batch",
       "ascii": false,
       "unit": "it",
       "unit_scale": false,
       "rate": null,
       "bar_format": null,
       "postfix": null,
       "unit_divisor": 1000,
       "initial": 0,
       "colour": null
      }
     },
     "metadata": {},
     "output_type": "display_data"
    },
    {
     "data": {
      "text/plain": "train_batch:   0%|          | 0/2 [00:00<?, ?it/s]",
      "application/vnd.jupyter.widget-view+json": {
       "version_major": 2,
       "version_minor": 0,
       "model_id": "f56af7222e0c4bb68ec327d33e1ef378"
      },
      "application/json": {
       "n": 0,
       "total": 2,
       "elapsed": 0.016955137252807617,
       "ncols": null,
       "nrows": null,
       "prefix": "train_batch",
       "ascii": false,
       "unit": "it",
       "unit_scale": false,
       "rate": null,
       "bar_format": null,
       "postfix": null,
       "unit_divisor": 1000,
       "initial": 0,
       "colour": null
      }
     },
     "metadata": {},
     "output_type": "display_data"
    },
    {
     "data": {
      "text/plain": "test_batch:   0%|          | 0/1 [00:00<?, ?it/s]",
      "application/vnd.jupyter.widget-view+json": {
       "version_major": 2,
       "version_minor": 0,
       "model_id": "8a65dda561d8483cac87eb5dfcd23444"
      },
      "application/json": {
       "n": 0,
       "total": 1,
       "elapsed": 0.018948793411254883,
       "ncols": null,
       "nrows": null,
       "prefix": "test_batch",
       "ascii": false,
       "unit": "it",
       "unit_scale": false,
       "rate": null,
       "bar_format": null,
       "postfix": null,
       "unit_divisor": 1000,
       "initial": 0,
       "colour": null
      }
     },
     "metadata": {},
     "output_type": "display_data"
    },
    {
     "data": {
      "text/plain": "train_batch:   0%|          | 0/2 [00:00<?, ?it/s]",
      "application/vnd.jupyter.widget-view+json": {
       "version_major": 2,
       "version_minor": 0,
       "model_id": "564d02c5955348bf9014f25fc1ffee0e"
      },
      "application/json": {
       "n": 0,
       "total": 2,
       "elapsed": 0.022938013076782227,
       "ncols": null,
       "nrows": null,
       "prefix": "train_batch",
       "ascii": false,
       "unit": "it",
       "unit_scale": false,
       "rate": null,
       "bar_format": null,
       "postfix": null,
       "unit_divisor": 1000,
       "initial": 0,
       "colour": null
      }
     },
     "metadata": {},
     "output_type": "display_data"
    },
    {
     "data": {
      "text/plain": "test_batch:   0%|          | 0/1 [00:00<?, ?it/s]",
      "application/vnd.jupyter.widget-view+json": {
       "version_major": 2,
       "version_minor": 0,
       "model_id": "7e6bde9848484b83b6e1304a859f2eb7"
      },
      "application/json": {
       "n": 0,
       "total": 1,
       "elapsed": 0.023936033248901367,
       "ncols": null,
       "nrows": null,
       "prefix": "test_batch",
       "ascii": false,
       "unit": "it",
       "unit_scale": false,
       "rate": null,
       "bar_format": null,
       "postfix": null,
       "unit_divisor": 1000,
       "initial": 0,
       "colour": null
      }
     },
     "metadata": {},
     "output_type": "display_data"
    },
    {
     "data": {
      "text/plain": "train_batch:   0%|          | 0/2 [00:00<?, ?it/s]",
      "application/vnd.jupyter.widget-view+json": {
       "version_major": 2,
       "version_minor": 0,
       "model_id": "fc12ce59301643c4a5db029d1400f0dd"
      },
      "application/json": {
       "n": 0,
       "total": 2,
       "elapsed": 0.024934768676757812,
       "ncols": null,
       "nrows": null,
       "prefix": "train_batch",
       "ascii": false,
       "unit": "it",
       "unit_scale": false,
       "rate": null,
       "bar_format": null,
       "postfix": null,
       "unit_divisor": 1000,
       "initial": 0,
       "colour": null
      }
     },
     "metadata": {},
     "output_type": "display_data"
    },
    {
     "data": {
      "text/plain": "test_batch:   0%|          | 0/1 [00:00<?, ?it/s]",
      "application/vnd.jupyter.widget-view+json": {
       "version_major": 2,
       "version_minor": 0,
       "model_id": "403adffe821942d3b730e7529ac13270"
      },
      "application/json": {
       "n": 0,
       "total": 1,
       "elapsed": 0.027925729751586914,
       "ncols": null,
       "nrows": null,
       "prefix": "test_batch",
       "ascii": false,
       "unit": "it",
       "unit_scale": false,
       "rate": null,
       "bar_format": null,
       "postfix": null,
       "unit_divisor": 1000,
       "initial": 0,
       "colour": null
      }
     },
     "metadata": {},
     "output_type": "display_data"
    },
    {
     "data": {
      "text/plain": "train_batch:   0%|          | 0/2 [00:00<?, ?it/s]",
      "application/vnd.jupyter.widget-view+json": {
       "version_major": 2,
       "version_minor": 0,
       "model_id": "b9492b4135c940698c41336678e2e851"
      },
      "application/json": {
       "n": 0,
       "total": 2,
       "elapsed": 0.027430295944213867,
       "ncols": null,
       "nrows": null,
       "prefix": "train_batch",
       "ascii": false,
       "unit": "it",
       "unit_scale": false,
       "rate": null,
       "bar_format": null,
       "postfix": null,
       "unit_divisor": 1000,
       "initial": 0,
       "colour": null
      }
     },
     "metadata": {},
     "output_type": "display_data"
    },
    {
     "data": {
      "text/plain": "test_batch:   0%|          | 0/1 [00:00<?, ?it/s]",
      "application/vnd.jupyter.widget-view+json": {
       "version_major": 2,
       "version_minor": 0,
       "model_id": "ea11a28a64fc40988ba3010ca085cd31"
      },
      "application/json": {
       "n": 0,
       "total": 1,
       "elapsed": 0.01695418357849121,
       "ncols": null,
       "nrows": null,
       "prefix": "test_batch",
       "ascii": false,
       "unit": "it",
       "unit_scale": false,
       "rate": null,
       "bar_format": null,
       "postfix": null,
       "unit_divisor": 1000,
       "initial": 0,
       "colour": null
      }
     },
     "metadata": {},
     "output_type": "display_data"
    },
    {
     "data": {
      "text/plain": "train_batch:   0%|          | 0/2 [00:00<?, ?it/s]",
      "application/vnd.jupyter.widget-view+json": {
       "version_major": 2,
       "version_minor": 0,
       "model_id": "ad8960606e0e42ee889abf24e08fa3e8"
      },
      "application/json": {
       "n": 0,
       "total": 2,
       "elapsed": 0.023227930068969727,
       "ncols": null,
       "nrows": null,
       "prefix": "train_batch",
       "ascii": false,
       "unit": "it",
       "unit_scale": false,
       "rate": null,
       "bar_format": null,
       "postfix": null,
       "unit_divisor": 1000,
       "initial": 0,
       "colour": null
      }
     },
     "metadata": {},
     "output_type": "display_data"
    },
    {
     "data": {
      "text/plain": "test_batch:   0%|          | 0/1 [00:00<?, ?it/s]",
      "application/vnd.jupyter.widget-view+json": {
       "version_major": 2,
       "version_minor": 0,
       "model_id": "6034da1b79c34e9ea0d5b0d9e01d7a1b"
      },
      "application/json": {
       "n": 0,
       "total": 1,
       "elapsed": 0.018950700759887695,
       "ncols": null,
       "nrows": null,
       "prefix": "test_batch",
       "ascii": false,
       "unit": "it",
       "unit_scale": false,
       "rate": null,
       "bar_format": null,
       "postfix": null,
       "unit_divisor": 1000,
       "initial": 0,
       "colour": null
      }
     },
     "metadata": {},
     "output_type": "display_data"
    },
    {
     "data": {
      "text/plain": "train_batch:   0%|          | 0/2 [00:00<?, ?it/s]",
      "application/vnd.jupyter.widget-view+json": {
       "version_major": 2,
       "version_minor": 0,
       "model_id": "12014d3579b14b3d9e23ff1f5bee75c0"
      },
      "application/json": {
       "n": 0,
       "total": 2,
       "elapsed": 0.018949270248413086,
       "ncols": null,
       "nrows": null,
       "prefix": "train_batch",
       "ascii": false,
       "unit": "it",
       "unit_scale": false,
       "rate": null,
       "bar_format": null,
       "postfix": null,
       "unit_divisor": 1000,
       "initial": 0,
       "colour": null
      }
     },
     "metadata": {},
     "output_type": "display_data"
    },
    {
     "data": {
      "text/plain": "test_batch:   0%|          | 0/1 [00:00<?, ?it/s]",
      "application/vnd.jupyter.widget-view+json": {
       "version_major": 2,
       "version_minor": 0,
       "model_id": "3d601018ddd641aab3b54474f9358bee"
      },
      "application/json": {
       "n": 0,
       "total": 1,
       "elapsed": 0.018949508666992188,
       "ncols": null,
       "nrows": null,
       "prefix": "test_batch",
       "ascii": false,
       "unit": "it",
       "unit_scale": false,
       "rate": null,
       "bar_format": null,
       "postfix": null,
       "unit_divisor": 1000,
       "initial": 0,
       "colour": null
      }
     },
     "metadata": {},
     "output_type": "display_data"
    },
    {
     "data": {
      "text/plain": "train_batch:   0%|          | 0/2 [00:00<?, ?it/s]",
      "application/vnd.jupyter.widget-view+json": {
       "version_major": 2,
       "version_minor": 0,
       "model_id": "ad76eedea6cc4dee988e3de0cb838e55"
      },
      "application/json": {
       "n": 0,
       "total": 2,
       "elapsed": 0.02590775489807129,
       "ncols": null,
       "nrows": null,
       "prefix": "train_batch",
       "ascii": false,
       "unit": "it",
       "unit_scale": false,
       "rate": null,
       "bar_format": null,
       "postfix": null,
       "unit_divisor": 1000,
       "initial": 0,
       "colour": null
      }
     },
     "metadata": {},
     "output_type": "display_data"
    },
    {
     "data": {
      "text/plain": "test_batch:   0%|          | 0/1 [00:00<?, ?it/s]",
      "application/vnd.jupyter.widget-view+json": {
       "version_major": 2,
       "version_minor": 0,
       "model_id": "b656f35bf0764cf29d5da4ea1a6a8ab7"
      },
      "application/json": {
       "n": 0,
       "total": 1,
       "elapsed": 0.023933887481689453,
       "ncols": null,
       "nrows": null,
       "prefix": "test_batch",
       "ascii": false,
       "unit": "it",
       "unit_scale": false,
       "rate": null,
       "bar_format": null,
       "postfix": null,
       "unit_divisor": 1000,
       "initial": 0,
       "colour": null
      }
     },
     "metadata": {},
     "output_type": "display_data"
    },
    {
     "name": "stdout",
     "output_type": "stream",
     "text": [
      "--- EPOCH 100/100 ---\n"
     ]
    },
    {
     "data": {
      "text/plain": "train_batch:   0%|          | 0/2 [00:00<?, ?it/s]",
      "application/vnd.jupyter.widget-view+json": {
       "version_major": 2,
       "version_minor": 0,
       "model_id": "3c1cb6e7db764c10b0a393bd19633a53"
      },
      "application/json": {
       "n": 0,
       "total": 2,
       "elapsed": 0.017950057983398438,
       "ncols": null,
       "nrows": null,
       "prefix": "train_batch",
       "ascii": false,
       "unit": "it",
       "unit_scale": false,
       "rate": null,
       "bar_format": null,
       "postfix": null,
       "unit_divisor": 1000,
       "initial": 0,
       "colour": null
      }
     },
     "metadata": {},
     "output_type": "display_data"
    },
    {
     "data": {
      "text/plain": "test_batch:   0%|          | 0/1 [00:00<?, ?it/s]",
      "application/vnd.jupyter.widget-view+json": {
       "version_major": 2,
       "version_minor": 0,
       "model_id": "1bfcce38f77d4575be8e28b375d44a8a"
      },
      "application/json": {
       "n": 0,
       "total": 1,
       "elapsed": 0.023936033248901367,
       "ncols": null,
       "nrows": null,
       "prefix": "test_batch",
       "ascii": false,
       "unit": "it",
       "unit_scale": false,
       "rate": null,
       "bar_format": null,
       "postfix": null,
       "unit_divisor": 1000,
       "initial": 0,
       "colour": null
      }
     },
     "metadata": {},
     "output_type": "display_data"
    },
    {
     "data": {
      "text/plain": "<Figure size 1600x500 with 2 Axes>",
      "image/png": "[encoded data removed]"
     },
     "metadata": {},
     "output_type": "display_data"
    },
    {
     "name": "stdout",
     "output_type": "stream",
     "text": [
      "<dataset.Dataset object at 0x000001DE74190D90>\n",
      "saving model in \"model2\"\n",
      "creating model...\n",
      "MLP(\n",
      "  (mlp_layers): Sequential(\n",
      "    (0): Linear(in_features=160, out_features=20, bias=True)\n",
      "    (1): ReLU()\n",
      "    (2): Linear(in_features=20, out_features=4, bias=True)\n",
      "    (3): Identity()\n",
      "  )\n",
      ")\n",
      "loading model from \"model2\"...\n",
      "MLP(\n",
      "  (mlp_layers): Sequential(\n",
      "    (0): Linear(in_features=160, out_features=20, bias=True)\n",
      "    (1): ReLU()\n",
      "    (2): Linear(in_features=20, out_features=4, bias=True)\n",
      "    (3): Identity()\n",
      "  )\n",
      ")\n",
      "_________________game 1/2________________\n",
      "Player 1, action:(<BuildingType.SETTLEMENT: 1>, (q: 3, r:-1))\n",
      "Player 1, action:(<BuildingType.ROAD: 0>, frozenset({(q: 2, r:0), (q: 3, r:-1)}))\n",
      "Player 2, action:(<BuildingType.SETTLEMENT: 1>, (q: 2, r:-3))\n",
      "Player 2, action:(<BuildingType.ROAD: 0>, frozenset({(q: 2, r:-3), (q: 2, r:-2)}))\n",
      "Player 3, action:(<BuildingType.SETTLEMENT: 1>, (q: -4, r:3))\n",
      "Player 3, action:(<BuildingType.ROAD: 0>, frozenset({(q: -4, r:4), (q: -4, r:3)}))\n",
      "Player 4, action:(<BuildingType.SETTLEMENT: 1>, (q: 3, r:-5))\n",
      "Player 4, action:(<BuildingType.ROAD: 0>, frozenset({(q: 3, r:-5), (q: 2, r:-5)}))\n",
      "Player 4, action:(<BuildingType.SETTLEMENT: 1>, (q: 1, r:3))\n",
      "Player 4, action:(<BuildingType.ROAD: 0>, frozenset({(q: 1, r:2), (q: 1, r:3)}))\n",
      "Player 3, action:(<BuildingType.SETTLEMENT: 1>, (q: -2, r:3))\n",
      "Player 3, action:(<BuildingType.ROAD: 0>, frozenset({(q: -2, r:2), (q: -2, r:3)}))\n",
      "Player 2, action:(<BuildingType.SETTLEMENT: 1>, (q: 0, r:2))\n",
      "Player 2, action:(<BuildingType.ROAD: 0>, frozenset({(q: 0, r:2), (q: 1, r:2)}))\n",
      "Player 1, action:(<BuildingType.SETTLEMENT: 1>, (q: -1, r:-2))\n",
      "Player 1, action:(<BuildingType.ROAD: 0>, frozenset({(q: -1, r:-2), (q: -2, r:-1)}))\n",
      "Player 1, action:(<BuildingType.ROAD: 0>, frozenset({(q: 1, r:0), (q: 2, r:0)}))\n",
      "Player 1, action:(4,)\n",
      "Player 2 turn!, dice: 6\n",
      "Player 2, action:(<BuildingType.ROAD: 0>, frozenset({(q: 1, r:2), (q: 2, r:1)}))\n",
      "Player 2, action:(4,)\n",
      "Player 3 turn!, dice: 6\n",
      "Player 3, action:(4,)\n",
      "Player 4 turn!, dice: 4\n",
      "Player 4, action:(<BuildingType.ROAD: 0>, frozenset({(q: 1, r:-4), (q: 2, r:-5)}))\n",
      "Player 4, action:(4,)\n",
      "Player 1 turn!, dice: 6\n",
      "Player 1, action:(4,)\n",
      "Player 2 turn!, dice: 6\n",
      "Player 2, action:(4,)\n",
      "Player 3 turn!, dice: 5\n",
      "Player 3, action:(4,)\n",
      "Player 4 turn!, dice: 7\n",
      "Player 4, action:(4,)\n",
      "Player 1 turn!, dice: 5\n",
      "Player 1, action:(3, ((<Resource.BRICK: 1>, -4), (<Resource.LUMBER: 0>, 1)))\n",
      "Player 1, action:(<BuildingType.ROAD: 0>, frozenset({(q: -3, r:-1), (q: -2, r:-1)}))\n",
      "Player 1, action:(4,)\n",
      "Player 2 turn!, dice: 9\n",
      "Player 2, action:(4,)\n",
      "Player 3 turn!, dice: 6\n",
      "Player 3, action:(3, ((<Resource.WOOL: 2>, -4), (<Resource.BRICK: 1>, 1)))\n",
      "Player 3, action:(<BuildingType.ROAD: 0>, frozenset({(q: -1, r:1), (q: -2, r:2)}))\n",
      "Player 3, action:(4,)\n",
      "Player 4 turn!, dice: 8\n",
      "Player 4, action:(4,)\n",
      "Player 1 turn!, dice: 11\n",
      "Player 1, action:(<BuildingType.ROAD: 0>, frozenset({(q: 1, r:0), (q: 1, r:-1)}))\n",
      "Player 1, action:(4,)\n",
      "Player 2 turn!, dice: 12\n",
      "Player 2, action:(4,)\n",
      "Player 3 turn!, dice: 5\n",
      "Player 3, action:(4,)\n",
      "Player 4 turn!, dice: 9\n",
      "Player 4, action:(4,)\n",
      "Player 1 turn!, dice: 7\n",
      "Player 1, action:(4,)\n",
      "Player 2 turn!, dice: 8\n",
      "Player 2, action:(4,)\n",
      "Player 3 turn!, dice: 6\n",
      "Player 3, action:(4,)\n",
      "Player 4 turn!, dice: 10\n",
      "Player 4, action:(<BuildingType.ROAD: 0>, frozenset({(q: 0, r:-4), (q: 1, r:-4)}))\n",
      "Player 4, action:(4,)\n",
      "Player 1 turn!, dice: 8\n",
      "Player 1, action:(<BuildingType.ROAD: 0>, frozenset({(q: 0, r:-1), (q: 1, r:-1)}))\n",
      "Player 1, action:(<BuildingType.ROAD: 0>, frozenset({(q: -1, r:0), (q: 0, r:-1)}))\n",
      "Player 1, action:(4,)\n",
      "Player 2 turn!, dice: 10\n",
      "Player 2, action:(<BuildingType.SETTLEMENT: 1>, (q: 2, r:1))\n",
      "Player 2, action:(4,)\n",
      "Player 3 turn!, dice: 9\n",
      "Player 3, action:(4,)\n",
      "Player 4 turn!, dice: 8\n",
      "Player 4, action:(4,)\n",
      "Player 1 turn!, dice: 4\n",
      "Player 1, action:(<BuildingType.ROAD: 0>, frozenset({(q: -1, r:0), (q: -1, r:1)}))\n",
      "Player 1, action:(4,)\n",
      "Player 2 turn!, dice: 11\n",
      "Player 2, action:(<BuildingType.ROAD: 0>, frozenset({(q: 2, r:-2), (q: 1, r:-1)}))\n",
      "Player 2, action:(4,)\n",
      "Player 3 turn!, dice: 7\n",
      "Player 3, action:(4,)\n",
      "Player 4 turn!, dice: 4\n",
      "Player 4, action:(4,)\n",
      "Player 1 turn!, dice: 6\n",
      "Player 1, action:(4,)\n",
      "Player 2 turn!, dice: 7\n",
      "Player 2, action:(3, ((<Resource.WOOL: 2>, -4), (<Resource.BRICK: 1>, 1)))\n",
      "Player 2, action:(<BuildingType.SETTLEMENT: 1>, (q: 1, r:-1))\n",
      "Player 2, action:(4,)\n",
      "Player 3 turn!, dice: 6\n",
      "Player 3, action:(4,)\n",
      "Player 4 turn!, dice: 11\n",
      "Player 4, action:(4,)\n",
      "Player 1 turn!, dice: 8\n",
      "Player 1, action:(<BuildingType.ROAD: 0>, frozenset({(q: -1, r:0), (q: -2, r:0)}))\n",
      "Player 1, action:(4,)\n",
      "Player 2 turn!, dice: 3\n",
      "Player 2, action:(4,)\n",
      "Player 3 turn!, dice: 7\n",
      "Player 3, action:(3, ((<Resource.ORE: 4>, -4), (<Resource.GRAIN: 3>, 1)))\n",
      "Player 3, action:(3, ((<Resource.WOOL: 2>, -4), (<Resource.BRICK: 1>, 1)))\n",
      "Player 3, action:(<BuildingType.SETTLEMENT: 1>, (q: -1, r:1))\n",
      "Player 3, action:(4,)\n",
      "Player 4 turn!, dice: 9\n",
      "Player 4, action:(<BuildingType.ROAD: 0>, frozenset({(q: 0, r:-4), (q: -1, r:-3)}))\n",
      "Player 4, action:(3, ((<Resource.GRAIN: 3>, -4), (<Resource.BRICK: 1>, 1)))\n",
      "Player 4, action:(<BuildingType.ROAD: 0>, frozenset({(q: -2, r:-3), (q: -1, r:-3)}))\n",
      "Player 4, action:(4,)\n",
      "Player 1 turn!, dice: 7\n",
      "Player 1, action:(4,)\n",
      "Player 2 turn!, dice: 6\n",
      "Player 2, action:(<BuildingType.ROAD: 0>, frozenset({(q: 3, r:1), (q: 2, r:1)}))\n",
      "Player 2, action:(<BuildingType.ROAD: 0>, frozenset({(q: 3, r:1), (q: 3, r:2)}))\n",
      "Player 2, action:(4,)\n",
      "Player 3 turn!, dice: 8\n",
      "Player 3, action:(4,)\n",
      "Player 4 turn!, dice: 8\n",
      "Player 4, action:(4,)\n",
      "Player 1 turn!, dice: 7\n",
      "Player 1, action:(<BuildingType.ROAD: 0>, frozenset({(q: -2, r:0), (q: -2, r:-1)}))\n",
      "Player 1, action:(<BuildingType.ROAD: 0>, frozenset({(q: -3, r:-1), (q: -4, r:0)}))\n",
      "Player 1, action:(4,)\n",
      "Player 2 turn!, dice: 8\n",
      "Player 2, action:(4,)\n",
      "Player 3 turn!, dice: 3\n",
      "Player 3, action:(4,)\n",
      "Player 4 turn!, dice: 2\n",
      "Player 4, action:(4,)\n",
      "Player 1 turn!, dice: 7\n",
      "Player 1, action:(4,)\n",
      "Player 2 turn!, dice: 6\n",
      "Player 2, action:(<BuildingType.SETTLEMENT: 1>, (q: 3, r:2))\n",
      "Player 2, action:(4,)\n",
      "Player 3 turn!, dice: 8\n",
      "Player 3, action:(4,)\n",
      "Player 4 turn!, dice: 12\n",
      "Player 4, action:(4,)\n",
      "Player 1 turn!, dice: 6\n",
      "Player 1, action:(3, ((<Resource.ORE: 4>, -4), (<Resource.GRAIN: 3>, 1)))\n",
      "Player 1, action:(<BuildingType.SETTLEMENT: 1>, (q: -2, r:0))\n",
      "Player 1, action:(<BuildingType.ROAD: 0>, frozenset({(q: -3, r:-1), (q: -3, r:-2)}))\n",
      "Player 1, action:(4,)\n",
      "Player 2 turn!, dice: 9\n",
      "Player 2, action:(<BuildingType.ROAD: 0>, frozenset({(q: 3, r:1), (q: 4, r:0)}))\n",
      "Player 2, action:(4,)\n",
      "Player 3 turn!, dice: 5\n",
      "Player 3, action:(4,)\n",
      "Player 4 turn!, dice: 10\n",
      "Player 4, action:(<BuildingType.ROAD: 0>, frozenset({(q: -3, r:-2), (q: -2, r:-3)}))\n",
      "Player 4, action:(4,)\n",
      "Player 1 turn!, dice: 8\n",
      "Player 1, action:(<BuildingType.ROAD: 0>, frozenset({(q: -4, r:0), (q: -4, r:1)}))\n",
      "Player 1, action:(4,)\n",
      "Player 2 turn!, dice: 10\n",
      "Player 2, action:(4,)\n",
      "Player 3 turn!, dice: 9\n",
      "Player 3, action:(4,)\n",
      "Player 4 turn!, dice: 7\n",
      "Player 4, action:(4,)\n",
      "Player 1 turn!, dice: 4\n",
      "Player 1, action:(4,)\n",
      "Player 2 turn!, dice: 4\n",
      "Player 2, action:(<BuildingType.SETTLEMENT: 1>, (q: 4, r:0))\n",
      "Player 2, action:(<BuildingType.ROAD: 0>, frozenset({(q: 2, r:-2), (q: 3, r:-2)}))\n",
      "Player 2, action:(3, ((<Resource.GRAIN: 3>, -4), (<Resource.BRICK: 1>, 1)))\n",
      "Player 2, action:(<BuildingType.ROAD: 0>, frozenset({(q: 2, r:-3), (q: 3, r:-4)}))\n",
      "Player 2, action:(4,)\n",
      "Player 3 turn!, dice: 10\n",
      "Player 3, action:(<BuildingType.CITY: 2>, (q: -2, r:3))\n",
      "Player 3, action:(3, ((<Resource.ORE: 4>, -4), (<Resource.GRAIN: 3>, 1)))\n",
      "Player 3, action:(4,)\n",
      "Player 4 turn!, dice: 8\n",
      "Player 4, action:(<BuildingType.ROAD: 0>, frozenset({(q: 3, r:-5), (q: 3, r:-4)}))\n",
      "Player 4, action:(<BuildingType.ROAD: 0>, frozenset({(q: 3, r:-4), (q: 4, r:-4)}))\n",
      "Player 4, action:(4,)\n",
      "Player 1 turn!, dice: 7\n",
      "Player 1, action:(<BuildingType.CITY: 2>, (q: -2, r:0))\n",
      "Player 1, action:(4,)\n",
      "Player 2 turn!, dice: 8\n",
      "Player 2, action:(4,)\n",
      "Player 3 turn!, dice: 8\n",
      "Player 3, action:(4,)\n",
      "Player 4 turn!, dice: 7\n",
      "Player 4, action:(4,)\n",
      "Player 1 turn!, dice: 7\n",
      "Player 1, action:(4,)\n",
      "Player 2 turn!, dice: 9\n",
      "Player 2, action:(<BuildingType.ROAD: 0>, frozenset({(q: 3, r:-2), (q: 4, r:-3)}))\n",
      "Player 2, action:(4,)\n",
      "Player 3 turn!, dice: 8\n",
      "Player 3, action:(3, ((<Resource.ORE: 4>, -4), (<Resource.GRAIN: 3>, 1)))\n",
      "Player 3, action:(<BuildingType.CITY: 2>, (q: -4, r:3))\n",
      "Player 3, action:(3, ((<Resource.WOOL: 2>, -2), (<Resource.BRICK: 1>, 1)))\n",
      "Player 3, action:(4,)\n",
      "Player 4 turn!, dice: 8\n",
      "Player 4, action:(4,)\n",
      "Player 1 turn!, dice: 2\n",
      "Player 1, action:(4,)\n",
      "Player 2 turn!, dice: 4\n",
      "Player 2, action:(3, ((<Resource.WOOL: 2>, -4), (<Resource.BRICK: 1>, 1)))\n",
      "Player 2, action:(<BuildingType.SETTLEMENT: 1>, (q: 4, r:-3))\n",
      "Player 2, action:(4,)\n",
      "Player 3 turn!, dice: 9\n",
      "Player 3, action:(4,)\n",
      "Player 4 turn!, dice: 4\n",
      "Player 4, action:(3, ((<Resource.GRAIN: 3>, -4), (<Resource.BRICK: 1>, 1)))\n",
      "Player 4, action:(<BuildingType.ROAD: 0>, frozenset({(q: 4, r:-4), (q: 4, r:-3)}))\n",
      "Player 4, action:(4,)\n",
      "Player 1 turn!, dice: 7\n",
      "Player 1, action:(3, ((<Resource.LUMBER: 0>, -4), (<Resource.BRICK: 1>, 1)))\n",
      "Player 1, action:(<BuildingType.SETTLEMENT: 1>, (q: -3, r:-2))\n",
      "Player 1, action:(4,)\n",
      "Player 2 turn!, dice: 8\n",
      "Player 2, action:(3, ((<Resource.WOOL: 2>, -4), (<Resource.ORE: 4>, 1)))\n",
      "Player 2, action:(3, ((<Resource.LUMBER: 0>, -4), (<Resource.ORE: 4>, 1)))\n",
      "Player 2, action:(4,)\n",
      "Player 3 turn!, dice: 6\n",
      "Player 3, action:(<BuildingType.CITY: 2>, (q: -1, r:1))\n",
      "Player 3, action:(4,)\n",
      "Player 4 turn!, dice: 7\n",
      "Player 4, action:(4,)\n",
      "Player 1 turn!, dice: 8\n",
      "Player 1, action:(3, ((<Resource.GRAIN: 3>, -4), (<Resource.WOOL: 2>, 1)))\n",
      "Player 1, action:(<BuildingType.SETTLEMENT: 1>, (q: -4, r:1))\n",
      "Player 1, action:(4,)\n",
      "Player 2 turn!, dice: 7\n",
      "Player 2, action:(4,)\n",
      "Player 3 turn!, dice: 5\n",
      "Player 3, action:(4,)\n",
      "Player 4 turn!, dice: 10\n",
      "Player 4, action:(4,)\n",
      "Player 1 turn!, dice: 10\n",
      "Player 1, action:(<BuildingType.ROAD: 0>, frozenset({(q: -4, r:1), (q: -3, r:1)}))\n",
      "Player 1, action:(4,)\n",
      "Player 2 turn!, dice: 7\n",
      "Player 2, action:(4,)\n",
      "Player 3 turn!, dice: 8\n",
      "Player 3, action:(4,)\n",
      "Player 4 turn!, dice: 5\n",
      "Player 4, action:(<BuildingType.ROAD: 0>, frozenset({(q: 1, r:3), (q: 0, r:4)}))\n",
      "Player 4, action:(4,)\n",
      "Player 1 turn!, dice: 10\n",
      "Player 1, action:(<BuildingType.ROAD: 0>, frozenset({(q: -3, r:2), (q: -3, r:1)}))\n",
      "Player 1, action:(3, ((<Resource.ORE: 4>, -4), (<Resource.LUMBER: 0>, 1)))\n",
      "Player 1, action:(<BuildingType.ROAD: 0>, frozenset({(q: -3, r:2), (q: -2, r:2)}))\n",
      "Player 1, action:(4,)\n",
      "Player 2 turn!, dice: 8\n",
      "Player 2, action:(3, ((<Resource.BRICK: 1>, -4), (<Resource.GRAIN: 3>, 1)))\n",
      "Player 2, action:(<BuildingType.CITY: 2>, (q: 2, r:-3))\n",
      "Player 2, action:(4,)\n",
      "Player 3 turn!, dice: 10\n",
      "Player 3, action:(4,)\n",
      "Player 4 turn!, dice: 7\n",
      "Player 4, action:(4,)\n",
      "Player 1 turn!, dice: 6\n",
      "Player 1, action:(4,)\n",
      "Player 2 turn!, dice: 9\n",
      "Player 2, action:(<BuildingType.CITY: 2>, (q: 4, r:-3))\n",
      "Player 2, action:(4,)\n",
      "Player 3 turn!, dice: 11\n",
      "Player 3, action:(4,)\n",
      "Player 4 turn!, dice: 5\n",
      "Player 4, action:(<BuildingType.ROAD: 0>, frozenset({(q: 0, r:4), (q: -1, r:4)}))\n",
      "Player 4, action:(4,)\n",
      "Player 1 turn!, dice: 10\n",
      "Player 1, action:(3, ((<Resource.BRICK: 1>, -4), (<Resource.ORE: 4>, 1)))\n",
      "Player 1, action:(<BuildingType.CITY: 2>, (q: -1, r:-2))\n",
      "Player 1, action:(4,)\n",
      "Player 2 turn!, dice: 11\n",
      "Player 2, action:(4,)\n",
      "Player 3 turn!, dice: 8\n",
      "Player 3, action:(4,)\n",
      "Player 4 turn!, dice: 6\n",
      "Player 4, action:(4,)\n",
      "Player 1 turn!, dice: 8\n",
      "Player 1, action:(4,)\n",
      "Player 2 turn!, dice: 8\n",
      "Player 2, action:(4,)\n",
      "Player 3 turn!, dice: 3\n",
      "Player 3, action:(4,)\n",
      "Player 4 turn!, dice: 11\n",
      "Player 4, action:(4,)\n",
      "Player 1 turn!, dice: 4\n",
      "Player 1, action:(<BuildingType.CITY: 2>, (q: -3, r:-2))\n",
      "Congratulations! Player 1 wins!\n",
      "Final board:\n",
      "                                                       \n",
      "                                                       \n",
      "                                                       \n",
      "                                                       \n",
      "                 3:1         2:1                       \n",
      "                  .--'--.--s--.--s--.                  \n",
      "                  | 10  |  2  |  9  | 2:1              \n",
      "               .--c--.--s--.--s--.--s--.               \n",
      "           2:1 | 12  |  6  |  4  | 10  |               \n",
      "            s--'--c--'--s--'--.--s--.--'--.            \n",
      "            |  9  | 11  |   R |  3  |  8  | 3:1        \n",
      "            '--.--'--.--'--.--c--.--c--.--'            \n",
      "           2:1 |  8  |  3  |  4  |  5  |               \n",
      "               '--.--c--.--c--.--'--c--'               \n",
      "                  |  5  |  6  | 11  | 2:1              \n",
      "                  '--c--'--.--s--.--'                  \n",
      "                 3:1         3:1                       \n",
      "                                                       \n",
      "                                                       \n",
      "                                                       \n",
      "_________________game 2/2________________\n",
      "Player 1, action:(<BuildingType.SETTLEMENT: 1>, (q: 3, r:-1))\n",
      "Player 1, action:(<BuildingType.ROAD: 0>, frozenset({(q: 2, r:0), (q: 3, r:-1)}))\n",
      "Player 2, action:(<BuildingType.SETTLEMENT: 1>, (q: -2, r:2))\n",
      "Player 2, action:(<BuildingType.ROAD: 0>, frozenset({(q: -3, r:2), (q: -2, r:2)}))\n",
      "Player 3, action:(<BuildingType.SETTLEMENT: 1>, (q: -4, r:3))\n",
      "Player 3, action:(<BuildingType.ROAD: 0>, frozenset({(q: -4, r:4), (q: -4, r:3)}))\n",
      "Player 4, action:(<BuildingType.SETTLEMENT: 1>, (q: 3, r:2))\n",
      "Player 4, action:(<BuildingType.ROAD: 0>, frozenset({(q: 3, r:1), (q: 3, r:2)}))\n",
      "Player 4, action:(<BuildingType.SETTLEMENT: 1>, (q: 0, r:2))\n",
      "Player 4, action:(<BuildingType.ROAD: 0>, frozenset({(q: 0, r:2), (q: 1, r:2)}))\n",
      "Player 3, action:(<BuildingType.SETTLEMENT: 1>, (q: -2, r:0))\n",
      "Player 3, action:(<BuildingType.ROAD: 0>, frozenset({(q: -2, r:0), (q: -2, r:-1)}))\n",
      "Player 2, action:(<BuildingType.SETTLEMENT: 1>, (q: 1, r:-3))\n",
      "Player 2, action:(<BuildingType.ROAD: 0>, frozenset({(q: 1, r:-4), (q: 1, r:-3)}))\n",
      "Player 1, action:(<BuildingType.SETTLEMENT: 1>, (q: 2, r:-2))\n",
      "Player 1, action:(<BuildingType.ROAD: 0>, frozenset({(q: 2, r:-2), (q: 1, r:-1)}))\n",
      "Player 1, action:(<BuildingType.ROAD: 0>, frozenset({(q: 0, r:-1), (q: 1, r:-1)}))\n",
      "Player 1, action:(4,)\n",
      "Player 2 turn!, dice: 6\n",
      "Player 2, action:(4,)\n",
      "Player 3 turn!, dice: 8\n",
      "Player 3, action:(4,)\n",
      "Player 4 turn!, dice: 4\n",
      "Player 4, action:(<BuildingType.ROAD: 0>, frozenset({(q: 1, r:2), (q: 1, r:3)}))\n",
      "Player 4, action:(4,)\n",
      "Player 1 turn!, dice: 7\n",
      "Player 1, action:(4,)\n",
      "Player 2 turn!, dice: 10\n",
      "Player 2, action:(4,)\n",
      "Player 3 turn!, dice: 4\n",
      "Player 3, action:(4,)\n",
      "Player 4 turn!, dice: 8\n",
      "Player 4, action:(4,)\n",
      "Player 1 turn!, dice: 6\n",
      "Player 1, action:(4,)\n",
      "Player 2 turn!, dice: 5\n",
      "Player 2, action:(4,)\n",
      "Player 3 turn!, dice: 6\n",
      "Player 3, action:(4,)\n",
      "Player 4 turn!, dice: 12\n",
      "Player 4, action:(4,)\n",
      "Player 1 turn!, dice: 4\n",
      "Player 1, action:(4,)\n",
      "Player 2 turn!, dice: 7\n",
      "Player 2, action:(3, ((<Resource.GRAIN: 3>, -4), (<Resource.BRICK: 1>, 1)))\n",
      "Player 2, action:(<BuildingType.ROAD: 0>, frozenset({(q: 1, r:-4), (q: 2, r:-5)}))\n",
      "Player 2, action:(4,)\n",
      "Player 3 turn!, dice: 5\n",
      "Player 3, action:(4,)\n",
      "Player 4 turn!, dice: 11\n",
      "Player 4, action:(3, ((<Resource.WOOL: 2>, -4), (<Resource.LUMBER: 0>, 1)))\n",
      "Player 4, action:(<BuildingType.ROAD: 0>, frozenset({(q: 1, r:3), (q: 0, r:4)}))\n",
      "Player 4, action:(4,)\n",
      "Player 1 turn!, dice: 7\n",
      "Player 1, action:(3, ((<Resource.BRICK: 1>, -4), (<Resource.WOOL: 2>, 1)))\n",
      "Player 1, action:(<BuildingType.SETTLEMENT: 1>, (q: 0, r:-1))\n",
      "Player 1, action:(4,)\n",
      "Player 2 turn!, dice: 9\n",
      "Player 2, action:(4,)\n",
      "Player 3 turn!, dice: 9\n",
      "Player 3, action:(4,)\n",
      "Player 4 turn!, dice: 9\n",
      "Player 4, action:(4,)\n",
      "Player 1 turn!, dice: 7\n",
      "Player 1, action:(4,)\n",
      "Player 2 turn!, dice: 7\n",
      "Player 2, action:(4,)\n",
      "Player 3 turn!, dice: 6\n",
      "Player 3, action:(4,)\n",
      "Player 4 turn!, dice: 2\n",
      "Player 4, action:(4,)\n",
      "Player 1 turn!, dice: 4\n",
      "Player 1, action:(4,)\n",
      "Player 2 turn!, dice: 10\n",
      "Player 2, action:(3, ((<Resource.GRAIN: 3>, -4), (<Resource.BRICK: 1>, 1)))\n",
      "Player 2, action:(<BuildingType.ROAD: 0>, frozenset({(q: 3, r:-5), (q: 2, r:-5)}))\n",
      "Player 2, action:(4,)\n",
      "Player 3 turn!, dice: 8\n",
      "Player 3, action:(3, ((<Resource.GRAIN: 3>, -4), (<Resource.ORE: 4>, 1)))\n",
      "Player 3, action:(3, ((<Resource.GRAIN: 3>, -4), (<Resource.ORE: 4>, 1)))\n",
      "Player 3, action:(<BuildingType.CITY: 2>, (q: -4, r:3))\n",
      "Player 3, action:(4,)\n",
      "Player 4 turn!, dice: 9\n",
      "Player 4, action:(<BuildingType.ROAD: 0>, frozenset({(q: 3, r:1), (q: 2, r:1)}))\n",
      "Player 4, action:(4,)\n",
      "Player 1 turn!, dice: 10\n",
      "Player 1, action:(4,)\n",
      "Player 2 turn!, dice: 9\n",
      "Player 2, action:(4,)\n",
      "Player 3 turn!, dice: 10\n",
      "Player 3, action:(4,)\n",
      "Player 4 turn!, dice: 8\n",
      "Player 4, action:(<BuildingType.ROAD: 0>, frozenset({(q: 1, r:2), (q: 2, r:1)}))\n",
      "Player 4, action:(<BuildingType.ROAD: 0>, frozenset({(q: 0, r:4), (q: -1, r:4)}))\n",
      "Player 4, action:(4,)\n",
      "Player 1 turn!, dice: 7\n",
      "Player 1, action:(3, ((<Resource.ORE: 4>, -4), (<Resource.LUMBER: 0>, 1)))\n",
      "Player 1, action:(<BuildingType.ROAD: 0>, frozenset({(q: 1, r:0), (q: 2, r:0)}))\n",
      "Player 1, action:(4,)\n",
      "Player 2 turn!, dice: 8\n",
      "Player 2, action:(3, ((<Resource.LUMBER: 0>, -4), (<Resource.BRICK: 1>, 1)))\n",
      "Player 2, action:(<BuildingType.SETTLEMENT: 1>, (q: 2, r:-5))\n",
      "Player 2, action:(4,)\n",
      "Player 3 turn!, dice: 8\n",
      "Player 3, action:(4,)\n",
      "Player 4 turn!, dice: 5\n",
      "Player 4, action:(4,)\n",
      "Player 1 turn!, dice: 9\n",
      "Player 1, action:(4,)\n",
      "Player 2 turn!, dice: 8\n",
      "Player 2, action:(4,)\n",
      "Player 3 turn!, dice: 7\n",
      "Player 3, action:(4,)\n",
      "Player 4 turn!, dice: 7\n",
      "Player 4, action:(4,)\n",
      "Player 1 turn!, dice: 2\n",
      "Player 1, action:(4,)\n",
      "Player 2 turn!, dice: 11\n",
      "Player 2, action:(4,)\n",
      "Player 3 turn!, dice: 3\n",
      "Player 3, action:(4,)\n",
      "Player 4 turn!, dice: 9\n",
      "Player 4, action:(3, ((<Resource.LUMBER: 0>, -4), (<Resource.BRICK: 1>, 1)))\n",
      "Player 4, action:(4,)\n",
      "Player 1 turn!, dice: 9\n",
      "Player 1, action:(<BuildingType.SETTLEMENT: 1>, (q: 1, r:0))\n",
      "Player 1, action:(<BuildingType.ROAD: 0>, frozenset({(q: 2, r:0), (q: 2, r:1)}))\n",
      "Player 1, action:(4,)\n",
      "Player 2 turn!, dice: 7\n",
      "Player 2, action:(3, ((<Resource.LUMBER: 0>, -4), (<Resource.BRICK: 1>, 1)))\n",
      "Player 2, action:(<BuildingType.ROAD: 0>, frozenset({(q: 0, r:-4), (q: 1, r:-4)}))\n",
      "Player 2, action:(4,)\n",
      "Player 3 turn!, dice: 10\n",
      "Player 3, action:(4,)\n",
      "Player 4 turn!, dice: 10\n",
      "Player 4, action:(<BuildingType.ROAD: 0>, frozenset({(q: -1, r:4), (q: -2, r:5)}))\n",
      "Player 4, action:(<BuildingType.ROAD: 0>, frozenset({(q: 3, r:1), (q: 4, r:0)}))\n",
      "Player 4, action:(4,)\n",
      "Player 1 turn!, dice: 7\n",
      "Player 1, action:(4,)\n",
      "Player 2 turn!, dice: 6\n",
      "Player 2, action:(4,)\n",
      "Player 3 turn!, dice: 4\n",
      "Player 3, action:(4,)\n",
      "Player 4 turn!, dice: 6\n",
      "Player 4, action:(4,)\n",
      "Player 1 turn!, dice: 6\n",
      "Player 1, action:(3, ((<Resource.BRICK: 1>, -4), (<Resource.GRAIN: 3>, 1)))\n",
      "Player 1, action:(3, ((<Resource.BRICK: 1>, -4), (<Resource.GRAIN: 3>, 1)))\n",
      "Player 1, action:(<BuildingType.CITY: 2>, (q: 0, r:-1))\n",
      "Player 1, action:(4,)\n",
      "Player 2 turn!, dice: 5\n",
      "Player 2, action:(3, ((<Resource.GRAIN: 3>, -4), (<Resource.WOOL: 2>, 1)))\n",
      "Player 2, action:(3, ((<Resource.GRAIN: 3>, -4), (<Resource.LUMBER: 0>, 1)))\n",
      "Player 2, action:(3, ((<Resource.WOOL: 2>, -4), (<Resource.BRICK: 1>, 1)))\n",
      "Player 2, action:(<BuildingType.ROAD: 0>, frozenset({(q: 0, r:-4), (q: -1, r:-3)}))\n",
      "Player 2, action:(4,)\n",
      "Player 3 turn!, dice: 11\n",
      "Player 3, action:(4,)\n",
      "Player 4 turn!, dice: 11\n",
      "Player 4, action:(4,)\n",
      "Player 1 turn!, dice: 4\n",
      "Player 1, action:(3, ((<Resource.LUMBER: 0>, -4), (<Resource.GRAIN: 3>, 1)))\n",
      "Player 1, action:(<BuildingType.SETTLEMENT: 1>, (q: 2, r:1))\n",
      "Player 1, action:(4,)\n",
      "Player 2 turn!, dice: 10\n",
      "Player 2, action:(4,)\n",
      "Player 3 turn!, dice: 9\n",
      "Player 3, action:(4,)\n",
      "Player 4 turn!, dice: 7\n",
      "Player 4, action:(<BuildingType.ROAD: 0>, frozenset({(q: -3, r:5), (q: -2, r:5)}))\n",
      "Player 4, action:(4,)\n",
      "Player 1 turn!, dice: 7\n",
      "Player 1, action:(4,)\n",
      "Player 2 turn!, dice: 6\n",
      "Player 2, action:(4,)\n",
      "Player 3 turn!, dice: 8\n",
      "Player 3, action:(3, ((<Resource.GRAIN: 3>, -4), (<Resource.ORE: 4>, 1)))\n",
      "Player 3, action:(3, ((<Resource.WOOL: 2>, -4), (<Resource.ORE: 4>, 1)))\n",
      "Player 3, action:(<BuildingType.CITY: 2>, (q: -2, r:0))\n",
      "Player 3, action:(4,)\n",
      "Player 4 turn!, dice: 10\n",
      "Player 4, action:(4,)\n",
      "Player 1 turn!, dice: 5\n",
      "Player 1, action:(4,)\n",
      "Player 2 turn!, dice: 9\n",
      "Player 2, action:(3, ((<Resource.GRAIN: 3>, -4), (<Resource.BRICK: 1>, 1)))\n",
      "Player 2, action:(<BuildingType.SETTLEMENT: 1>, (q: -1, r:-3))\n",
      "Player 2, action:(4,)\n",
      "Player 3 turn!, dice: 7\n",
      "Player 3, action:(4,)\n",
      "Player 4 turn!, dice: 4\n",
      "Player 4, action:(<BuildingType.ROAD: 0>, frozenset({(q: -3, r:4), (q: -3, r:5)}))\n",
      "Player 4, action:(4,)\n",
      "Player 1 turn!, dice: 5\n",
      "Player 1, action:(4,)\n",
      "Player 2 turn!, dice: 5\n",
      "Player 2, action:(<BuildingType.ROAD: 0>, frozenset({(q: 3, r:-5), (q: 3, r:-4)}))\n",
      "Player 2, action:(<BuildingType.SETTLEMENT: 1>, (q: 3, r:-4))\n",
      "Player 2, action:(4,)\n",
      "Player 3 turn!, dice: 11\n",
      "Player 3, action:(4,)\n",
      "Player 4 turn!, dice: 7\n",
      "Player 4, action:(4,)\n",
      "Player 1 turn!, dice: 7\n",
      "Player 1, action:(4,)\n",
      "Player 2 turn!, dice: 6\n",
      "Player 2, action:(4,)\n",
      "Player 3 turn!, dice: 8\n",
      "Player 3, action:(4,)\n",
      "Player 4 turn!, dice: 12\n",
      "Player 4, action:(4,)\n",
      "Player 1 turn!, dice: 5\n",
      "Player 1, action:(4,)\n",
      "Player 2 turn!, dice: 6\n",
      "Player 2, action:(4,)\n",
      "Player 3 turn!, dice: 6\n",
      "Player 3, action:(4,)\n",
      "Player 4 turn!, dice: 10\n",
      "Player 4, action:(4,)\n",
      "Player 1 turn!, dice: 8\n",
      "Player 1, action:(3, ((<Resource.LUMBER: 0>, -4), (<Resource.GRAIN: 3>, 1)))\n",
      "Player 1, action:(<BuildingType.CITY: 2>, (q: 3, r:-1))\n",
      "Player 1, action:(4,)\n",
      "Player 2 turn!, dice: 11\n",
      "Player 2, action:(3, ((<Resource.LUMBER: 0>, -4), (<Resource.BRICK: 1>, 1)))\n",
      "Player 2, action:(<BuildingType.ROAD: 0>, frozenset({(q: 2, r:-3), (q: 1, r:-3)}))\n",
      "Player 2, action:(<BuildingType.ROAD: 0>, frozenset({(q: 2, r:-3), (q: 3, r:-4)}))\n",
      "Player 2, action:(4,)\n",
      "Player 3 turn!, dice: 6\n",
      "Player 3, action:(4,)\n",
      "Player 4 turn!, dice: 5\n",
      "Player 4, action:(4,)\n",
      "Player 1 turn!, dice: 9\n",
      "Player 1, action:(4,)\n",
      "Player 2 turn!, dice: 7\n",
      "Player 2, action:(4,)\n",
      "Player 3 turn!, dice: 5\n",
      "Player 3, action:(4,)\n",
      "Player 4 turn!, dice: 7\n",
      "Player 4, action:(<BuildingType.ROAD: 0>, frozenset({(q: 0, r:2), (q: -1, r:3)}))\n",
      "Player 4, action:(3, ((<Resource.WOOL: 2>, -4), (<Resource.LUMBER: 0>, 1)))\n",
      "Player 4, action:(<BuildingType.ROAD: 0>, frozenset({(q: -4, r:4), (q: -3, r:4)}))\n",
      "Player 4, action:(4,)\n",
      "Player 1 turn!, dice: 11\n",
      "Player 1, action:(4,)\n",
      "Player 2 turn!, dice: 9\n",
      "Player 2, action:(3, ((<Resource.WOOL: 2>, -4), (<Resource.LUMBER: 0>, 1)))\n",
      "Player 2, action:(<BuildingType.ROAD: 0>, frozenset({(q: -2, r:-3), (q: -1, r:-3)}))\n",
      "Player 2, action:(<BuildingType.ROAD: 0>, frozenset({(q: -3, r:-2), (q: -2, r:-3)}))\n",
      "Player 2, action:(4,)\n",
      "Player 3 turn!, dice: 10\n",
      "Player 3, action:(4,)\n",
      "Player 4 turn!, dice: 2\n",
      "Player 4, action:(4,)\n",
      "Player 1 turn!, dice: 8\n",
      "Player 1, action:(4,)\n",
      "Player 2 turn!, dice: 9\n",
      "Player 2, action:(4,)\n",
      "Player 3 turn!, dice: 3\n",
      "Player 3, action:(4,)\n",
      "Player 4 turn!, dice: 9\n",
      "Player 4, action:(4,)\n",
      "Player 1 turn!, dice: 6\n",
      "Player 1, action:(4,)\n",
      "Player 2 turn!, dice: 6\n",
      "Player 2, action:(4,)\n",
      "Player 3 turn!, dice: 9\n",
      "Player 3, action:(4,)\n",
      "Player 4 turn!, dice: 4\n",
      "Player 4, action:(3, ((<Resource.LUMBER: 0>, -4), (<Resource.GRAIN: 3>, 1)))\n",
      "Player 4, action:(<BuildingType.SETTLEMENT: 1>, (q: 4, r:0))\n",
      "Player 4, action:(4,)\n",
      "Player 1 turn!, dice: 8\n",
      "Player 1, action:(4,)\n",
      "Player 2 turn!, dice: 6\n",
      "Player 2, action:(4,)\n",
      "Player 3 turn!, dice: 4\n",
      "Player 3, action:(4,)\n",
      "Player 4 turn!, dice: 8\n",
      "Player 4, action:(4,)\n",
      "Player 1 turn!, dice: 7\n",
      "Player 1, action:(4,)\n",
      "Player 2 turn!, dice: 5\n",
      "Player 2, action:(<BuildingType.SETTLEMENT: 1>, (q: -3, r:-2))\n",
      "Player 2, action:(4,)\n",
      "Player 3 turn!, dice: 9\n",
      "Player 3, action:(4,)\n",
      "Player 4 turn!, dice: 3\n",
      "Player 4, action:(4,)\n",
      "Player 1 turn!, dice: 7\n",
      "Player 1, action:(4,)\n",
      "Player 2 turn!, dice: 8\n",
      "Player 2, action:(4,)\n",
      "Player 3 turn!, dice: 7\n",
      "Player 3, action:(4,)\n",
      "Player 4 turn!, dice: 7\n",
      "Player 4, action:(4,)\n",
      "Player 1 turn!, dice: 10\n",
      "Player 1, action:(4,)\n",
      "Player 2 turn!, dice: 10\n",
      "Player 2, action:(4,)\n",
      "Player 3 turn!, dice: 9\n",
      "Player 3, action:(4,)\n",
      "Player 4 turn!, dice: 5\n",
      "Player 4, action:(<BuildingType.ROAD: 0>, frozenset({(q: -2, r:3), (q: -1, r:3)}))\n",
      "Player 4, action:(<BuildingType.ROAD: 0>, frozenset({(q: -3, r:4), (q: -2, r:3)}))\n",
      "Player 4, action:(4,)\n",
      "Player 1 turn!, dice: 11\n",
      "Player 1, action:(4,)\n",
      "Player 2 turn!, dice: 6\n",
      "Player 2, action:(<BuildingType.ROAD: 0>, frozenset({(q: -3, r:-1), (q: -3, r:-2)}))\n",
      "Player 2, action:(<BuildingType.ROAD: 0>, frozenset({(q: -3, r:-1), (q: -4, r:0)}))\n",
      "Player 2, action:(3, ((<Resource.LUMBER: 0>, -4), (<Resource.BRICK: 1>, 1)))\n",
      "Player 2, action:(<BuildingType.SETTLEMENT: 1>, (q: -4, r:0))\n",
      "Player 2, action:(4,)\n",
      "Player 3 turn!, dice: 2\n",
      "Player 3, action:(4,)\n",
      "Player 4 turn!, dice: 9\n",
      "Player 4, action:(4,)\n",
      "Player 1 turn!, dice: 7\n",
      "Player 1, action:(4,)\n",
      "Player 2 turn!, dice: 8\n",
      "Player 2, action:(4,)\n",
      "Player 3 turn!, dice: 5\n",
      "Player 3, action:(4,)\n",
      "Player 4 turn!, dice: 6\n",
      "Player 4, action:(4,)\n",
      "Player 1 turn!, dice: 10\n",
      "Player 1, action:(4,)\n",
      "Player 2 turn!, dice: 8\n",
      "Player 2, action:(4,)\n",
      "Player 3 turn!, dice: 6\n",
      "Player 3, action:(4,)\n",
      "Player 4 turn!, dice: 4\n",
      "Player 4, action:(4,)\n",
      "Player 1 turn!, dice: 5\n",
      "Player 1, action:(4,)\n",
      "Player 2 turn!, dice: 6\n",
      "Player 2, action:(4,)\n",
      "Player 3 turn!, dice: 9\n",
      "Player 3, action:(4,)\n",
      "Player 4 turn!, dice: 2\n",
      "Player 4, action:(4,)\n",
      "Player 1 turn!, dice: 11\n",
      "Player 1, action:(4,)\n",
      "Player 2 turn!, dice: 10\n",
      "Player 2, action:(4,)\n",
      "Player 3 turn!, dice: 11\n",
      "Player 3, action:(4,)\n",
      "Player 4 turn!, dice: 4\n",
      "Player 4, action:(3, ((<Resource.WOOL: 2>, -4), (<Resource.GRAIN: 3>, 1)))\n",
      "Player 4, action:(<BuildingType.SETTLEMENT: 1>, (q: 1, r:3))\n",
      "Player 4, action:(4,)\n",
      "Player 1 turn!, dice: 7\n",
      "Player 1, action:(4,)\n",
      "Player 2 turn!, dice: 4\n",
      "Player 2, action:(4,)\n",
      "Player 3 turn!, dice: 8\n",
      "Player 3, action:(4,)\n",
      "Player 4 turn!, dice: 10\n",
      "Player 4, action:(<BuildingType.ROAD: 0>, frozenset({(q: 2, r:3), (q: 3, r:2)}))\n",
      "Player 4, action:(<BuildingType.ROAD: 0>, frozenset({(q: 2, r:3), (q: 1, r:3)}))\n",
      "Player 4, action:(4,)\n",
      "Player 1 turn!, dice: 9\n",
      "Player 1, action:(4,)\n",
      "Player 2 turn!, dice: 11\n",
      "Player 2, action:(<BuildingType.ROAD: 0>, frozenset({(q: -4, r:0), (q: -4, r:1)}))\n",
      "Player 2, action:(<BuildingType.ROAD: 0>, frozenset({(q: -5, r:2), (q: -4, r:1)}))\n",
      "Player 2, action:(<BuildingType.ROAD: 0>, frozenset({(q: -5, r:2), (q: -5, r:3)}))\n",
      "Player 2, action:(<BuildingType.SETTLEMENT: 1>, (q: -5, r:2))\n",
      "Congratulations! Player 2 wins!\n",
      "Final board:\n",
      "                                                       \n",
      "                                                       \n",
      "                                                       \n",
      "                                                       \n",
      "                 3:1         2:1                       \n",
      "                  .--'--.--s--.--s--.                  \n",
      "                  | 10  |  2  |  9  | 2:1              \n",
      "               .--'--.--c--.--s--.--s--.               \n",
      "           2:1 | 12  |  6  |  4  | 10  |               \n",
      "            .--s--.--s--.--s--.--s--.--'--.            \n",
      "            |  9  | 11  |   R |  3  |  8  | 3:1        \n",
      "            s--.--s--.--c--.--'--s--'--.--'            \n",
      "           2:1 |  8  |  3  |  4  |  5  |               \n",
      "               '--s--'--.--c--.--'--c--'               \n",
      "                  |  5  |  6  | 11  | 2:1              \n",
      "                  '--s--'--s--'--s--'                  \n",
      "                 3:1         3:1                       \n",
      "                                                       \n",
      "                                                       \n",
      "                                                       \n",
      "{0: [[186, 25]], 1: [[230, 35]], 2: [], 3: []}\n"
     ]
    }
   ],
   "source": [
    "\n",
    "if __name__ == '__main__':\n",
    "    train_agent(2, 'model2')\n",
    "    print(test_agent(2))\n"
   ],
   "metadata": {
    "collapsed": false,
    "pycharm": {
     "name": "#%%\n"
    }
   }
  }
 ]
}